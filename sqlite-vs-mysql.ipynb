{
 "cells": [
  {
   "cell_type": "markdown",
   "id": "7d658106-417d-4706-8914-a0f6e12d50f7",
   "metadata": {},
   "source": [
    "# Verschillen SQLite en MySQL"
   ]
  },
  {
   "cell_type": "markdown",
   "id": "bf127e0a-3cb0-4a7c-85f4-e6f68d79e6e6",
   "metadata": {},
   "source": [
    "Het lesmateriaal is oorspronkelijk ontwikkeld voor MySQL, en daarna aangepast voor SQLite.\n",
    "De verschillen tussen beide database-talen zijn niet erg groot, maar niet verwaarloosbaar.\n",
    "\n",
    "De belangrijkste verschillen zijn:\n",
    "\n",
    "* typering\n",
    "* \"Date\" datatype en functies\n",
    "* `CONCAT` functie en `||` operator\n",
    "* database/tabel-schema: `DESCRIBE` versus raadplegen van schema-tabel\n"
   ]
  },
  {
   "cell_type": "markdown",
   "id": "d4de696e-97d8-4623-9f4d-b3ab974bc3a6",
   "metadata": {},
   "source": [
    "## SQLite als library\n",
    "\n",
    "Een ander belangrijk verschil is dat SQLite geen \"database managment systeem\" is, maar een *library* die je kunt gebruiken in combinatie met andere programmeertalen.\n",
    "\n",
    "* een MySQL DBMS benader je meestal via het netwerk; via het netwerk wordt het gedeeld door meerdere programma's, eventueel op verschillende computers.\n",
    "* een SQLite database bestaat uit één enkel bestand; dit is (binair) uitwisselbaar tussen verschillende computers.\n",
    "* een SQLite database gebruik je meestal via één programma(?)\n",
    "\n"
   ]
  },
  {
   "cell_type": "markdown",
   "id": "58341b51-b1ac-4749-9158-bad4c16d4b4e",
   "metadata": {},
   "source": [
    "## CONCAT en `||`\n",
    "\n",
    "SQLite heeft geen `CONCAT` functie voor het combineren van meerdere `TEXT` waarden (strings) tot één `TEXT` waarde.\n",
    "In plaats daarvan gebruik je de operator `||` waarmee je twee `TEXT`-waarden combineert tot één.\n",
    "De `||` operator kun je ook in MySQL (en andere SQL-DBMS-en) gebruiken."
   ]
  },
  {
   "cell_type": "markdown",
   "id": "b7d81491-d094-494d-bf61-9719f77dcc61",
   "metadata": {},
   "source": [
    "## Data types\n",
    "\n",
    "SQLite heeft een ander soort typering dan gebruikelijk in SQL: elke waarde heeft een type; variabelen (velden, kolommen) zijn niet getypeerd.\n",
    "Dit is dezelfde *dynamische typering* als in Python.\n",
    "\n",
    "De type-aanwijzingen bij kolommen (in de `CREATE TABLE` opdracht) worden gebruikt bij het opslaan van waarden in de tabel: deze worden eventueel omgezet naar het type aangegeven voor de kolom in de `CREATE` opdracht.\n",
    "\n",
    "SQL gebruikt automatische type-conversie tussen getallen en tekst-waarden.\n",
    "\n",
    "Bij de conversie van een getal naar een tekst-waarde kun je in principe het formaat van deze tekst-waarde aangeven, bijvoorbeeld het aantal cijfers na de decimale punt\n",
    "\n",
    "### Van getal naar text\n",
    "\n",
    "Voor het omzetten van een getalwaarde naar een TEXT-waarde biedt SQLite de `format`-functie, vroeger `printf` genoemd.\n",
    "Je geeft aan deze functie een format (string) op en een getal.\n",
    "(Deze functie is vergelijkbaar met de C-functie `printf`, en gebruikt dezelfde format-notatie. Je kunt in de format-string tekst en getallen combineren. Zie bijvoorbeeld https://alvinalexander.com/programming/printf-format-cheat-sheet/ en https://cplusplus.com/reference/cstdio/printf/) \n",
    "\n",
    "Enkele voorbeelden:\n",
    "\n",
    "* `format('%.2f', 3.141596)` geeft `'3.14'`\n",
    "* `format('%d', 314)` geeft `'314'`\n",
    "* `format('%d graden`, 23) geeft `'23 graden'`."
   ]
  },
  {
   "cell_type": "markdown",
   "id": "19e9a45a-3b88-441e-a43b-ae1cc7019cc8",
   "metadata": {},
   "source": [
    "## Datum waarden en functies\n",
    "\n",
    "SQLite heeft geen `DATE` datatype. In plaats daarvan kun je een datum (of datum/tijd) weergeven als TEXT-waarde (ISO datumnotatie) of als getal. Dat laatste komt overeen met de Unix tijd-notatie: het aantal seconden sinds 1 januari 1970 (UTC).\n",
    "\n",
    "De `date`, `datatime`, en `time` functies bieden veel mogelijkheden om met datums en tijden te rekenen, met behulp van *modifiers*. Zie: https://www.sqlitetutorial.net/sqlite-date-functions/sqlite-date-function/\n",
    "\n",
    "* `datetime('now', '+10 days')`\n",
    "\n",
    "Voor het afsplitsen van de verschillende delen van een datum, bijvoorbeeld het jaar, de maand, of de dag, gebruik je de functie `strftime()` (zie bijv. https://www.sqlitetutorial.net/sqlite-date-functions/sqlite-strftime-function/):\n",
    "\n",
    "* `strftime('%Y','2018-10-11')` geeft `'2018'` (year)\n",
    "* `strftime('%m','2018-10-11')` geeft `'10'`  (month)\n",
    "* `strftime('%d','2018-10-11')` geeft `'11'`  (day)\n",
    "\n",
    "De gebruikelijke datum-functies kun je als volgt uitdrukken:\n",
    "\n",
    "* `date(...)` - `strftime(‘%Y-%m-%d’, ...)`\n",
    "* `time(...)` - `strftime(‘%H:%M:%S’, ...)`\n",
    "* `datetime(...)` - `strftime(‘%Y-%m-%d %H:%M:%S’, ...)`\n",
    "* `julianday(...)` - `strftime(‘%J’, ...)`"
   ]
  },
  {
   "cell_type": "markdown",
   "id": "72b1f7dd-83e8-46b4-bb9f-996284d8fb57",
   "metadata": {},
   "source": [
    "## "
   ]
  }
 ],
 "metadata": {
  "kernelspec": {
   "display_name": "xsqlite",
   "language": "sqlite",
   "name": "xsqlite"
  },
  "language_info": {
   "codemirror_mode": "sql",
   "file_extension": "",
   "mimetype": "",
   "name": "sql",
   "version": "3.33.0"
  }
 },
 "nbformat": 4,
 "nbformat_minor": 5
}
