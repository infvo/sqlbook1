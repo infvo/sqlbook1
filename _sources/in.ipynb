{
 "cells": [
  {
   "cell_type": "markdown",
   "id": "c66371fa-fcb9-43d2-ab42-e93d7cec17c6",
   "metadata": {},
   "source": [
    "# IN"
   ]
  },
  {
   "cell_type": "code",
   "execution_count": 2,
   "id": "54633ec8-f1fb-4041-9275-e2316c983306",
   "metadata": {
    "tags": []
   },
   "outputs": [],
   "source": [
    "%LOAD data/example.db"
   ]
  },
  {
   "cell_type": "markdown",
   "id": "a12b10f5-45c0-457c-8f1d-82eeaf06c28a",
   "metadata": {},
   "source": [
    "Met IN kun je gebruik maken van selecties van waarden die genoemd staan in een lijst.  Stel dat je van de tabel locations alleen maar de rijen wil zien van de landen Canada (CA) en het United Kingdom (UK)."
   ]
  },
  {
   "cell_type": "code",
   "execution_count": 3,
   "id": "62e50aeb-e383-41a1-8a8f-4ccc66dcdb48",
   "metadata": {
    "tags": []
   },
   "outputs": [
    {
     "data": {
      "text/html": [
       "<table>\n",
       "<tr>\n",
       "<th>city</th>\n",
       "<th>state_province</th>\n",
       "<th>country_id</th>\n",
       "</tr>\n",
       "<tr>\n",
       "<td>Toronto</td>\n",
       "<td>Ontario</td>\n",
       "<td>CA</td>\n",
       "</tr>\n",
       "<tr>\n",
       "<td>Oxford</td>\n",
       "<td>Oxford</td>\n",
       "<td>UK</td>\n",
       "</tr>\n",
       "</table>"
      ],
      "text/plain": [
       "+---------+----------------+------------+\n",
       "| city    | state_province | country_id |\n",
       "+---------+----------------+------------+\n",
       "| Toronto | Ontario        | CA         |\n",
       "+---------+----------------+------------+\n",
       "| Oxford  | Oxford         | UK         |\n",
       "+---------+----------------+------------+"
      ]
     },
     "execution_count": 3,
     "metadata": {},
     "output_type": "execute_result"
    }
   ],
   "source": [
    "SELECT city, state_province, country_id\n",
    "FROM locations\n",
    "WHERE country_id IN('UK', 'CA');"
   ]
  },
  {
   "cell_type": "markdown",
   "id": "5ab7e5d6-569b-4b94-a47e-d308b97638eb",
   "metadata": {},
   "source": [
    "Deze query kun je ook zo maken:"
   ]
  },
  {
   "cell_type": "code",
   "execution_count": 4,
   "id": "fae64a7a-411b-4b2a-b9ef-389d836a22ed",
   "metadata": {
    "tags": []
   },
   "outputs": [
    {
     "data": {
      "text/html": [
       "<table>\n",
       "<tr>\n",
       "<th>city</th>\n",
       "<th>state_province</th>\n",
       "<th>country_id</th>\n",
       "</tr>\n",
       "<tr>\n",
       "<td>Toronto</td>\n",
       "<td>Ontario</td>\n",
       "<td>CA</td>\n",
       "</tr>\n",
       "<tr>\n",
       "<td>Oxford</td>\n",
       "<td>Oxford</td>\n",
       "<td>UK</td>\n",
       "</tr>\n",
       "</table>"
      ],
      "text/plain": [
       "+---------+----------------+------------+\n",
       "| city    | state_province | country_id |\n",
       "+---------+----------------+------------+\n",
       "| Toronto | Ontario        | CA         |\n",
       "+---------+----------------+------------+\n",
       "| Oxford  | Oxford         | UK         |\n",
       "+---------+----------------+------------+"
      ]
     },
     "execution_count": 4,
     "metadata": {},
     "output_type": "execute_result"
    }
   ],
   "source": [
    "SELECT city, state_province, country_id\n",
    "FROM locations\n",
    "WHERE country_id = 'UK' OR country_id = 'CA';"
   ]
  }
 ],
 "metadata": {
  "kernelspec": {
   "display_name": "xsqlite",
   "language": "sqlite",
   "name": "xsqlite"
  },
  "language_info": {
   "codemirror_mode": "sql",
   "file_extension": "",
   "mimetype": "",
   "name": "sql",
   "version": "3.33.0"
  }
 },
 "nbformat": 4,
 "nbformat_minor": 5
}
