{
 "cells": [
  {
   "cell_type": "markdown",
   "id": "5407bfc0-8124-4cbc-8550-c1d90a9edb8f",
   "metadata": {},
   "source": [
    "# Opdrachten sectie 3"
   ]
  },
  {
   "cell_type": "markdown",
   "id": "15049de9-31c6-4f07-8390-a9a97787ddc4",
   "metadata": {},
   "source": [
    "Voor de interactieve versie, zie: [Notebook Opdrachten 3](https://jupyter.infvo.nl/books/notebook/?kernel=sql&from=sql/opdrachten3.ipynb&module=sql/hr.db&extensions=admonition)"
   ]
  },
  {
   "cell_type": "code",
   "execution_count": 1,
   "id": "aba12fbe-02cf-4ad6-a0ea-34e500207e84",
   "metadata": {
    "tags": []
   },
   "outputs": [],
   "source": [
    "%LOAD ../data/employees.db"
   ]
  },
  {
   "cell_type": "markdown",
   "id": "c99d689a-3b67-449f-86b9-08d73fcc9199",
   "metadata": {},
   "source": [
    ":::{exercise}\n",
    "Query 1: Toon de volledige naam in één kolom, het job_id en het salaris van alle werknemers die 'ST_CLERK' zijn en een salaris hebben hoger dan 3000. Let op de kolomnamen en sorteer op salaris.\n",
    "\n",
    "![](figs/clip0210.png)\n",
    "\n",
    ":::"
   ]
  },
  {
   "cell_type": "markdown",
   "id": "e8d1a6da-a516-4606-be5d-87f80099877b",
   "metadata": {},
   "source": [
    ":::{exercise}\n",
    "Query 2: Toon de city en het country_id van de tabel locations van alleen maar de landen Canada (CA) of het Verenigd Koninkrijk (UK).\n",
    "\n",
    "![](figs/clip0211.png)\n",
    "\n",
    ":::"
   ]
  },
  {
   "cell_type": "markdown",
   "id": "04526d1b-7aa4-4eb4-aaf1-9ec767d859c5",
   "metadata": {},
   "source": [
    " \n",
    ":::{exercise}\n",
    "Query 3: Toon de job_title, min_salary, max_salary, het verschil tussen max_salary en min_salary van de tabel jobs waarvoor geldt dat het verschil groter is dan 6000 en de job_title ongelijk is aan 'President'. Let op de kolomnamen en sorteer op het verschil tussen max_salary en min_salary van hoog naar laag.\n",
    "\n",
    "![](figs/clip0212.png)\n",
    "\n",
    ":::"
   ]
  },
  {
   "cell_type": "markdown",
   "id": "e4067fba-ed05-4390-8bfe-1f7d5ff2162b",
   "metadata": {},
   "source": [
    ":::{exercise}\n",
    "Query 4: Toon employee_id, last_name en salary zoals in het voorbeeld van alle werknemers waarvoor het department_id niet NULL is, het department_id niet gelijk is aan 10, 20 of 50 en het salaris lager is dan 10000. Sorteer op het salaris van hoog naar laag.\n",
    "\n",
    "![](figs/clip0213.png)\n",
    "\n",
    ":::"
   ]
  },
  {
   "cell_type": "markdown",
   "id": "a7ff128c-0b59-4a24-8bfe-7ee97ccac7b4",
   "metadata": {},
   "source": [
    ":::{exercise}\n",
    "Query 5: Toon alle manager_id's behalve die van 100, 102, 103, 201 en 205. De manager_id's mogen maar één keer getoond worden in de lijst.\n",
    "\n",
    "![](figs/clip0214.png)\n",
    "\n",
    ":::"
   ]
  },
  {
   "cell_type": "markdown",
   "id": "f4b3f2df-4f9d-4cc1-9a27-15e299975ef5",
   "metadata": {},
   "source": [
    ":::{exercise}\n",
    "Query 6: Toon vijf achternamen achter elkaar van de employees waarvan de achternaam met een letter 'F' of hoger begint gesorteerd op achternaam.\n",
    "\n",
    "![](figs/clip0215.png)\n",
    "\n",
    ":::"
   ]
  },
  {
   "cell_type": "markdown",
   "id": "0e303e84-6d9a-466e-b001-8c5ff61f0df9",
   "metadata": {},
   "source": [
    ":::{exercise}\n",
    "Query 7: Toon first_name, last_name en salary van alle werknemers die tussen de 12000 en 20000 verdienen of een voornaam hebben die met een 'E' begint. Sorteer op salaris en daarna op voornaam. De gegevens komen uit de tabel employees.\n",
    "\n",
    "![](figs/clip0216.png)\n",
    "\n",
    ":::"
   ]
  },
  {
   "cell_type": "markdown",
   "id": "8950ebfc-a6f6-4d14-b275-712ed15b2448",
   "metadata": {},
   "source": [
    ":::{exercise}\n",
    "Query 8: Toon de last_name, salary, bonus en het totale salaris van alle employees die een bonus hebben. Let op de kolomnamen, zorg dat het woordje \"dollar\" achter het totale salaris komt en sorteer op het totale salaris van hoog naar laag. Maar let op! Zoals je ziet is er niet gesorteerd op kolom vier. Dat lukt niet want dat is een geconcateneerde kolom met cijfers en tekst (dollar) en dan wordt dat tekst. Dat moet je dus anders oplossen!\n",
    "\n",
    "![](figs/clip0217.png)\n",
    "\n",
    ":::"
   ]
  },
  {
   "cell_type": "markdown",
   "id": "21c2ec72-24fa-4867-b0aa-b060c9d16e37",
   "metadata": {},
   "source": [
    ":::{exercise}\n",
    "Query 9: Toon de naam, het e-mailadres en het telefoonnummer zoals in het voorbeeld van alle werknemers die een telefoonnummer hebben zonder een vijf ('5') in het nummer.\n",
    "\n",
    "![](figs/clip0218.png)\n",
    " \n",
    ":::"
   ]
  },
  {
   "cell_type": "markdown",
   "id": "622df34e-413c-497d-968f-f6b1eb682cee",
   "metadata": {},
   "source": [
    ":::{exercise}\n",
    "Query 10: Welke werknemers zijn er allemaal op de zeventiende van een maand aangenomen? De gegevens komen uit de tabel employees en er is gesorteerd op last_name.\n",
    "\n",
    "![](figs/clip0219.png)\n",
    " \n",
    ":::"
   ]
  }
 ],
 "metadata": {
  "kernelspec": {
   "display_name": "xsqlite",
   "language": "sqlite",
   "name": "xsqlite"
  },
  "language_info": {
   "codemirror_mode": "sql",
   "file_extension": "",
   "mimetype": "",
   "name": "sql",
   "version": "3.33.0"
  }
 },
 "nbformat": 4,
 "nbformat_minor": 5
}
