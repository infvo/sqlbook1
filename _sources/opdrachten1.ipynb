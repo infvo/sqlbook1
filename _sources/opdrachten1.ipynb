{
 "cells": [
  {
   "cell_type": "markdown",
   "id": "fb02f91c-84a1-4cdd-baf5-a8f464fb6a3a",
   "metadata": {},
   "source": [
    "# Opdrachten 1"
   ]
  },
  {
   "cell_type": "code",
   "execution_count": null,
   "id": "a413e22c-aefd-4c20-a7cf-64917b1d4c46",
   "metadata": {},
   "outputs": [],
   "source": [
    "%LOAD data/employees.db"
   ]
  },
  {
   "cell_type": "markdown",
   "id": "df58b24b-6a4f-444e-9af9-bbb2cd9b0985",
   "metadata": {},
   "source": [
    ":::{exercise}\n",
    "\n",
    "Query 1: Toon alles van de tabel `countries`, zonder de kolomnamen te noemen op de bovenste regel van het `SELECT` statement.\n",
    "\n",
    "![](figs/clip0036.png)\n",
    "\n",
    ":::"
   ]
  },
  {
   "cell_type": "markdown",
   "id": "82e36772-672f-4d34-b3c4-35ae0590a909",
   "metadata": {},
   "source": [
    ":::{exercise}\n",
    "Query 2: Toon alle voornamen en achternamen van de tabel `employees`.\n",
    "\n",
    "![](figs/clip0037.png)\n",
    "\n",
    ":::"
   ]
  },
  {
   "cell_type": "markdown",
   "id": "46d5d2e2-e9ce-4bc9-bdc9-31ad88f7ccc4",
   "metadata": {},
   "source": [
    ":::{exercise}\n",
    "Query 3: Toon `job_title`, het maximum `salary`, het minimum `salary` en het verschil tussen die twee van de tabel `jobs`.\n",
    "\n",
    "![](figs/clip0021.png)\n",
    "\n",
    ":::"
   ]
  },
  {
   "cell_type": "markdown",
   "id": "01723964-95de-4b38-b4b8-1b2186c9e508",
   "metadata": {},
   "source": [
    ":::{exercise}\n",
    "Query 4: Toon enkel de naam van het land van de bovenste rij van de tabel `countries`.\n",
    "\n",
    "![](figs/clip0022.png)\n",
    "\n",
    ":::"
   ]
  },
  {
   "cell_type": "markdown",
   "id": "40dd1f1f-4c1f-474e-add8-74fffe16a03c",
   "metadata": {},
   "source": [
    ":::{exercise}\n",
    "Query 5: Toon enkel het land United Kingdom van de tabel `countries`. Je laat maar één rij zien en je slaat twee rijen over vanaf het begin.\n",
    "\n",
    "![](figs/clip0034.png)\n",
    "\n",
    ":::"
   ]
  },
  {
   "cell_type": "markdown",
   "id": "49787025-8d63-4691-b1cc-c3ae77275d55",
   "metadata": {},
   "source": [
    ":::{exercise}\n",
    "Query 6: In de tabel employees staan de maandsalarissen. Maak een overzicht met de jaarsalarissen en toon enkel de eerste vijf rijen. Let op de kolomnamen.\n",
    "\n",
    "![](figs/clip0035.png)\n",
    "\n",
    ":::"
   ]
  },
  {
   "cell_type": "markdown",
   "id": "38b51752-2db5-4290-8a3f-3d6acc474791",
   "metadata": {},
   "source": [
    ":::{exercise}\n",
    "Query 7: Alle personeelsleden van de tabel employees krijgen 300 dollar opslag. Maak een query voor onderstaande tabel.\n",
    "\n",
    "![](figs/clip0025.png)\n",
    "\n",
    ":::"
   ]
  },
  {
   "cell_type": "markdown",
   "id": "07a4d2ce-d578-41db-b766-9815503a2e28",
   "metadata": {},
   "source": [
    ":::{exercise}\n",
    "Query 8: Alle personeelsleden van de tabel employees krijgen 5% opslag. Maak een query voor onderstaande tabel. In de Amerikaanse notatie bij getallen schrijf je een punt waar wij een komma zetten.\n",
    "\n",
    "![](figs/clip0038.png)\n",
    "\n",
    ":::"
   ]
  },
  {
   "cell_type": "markdown",
   "id": "85beeead-a2cf-4bb6-b838-a05f9b49094d",
   "metadata": {},
   "source": [
    ":::{exercise}\n",
    "Query 9: Hoeveel verdient King per dag als we uitgaan van 30 dagen in een maand? Toon van de tabel employees enkel de eerste rij hiervoor zonder een `WHERE` te gebruiken.\n",
    "\n",
    "![](figs/clip0039.png)\n",
    "\n",
    ":::"
   ]
  },
  {
   "cell_type": "markdown",
   "id": "320f29ae-5997-44fb-8504-d51996bd23fb",
   "metadata": {},
   "source": [
    ":::{exercise}\n",
    "Query 10: Maak een overzicht zoals hieronder. Het zijn drie van de vier werknemers van de tabel employees die commissie krijgen over hun salaris. Je toont maar drie rijen. De bedragen zijn niet afgerond.\n",
    "\n",
    "![](figs/clip0040.png)\n",
    "\n",
    ":::"
   ]
  },
  {
   "cell_type": "markdown",
   "id": "e31e9036-ba1e-46b3-a1ba-c060645ff427",
   "metadata": {},
   "source": []
  }
 ],
 "metadata": {
  "kernelspec": {
   "display_name": "xsqlite",
   "language": "sqlite",
   "name": "xsqlite"
  },
  "language_info": {
   "codemirror_mode": "sql",
   "file_extension": "",
   "mimetype": "",
   "name": "sql",
   "version": "3.33.0"
  }
 },
 "nbformat": 4,
 "nbformat_minor": 5
}
