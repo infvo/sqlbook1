{
 "cells": [
  {
   "cell_type": "markdown",
   "id": "092b48e3-ddd6-4262-95f9-50f4ac7ea5d1",
   "metadata": {},
   "source": [
    "# Case"
   ]
  },
  {
   "cell_type": "code",
   "execution_count": null,
   "id": "81c4e60a-0a4c-4f12-95bf-b1ea97b33839",
   "metadata": {},
   "outputs": [],
   "source": [
    "%LOAD data/example.db"
   ]
  },
  {
   "cell_type": "markdown",
   "id": "6ffea123-a16b-4b39-b2c0-ff00adde151e",
   "metadata": {},
   "source": [
    "CASE werkt als een if-then-else constructie. Maar in plaats van if wordt when gebruikt."
   ]
  },
  {
   "cell_type": "markdown",
   "id": "1035b359-2086-4587-adcb-aa007e28a8e2",
   "metadata": {},
   "source": [
    "SELECT last_name,\n",
    "CASE department_id\n",
    " WHEN 90 THEN 'Management'\n",
    " WHEN 80 THEN 'Sales'\n",
    " WHEN 60 THEN 'It'\n",
    " ELSE 'Other department'\n",
    "END AS department\n",
    "FROM employees;"
   ]
  },
  {
   "cell_type": "markdown",
   "id": "a34f24bc-f3c8-419e-9e3d-e754fe2e92cc",
   "metadata": {},
   "source": [
    "---\n",
    "\n",
    ":::{todo}\n",
    "Er wordt hier een vergelijking met IF gemaakt; maar heb je die in SQL? Hoe zouden leerlingen die moeten kennen?\n",
    ":::"
   ]
  },
  {
   "cell_type": "markdown",
   "id": "16788e65-abf6-4058-9396-37553e14d2cb",
   "metadata": {},
   "source": []
  }
 ],
 "metadata": {
  "kernelspec": {
   "display_name": "xsqlite",
   "language": "sqlite",
   "name": "xsqlite"
  },
  "language_info": {
   "codemirror_mode": "sql",
   "file_extension": "",
   "mimetype": "",
   "name": "sql",
   "version": "3.33.0"
  }
 },
 "nbformat": 4,
 "nbformat_minor": 5
}
