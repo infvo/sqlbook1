{
 "cells": [
  {
   "cell_type": "markdown",
   "id": "f5dd4ab2-04cd-4225-ae80-2e480e4b668e",
   "metadata": {},
   "source": [
    "# Logische operatoren"
   ]
  },
  {
   "cell_type": "code",
   "execution_count": 7,
   "id": "32f1f33c-6e75-4541-99ca-32b4f6c6bc7f",
   "metadata": {
    "tags": []
   },
   "outputs": [],
   "source": [
    "%LOAD data/example.db"
   ]
  },
  {
   "cell_type": "markdown",
   "id": "599ecd44-eae2-405c-bfb8-104a88e60cfe",
   "metadata": {},
   "source": [
    "\n",
    "Er zijn drie logische operatoren waarmee je voorwaarden kunt stellen aan condities:\n",
    "\n",
    "* `AND`\n",
    "* `OR`\n",
    "* `NOT`"
   ]
  },
  {
   "cell_type": "markdown",
   "id": "9cfaf155-3741-4450-9412-614cd608109c",
   "metadata": {},
   "source": [
    "## AND"
   ]
  },
  {
   "cell_type": "markdown",
   "id": "fc9aaea2-b884-458f-a1d0-7b861dfb2168",
   "metadata": {},
   "source": [
    "Met AND moet aan alle voorwaarden worden voldaan om een resultaat te krijgen. Bij numerieke waarden hoef je geen enkele aanhalingstekens te gebruiken (`department_id = 50`) maar bij alfanumerieke velden gebruik je enkele aanhalingstekens (`job_id = 'ST_CLERK'`)."
   ]
  },
  {
   "cell_type": "code",
   "execution_count": 8,
   "id": "3287f5fe-f151-4894-ac2e-84fd10d8521f",
   "metadata": {
    "tags": []
   },
   "outputs": [
    {
     "data": {
      "text/html": [
       "<table>\n",
       "<tr>\n",
       "<th>last_name</th>\n",
       "<th>department_id</th>\n",
       "<th>salary</th>\n",
       "</tr>\n",
       "<tr>\n",
       "<td>Rajs</td>\n",
       "<td>50</td>\n",
       "<td>3500</td>\n",
       "</tr>\n",
       "<tr>\n",
       "<td>Davies</td>\n",
       "<td>50</td>\n",
       "<td>3100</td>\n",
       "</tr>\n",
       "<tr>\n",
       "<td>Matos</td>\n",
       "<td>50</td>\n",
       "<td>2600</td>\n",
       "</tr>\n",
       "<tr>\n",
       "<td>Vargas</td>\n",
       "<td>50</td>\n",
       "<td>2500</td>\n",
       "</tr>\n",
       "</table>"
      ],
      "text/plain": [
       "+-----------+---------------+--------+\n",
       "| last_name | department_id | salary |\n",
       "+-----------+---------------+--------+\n",
       "| Rajs      | 50            | 3500   |\n",
       "+-----------+---------------+--------+\n",
       "| Davies    | 50            | 3100   |\n",
       "+-----------+---------------+--------+\n",
       "| Matos     | 50            | 2600   |\n",
       "+-----------+---------------+--------+\n",
       "| Vargas    | 50            | 2500   |\n",
       "+-----------+---------------+--------+"
      ]
     },
     "execution_count": 8,
     "metadata": {},
     "output_type": "execute_result"
    }
   ],
   "source": [
    "SELECT last_name, department_id, salary\n",
    "FROM employees\n",
    "WHERE department_id = 50 AND job_id = 'ST_CLERK';"
   ]
  },
  {
   "cell_type": "markdown",
   "id": "cf6d10cc-8ccd-4d59-a801-fb8170862e18",
   "metadata": {},
   "source": [
    "Nog een voorbeeld met numerieke waarden in de WHERE. Gebruik geen aanhalingstekens."
   ]
  },
  {
   "cell_type": "code",
   "execution_count": 9,
   "id": "eb3196c7-29fb-45bd-bccd-956bb0c6efe3",
   "metadata": {
    "tags": []
   },
   "outputs": [
    {
     "data": {
      "text/html": [
       "<table>\n",
       "<tr>\n",
       "<th>last_name</th>\n",
       "<th>department_id</th>\n",
       "<th>salary</th>\n",
       "</tr>\n",
       "<tr>\n",
       "<td>King</td>\n",
       "<td>90</td>\n",
       "<td>24000</td>\n",
       "</tr>\n",
       "<tr>\n",
       "<td>Kochhar</td>\n",
       "<td>90</td>\n",
       "<td>17000</td>\n",
       "</tr>\n",
       "<tr>\n",
       "<td>De Haan</td>\n",
       "<td>90</td>\n",
       "<td>17000</td>\n",
       "</tr>\n",
       "</table>"
      ],
      "text/plain": [
       "+-----------+---------------+--------+\n",
       "| last_name | department_id | salary |\n",
       "+-----------+---------------+--------+\n",
       "| King      | 90            | 24000  |\n",
       "+-----------+---------------+--------+\n",
       "| Kochhar   | 90            | 17000  |\n",
       "+-----------+---------------+--------+\n",
       "| De Haan   | 90            | 17000  |\n",
       "+-----------+---------------+--------+"
      ]
     },
     "execution_count": 9,
     "metadata": {},
     "output_type": "execute_result"
    }
   ],
   "source": [
    "SELECT last_name, department_id, salary\n",
    "FROM employees\n",
    "WHERE department_id > 50 AND salary > 12000;"
   ]
  },
  {
   "cell_type": "markdown",
   "id": "c32e348c-06eb-419e-9794-3aeb328a4c20",
   "metadata": {},
   "source": [
    "Datums moeten wel tussen enkele aanhalingstekens."
   ]
  },
  {
   "cell_type": "code",
   "execution_count": 10,
   "id": "c2f60953-36dc-478e-9abc-caf649625354",
   "metadata": {
    "tags": []
   },
   "outputs": [
    {
     "data": {
      "text/html": [
       "<table>\n",
       "<tr>\n",
       "<th>last_name</th>\n",
       "<th>hire_date</th>\n",
       "<th>job_id</th>\n",
       "</tr>\n",
       "<tr>\n",
       "<td>Zlotkey</td>\n",
       "<td>2000-01-29</td>\n",
       "<td>SA_MAN</td>\n",
       "</tr>\n",
       "<tr>\n",
       "<td>Taylor</td>\n",
       "<td>1998-03-24</td>\n",
       "<td>SA_REP</td>\n",
       "</tr>\n",
       "<tr>\n",
       "<td>Grant</td>\n",
       "<td>1999-05-24</td>\n",
       "<td>SA_REP</td>\n",
       "</tr>\n",
       "</table>"
      ],
      "text/plain": [
       "+-----------+------------+--------+\n",
       "| last_name | hire_date  | job_id |\n",
       "+-----------+------------+--------+\n",
       "| Zlotkey   | 2000-01-29 | SA_MAN |\n",
       "+-----------+------------+--------+\n",
       "| Taylor    | 1998-03-24 | SA_REP |\n",
       "+-----------+------------+--------+\n",
       "| Grant     | 1999-05-24 | SA_REP |\n",
       "+-----------+------------+--------+"
      ]
     },
     "execution_count": 10,
     "metadata": {},
     "output_type": "execute_result"
    }
   ],
   "source": [
    "SELECT last_name, hire_date, job_id\n",
    "FROM employees\n",
    "WHERE hire_date > '1998-01-01' AND job_id LIKE 'SA%';"
   ]
  },
  {
   "cell_type": "markdown",
   "id": "8b54eb24-2021-407e-ad3e-ed6c47cec0fa",
   "metadata": {},
   "source": [
    "## OR"
   ]
  },
  {
   "cell_type": "markdown",
   "id": "1b8fc688-6723-4e43-a008-44b5b7c91e22",
   "metadata": {},
   "source": [
    "Met OR moet aan één van de voorwaarden voldaan worden."
   ]
  },
  {
   "cell_type": "code",
   "execution_count": 11,
   "id": "274dd046-36d2-4e88-a93c-60a21719caa2",
   "metadata": {
    "tags": []
   },
   "outputs": [
    {
     "data": {
      "text/html": [
       "<table>\n",
       "<tr>\n",
       "<th>department_name</th>\n",
       "<th>manager_id</th>\n",
       "<th>location_id</th>\n",
       "</tr>\n",
       "<tr>\n",
       "<td>Shipping</td>\n",
       "<td>124</td>\n",
       "<td>1500</td>\n",
       "</tr>\n",
       "<tr>\n",
       "<td>Sales</td>\n",
       "<td>149</td>\n",
       "<td>2500</td>\n",
       "</tr>\n",
       "</table>"
      ],
      "text/plain": [
       "+-----------------+------------+-------------+\n",
       "| department_name | manager_id | location_id |\n",
       "+-----------------+------------+-------------+\n",
       "| Shipping        | 124        | 1500        |\n",
       "+-----------------+------------+-------------+\n",
       "| Sales           | 149        | 2500        |\n",
       "+-----------------+------------+-------------+"
      ]
     },
     "execution_count": 11,
     "metadata": {},
     "output_type": "execute_result"
    }
   ],
   "source": [
    "SELECT department_name, manager_id, location_id\n",
    "FROM departments\n",
    "WHERE location_id = 2500 OR manager_id = 124;"
   ]
  },
  {
   "cell_type": "markdown",
   "id": "f3f7bad4-e406-424f-9f4f-b5cdbca2c3be",
   "metadata": {},
   "source": [
    "## NOT"
   ]
  },
  {
   "cell_type": "markdown",
   "id": "7c9275cf-9ca8-4408-8fdd-ace6117e3bea",
   "metadata": {},
   "source": [
    "Met NOT moet er juist niet aan een voorwaarde worden voldaan."
   ]
  },
  {
   "cell_type": "code",
   "execution_count": 12,
   "id": "26baab29-b499-49c2-8e44-e21c56de67ff",
   "metadata": {
    "tags": []
   },
   "outputs": [
    {
     "data": {
      "text/html": [
       "<table>\n",
       "<tr>\n",
       "<th>department_name</th>\n",
       "<th>location_id</th>\n",
       "</tr>\n",
       "<tr>\n",
       "<td>Shipping</td>\n",
       "<td>1500</td>\n",
       "</tr>\n",
       "<tr>\n",
       "<td>IT</td>\n",
       "<td>1400</td>\n",
       "</tr>\n",
       "<tr>\n",
       "<td>Sales</td>\n",
       "<td>2500</td>\n",
       "</tr>\n",
       "</table>"
      ],
      "text/plain": [
       "+-----------------+-------------+\n",
       "| department_name | location_id |\n",
       "+-----------------+-------------+\n",
       "| Shipping        | 1500        |\n",
       "+-----------------+-------------+\n",
       "| IT              | 1400        |\n",
       "+-----------------+-------------+\n",
       "| Sales           | 2500        |\n",
       "+-----------------+-------------+"
      ]
     },
     "execution_count": 12,
     "metadata": {},
     "output_type": "execute_result"
    }
   ],
   "source": [
    "SELECT department_name, location_id\n",
    "FROM departments\n",
    "WHERE location_id NOT IN(1700,1800);"
   ]
  },
  {
   "cell_type": "markdown",
   "id": "6f8fcf39-0a9b-458c-abcd-d5fee1251f00",
   "metadata": {},
   "source": [
    "## Voorrang"
   ]
  },
  {
   "cell_type": "markdown",
   "id": "7cf8aa1a-9082-4232-9daf-8a7a24f41561",
   "metadata": {},
   "source": [
    "Als query's ingewikkeld worden, kan het probleem van de volgorde optreden, oftewel de vraag: welke operator heeft precedentie (voorrang) op de onderste regel van de query?"
   ]
  },
  {
   "cell_type": "code",
   "execution_count": 19,
   "id": "41c3167e-28b7-4fe9-990d-d998c694519b",
   "metadata": {
    "tags": []
   },
   "outputs": [
    {
     "data": {
      "text/html": [
       "<table>\n",
       "<tr>\n",
       "<th>employee_raise</th>\n",
       "<th>department_id</th>\n",
       "<th>first_name</th>\n",
       "</tr>\n",
       "<tr>\n",
       "<td>0.0</td>\n",
       "<td>60</td>\n",
       "<td>Bruce</td>\n",
       "</tr>\n",
       "<tr>\n",
       "<td>0.0</td>\n",
       "<td>50</td>\n",
       "<td>Kevin</td>\n",
       "</tr>\n",
       "<tr>\n",
       "<td>0.0</td>\n",
       "<td>50</td>\n",
       "<td>Trenna</td>\n",
       "</tr>\n",
       "<tr>\n",
       "<td>0.0</td>\n",
       "<td>50</td>\n",
       "<td>Curtis</td>\n",
       "</tr>\n",
       "<tr>\n",
       "<td>0.0</td>\n",
       "<td>50</td>\n",
       "<td>Randall</td>\n",
       "</tr>\n",
       "<tr>\n",
       "<td>0.0</td>\n",
       "<td>50</td>\n",
       "<td>Peter</td>\n",
       "</tr>\n",
       "<tr>\n",
       "<td>0.0</td>\n",
       "<td>20</td>\n",
       "<td>Michael</td>\n",
       "</tr>\n",
       "<tr>\n",
       "<td>0.0</td>\n",
       "<td>110</td>\n",
       "<td>Shelley</td>\n",
       "</tr>\n",
       "</table>"
      ],
      "text/plain": [
       "+----------------+---------------+------------+\n",
       "| employee_raise | department_id | first_name |\n",
       "+----------------+---------------+------------+\n",
       "| 0.0            | 60            | Bruce      |\n",
       "+----------------+---------------+------------+\n",
       "| 0.0            | 50            | Kevin      |\n",
       "+----------------+---------------+------------+\n",
       "| 0.0            | 50            | Trenna     |\n",
       "+----------------+---------------+------------+\n",
       "| 0.0            | 50            | Curtis     |\n",
       "+----------------+---------------+------------+\n",
       "| 0.0            | 50            | Randall    |\n",
       "+----------------+---------------+------------+\n",
       "| 0.0            | 50            | Peter      |\n",
       "+----------------+---------------+------------+\n",
       "| 0.0            | 20            | Michael    |\n",
       "+----------------+---------------+------------+\n",
       "| 0.0            | 110           | Shelley    |\n",
       "+----------------+---------------+------------+"
      ]
     },
     "execution_count": 19,
     "metadata": {},
     "output_type": "execute_result"
    }
   ],
   "source": [
    "SELECT (last_name || ' ' || salary * 1.05) employee_raise, department_id, first_name\n",
    "FROM employees\n",
    "WHERE department_id IN(50,80) AND first_name LIKE 'C%' OR last_name LIKE '%S%';"
   ]
  },
  {
   "cell_type": "markdown",
   "id": "b38bc261-4628-4d9d-ba7c-04784696d188",
   "metadata": {},
   "source": [
    "* AND komt voor OR. Dus eerst worden alle werknemers geselecteerd die werken op afdeling 50 of 80 EN die een voornaam hebben die begint met een C. Dat is alleen maar Curtis.\n",
    "* Daarna komt OR en worden alle werknemers getoond die een letter 's' in hun achternaam hebben."
   ]
  },
  {
   "cell_type": "markdown",
   "id": "d4837e48-2024-4a64-b487-7bf93f8934e6",
   "metadata": {},
   "source": [
    "| Volgorde | Operator |\n",
    "| :---     | :---     |\n",
    "| 1        | rekenkundige operatoren zoals `+ - * /` |\n",
    "| 2        | concatenatie (`CONCAT`) |\n",
    "| 3        | vergelijkingsoperatoren `<, <=, >, >=, <>` |\n",
    "| 4        | `IS (NOT) NULL`, `LIKE`, `(NOT) IN` |\n",
    "| 5        | `(NOT) BETWEEN` |\n",
    "| 6        | `NOT` |\n",
    "| 7        | `AND` |\n",
    "| 8        | `OR`  |"
   ]
  },
  {
   "cell_type": "markdown",
   "id": "217d42b9-d8ad-4c2a-8858-55cd11810f3c",
   "metadata": {},
   "source": [
    "Stel dat je in de vorige query de OR en de AND omdraait."
   ]
  },
  {
   "cell_type": "code",
   "execution_count": 18,
   "id": "db9fe376-0357-4848-9fda-14286f32696f",
   "metadata": {
    "tags": []
   },
   "outputs": [
    {
     "data": {
      "text/html": [
       "<table>\n",
       "<tr>\n",
       "<th>employee_raise</th>\n",
       "<th>department_id</th>\n",
       "<th>first_name</th>\n",
       "</tr>\n",
       "<tr>\n",
       "<td>0.0</td>\n",
       "<td>50</td>\n",
       "<td>Kevin</td>\n",
       "</tr>\n",
       "<tr>\n",
       "<td>0.0</td>\n",
       "<td>50</td>\n",
       "<td>Trenna</td>\n",
       "</tr>\n",
       "<tr>\n",
       "<td>0.0</td>\n",
       "<td>50</td>\n",
       "<td>Curtis</td>\n",
       "</tr>\n",
       "<tr>\n",
       "<td>0.0</td>\n",
       "<td>50</td>\n",
       "<td>Randall</td>\n",
       "</tr>\n",
       "<tr>\n",
       "<td>0.0</td>\n",
       "<td>50</td>\n",
       "<td>Peter</td>\n",
       "</tr>\n",
       "<tr>\n",
       "<td>0.0</td>\n",
       "<td>80</td>\n",
       "<td>Eleni</td>\n",
       "</tr>\n",
       "<tr>\n",
       "<td>0.0</td>\n",
       "<td>80</td>\n",
       "<td>Ellen</td>\n",
       "</tr>\n",
       "<tr>\n",
       "<td>0.0</td>\n",
       "<td>80</td>\n",
       "<td>Jonathon</td>\n",
       "</tr>\n",
       "</table>"
      ],
      "text/plain": [
       "+----------------+---------------+------------+\n",
       "| employee_raise | department_id | first_name |\n",
       "+----------------+---------------+------------+\n",
       "| 0.0            | 50            | Kevin      |\n",
       "+----------------+---------------+------------+\n",
       "| 0.0            | 50            | Trenna     |\n",
       "+----------------+---------------+------------+\n",
       "| 0.0            | 50            | Curtis     |\n",
       "+----------------+---------------+------------+\n",
       "| 0.0            | 50            | Randall    |\n",
       "+----------------+---------------+------------+\n",
       "| 0.0            | 50            | Peter      |\n",
       "+----------------+---------------+------------+\n",
       "| 0.0            | 80            | Eleni      |\n",
       "+----------------+---------------+------------+\n",
       "| 0.0            | 80            | Ellen      |\n",
       "+----------------+---------------+------------+\n",
       "| 0.0            | 80            | Jonathon   |\n",
       "+----------------+---------------+------------+"
      ]
     },
     "execution_count": 18,
     "metadata": {},
     "output_type": "execute_result"
    }
   ],
   "source": [
    "SELECT (last_name || ' ' || salary * 1.05) employee_raise, department_id, first_name\n",
    "FROM employees\n",
    "WHERE department_id IN(50,80) OR first_name LIKE 'C%' AND last_name LIKE '%S%';"
   ]
  },
  {
   "cell_type": "markdown",
   "id": "05c55916-c918-407f-89ca-b5ca35c2d06d",
   "metadata": {},
   "source": [
    "De beste manier om zeker te zijn van je resultaat is het *gebruik van haakjes* in de WHERE."
   ]
  },
  {
   "cell_type": "code",
   "execution_count": 17,
   "id": "f4acbb87-d716-4dbc-bde8-4655c8c82ff6",
   "metadata": {
    "tags": []
   },
   "outputs": [
    {
     "data": {
      "text/html": [
       "<table>\n",
       "<tr>\n",
       "<th>employee_raise</th>\n",
       "<th>department_id</th>\n",
       "<th>first_name</th>\n",
       "</tr>\n",
       "<tr>\n",
       "<td>0.0</td>\n",
       "<td>50</td>\n",
       "<td>Kevin</td>\n",
       "</tr>\n",
       "<tr>\n",
       "<td>0.0</td>\n",
       "<td>50</td>\n",
       "<td>Trenna</td>\n",
       "</tr>\n",
       "<tr>\n",
       "<td>0.0</td>\n",
       "<td>50</td>\n",
       "<td>Curtis</td>\n",
       "</tr>\n",
       "<tr>\n",
       "<td>0.0</td>\n",
       "<td>50</td>\n",
       "<td>Randall</td>\n",
       "</tr>\n",
       "<tr>\n",
       "<td>0.0</td>\n",
       "<td>50</td>\n",
       "<td>Peter</td>\n",
       "</tr>\n",
       "</table>"
      ],
      "text/plain": [
       "+----------------+---------------+------------+\n",
       "| employee_raise | department_id | first_name |\n",
       "+----------------+---------------+------------+\n",
       "| 0.0            | 50            | Kevin      |\n",
       "+----------------+---------------+------------+\n",
       "| 0.0            | 50            | Trenna     |\n",
       "+----------------+---------------+------------+\n",
       "| 0.0            | 50            | Curtis     |\n",
       "+----------------+---------------+------------+\n",
       "| 0.0            | 50            | Randall    |\n",
       "+----------------+---------------+------------+\n",
       "| 0.0            | 50            | Peter      |\n",
       "+----------------+---------------+------------+"
      ]
     },
     "execution_count": 17,
     "metadata": {},
     "output_type": "execute_result"
    }
   ],
   "source": [
    "SELECT (last_name || ' ' || salary * 1.05) employee_raise, department_id, first_name\n",
    "FROM employees\n",
    "WHERE (department_id IN(50,80) OR first_name LIKE 'C%') AND last_name LIKE '%S%';"
   ]
  },
  {
   "cell_type": "markdown",
   "id": "9c3a14c8-c713-43c8-ac3f-cca6dd02e4e8",
   "metadata": {},
   "source": []
  }
 ],
 "metadata": {
  "kernelspec": {
   "display_name": "xsqlite",
   "language": "sqlite",
   "name": "xsqlite"
  },
  "language_info": {
   "codemirror_mode": "sql",
   "file_extension": "",
   "mimetype": "",
   "name": "sql",
   "version": "3.33.0"
  }
 },
 "nbformat": 4,
 "nbformat_minor": 5
}
