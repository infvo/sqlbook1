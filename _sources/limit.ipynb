{
 "cells": [
  {
   "cell_type": "markdown",
   "id": "7cb5e08c-0550-4054-9d7c-902e15730639",
   "metadata": {},
   "source": [
    "# LIMIT"
   ]
  },
  {
   "cell_type": "code",
   "execution_count": 2,
   "id": "b350ddea-4b25-428b-80e6-d5f3f3e7310b",
   "metadata": {
    "tags": []
   },
   "outputs": [],
   "source": [
    "%LOAD data/example.db"
   ]
  },
  {
   "cell_type": "markdown",
   "id": "a258db52-12ad-473a-9290-e710fce6a6b7",
   "metadata": {},
   "source": [
    "Met LIMIT kun je bepalen hoeveel rijen er getoond moeten worden."
   ]
  },
  {
   "cell_type": "code",
   "execution_count": 3,
   "id": "9000a08c-6202-4ef7-abcc-3fa0374e50d9",
   "metadata": {
    "tags": []
   },
   "outputs": [
    {
     "data": {
      "text/html": [
       "<table>\n",
       "<tr>\n",
       "<th>last_name</th>\n",
       "<th>salary</th>\n",
       "</tr>\n",
       "<tr>\n",
       "<td>King</td>\n",
       "<td>24000</td>\n",
       "</tr>\n",
       "<tr>\n",
       "<td>Kochhar</td>\n",
       "<td>17000</td>\n",
       "</tr>\n",
       "<tr>\n",
       "<td>De Haan</td>\n",
       "<td>17000</td>\n",
       "</tr>\n",
       "<tr>\n",
       "<td>Hunold</td>\n",
       "<td>9000</td>\n",
       "</tr>\n",
       "<tr>\n",
       "<td>Ernst</td>\n",
       "<td>6000</td>\n",
       "</tr>\n",
       "</table>"
      ],
      "text/plain": [
       "+-----------+--------+\n",
       "| last_name | salary |\n",
       "+-----------+--------+\n",
       "| King      | 24000  |\n",
       "+-----------+--------+\n",
       "| Kochhar   | 17000  |\n",
       "+-----------+--------+\n",
       "| De Haan   | 17000  |\n",
       "+-----------+--------+\n",
       "| Hunold    | 9000   |\n",
       "+-----------+--------+\n",
       "| Ernst     | 6000   |\n",
       "+-----------+--------+"
      ]
     },
     "execution_count": 3,
     "metadata": {},
     "output_type": "execute_result"
    }
   ],
   "source": [
    "SELECT last_name, salary\n",
    "FROM employees\n",
    "LIMIT 5;"
   ]
  },
  {
   "cell_type": "markdown",
   "id": "69371dec-2bc1-4edf-ac0d-c241f96acd45",
   "metadata": {},
   "source": [
    "De eerste vijf rijen van de ongesorteerde tabel worden getoond. \n",
    "Ze komen in een ongedefinieerde volgorde terug, vaak hoe ze fysiek op de disk zijn opgeslagen. \n",
    "Met de optie `OFFSET` kun je bepalen hoeveel rijen er moeten worden overgeslagen vanaf het begin van de tabel bij het tonen van het aantal in de `LIMIT`. `LIMIT` en `OFFSET` hebben alleen praktische waarde als de query ook een `ORDER BY`  heeft."
   ]
  },
  {
   "cell_type": "code",
   "execution_count": 5,
   "id": "62c3081c-2094-4662-83f6-73cd75ccb39e",
   "metadata": {
    "tags": []
   },
   "outputs": [
    {
     "data": {
      "text/html": [
       "<table>\n",
       "<tr>\n",
       "<th>employee_id</th>\n",
       "<th>last_name</th>\n",
       "</tr>\n",
       "<tr>\n",
       "<td>174</td>\n",
       "<td>Abel</td>\n",
       "</tr>\n",
       "<tr>\n",
       "<td>142</td>\n",
       "<td>Davies</td>\n",
       "</tr>\n",
       "<tr>\n",
       "<td>102</td>\n",
       "<td>De Haan</td>\n",
       "</tr>\n",
       "</table>"
      ],
      "text/plain": [
       "+-------------+-----------+\n",
       "| employee_id | last_name |\n",
       "+-------------+-----------+\n",
       "| 174         | Abel      |\n",
       "+-------------+-----------+\n",
       "| 142         | Davies    |\n",
       "+-------------+-----------+\n",
       "| 102         | De Haan   |\n",
       "+-------------+-----------+"
      ]
     },
     "execution_count": 5,
     "metadata": {},
     "output_type": "execute_result"
    }
   ],
   "source": [
    "SELECT employee_id, last_name\n",
    "FROM employees\n",
    "ORDER BY last_name\n",
    "LIMIT 3 OFFSET 1;"
   ]
  },
  {
   "cell_type": "markdown",
   "id": "202cdf98-f3bc-403f-b416-9a35b7dd409a",
   "metadata": {},
   "source": [
    "De eerste rij in de tabel (Abel) wordt overgeslagen en daarna worden er drie rijen getoond."
   ]
  }
 ],
 "metadata": {
  "kernelspec": {
   "display_name": "xsqlite",
   "language": "sqlite",
   "name": "xsqlite"
  },
  "language_info": {
   "codemirror_mode": "sql",
   "file_extension": "",
   "mimetype": "",
   "name": "sql",
   "version": "3.33.0"
  }
 },
 "nbformat": 4,
 "nbformat_minor": 5
}
