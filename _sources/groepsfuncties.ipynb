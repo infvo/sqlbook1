{
 "cells": [
  {
   "cell_type": "markdown",
   "id": "53fca3a6-cbf5-4d0a-a984-dde966f6c080",
   "metadata": {},
   "source": [
    "# Groepsfuncties"
   ]
  },
  {
   "cell_type": "code",
   "execution_count": 1,
   "id": "c864147b-b2bd-40df-9368-acc7c9a3384f",
   "metadata": {
    "tags": []
   },
   "outputs": [],
   "source": [
    "%LOAD data/example.db"
   ]
  },
  {
   "cell_type": "markdown",
   "id": "f0399415-d271-4240-b0b0-8d86c81a5a87",
   "metadata": {},
   "source": [
    "Er zijn zeven groepsfuncties: MIN, MAX, SUM, AVG, COUNT, STDDEV, VARIANCE. Groepsfuncties worden losgelaten op een set van waarden, waarna ze één waarde als resultaat retourneren (multi-row functions). Groepsfuncties worden vaak in combinatie met GROUP BY (en met HAVING) toegepast. STDDEV (standaarddeviatie) en VARIANCE (variantie) worden hier niet verder behandeld."
   ]
  },
  {
   "cell_type": "markdown",
   "id": "cc6d321f-1dc9-490a-befd-0cfb53faaac7",
   "metadata": {},
   "source": [
    "* Groepsfuncties kunnen niet worden gebruikt in de WHERE regel."
   ]
  },
  {
   "cell_type": "code",
   "execution_count": 2,
   "id": "ed17b4b3-f874-4a00-a454-4a2da00ef4da",
   "metadata": {
    "tags": [
     "raises-exception"
    ]
   },
   "outputs": [
    {
     "ename": "Error",
     "evalue": "misuse of aggregate function MAX()",
     "output_type": "error",
     "traceback": [
      "Error: misuse of aggregate function MAX()"
     ]
    }
   ],
   "source": [
    "SELECT last_name\n",
    "FROM employees\n",
    "WHERE salary = MAX(salary);"
   ]
  },
  {
   "cell_type": "markdown",
   "id": "7af2aaa0-c2d1-4146-91ed-df08e4caddcf",
   "metadata": {},
   "source": [
    "* Je kunt meerdere groepsfuncties op de SELECT regel gebruiken."
   ]
  },
  {
   "cell_type": "code",
   "execution_count": 3,
   "id": "1ed79177-e5cd-43aa-bad0-979d70a56d19",
   "metadata": {
    "tags": []
   },
   "outputs": [
    {
     "data": {
      "text/html": [
       "<table>\n",
       "<tr>\n",
       "<th>MIN(salary)</th>\n",
       "<th>MAX(salary)</th>\n",
       "<th>SUM(salary)</th>\n",
       "<th>AVG(salary)</th>\n",
       "<th>COUNT(salary)</th>\n",
       "</tr>\n",
       "<tr>\n",
       "<td>2500</td>\n",
       "<td>24000</td>\n",
       "<td>175500</td>\n",
       "<td>8775.0</td>\n",
       "<td>20</td>\n",
       "</tr>\n",
       "</table>"
      ],
      "text/plain": [
       "+-------------+-------------+-------------+-------------+---------------+\n",
       "| MIN(salary) | MAX(salary) | SUM(salary) | AVG(salary) | COUNT(salary) |\n",
       "+-------------+-------------+-------------+-------------+---------------+\n",
       "| 2500        | 24000       | 175500      | 8775.0      | 20            |\n",
       "+-------------+-------------+-------------+-------------+---------------+"
      ]
     },
     "execution_count": 3,
     "metadata": {},
     "output_type": "execute_result"
    }
   ],
   "source": [
    "SELECT MIN(salary), MAX(salary), SUM(salary), AVG(salary), COUNT(salary)\n",
    "FROM employees;"
   ]
  },
  {
   "cell_type": "markdown",
   "id": "04ae5828-c4eb-48c8-a15f-a8133cd7a715",
   "metadata": {},
   "source": [
    "* MIN, MAX en COUNT kun je met elk datatype gebruiken. SUM en AVG kun je enkel met numerieke datatypes gebruiken.\n",
    "* NULL waardes worden genegeerd en niet als 0 geteld.\n",
    "* DISTINCT kan gebruikt worden met alle groepsfuncties."
   ]
  },
  {
   "cell_type": "markdown",
   "id": "7c16f80e-b4e5-4768-b116-3bc4270f6315",
   "metadata": {},
   "source": [
    "## Min\n",
    "\n",
    "Met `MIN` haal je de kleinste waarde op van een kolom van een aantal rijen. Elk datatype (numeriek, alfanumeriek, datum) kan hiervoor gebruikt worden."
   ]
  },
  {
   "cell_type": "code",
   "execution_count": 4,
   "id": "b186850d-cbfc-4c37-829f-b0d6f4ac0aa9",
   "metadata": {
    "tags": []
   },
   "outputs": [
    {
     "data": {
      "text/html": [
       "<table>\n",
       "<tr>\n",
       "<th>MIN(salary)</th>\n",
       "</tr>\n",
       "<tr>\n",
       "<td>2500</td>\n",
       "</tr>\n",
       "</table>"
      ],
      "text/plain": [
       "+-------------+\n",
       "| MIN(salary) |\n",
       "+-------------+\n",
       "| 2500        |\n",
       "+-------------+"
      ]
     },
     "execution_count": 4,
     "metadata": {},
     "output_type": "execute_result"
    }
   ],
   "source": [
    "SELECT MIN(salary)\n",
    "FROM employees;"
   ]
  },
  {
   "cell_type": "code",
   "execution_count": 5,
   "id": "82a6f0ad-c767-4426-8707-f630f10a1c30",
   "metadata": {
    "tags": []
   },
   "outputs": [
    {
     "data": {
      "text/html": [
       "<table>\n",
       "<tr>\n",
       "<th>MIN(last_name)</th>\n",
       "</tr>\n",
       "<tr>\n",
       "<td>Abel</td>\n",
       "</tr>\n",
       "</table>"
      ],
      "text/plain": [
       "+----------------+\n",
       "| MIN(last_name) |\n",
       "+----------------+\n",
       "| Abel           |\n",
       "+----------------+"
      ]
     },
     "execution_count": 5,
     "metadata": {},
     "output_type": "execute_result"
    }
   ],
   "source": [
    "SELECT MIN(last_name)\n",
    "FROM employees;"
   ]
  },
  {
   "cell_type": "code",
   "execution_count": 6,
   "id": "d5f7e814-4903-41f7-928e-32db46e46661",
   "metadata": {
    "tags": []
   },
   "outputs": [
    {
     "data": {
      "text/html": [
       "<table>\n",
       "<tr>\n",
       "<th>MIN(hire_date)</th>\n",
       "</tr>\n",
       "<tr>\n",
       "<td>1987-06-17</td>\n",
       "</tr>\n",
       "</table>"
      ],
      "text/plain": [
       "+----------------+\n",
       "| MIN(hire_date) |\n",
       "+----------------+\n",
       "| 1987-06-17     |\n",
       "+----------------+"
      ]
     },
     "execution_count": 6,
     "metadata": {},
     "output_type": "execute_result"
    }
   ],
   "source": [
    "SELECT MIN(hire_date)\n",
    "FROM employees;"
   ]
  },
  {
   "cell_type": "markdown",
   "id": "7720fcfa-25d2-49e6-9e59-18df67cdccad",
   "metadata": {},
   "source": [
    "## Max\n",
    "\n",
    "Met `MAX` haal je de hoogste waarde op van een kolom van een aantal rijen. Elk datatype (numeriek, alfanumeriek, datum) kan hiervoor gebruikt worden."
   ]
  },
  {
   "cell_type": "code",
   "execution_count": 7,
   "id": "536020c4-66dd-4276-b2fb-6674bc8a2b55",
   "metadata": {
    "tags": []
   },
   "outputs": [
    {
     "data": {
      "text/html": [
       "<table>\n",
       "<tr>\n",
       "<th>MAX(salary)</th>\n",
       "</tr>\n",
       "<tr>\n",
       "<td>24000</td>\n",
       "</tr>\n",
       "</table>"
      ],
      "text/plain": [
       "+-------------+\n",
       "| MAX(salary) |\n",
       "+-------------+\n",
       "| 24000       |\n",
       "+-------------+"
      ]
     },
     "execution_count": 7,
     "metadata": {},
     "output_type": "execute_result"
    }
   ],
   "source": [
    "SELECT MAX(salary)\n",
    "FROM employees;"
   ]
  },
  {
   "cell_type": "code",
   "execution_count": 8,
   "id": "ed939b26-5aa4-4500-8ea5-95f74299cb1a",
   "metadata": {
    "tags": []
   },
   "outputs": [
    {
     "data": {
      "text/html": [
       "<table>\n",
       "<tr>\n",
       "<th>MAX(last_name)</th>\n",
       "</tr>\n",
       "<tr>\n",
       "<td>Zlotkey</td>\n",
       "</tr>\n",
       "</table>"
      ],
      "text/plain": [
       "+----------------+\n",
       "| MAX(last_name) |\n",
       "+----------------+\n",
       "| Zlotkey        |\n",
       "+----------------+"
      ]
     },
     "execution_count": 8,
     "metadata": {},
     "output_type": "execute_result"
    }
   ],
   "source": [
    "SELECT MAX(last_name)\n",
    "FROM employees;"
   ]
  },
  {
   "cell_type": "code",
   "execution_count": 9,
   "id": "1d320980-7018-4330-9933-d47cea47f8be",
   "metadata": {
    "tags": []
   },
   "outputs": [
    {
     "data": {
      "text/html": [
       "<table>\n",
       "<tr>\n",
       "<th>MAX(hire_date)</th>\n",
       "</tr>\n",
       "<tr>\n",
       "<td>2000-01-29</td>\n",
       "</tr>\n",
       "</table>"
      ],
      "text/plain": [
       "+----------------+\n",
       "| MAX(hire_date) |\n",
       "+----------------+\n",
       "| 2000-01-29     |\n",
       "+----------------+"
      ]
     },
     "execution_count": 9,
     "metadata": {},
     "output_type": "execute_result"
    }
   ],
   "source": [
    "SELECT MAX(hire_date)\n",
    "FROM employees;"
   ]
  },
  {
   "cell_type": "markdown",
   "id": "f670004f-c1bb-4d8c-9cab-d5edab56d441",
   "metadata": {},
   "source": [
    "## Sum\n",
    "\n",
    "Met `SUM` haal je de som op van een kolom van een aantal rijen, dus alle rijen bij elkaar opgeteld. Het kan alleen maar gebruikt worden voor kolommen met een numeriek datatype."
   ]
  },
  {
   "cell_type": "code",
   "execution_count": 10,
   "id": "dad7df7f-0b4e-4338-88a7-2a071ac2eb61",
   "metadata": {
    "tags": []
   },
   "outputs": [
    {
     "data": {
      "text/html": [
       "<table>\n",
       "<tr>\n",
       "<th>SUM(salary)</th>\n",
       "</tr>\n",
       "<tr>\n",
       "<td>175500</td>\n",
       "</tr>\n",
       "</table>"
      ],
      "text/plain": [
       "+-------------+\n",
       "| SUM(salary) |\n",
       "+-------------+\n",
       "| 175500      |\n",
       "+-------------+"
      ]
     },
     "execution_count": 10,
     "metadata": {},
     "output_type": "execute_result"
    }
   ],
   "source": [
    "SELECT SUM(salary)\n",
    "FROM employees;"
   ]
  },
  {
   "cell_type": "markdown",
   "id": "f5c692d4-634a-4da3-b86b-65e76e6d3e5b",
   "metadata": {},
   "source": [
    "Als je de dubbele waarden niet mee wil tellen met behulp van `DISTINCT` krijg je een ander resultaat. De salarissen 6000 en 17000 komen twee keer voor."
   ]
  },
  {
   "cell_type": "code",
   "execution_count": 11,
   "id": "d151ac2a-e780-42ae-b6c1-4fb6fcb65409",
   "metadata": {
    "tags": []
   },
   "outputs": [
    {
     "data": {
      "text/html": [
       "<table>\n",
       "<tr>\n",
       "<th>SUM(DISTINCT salary)</th>\n",
       "</tr>\n",
       "<tr>\n",
       "<td>152500</td>\n",
       "</tr>\n",
       "</table>"
      ],
      "text/plain": [
       "+----------------------+\n",
       "| SUM(DISTINCT salary) |\n",
       "+----------------------+\n",
       "| 152500               |\n",
       "+----------------------+"
      ]
     },
     "execution_count": 11,
     "metadata": {},
     "output_type": "execute_result"
    }
   ],
   "source": [
    "SELECT SUM(DISTINCT salary)\n",
    "FROM employees;"
   ]
  },
  {
   "cell_type": "markdown",
   "id": "b782fcc9-a8fa-4a47-a68f-031924f61ebc",
   "metadata": {},
   "source": [
    "Voorbeeld van een SUM met een WHERE."
   ]
  },
  {
   "cell_type": "code",
   "execution_count": 12,
   "id": "fe50c910-e9d1-4ef3-bc20-780b7d547e0f",
   "metadata": {
    "tags": []
   },
   "outputs": [
    {
     "data": {
      "text/html": [
       "<table>\n",
       "<tr>\n",
       "<th>som_salarissen_afdeling_90</th>\n",
       "</tr>\n",
       "<tr>\n",
       "<td>58000</td>\n",
       "</tr>\n",
       "</table>"
      ],
      "text/plain": [
       "+----------------------------+\n",
       "| som_salarissen_afdeling_90 |\n",
       "+----------------------------+\n",
       "| 58000                      |\n",
       "+----------------------------+"
      ]
     },
     "execution_count": 12,
     "metadata": {},
     "output_type": "execute_result"
    }
   ],
   "source": [
    "SELECT SUM(salary) som_salarissen_afdeling_90\n",
    "FROM employees\n",
    "WHERE department_id = 90;"
   ]
  },
  {
   "cell_type": "markdown",
   "id": "697309ed-6f6e-45ad-bd6b-65fc3a0adc68",
   "metadata": {},
   "source": [
    "Hetzelfde voorbeeld maar nu met de som van alle salarissen zonder de duplicaten."
   ]
  },
  {
   "cell_type": "code",
   "execution_count": 13,
   "id": "379c98fa-d56b-43fd-85fa-557b35b8c4db",
   "metadata": {
    "tags": []
   },
   "outputs": [
    {
     "data": {
      "text/html": [
       "<table>\n",
       "<tr>\n",
       "<th>som_salarissen_afdeling_90</th>\n",
       "</tr>\n",
       "<tr>\n",
       "<td>41000</td>\n",
       "</tr>\n",
       "</table>"
      ],
      "text/plain": [
       "+----------------------------+\n",
       "| som_salarissen_afdeling_90 |\n",
       "+----------------------------+\n",
       "| 41000                      |\n",
       "+----------------------------+"
      ]
     },
     "execution_count": 13,
     "metadata": {},
     "output_type": "execute_result"
    }
   ],
   "source": [
    "SELECT SUM(DISTINCT salary) som_salarissen_afdeling_90\n",
    "FROM employees\n",
    "WHERE department_id = 90;"
   ]
  },
  {
   "cell_type": "markdown",
   "id": "a256da72-d52b-43da-a15d-541d73569c82",
   "metadata": {},
   "source": [
    "## Avg\n",
    "\n",
    "Met `AVG` haal je het gemiddelde op van een kolom van een aantal rijen. Het kan alleen maar gebruikt worden voor kolommen met een numeriek datatype."
   ]
  },
  {
   "cell_type": "code",
   "execution_count": 14,
   "id": "694805bf-a127-47f9-ad41-49f1ec1819c7",
   "metadata": {},
   "outputs": [
    {
     "data": {
      "text/html": [
       "<table>\n",
       "<tr>\n",
       "<th>AVG(salary)</th>\n",
       "</tr>\n",
       "<tr>\n",
       "<td>8775.0</td>\n",
       "</tr>\n",
       "</table>"
      ],
      "text/plain": [
       "+-------------+\n",
       "| AVG(salary) |\n",
       "+-------------+\n",
       "| 8775.0      |\n",
       "+-------------+"
      ]
     },
     "execution_count": 14,
     "metadata": {},
     "output_type": "execute_result"
    }
   ],
   "source": [
    "SELECT AVG(salary)\n",
    "FROM employees;"
   ]
  },
  {
   "cell_type": "markdown",
   "id": "6fed6513-5f51-4a17-83e3-7866bd829e9e",
   "metadata": {},
   "source": [
    "NULL waarden worden niet meegeteld in de berekening."
   ]
  },
  {
   "cell_type": "code",
   "execution_count": 15,
   "id": "170c2877-2f13-4509-a992-4bedc100ac9f",
   "metadata": {},
   "outputs": [
    {
     "data": {
      "text/html": [
       "<table>\n",
       "<tr>\n",
       "<th>AVG(commission_pct)</th>\n",
       "</tr>\n",
       "<tr>\n",
       "<td>0.2125</td>\n",
       "</tr>\n",
       "</table>"
      ],
      "text/plain": [
       "+---------------------+\n",
       "| AVG(commission_pct) |\n",
       "+---------------------+\n",
       "| 0.2125              |\n",
       "+---------------------+"
      ]
     },
     "execution_count": 15,
     "metadata": {},
     "output_type": "execute_result"
    }
   ],
   "source": [
    "SELECT AVG(commission_pct)\n",
    "FROM employees;"
   ]
  },
  {
   "cell_type": "markdown",
   "id": "12ec2a91-9ddc-4c28-aacb-ba6bb6f469c9",
   "metadata": {},
   "source": [
    "Als je de NULL waarden wel wil meetellen, bijvoorbeeld als 0, dan kun je met IFNULL de NULL waarden vervangen door 0."
   ]
  },
  {
   "cell_type": "code",
   "execution_count": 16,
   "id": "76108ed2-2af6-49f8-a81c-9d947f6c295e",
   "metadata": {},
   "outputs": [
    {
     "data": {
      "text/html": [
       "<table>\n",
       "<tr>\n",
       "<th>AVG(IFNULL(commission_pct, 0))</th>\n",
       "</tr>\n",
       "<tr>\n",
       "<td>0.0425</td>\n",
       "</tr>\n",
       "</table>"
      ],
      "text/plain": [
       "+--------------------------------+\n",
       "| AVG(IFNULL(commission_pct, 0)) |\n",
       "+--------------------------------+\n",
       "| 0.0425                         |\n",
       "+--------------------------------+"
      ]
     },
     "execution_count": 16,
     "metadata": {},
     "output_type": "execute_result"
    }
   ],
   "source": [
    "SELECT AVG(IFNULL(commission_pct, 0))\n",
    "FROM employees;"
   ]
  },
  {
   "cell_type": "markdown",
   "id": "5550d6ef-f3fd-4402-a104-03656eb7a389",
   "metadata": {},
   "source": [
    "## Count\n",
    "\n",
    "Met COUNT tel je het aantal rijen."
   ]
  },
  {
   "cell_type": "code",
   "execution_count": 17,
   "id": "d23aaf34-eea3-414b-bafe-985553fefd37",
   "metadata": {
    "tags": []
   },
   "outputs": [
    {
     "data": {
      "text/html": [
       "<table>\n",
       "<tr>\n",
       "<th>COUNT(last_name)</th>\n",
       "</tr>\n",
       "<tr>\n",
       "<td>20</td>\n",
       "</tr>\n",
       "</table>"
      ],
      "text/plain": [
       "+------------------+\n",
       "| COUNT(last_name) |\n",
       "+------------------+\n",
       "| 20               |\n",
       "+------------------+"
      ]
     },
     "execution_count": 17,
     "metadata": {},
     "output_type": "execute_result"
    }
   ],
   "source": [
    "SELECT COUNT(last_name)\n",
    "FROM employees;"
   ]
  },
  {
   "cell_type": "markdown",
   "id": "f5e1a145-794f-45e1-a595-d81ff7ed4d62",
   "metadata": {},
   "source": [
    "Duplicaatwaarden worden afzonderlijk meegerekend."
   ]
  },
  {
   "cell_type": "code",
   "execution_count": 18,
   "id": "396a725e-9865-4d1e-a47e-ee68d0a66415",
   "metadata": {
    "tags": []
   },
   "outputs": [
    {
     "data": {
      "text/html": [
       "<table>\n",
       "<tr>\n",
       "<th>COUNT(job_id)</th>\n",
       "</tr>\n",
       "<tr>\n",
       "<td>20</td>\n",
       "</tr>\n",
       "</table>"
      ],
      "text/plain": [
       "+---------------+\n",
       "| COUNT(job_id) |\n",
       "+---------------+\n",
       "| 20            |\n",
       "+---------------+"
      ]
     },
     "execution_count": 18,
     "metadata": {},
     "output_type": "execute_result"
    }
   ],
   "source": [
    "SELECT COUNT(job_id)\n",
    "FROM employees;"
   ]
  },
  {
   "cell_type": "markdown",
   "id": "966e03d7-7320-4f23-95eb-0a8dbc807a34",
   "metadata": {},
   "source": [
    "Als je duplicaatwaarden wil negeren, moet je tussen de haakjes vóór de kolomnaam DISTINCT toevoegen. Er zijn twaalf verschillende job_id's."
   ]
  },
  {
   "cell_type": "code",
   "execution_count": 19,
   "id": "562fc46c-2e7e-41a9-9ce1-3eb91aa2cc0b",
   "metadata": {
    "tags": []
   },
   "outputs": [
    {
     "data": {
      "text/html": [
       "<table>\n",
       "<tr>\n",
       "<th>COUNT(DISTINCT job_id)</th>\n",
       "</tr>\n",
       "<tr>\n",
       "<td>12</td>\n",
       "</tr>\n",
       "</table>"
      ],
      "text/plain": [
       "+------------------------+\n",
       "| COUNT(DISTINCT job_id) |\n",
       "+------------------------+\n",
       "| 12                     |\n",
       "+------------------------+"
      ]
     },
     "execution_count": 19,
     "metadata": {},
     "output_type": "execute_result"
    }
   ],
   "source": [
    "SELECT COUNT(DISTINCT job_id)\n",
    "FROM employees;"
   ]
  },
  {
   "cell_type": "markdown",
   "id": "517783b6-c1c2-409c-95d0-57c4577547d4",
   "metadata": {},
   "source": [
    "NULL waarden worden genegeerd."
   ]
  },
  {
   "cell_type": "code",
   "execution_count": 20,
   "id": "1dc0f4fe-ec71-4681-a3d3-b5d757f6192b",
   "metadata": {
    "tags": []
   },
   "outputs": [
    {
     "data": {
      "text/html": [
       "<table>\n",
       "<tr>\n",
       "<th>COUNT(commission_pct)</th>\n",
       "</tr>\n",
       "<tr>\n",
       "<td>4</td>\n",
       "</tr>\n",
       "</table>"
      ],
      "text/plain": [
       "+-----------------------+\n",
       "| COUNT(commission_pct) |\n",
       "+-----------------------+\n",
       "| 4                     |\n",
       "+-----------------------+"
      ]
     },
     "execution_count": 20,
     "metadata": {},
     "output_type": "execute_result"
    }
   ],
   "source": [
    "SELECT COUNT(commission_pct)\n",
    "FROM employees;"
   ]
  },
  {
   "cell_type": "markdown",
   "id": "99f2066b-94d9-4e74-8135-66d7b9131cf6",
   "metadata": {},
   "source": [
    "Met COUNT(*) worden alle rijen in de tabel geteld en wordt er niet gekeken naar een specifieke kolom."
   ]
  },
  {
   "cell_type": "code",
   "execution_count": 21,
   "id": "ad50f59e-6e32-4489-8c64-a49acf473b58",
   "metadata": {
    "tags": []
   },
   "outputs": [
    {
     "data": {
      "text/html": [
       "<table>\n",
       "<tr>\n",
       "<th>COUNT(*)</th>\n",
       "</tr>\n",
       "<tr>\n",
       "<td>20</td>\n",
       "</tr>\n",
       "</table>"
      ],
      "text/plain": [
       "+----------+\n",
       "| COUNT(*) |\n",
       "+----------+\n",
       "| 20       |\n",
       "+----------+"
      ]
     },
     "execution_count": 21,
     "metadata": {},
     "output_type": "execute_result"
    }
   ],
   "source": [
    "SELECT COUNT(*)\n",
    "FROM employees;"
   ]
  },
  {
   "cell_type": "markdown",
   "id": "37a707b4-4f18-42ec-8fbe-a089d4b1612b",
   "metadata": {},
   "source": [
    "Voorbeeld van een COUNT(*) met een WHERE."
   ]
  },
  {
   "cell_type": "code",
   "execution_count": 22,
   "id": "8358fd17-18e3-45ff-88d3-3f0684a138b8",
   "metadata": {
    "tags": []
   },
   "outputs": [
    {
     "data": {
      "text/html": [
       "<table>\n",
       "<tr>\n",
       "<th>COUNT(*)</th>\n",
       "</tr>\n",
       "<tr>\n",
       "<td>9</td>\n",
       "</tr>\n",
       "</table>"
      ],
      "text/plain": [
       "+----------+\n",
       "| COUNT(*) |\n",
       "+----------+\n",
       "| 9        |\n",
       "+----------+"
      ]
     },
     "execution_count": 22,
     "metadata": {},
     "output_type": "execute_result"
    }
   ],
   "source": [
    "SELECT COUNT(*)\n",
    "FROM employees\n",
    "WHERE hire_date < '1996-01-01';"
   ]
  }
 ],
 "metadata": {
  "kernelspec": {
   "display_name": "xsqlite",
   "language": "sqlite",
   "name": "xsqlite"
  },
  "language_info": {
   "codemirror_mode": "sql",
   "file_extension": "",
   "mimetype": "",
   "name": "sql",
   "version": "3.33.0"
  }
 },
 "nbformat": 4,
 "nbformat_minor": 5
}
