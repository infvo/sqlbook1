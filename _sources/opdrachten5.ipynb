{
 "cells": [
  {
   "cell_type": "markdown",
   "id": "df17ac08-d58e-49b4-bf83-80d848fd0ff1",
   "metadata": {},
   "source": [
    "# Opdrachten 5"
   ]
  },
  {
   "cell_type": "code",
   "execution_count": 2,
   "id": "82bddf4a-d35f-4fba-a7f1-9d99d554a716",
   "metadata": {
    "tags": []
   },
   "outputs": [],
   "source": [
    "%LOAD data/example.db"
   ]
  },
  {
   "cell_type": "markdown",
   "id": "df88d74f-686e-4b17-8778-96b887ee571b",
   "metadata": {},
   "source": [
    ":::{exercise} Query 1\n",
    "\n",
    "Maak onderstaand overzicht na. De informatie komt uit de tabel departments en er is gesorteerd op department_name.\n",
    "\n",
    "![](figs/clip0234.png)\n",
    ":::"
   ]
  },
  {
   "cell_type": "code",
   "execution_count": null,
   "id": "436cd97c-c3be-497c-9943-50ac0b2750bc",
   "metadata": {},
   "outputs": [],
   "source": []
  },
  {
   "cell_type": "markdown",
   "id": "86b6f357-1d46-4449-983d-d101aa203167",
   "metadata": {},
   "source": [
    ":::{exercise} Query 2\n",
    "\n",
    "Toon de datum van vandaag. In het voorbeeld staat 16 augustus 2018 maar daar moet dus de datum van vandaag komen in het Nederlands.\n",
    "\n",
    ":::"
   ]
  },
  {
   "cell_type": "code",
   "execution_count": null,
   "id": "b9e8e3d9-5a38-4188-a1d6-54b63984cbe4",
   "metadata": {},
   "outputs": [],
   "source": []
  },
  {
   "cell_type": "markdown",
   "id": "5aaa72fa-a876-44ff-a020-5b22d2c66cd3",
   "metadata": {},
   "source": [
    ":::{exercise} Query 3\n",
    "\n",
    "Maak onderstaand overzicht na.\n",
    "\n",
    ":::"
   ]
  },
  {
   "cell_type": "code",
   "execution_count": null,
   "id": "5eac5031-c907-40a5-a2e2-c860e4ad6f15",
   "metadata": {},
   "outputs": [],
   "source": []
  },
  {
   "cell_type": "markdown",
   "id": "419705cc-0c62-40ce-90fe-b37a1008ad0f",
   "metadata": {},
   "source": [
    ":::{exercise} Query 4\n",
    "\n",
    "Maak onderstaand overzicht na. Met de maanden in het Nederlands en zonder voorloopnullen bij de dag. De gegevens komen uit de tabel employees en er is gesorteerd op last_name.\n",
    ":::"
   ]
  },
  {
   "cell_type": "code",
   "execution_count": null,
   "id": "79cd8a94-951f-4e6d-a5a7-52d7e53cd5d0",
   "metadata": {},
   "outputs": [],
   "source": []
  },
  {
   "cell_type": "markdown",
   "id": "433b6457-e3cc-4195-873d-a6e3332da37f",
   "metadata": {},
   "source": [
    ":::{exercise} Query 5\n",
    "Maak onderstaand overzicht na. De gegevens komen uit de tabel employees en er is gesorteerd op last_name.\n",
    ":::"
   ]
  },
  {
   "cell_type": "markdown",
   "id": "e41cd34c-cac6-4664-adbd-1ef9d7e5a474",
   "metadata": {},
   "source": []
  },
  {
   "cell_type": "markdown",
   "id": "1f2b7949-83ad-4b6e-b844-4014b33ed057",
   "metadata": {},
   "source": [
    ":::{exercise} Query 6\n",
    "Maak onderstaand overzicht na. De informatie komt uit de tabel employees. Er is geen sortering toegepast.\n",
    ":::"
   ]
  },
  {
   "cell_type": "code",
   "execution_count": null,
   "id": "7564a953-49e0-4313-bc44-93c09d1eeefa",
   "metadata": {},
   "outputs": [],
   "source": []
  },
  {
   "cell_type": "markdown",
   "id": "09bb03cf-7e0c-4f5e-8102-bd2a3607e1e5",
   "metadata": {},
   "source": [
    ":::{exercise} Query 7\n",
    "Maak onderstaand overzicht na. De informatie komt uit de tabel departments en er is gesorteerd op department_name. De landen die bij de location_id's horen zijn als volgt:\n",
    "\n",
    "* 1800 - Canada\n",
    "* 2500 - Verenigd Koninkrijk\n",
    "* overig - Verenigde Staten\n",
    "\n",
    ":::"
   ]
  },
  {
   "cell_type": "code",
   "execution_count": null,
   "id": "8da220af-6c87-4937-ab1f-850421bd2f7c",
   "metadata": {},
   "outputs": [],
   "source": []
  },
  {
   "cell_type": "markdown",
   "id": "874dc7e1-6ba8-4486-be30-267ab4bbd0ea",
   "metadata": {},
   "source": [
    ":::{exercise} Query 8\n",
    "Maak onderstaand overzicht na. De informatie komt uit de tabel employees en er is gesorteerd op salaris van hoog naar laag en daarna op achternaam.\n",
    ":::"
   ]
  },
  {
   "cell_type": "code",
   "execution_count": null,
   "id": "40a570e7-cc7f-4f71-8aed-e1a0e01b4c14",
   "metadata": {},
   "outputs": [],
   "source": []
  },
  {
   "cell_type": "markdown",
   "id": "fd659353-2bab-4449-ab03-5436b7c7ab97",
   "metadata": {},
   "source": [
    ":::{exercise} Query 9\n",
    "Maak onderstaand overzicht na. De informatie komt uit de tabel employees en er is gesorteerd op achternaam. Het salaris zoals in de tabel staat vermeld is het maandsalaris. Er zitten twaalf maanden in een jaar er zijn gemiddeld 365.25 dagen in een jaar.\n",
    ":::"
   ]
  },
  {
   "cell_type": "code",
   "execution_count": null,
   "id": "9554d47e-ca24-44a2-963f-cb361c18dba5",
   "metadata": {},
   "outputs": [],
   "source": []
  },
  {
   "cell_type": "markdown",
   "id": "02eb57c1-7dfc-4499-b826-3694551a114b",
   "metadata": {},
   "source": [
    ":::{exercise} Query 10\n",
    "Maak onderstaande mededeling na. Het is de huidige tijd en de datum. De uitvoer op jouw scherm zal dus een andere tijd en datum weergeven.\n",
    ":::"
   ]
  },
  {
   "cell_type": "code",
   "execution_count": null,
   "id": "11ecea0e-c050-454b-921d-b4397ee5f175",
   "metadata": {},
   "outputs": [],
   "source": []
  }
 ],
 "metadata": {
  "kernelspec": {
   "display_name": "xsqlite",
   "language": "sqlite",
   "name": "xsqlite"
  },
  "language_info": {
   "codemirror_mode": "sql",
   "file_extension": "",
   "mimetype": "",
   "name": "sql",
   "version": "3.33.0"
  }
 },
 "nbformat": 4,
 "nbformat_minor": 5
}
