{
 "cells": [
  {
   "cell_type": "markdown",
   "id": "092b48e3-ddd6-4262-95f9-50f4ac7ea5d1",
   "metadata": {},
   "source": [
    "# Case"
   ]
  },
  {
   "cell_type": "code",
   "execution_count": 1,
   "id": "81c4e60a-0a4c-4f12-95bf-b1ea97b33839",
   "metadata": {},
   "outputs": [],
   "source": [
    "%LOAD ../data/employees.db"
   ]
  },
  {
   "cell_type": "markdown",
   "id": "6ffea123-a16b-4b39-b2c0-ff00adde151e",
   "metadata": {},
   "source": [
    "CASE werkt als een if-then-else constructie. Maar in plaats van if wordt when gebruikt."
   ]
  },
  {
   "cell_type": "code",
   "execution_count": 3,
   "id": "72507b02-0f2c-4a23-bf2e-d90abd8fb1e2",
   "metadata": {
    "tags": []
   },
   "outputs": [
    {
     "data": {
      "text/html": [
       "<table>\n",
       "<tr>\n",
       "<th>last_name</th>\n",
       "<th>department</th>\n",
       "</tr>\n",
       "<tr>\n",
       "<td>King</td>\n",
       "<td>Management</td>\n",
       "</tr>\n",
       "<tr>\n",
       "<td>Kochhar</td>\n",
       "<td>Management</td>\n",
       "</tr>\n",
       "<tr>\n",
       "<td>De Haan</td>\n",
       "<td>Management</td>\n",
       "</tr>\n",
       "<tr>\n",
       "<td>Hunold</td>\n",
       "<td>IT</td>\n",
       "</tr>\n",
       "<tr>\n",
       "<td>Ernst</td>\n",
       "<td>IT</td>\n",
       "</tr>\n",
       "<tr>\n",
       "<td>Lorentz</td>\n",
       "<td>IT</td>\n",
       "</tr>\n",
       "<tr>\n",
       "<td>Mourgos</td>\n",
       "<td>Other department</td>\n",
       "</tr>\n",
       "<tr>\n",
       "<td>Rajs</td>\n",
       "<td>Other department</td>\n",
       "</tr>\n",
       "<tr>\n",
       "<td>Davies</td>\n",
       "<td>Other department</td>\n",
       "</tr>\n",
       "<tr>\n",
       "<td>Matos</td>\n",
       "<td>Other department</td>\n",
       "</tr>\n",
       "<tr>\n",
       "<td>Vargas</td>\n",
       "<td>Other department</td>\n",
       "</tr>\n",
       "<tr>\n",
       "<td>Zlotkey</td>\n",
       "<td>Sales</td>\n",
       "</tr>\n",
       "<tr>\n",
       "<td>Abel</td>\n",
       "<td>Sales</td>\n",
       "</tr>\n",
       "<tr>\n",
       "<td>Taylor</td>\n",
       "<td>Sales</td>\n",
       "</tr>\n",
       "<tr>\n",
       "<td>Grant</td>\n",
       "<td>Other department</td>\n",
       "</tr>\n",
       "<tr>\n",
       "<td>Whalen</td>\n",
       "<td>Other department</td>\n",
       "</tr>\n",
       "<tr>\n",
       "<td>Hartstein</td>\n",
       "<td>Other department</td>\n",
       "</tr>\n",
       "<tr>\n",
       "<td>Fay</td>\n",
       "<td>Other department</td>\n",
       "</tr>\n",
       "<tr>\n",
       "<td>Higgins</td>\n",
       "<td>Other department</td>\n",
       "</tr>\n",
       "<tr>\n",
       "<td>Gietz</td>\n",
       "<td>Other department</td>\n",
       "</tr>\n",
       "</table>"
      ],
      "text/plain": [
       "+-----------+------------------+\n",
       "| last_name | department       |\n",
       "+-----------+------------------+\n",
       "| King      | Management       |\n",
       "+-----------+------------------+\n",
       "| Kochhar   | Management       |\n",
       "+-----------+------------------+\n",
       "| De Haan   | Management       |\n",
       "+-----------+------------------+\n",
       "| Hunold    | IT               |\n",
       "+-----------+------------------+\n",
       "| Ernst     | IT               |\n",
       "+-----------+------------------+\n",
       "| Lorentz   | IT               |\n",
       "+-----------+------------------+\n",
       "| Mourgos   | Other department |\n",
       "+-----------+------------------+\n",
       "| Rajs      | Other department |\n",
       "+-----------+------------------+\n",
       "| Davies    | Other department |\n",
       "+-----------+------------------+\n",
       "| Matos     | Other department |\n",
       "+-----------+------------------+\n",
       "| Vargas    | Other department |\n",
       "+-----------+------------------+\n",
       "| Zlotkey   | Sales            |\n",
       "+-----------+------------------+\n",
       "| Abel      | Sales            |\n",
       "+-----------+------------------+\n",
       "| Taylor    | Sales            |\n",
       "+-----------+------------------+\n",
       "| Grant     | Other department |\n",
       "+-----------+------------------+\n",
       "| Whalen    | Other department |\n",
       "+-----------+------------------+\n",
       "| Hartstein | Other department |\n",
       "+-----------+------------------+\n",
       "| Fay       | Other department |\n",
       "+-----------+------------------+\n",
       "| Higgins   | Other department |\n",
       "+-----------+------------------+\n",
       "| Gietz     | Other department |\n",
       "+-----------+------------------+"
      ]
     },
     "execution_count": 3,
     "metadata": {},
     "output_type": "execute_result"
    }
   ],
   "source": [
    "SELECT last_name,\n",
    "CASE department_id\n",
    " WHEN 90 THEN 'Management'\n",
    " WHEN 80 THEN 'Sales'\n",
    " WHEN 60 THEN 'IT'\n",
    " ELSE 'Other department'\n",
    "END AS department\n",
    "FROM employees;"
   ]
  },
  {
   "cell_type": "markdown",
   "id": "a34f24bc-f3c8-419e-9e3d-e754fe2e92cc",
   "metadata": {},
   "source": [
    "---\n",
    "\n",
    ":::{todo}\n",
    "Er wordt hier een vergelijking met IF gemaakt; maar heb je die in SQL? Hoe zouden leerlingen die moeten kennen?\n",
    ":::"
   ]
  },
  {
   "cell_type": "code",
   "execution_count": 12,
   "id": "c81a82ab-6644-43b6-b423-f168da6c5c9b",
   "metadata": {
    "tags": []
   },
   "outputs": [
    {
     "data": {
      "text/html": [
       "<table>\n",
       "<tr>\n",
       "<th>CAST(round(100.8) AS INT)</th>\n",
       "</tr>\n",
       "<tr>\n",
       "<td>101</td>\n",
       "</tr>\n",
       "</table>"
      ],
      "text/plain": [
       "+---------------------------+\n",
       "| CAST(round(100.8) AS INT) |\n",
       "+---------------------------+\n",
       "| 101                       |\n",
       "+---------------------------+"
      ]
     },
     "execution_count": 12,
     "metadata": {},
     "output_type": "execute_result"
    }
   ],
   "source": [
    "SELECT CAST(round(100.8) AS INT);"
   ]
  },
  {
   "cell_type": "code",
   "execution_count": 13,
   "id": "7f1e7dab-22cf-4f4f-8e68-394240b98b38",
   "metadata": {
    "tags": []
   },
   "outputs": [
    {
     "data": {
      "text/html": [
       "<table>\n",
       "<tr>\n",
       "<th>round(100.8)</th>\n",
       "</tr>\n",
       "<tr>\n",
       "<td>101.0</td>\n",
       "</tr>\n",
       "</table>"
      ],
      "text/plain": [
       "+--------------+\n",
       "| round(100.8) |\n",
       "+--------------+\n",
       "| 101.0        |\n",
       "+--------------+"
      ]
     },
     "execution_count": 13,
     "metadata": {},
     "output_type": "execute_result"
    }
   ],
   "source": [
    "SELECT round(100.8);"
   ]
  },
  {
   "cell_type": "code",
   "execution_count": 14,
   "id": "da0377c6-cd06-44b3-8d33-60b5008bb5a6",
   "metadata": {
    "tags": []
   },
   "outputs": [
    {
     "data": {
      "text/html": [
       "<table>\n",
       "<tr>\n",
       "<th>'100.8'</th>\n",
       "</tr>\n",
       "<tr>\n",
       "<td>100.8</td>\n",
       "</tr>\n",
       "</table>"
      ],
      "text/plain": [
       "+---------+\n",
       "| '100.8' |\n",
       "+---------+\n",
       "| 100.8   |\n",
       "+---------+"
      ]
     },
     "execution_count": 14,
     "metadata": {},
     "output_type": "execute_result"
    }
   ],
   "source": [
    "SELECT '100.8';"
   ]
  },
  {
   "cell_type": "markdown",
   "id": "36ab7be1-7820-4f36-9c17-41053c85ab07",
   "metadata": {},
   "source": []
  }
 ],
 "metadata": {
  "kernelspec": {
   "display_name": "xsqlite",
   "language": "sqlite",
   "name": "xsqlite"
  },
  "language_info": {
   "codemirror_mode": "sql",
   "file_extension": "",
   "mimetype": "",
   "name": "sql",
   "version": "3.33.0"
  }
 },
 "nbformat": 4,
 "nbformat_minor": 5
}
