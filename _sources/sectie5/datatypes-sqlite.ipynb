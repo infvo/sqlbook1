{
 "cells": [
  {
   "cell_type": "markdown",
   "id": "8a58873e-cc10-4924-9e34-137795094be1",
   "metadata": {},
   "source": [
    "(sqlite-datatypes)=\n",
    "# Data types in SQLite"
   ]
  },
  {
   "cell_type": "code",
   "execution_count": 1,
   "id": "abed58d6-59e2-49f6-8588-40661e7b15e0",
   "metadata": {
    "tags": []
   },
   "outputs": [],
   "source": [
    "%LOAD ../data/employees.db"
   ]
  },
  {
   "cell_type": "markdown",
   "id": "e4215343-0746-43cd-a1df-633c29fd9f9e",
   "metadata": {},
   "source": [
    "De datatypes in SQLite zijn eenvoudiger dan die in andere SQL-database-systemen (zie {ref}`mysql-datatypes`).\n",
    "Waar je in MySQL de (maximale) grootte op kunt geven van getallen of van tekst-waarden, gebruikt SQLite een flexibele maar efficiënte manier om de gegevens (compact) op te slaan.\n",
    "SQLite heeft de volgende datatypes:\n",
    "\n",
    "* INTEGER\n",
    "* REAL\n",
    "* TEXT\n",
    "* BLOB\n",
    "* NULL\n",
    "\n",
    "SQLite heeft geen datum/tijd-type: voor datum-gegevens gebruik je tekst-waarden of getallen.\n",
    "(Zie: {ref}`mysql-datumtijd`.)\n",
    "\n",
    "Voor een uitgebreide beschrijving van SQLite datatypes, zie: https://www.sqlite.org/datatype3.html"
   ]
  },
  {
   "cell_type": "markdown",
   "id": "7464ab32-d5e4-4ceb-907f-a6a9718ca3ea",
   "metadata": {},
   "source": [
    "## Getallen: INTEGER en REAL\n",
    "\n",
    "Er zijn twee soorten numerieke gegevens:\n",
    "\n",
    "* gehele getallen (`INTEGER` of `INT`) - afhankelijk van de waarde,  0, 1, 2, 3, 4, 6, of 8 bytes\n",
    "* \"zwevende punt\" (floating point) getallen (`REAL`) - 8 bytes \"double\" IEEE\n",
    "\n",
    "Let op dat (zoals in de meestel computerprogramma's) een punt gebruikt wordt waar in Nederland een komma gebruikelijk is (\"zwevende komma\") - dus 3.1415926 in plaats van 3,1415926."
   ]
  },
  {
   "cell_type": "markdown",
   "id": "71f118de-c24e-457f-93ca-38431f3e2a63",
   "metadata": {},
   "source": [
    "## Alfanumeriek: TEXT\n",
    "\n",
    "Er is maar één type voor alfanumerieke gegevens: `TEXT`.\n",
    "Dit heeft een variabele lengte, maximaal ca. 1-2 GByte, afhankelijk van de implementatie."
   ]
  },
  {
   "cell_type": "markdown",
   "id": "6072d3aa-7413-4b14-935d-58bca018372a",
   "metadata": {},
   "source": [
    "## BLOB\n",
    "\n",
    "Een BLOB is een *Binary Large OBject*, een reeks bytes van variabele lengte. Dit gebruik je bijvoorbeeld voor het opslaan van plaatjes of geluidsbestanden.\n",
    "De maximale lengte van een BLOB is net als die van TEXT, ca. 1-2 GByte, afhankelijk van de implementatie."
   ]
  },
  {
   "cell_type": "markdown",
   "id": "485f13a0-c24c-465d-b0a9-bd5f1d28f26b",
   "metadata": {},
   "source": [
    "## CAST: type-conversie\n",
    "\n",
    "In principe zet SQL een getal automatisch (impliciet) om naar een TEXT-waarde, als er mee gerekend wordt; of omgekeerd, van getal naar TEXT, als er een TEXT-operatie op uitgevoerd wordt.\n",
    "Maar het is beter om deze omzetting altijd duidelijk (expliciet) aan te geven, met behulp van de `CAST` constructie.\n",
    "\n",
    "* syntax: `CAST(expression AS type-name)`\n",
    "* voorbeeld: `CAST(salary AS TEXT)`\n",
    "\n",
    "In het voorbeeld hieronder gebeurt een impliciete omzetting van TEXT naar INT, zoals je ziet aan het type van de `bonus` kolom:"
   ]
  },
  {
   "cell_type": "code",
   "execution_count": 4,
   "id": "b3227539-5d8b-401f-ac53-5ce583b43572",
   "metadata": {
    "tags": []
   },
   "outputs": [
    {
     "data": {
      "text/html": [
       "<table>\n",
       "<tr>\n",
       "<th>last_name</th>\n",
       "<th>typeof(bonus)</th>\n",
       "<th>bonus</th>\n",
       "<th>bonus + 100</th>\n",
       "</tr>\n",
       "<tr>\n",
       "<td>Zlotkey</td>\n",
       "<td>text</td>\n",
       "<td>1500</td>\n",
       "<td>1600</td>\n",
       "</tr>\n",
       "<tr>\n",
       "<td>Abel</td>\n",
       "<td>text</td>\n",
       "<td>1700</td>\n",
       "<td>1800</td>\n",
       "</tr>\n",
       "<tr>\n",
       "<td>Taylor</td>\n",
       "<td>text</td>\n",
       "<td>1250</td>\n",
       "<td>1350</td>\n",
       "</tr>\n",
       "</table>"
      ],
      "text/plain": [
       "+-----------+---------------+-------+-------------+\n",
       "| last_name | typeof(bonus) | bonus | bonus + 100 |\n",
       "+-----------+---------------+-------+-------------+\n",
       "| Zlotkey   | text          | 1500  | 1600        |\n",
       "+-----------+---------------+-------+-------------+\n",
       "| Abel      | text          | 1700  | 1800        |\n",
       "+-----------+---------------+-------+-------------+\n",
       "| Taylor    | text          | 1250  | 1350        |\n",
       "+-----------+---------------+-------+-------------+"
      ]
     },
     "execution_count": 4,
     "metadata": {},
     "output_type": "execute_result"
    }
   ],
   "source": [
    "SELECT last_name, typeof(bonus), bonus,  bonus + 100\n",
    "FROM employees\n",
    "WHERE bonus IS NOT NULL;"
   ]
  },
  {
   "cell_type": "markdown",
   "id": "c03147b7-4d9a-4b0a-a9ca-d500e711cde1",
   "metadata": {},
   "source": [
    "Het is beter om de omzetting (conversie) expliciet te maken:"
   ]
  },
  {
   "cell_type": "code",
   "execution_count": 5,
   "id": "07f94272-3bba-4831-ace4-dd719a4884f8",
   "metadata": {
    "tags": []
   },
   "outputs": [
    {
     "data": {
      "text/html": [
       "<table>\n",
       "<tr>\n",
       "<th>last_name</th>\n",
       "<th>typeof(bonus)</th>\n",
       "<th>bonus</th>\n",
       "<th>CAST(bonus as INT) + 100</th>\n",
       "</tr>\n",
       "<tr>\n",
       "<td>Zlotkey</td>\n",
       "<td>text</td>\n",
       "<td>1500</td>\n",
       "<td>1600</td>\n",
       "</tr>\n",
       "<tr>\n",
       "<td>Abel</td>\n",
       "<td>text</td>\n",
       "<td>1700</td>\n",
       "<td>1800</td>\n",
       "</tr>\n",
       "<tr>\n",
       "<td>Taylor</td>\n",
       "<td>text</td>\n",
       "<td>1250</td>\n",
       "<td>1350</td>\n",
       "</tr>\n",
       "</table>"
      ],
      "text/plain": [
       "+-----------+---------------+-------+--------------------------+\n",
       "| last_name | typeof(bonus) | bonus | CAST(bonus as INT) + 100 |\n",
       "+-----------+---------------+-------+--------------------------+\n",
       "| Zlotkey   | text          | 1500  | 1600                     |\n",
       "+-----------+---------------+-------+--------------------------+\n",
       "| Abel      | text          | 1700  | 1800                     |\n",
       "+-----------+---------------+-------+--------------------------+\n",
       "| Taylor    | text          | 1250  | 1350                     |\n",
       "+-----------+---------------+-------+--------------------------+"
      ]
     },
     "execution_count": 5,
     "metadata": {},
     "output_type": "execute_result"
    }
   ],
   "source": [
    "SELECT last_name, typeof(bonus), bonus,  CAST(bonus as INT) + 100\n",
    "FROM employees\n",
    "WHERE bonus IS NOT NULL;"
   ]
  },
  {
   "cell_type": "markdown",
   "id": "da86a1c6-bcb8-49a1-b5d0-4afb33ed30f9",
   "metadata": {},
   "source": [
    "Let op: in SQLite resulteert het afronden van een REAL in een afgeronde REAL waarde, niet in een INT waarde."
   ]
  },
  {
   "cell_type": "code",
   "execution_count": 7,
   "id": "f3a1602e-8123-4fd3-9500-fd445d72212b",
   "metadata": {
    "tags": []
   },
   "outputs": [
    {
     "data": {
      "text/html": [
       "<table>\n",
       "<tr>\n",
       "<th>round(3.14)</th>\n",
       "</tr>\n",
       "<tr>\n",
       "<td>3.0</td>\n",
       "</tr>\n",
       "</table>"
      ],
      "text/plain": [
       "+-------------+\n",
       "| round(3.14) |\n",
       "+-------------+\n",
       "| 3.0         |\n",
       "+-------------+"
      ]
     },
     "execution_count": 7,
     "metadata": {},
     "output_type": "execute_result"
    }
   ],
   "source": [
    "SELECT round(3.14);"
   ]
  },
  {
   "cell_type": "code",
   "execution_count": 8,
   "id": "46d2a232-a9d9-4df6-bcfd-19481338440d",
   "metadata": {
    "tags": []
   },
   "outputs": [
    {
     "data": {
      "text/html": [
       "<table>\n",
       "<tr>\n",
       "<th>CAST(round(3.14) AS INT)</th>\n",
       "</tr>\n",
       "<tr>\n",
       "<td>3</td>\n",
       "</tr>\n",
       "</table>"
      ],
      "text/plain": [
       "+--------------------------+\n",
       "| CAST(round(3.14) AS INT) |\n",
       "+--------------------------+\n",
       "| 3                        |\n",
       "+--------------------------+"
      ]
     },
     "execution_count": 8,
     "metadata": {},
     "output_type": "execute_result"
    }
   ],
   "source": [
    "SELECT CAST(round(3.14) AS INT);"
   ]
  },
  {
   "cell_type": "markdown",
   "id": "34e4f120-edab-4310-b911-234fa5abe1ba",
   "metadata": {},
   "source": [
    "## `format` functie: NUMBER naar TEXT"
   ]
  },
  {
   "cell_type": "markdown",
   "id": "b793cb1a-e749-4875-9bd4-8b61b2574180",
   "metadata": {},
   "source": [
    "Voor het omzetten van een getal (INT of REAL) naar TEXT-formaat kun je in SQLite de `format` functie gebruiken.\n",
    "Deze heet ook wel `printf`, en werkt als de C-functie `printf`:\n",
    "\n",
    "* de eerste parameter is een format-string; hierin geef je aan op welke positie het getal ingevuld moet worden, en in welke notatie (bijvoorbeeld: aantal cijfers na de decimale punt).\n",
    "* je kunt allerlei tekst rond het getal plaatsen; bijvoorbeeld een `$`-teken voor een bedrag.\n",
    "* de volgende parameter is het getal dat in de format-string ingevuld moet worden.\n",
    "* je kunt ook andere waarden dan getallen invullen (TEXT bijvoorbeeld); en je kunt meerdere waarden invullen in de format-string.\n",
    "* voor een uitgebreide beschrijving, zie: https://www.sqlite.org/draft/printf.html\n",
    "\n",
    "Voorbeeld:\n",
    "\n",
    "* `format('$ %d', round(3.5))` (d: geheel getal in decimale notatie\n",
    "* `format('pi = %.3f', 3.1415926)` (f: floating point notatie, 3 cijfers na de `.`)"
   ]
  },
  {
   "cell_type": "code",
   "execution_count": 52,
   "id": "23424a8f-a8cc-4a2c-98e3-40c14ade3072",
   "metadata": {
    "tags": []
   },
   "outputs": [
    {
     "data": {
      "text/html": [
       "<table>\n",
       "<tr>\n",
       "<th>bedrag</th>\n",
       "</tr>\n",
       "<tr>\n",
       "<td>$ 123</td>\n",
       "</tr>\n",
       "</table>"
      ],
      "text/plain": [
       "+--------+\n",
       "| bedrag |\n",
       "+--------+\n",
       "| $ 123  |\n",
       "+--------+"
      ]
     },
     "execution_count": 52,
     "metadata": {},
     "output_type": "execute_result"
    }
   ],
   "source": [
    "SELECT format('$ %d',123) as bedrag;"
   ]
  },
  {
   "cell_type": "code",
   "execution_count": 42,
   "id": "5ca4a0fe-8562-438c-b291-af051e15db0f",
   "metadata": {
    "tags": []
   },
   "outputs": [
    {
     "data": {
      "text/html": [
       "<table>\n",
       "<tr>\n",
       "<th>PI</th>\n",
       "</tr>\n",
       "<tr>\n",
       "<td>pi = 3.142</td>\n",
       "</tr>\n",
       "</table>"
      ],
      "text/plain": [
       "+------------+\n",
       "| PI         |\n",
       "+------------+\n",
       "| pi = 3.142 |\n",
       "+------------+"
      ]
     },
     "execution_count": 42,
     "metadata": {},
     "output_type": "execute_result"
    }
   ],
   "source": [
    "SELECT format('pi = %.3f', 3.1415926) as PI;"
   ]
  },
  {
   "cell_type": "markdown",
   "id": "5d0effa4-b370-4f16-969c-59bf81f993c3",
   "metadata": {},
   "source": [
    "Merk op dat in dit laatste geval het getal afgerond wordt."
   ]
  },
  {
   "cell_type": "markdown",
   "id": "ffac782d-6132-4b75-b1d9-d991bc0dc362",
   "metadata": {},
   "source": [
    "### Geen CONVERT\n",
    "\n",
    "SQLite heeft geen `CONVERT`-functie zoals MySQL. Je kunt het gewenste resultaat krijgen met behulp van `CAST`."
   ]
  }
 ],
 "metadata": {
  "kernelspec": {
   "display_name": "xsqlite",
   "language": "sqlite",
   "name": "xsqlite"
  },
  "language_info": {
   "codemirror_mode": "sql",
   "file_extension": "",
   "mimetype": "",
   "name": "sql",
   "version": "3.33.0"
  }
 },
 "nbformat": 4,
 "nbformat_minor": 5
}
