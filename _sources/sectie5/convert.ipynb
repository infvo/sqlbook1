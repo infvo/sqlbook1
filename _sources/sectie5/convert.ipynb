{
 "cells": [
  {
   "cell_type": "markdown",
   "id": "47e32972-923c-44f8-a00a-35abb51bc5bb",
   "metadata": {},
   "source": [
    "# CONVERT"
   ]
  },
  {
   "cell_type": "code",
   "execution_count": 1,
   "id": "9f801d8e-f6cb-45df-9a59-ff19a8069dc2",
   "metadata": {
    "tags": []
   },
   "outputs": [],
   "source": [
    "%LOAD ../data/employees.db"
   ]
  },
  {
   "cell_type": "markdown",
   "id": "1ac2e7c7-d3fc-4d94-ac7d-4ea5349bb27a",
   "metadata": {},
   "source": [
    "Met CONVERT kun je precies hetzelfde doen als met CAST: het datatype omzetten van het ene type naar het andere. De syntaxis is:\n",
    "\n",
    "```SQL \n",
    "CONVERT(value, type)\n",
    "```"
   ]
  },
  {
   "cell_type": "code",
   "execution_count": 2,
   "id": "db894cef-9f2c-4435-b402-e629844dca42",
   "metadata": {
    "tags": []
   },
   "outputs": [
    {
     "ename": "Error",
     "evalue": "no such column: char",
     "output_type": "error",
     "traceback": [
      "Error: no such column: char"
     ]
    }
   ],
   "source": [
    "SELECT last_name,hire_date, CONVERT(hire_date, char)\n",
    "FROM employees\n",
    "WHERE last_name = 'King';"
   ]
  },
  {
   "cell_type": "code",
   "execution_count": 3,
   "id": "7f149840-c489-4e34-97a6-82ad77613190",
   "metadata": {
    "tags": []
   },
   "outputs": [
    {
     "ename": "Error",
     "evalue": "no such column: datetime",
     "output_type": "error",
     "traceback": [
      "Error: no such column: datetime"
     ]
    }
   ],
   "source": [
    "SELECT last_name,hire_date, CONVERT(hire_date, datetime)\n",
    "FROM employees\n",
    "WHERE last_name = 'King';"
   ]
  },
  {
   "cell_type": "markdown",
   "id": "15605414-5fb3-4e1c-a0b8-b170f67c2eb8",
   "metadata": {},
   "source": [
    "## TODO\n",
    "\n",
    ":::{todo}\n",
    "Convert werkt niet in SQLite; en, wat is de relatie met CAST?\n",
    ":::"
   ]
  },
  {
   "cell_type": "markdown",
   "id": "65b8a1c8-352a-46de-b3d0-a2b70184ff31",
   "metadata": {},
   "source": []
  }
 ],
 "metadata": {
  "kernelspec": {
   "display_name": "xsqlite",
   "language": "sqlite",
   "name": "xsqlite"
  },
  "language_info": {
   "codemirror_mode": "sql",
   "file_extension": "",
   "mimetype": "",
   "name": "sql",
   "version": "3.33.0"
  }
 },
 "nbformat": 4,
 "nbformat_minor": 5
}
