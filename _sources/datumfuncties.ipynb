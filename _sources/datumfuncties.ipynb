{
 "cells": [
  {
   "cell_type": "markdown",
   "id": "1df89f1f-c61b-489a-9016-70484b96cfa8",
   "metadata": {},
   "source": [
    "# Datumfuncties"
   ]
  },
  {
   "cell_type": "code",
   "execution_count": 2,
   "id": "553e036d-2145-453a-b18f-8b02b2d7f9bc",
   "metadata": {
    "tags": []
   },
   "outputs": [],
   "source": [
    "%LOAD data/example.db"
   ]
  },
  {
   "cell_type": "markdown",
   "id": "8223e869-0b97-44a7-925e-d4180a74f79d",
   "metadata": {},
   "source": [
    "Er zijn ontzettend veel mogelijkheden met datumfuncties. Een overzicht vind je hier:\n",
    "\n",
    "https://dev.mysql.com/doc/refman/5.5/en/date-and-time-functions.html\n",
    "\n",
    "De belangrijkste datumfuncties worden hierna behandeld."
   ]
  },
  {
   "cell_type": "markdown",
   "id": "4bd9c8a6-2a8f-4c6d-be60-0e2d27308c08",
   "metadata": {},
   "source": [
    "## Sysdate\n",
    "\n",
    "Met `SYSDATE()` haal je de systeemdatum op, de datum van vandaag. Hetzelfde bereik je min of meer met NOW(), LOCALTIME of LOCALTIMESTAMP. Er zijn subtiele verschillen."
   ]
  },
  {
   "cell_type": "markdown",
   "id": "3ca9d650-ca90-41ff-a6a7-b6e481519eb0",
   "metadata": {},
   "source": [
    "SQLite: SYSDATE(), NOW(), LOCALTIME, LOCALTIMESTAMP zijn niet beschikbaar; gebruik `DATE('now')`. (En voor de tijd?)"
   ]
  },
  {
   "cell_type": "markdown",
   "id": "306c4532-ccba-4c33-94ed-e39c904d1728",
   "metadata": {},
   "source": [
    "```SQL\n",
    "SELECT SYSDATE(), NOW(), LOCALTIME, LOCALTIMESTAMP;\n",
    "```"
   ]
  },
  {
   "cell_type": "code",
   "execution_count": 7,
   "id": "7ee04aa2-82c4-4c24-be45-04793b2e483c",
   "metadata": {
    "tags": []
   },
   "outputs": [
    {
     "data": {
      "text/html": [
       "<table>\n",
       "<tr>\n",
       "<th>DATE('now')</th>\n",
       "</tr>\n",
       "<tr>\n",
       "<td>2023-07-05</td>\n",
       "</tr>\n",
       "</table>"
      ],
      "text/plain": [
       "+-------------+\n",
       "| DATE('now') |\n",
       "+-------------+\n",
       "| 2023-07-05  |\n",
       "+-------------+"
      ]
     },
     "execution_count": 7,
     "metadata": {},
     "output_type": "execute_result"
    }
   ],
   "source": [
    "SELECT DATE('now');"
   ]
  },
  {
   "cell_type": "code",
   "execution_count": 11,
   "id": "7c57c830-b1d7-46a5-8548-8c2d370a55af",
   "metadata": {
    "tags": []
   },
   "outputs": [
    {
     "data": {
      "text/html": [
       "<table>\n",
       "<tr>\n",
       "<th>TIME ('now')</th>\n",
       "</tr>\n",
       "<tr>\n",
       "<td>07:46:02</td>\n",
       "</tr>\n",
       "</table>"
      ],
      "text/plain": [
       "+--------------+\n",
       "| TIME ('now') |\n",
       "+--------------+\n",
       "| 07:46:02     |\n",
       "+--------------+"
      ]
     },
     "execution_count": 11,
     "metadata": {},
     "output_type": "execute_result"
    }
   ],
   "source": [
    "SELECT TIME ('now');"
   ]
  },
  {
   "cell_type": "code",
   "execution_count": 12,
   "id": "87cb7f43-b3c8-4f32-ad1f-e66e988205c4",
   "metadata": {
    "tags": []
   },
   "outputs": [
    {
     "data": {
      "text/html": [
       "<table>\n",
       "<tr>\n",
       "<th>DATETIME('now')</th>\n",
       "</tr>\n",
       "<tr>\n",
       "<td>2023-07-05 07:48:16</td>\n",
       "</tr>\n",
       "</table>"
      ],
      "text/plain": [
       "+---------------------+\n",
       "| DATETIME('now')     |\n",
       "+---------------------+\n",
       "| 2023-07-05 07:48:16 |\n",
       "+---------------------+"
      ]
     },
     "execution_count": 12,
     "metadata": {},
     "output_type": "execute_result"
    }
   ],
   "source": [
    "SELECT DATETIME('now')"
   ]
  },
  {
   "cell_type": "markdown",
   "id": "4d77b5c8-a9b5-46eb-a425-b3c65c529d62",
   "metadata": {},
   "source": [
    "## Day\n",
    "\n",
    "Met DAY haal je het nummer van de dag op van een datum."
   ]
  },
  {
   "cell_type": "code",
   "execution_count": 13,
   "id": "4fb52daa-2de2-4fdc-a612-b692692775dc",
   "metadata": {
    "tags": []
   },
   "outputs": [
    {
     "ename": "Error",
     "evalue": "no such function: DAY",
     "output_type": "error",
     "traceback": [
      "Error: no such function: DAY"
     ]
    }
   ],
   "source": [
    "SELECT last_name, hire_date, DAY(hire_date)\n",
    "FROM employees\n",
    "WHERE last_name = 'King';"
   ]
  },
  {
   "cell_type": "markdown",
   "id": "0b4bf5f8-2c8c-448a-a80d-36324de4c404",
   "metadata": {},
   "source": [
    "Als je de naam van de dag wil, dan gebruik je DAYNAME."
   ]
  },
  {
   "cell_type": "code",
   "execution_count": 14,
   "id": "04607ea5-aa8f-47bb-8a25-2cb97c67bae6",
   "metadata": {
    "tags": []
   },
   "outputs": [
    {
     "ename": "Error",
     "evalue": "no such function: DAYNAME",
     "output_type": "error",
     "traceback": [
      "Error: no such function: DAYNAME"
     ]
    }
   ],
   "source": [
    "SELECT last_name, hire_date, DAYNAME(hire_date)\n",
    "FROM employees\n",
    "WHERE last_name = 'King';"
   ]
  },
  {
   "cell_type": "markdown",
   "id": "eb18486a-a34e-47ca-ad14-d7b1f3da9a3a",
   "metadata": {},
   "source": [
    "## Month\n",
    "\n",
    "Met MONTH haal je het nummer van de maand op van een datum."
   ]
  },
  {
   "cell_type": "code",
   "execution_count": 15,
   "id": "dc1c1a2a-0e0d-44e7-b54d-a26fab7e4c85",
   "metadata": {
    "tags": []
   },
   "outputs": [
    {
     "ename": "Error",
     "evalue": "no such function: MONTH",
     "output_type": "error",
     "traceback": [
      "Error: no such function: MONTH"
     ]
    }
   ],
   "source": [
    "SELECT last_name, hire_date, MONTH(hire_date)\n",
    "FROM employees\n",
    "WHERE last_name = 'King';"
   ]
  },
  {
   "cell_type": "markdown",
   "id": "006da4ca-5ed8-414b-85d5-7d8c84e7baa2",
   "metadata": {},
   "source": [
    "Als je de naam van de maand wil, dan gebruik je MONTHNAME."
   ]
  },
  {
   "cell_type": "code",
   "execution_count": 16,
   "id": "bc578bca-f23e-41c0-9dfe-583f7b2c870a",
   "metadata": {
    "tags": []
   },
   "outputs": [
    {
     "ename": "Error",
     "evalue": "no such function: MONTHNAME",
     "output_type": "error",
     "traceback": [
      "Error: no such function: MONTHNAME"
     ]
    }
   ],
   "source": [
    "SELECT last_name, hire_date, MONTHNAME(hire_date)\n",
    "FROM employees\n",
    "WHERE last_name = 'King';"
   ]
  },
  {
   "cell_type": "markdown",
   "id": "eb6261c8-6fef-4eb9-b216-70275db34c47",
   "metadata": {},
   "source": [
    "## Year\n",
    "\n",
    "Met YEAR haal je het jaar op van een datum."
   ]
  },
  {
   "cell_type": "code",
   "execution_count": 17,
   "id": "79e72453-b6b4-467c-8b43-697739c05dd8",
   "metadata": {
    "tags": []
   },
   "outputs": [
    {
     "ename": "Error",
     "evalue": "no such function: YEAR",
     "output_type": "error",
     "traceback": [
      "Error: no such function: YEAR"
     ]
    }
   ],
   "source": [
    "SELECT last_name, hire_date, YEAR(hire_date)\n",
    "FROM employees\n",
    "WHERE last_name = 'King';"
   ]
  },
  {
   "cell_type": "markdown",
   "id": "91f9a96d-5d46-4e1b-954a-f21317f4e570",
   "metadata": {},
   "source": [
    "Op deze manier kun je datums van elkaar aftrekken. Bij jaren wordt dan de uitkomst naar beneden afgerond."
   ]
  },
  {
   "cell_type": "code",
   "execution_count": 18,
   "id": "afb76306-bf97-4598-bedd-d476c37ebf4d",
   "metadata": {
    "tags": []
   },
   "outputs": [
    {
     "ename": "Error",
     "evalue": "no such function: YEAR",
     "output_type": "error",
     "traceback": [
      "Error: no such function: YEAR"
     ]
    }
   ],
   "source": [
    "SELECT last_name, YEAR(hire_date), YEAR(NOW()), YEAR(NOW())-YEAR(hire_date) AS dienstjaren\n",
    "FROM employees\n",
    "WHERE last_name = 'King';"
   ]
  },
  {
   "cell_type": "markdown",
   "id": "1c25a806-6d5a-4e4a-bb51-2ec8b2d39316",
   "metadata": {},
   "source": [
    "## Date_add\n",
    "\n",
    "Met DATE_ADD kun je dagen, maanden of jaren toevoegen aan een datum. Met INTERVAL geef je aan wat en hoeveel je wil toevoegen. In onderstaande voorbeelden wordt achtereenvolgens 6 dagen, 6 maanden en 6 jaar toegevoegd aan de hire_date."
   ]
  },
  {
   "cell_type": "code",
   "execution_count": 19,
   "id": "e0b1b997-5a48-41e1-99f0-bd2117be62f3",
   "metadata": {
    "tags": []
   },
   "outputs": [
    {
     "ename": "Error",
     "evalue": "near \"6\": syntax error",
     "output_type": "error",
     "traceback": [
      "Error: near \"6\": syntax error"
     ]
    }
   ],
   "source": [
    "SELECT last_name, hire_date, DATE_ADD(hire_date, INTERVAL 6 DAY)\n",
    "FROM employees\n",
    "WHERE last_name = 'King';"
   ]
  },
  {
   "cell_type": "code",
   "execution_count": 20,
   "id": "798efd04-f3fe-4899-ba2e-e07fa5f61bdf",
   "metadata": {
    "tags": []
   },
   "outputs": [
    {
     "ename": "Error",
     "evalue": "near \"6\": syntax error",
     "output_type": "error",
     "traceback": [
      "Error: near \"6\": syntax error"
     ]
    }
   ],
   "source": [
    "SELECT last_name, hire_date, DATE_ADD(hire_date, INTERVAL 6 MONTH)\n",
    "FROM employees\n",
    "WHERE last_name = 'King';"
   ]
  },
  {
   "cell_type": "code",
   "execution_count": 21,
   "id": "e2b97bec-0b3b-4449-bc49-ef01e077d7a6",
   "metadata": {
    "tags": []
   },
   "outputs": [
    {
     "ename": "Error",
     "evalue": "near \"6\": syntax error",
     "output_type": "error",
     "traceback": [
      "Error: near \"6\": syntax error"
     ]
    }
   ],
   "source": [
    "SELECT last_name, hire_date, DATE_ADD(hire_date, INTERVAL 6 YEAR)\n",
    "FROM employees\n",
    "WHERE last_name = 'King';"
   ]
  },
  {
   "cell_type": "markdown",
   "id": "80a0a0a0-4687-44d1-a241-d8a103af82e9",
   "metadata": {},
   "source": [
    "## Timestampdiff\n",
    "\n",
    "Met TIMESTAMPDIFF kun je het verschil tussen twee datums uitrekenen, bijvoorbeeld in jaren of maanden."
   ]
  },
  {
   "cell_type": "code",
   "execution_count": 22,
   "id": "8ddb0d6e-1901-496c-8678-094e3159c485",
   "metadata": {
    "tags": []
   },
   "outputs": [
    {
     "ename": "Error",
     "evalue": "no such column: YEAR",
     "output_type": "error",
     "traceback": [
      "Error: no such column: YEAR"
     ]
    }
   ],
   "source": [
    "SELECT last_name, hire_date, TIMESTAMPDIFF(YEAR, hire_date, SYSDATE())\n",
    "FROM employees\n",
    "WHERE last_name = 'King';"
   ]
  },
  {
   "cell_type": "code",
   "execution_count": 23,
   "id": "02babb95-c290-4fc6-897e-46577c54f656",
   "metadata": {
    "tags": []
   },
   "outputs": [
    {
     "ename": "Error",
     "evalue": "no such column: MONTH",
     "output_type": "error",
     "traceback": [
      "Error: no such column: MONTH"
     ]
    }
   ],
   "source": [
    "SELECT last_name, hire_date, TIMESTAMPDIFF(MONTH, hire_date, SYSDATE())\n",
    "FROM employees\n",
    "WHERE last_name = 'King';"
   ]
  },
  {
   "cell_type": "markdown",
   "id": "adcc1821-98d9-4cdb-a080-89d04b80b331",
   "metadata": {},
   "source": [
    "## Date_format\n",
    "\n",
    "Datumvelden kun je op allerlei mogelijke manieren vormgeven met DATE_FORMAT. Een overzicht van alle mogelijkheden vind je hier:\n",
    "\n",
    "https://dev.mysql.com/doc/refman/5.5/en/date-and-time-functions.html#function_date-format"
   ]
  },
  {
   "cell_type": "code",
   "execution_count": 24,
   "id": "95930d7a-af77-4517-b3ac-e76352574c6e",
   "metadata": {
    "tags": []
   },
   "outputs": [
    {
     "ename": "Error",
     "evalue": "no such function: DATE_FORMAT",
     "output_type": "error",
     "traceback": [
      "Error: no such function: DATE_FORMAT"
     ]
    }
   ],
   "source": [
    "SELECT last_name, hire_date, DATE_FORMAT(hire_date, '%d %M %Y')\n",
    "FROM employees\n",
    "WHERE last_name = 'King';"
   ]
  },
  {
   "cell_type": "markdown",
   "id": "9beeefc5-87b0-437e-9a69-fd1966d9fd04",
   "metadata": {},
   "source": [
    "Als je de uitvoer in het Nederlands wil, dan kun je met een SET de local time name op Nederlands zetten. In dit voorbeeld zie je dan juni in het Nederlands in plaats van June in het Engels. Let op dat er op het eind van de SET een puntkomma staat! Het zijn dus eigenljk twee commando's achter elkaar. Je kunt de SET regel ook los invoeren en dan werkt de instelling zolang je in dezelfde sessie bent. Als je de beheerder zou zijn van de database, dan kun je deze SET vastleggen zodat je altijd de uitvoer in het Nederlands hebt."
   ]
  },
  {
   "cell_type": "code",
   "execution_count": 25,
   "id": "3feacf8b-2264-411d-baca-c59aa04fdbb3",
   "metadata": {
    "tags": []
   },
   "outputs": [
    {
     "ename": "Error",
     "evalue": "near \"SET\": syntax error",
     "output_type": "error",
     "traceback": [
      "Error: near \"SET\": syntax error"
     ]
    }
   ],
   "source": [
    "SET lc_time_names = 'nl_NL';\n",
    "\n",
    "SELECT last_name, hire_date, DATE_FORMAT(hire_date, '%d %M %Y')\n",
    "FROM employees\n",
    "WHERE last_name = 'King';"
   ]
  },
  {
   "cell_type": "code",
   "execution_count": 29,
   "id": "c061d901-5acd-4f83-aab5-ceafa6e7eef2",
   "metadata": {
    "tags": []
   },
   "outputs": [
    {
     "ename": "Error",
     "evalue": "near \"'30'\": syntax error",
     "output_type": "error",
     "traceback": [
      "Error: near \"'30'\": syntax error"
     ]
    }
   ],
   "source": [
    "SELECT DATE_ADD(DATE('now'), INTERVAL '30' DAY'); "
   ]
  },
  {
   "cell_type": "code",
   "execution_count": 28,
   "id": "b6cc9c42-921a-4f69-9901-4986aa54e7a1",
   "metadata": {
    "tags": []
   },
   "outputs": [
    {
     "data": {
      "text/html": [
       "<table>\n",
       "<tr>\n",
       "<th>DATE('now', '+30 day')</th>\n",
       "</tr>\n",
       "<tr>\n",
       "<td>2023-08-04</td>\n",
       "</tr>\n",
       "</table>"
      ],
      "text/plain": [
       "+------------------------+\n",
       "| DATE('now', '+30 day') |\n",
       "+------------------------+\n",
       "| 2023-08-04             |\n",
       "+------------------------+"
      ]
     },
     "execution_count": 28,
     "metadata": {},
     "output_type": "execute_result"
    }
   ],
   "source": [
    "SELECT DATE('now', '+30 day');"
   ]
  },
  {
   "cell_type": "markdown",
   "id": "61fd5502-79e0-4858-82df-adeec1689909",
   "metadata": {},
   "source": [
    "NB: voor het bepalen van het verschil van twee data (tijden?): zet deze eerst om in \"JULIANDAY\", en bepaal dan het verschil."
   ]
  }
 ],
 "metadata": {
  "kernelspec": {
   "display_name": "xsqlite",
   "language": "sqlite",
   "name": "xsqlite"
  },
  "language_info": {
   "codemirror_mode": "sql",
   "file_extension": "",
   "mimetype": "",
   "name": "sql",
   "version": "3.33.0"
  }
 },
 "nbformat": 4,
 "nbformat_minor": 5
}
