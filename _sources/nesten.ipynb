{
 "cells": [
  {
   "cell_type": "markdown",
   "id": "1439d3e3-061e-47b9-bf1f-1bc997c593cf",
   "metadata": {
    "tags": []
   },
   "source": [
    "# Nesten"
   ]
  },
  {
   "cell_type": "code",
   "execution_count": 2,
   "id": "422df04f-cae1-4e38-ad1b-3230059e92c9",
   "metadata": {
    "tags": []
   },
   "outputs": [],
   "source": [
    "%LOAD data/example.db"
   ]
  },
  {
   "cell_type": "markdown",
   "id": "53d922d2-0814-4635-a420-a3668f4a9920",
   "metadata": {},
   "source": [
    "Functies kunnen worden genest. Ze worden dan van binnen naar buiten afgehandeld."
   ]
  },
  {
   "cell_type": "code",
   "execution_count": 4,
   "id": "85f0a314-5594-4077-b8ce-4de8348d3d38",
   "metadata": {
    "tags": []
   },
   "outputs": [
    {
     "data": {
      "text/html": [
       "<table>\n",
       "<tr>\n",
       "<th>last_name</th>\n",
       "<th>('$ ' || CAST(salary AS CHAR))</th>\n",
       "</tr>\n",
       "<tr>\n",
       "<td>King</td>\n",
       "<td>$ 24000</td>\n",
       "</tr>\n",
       "</table>"
      ],
      "text/plain": [
       "+-----------+--------------------------------+\n",
       "| last_name | ('$ ' || CAST(salary AS CHAR)) |\n",
       "+-----------+--------------------------------+\n",
       "| King      | $ 24000                        |\n",
       "+-----------+--------------------------------+"
      ]
     },
     "execution_count": 4,
     "metadata": {},
     "output_type": "execute_result"
    }
   ],
   "source": [
    "SELECT last_name,('$ ' || CAST(salary AS CHAR))\n",
    "FROM employees\n",
    "WHERE last_name = 'King';"
   ]
  },
  {
   "cell_type": "markdown",
   "id": "d8aa6fa3-0ce2-426e-b080-2a1ca4ec7ef5",
   "metadata": {},
   "source": [
    "Je ziet geen verschil op je scherm maar salary wordt omgezet van een INTEGER (heel getal) naar tekst (CHAR) met CAST. Daarna wordt er voor de uitkomst een $ geplaatst met behulp van CONCAT."
   ]
  },
  {
   "cell_type": "markdown",
   "id": "264ec5a0-62ce-46da-a6a4-e789b0c8d366",
   "metadata": {},
   "source": [
    "---\n",
    "\n",
    ":::{todo}\n",
    "De beschrijving van het nesten van expressies moet elders komen (bij \"rekenen\"); het gaat niet om het nesten van functies, maar om het nesten van expressies met daarin functie-aanroepen.\n",
    ":::"
   ]
  }
 ],
 "metadata": {
  "kernelspec": {
   "display_name": "xsqlite",
   "language": "sqlite",
   "name": "xsqlite"
  },
  "language_info": {
   "codemirror_mode": "sql",
   "file_extension": "",
   "mimetype": "",
   "name": "sql",
   "version": "3.33.0"
  }
 },
 "nbformat": 4,
 "nbformat_minor": 5
}
