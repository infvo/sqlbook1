{
 "cells": [
  {
   "cell_type": "markdown",
   "id": "32d56bd6-5160-4bfb-b4e4-97c88c3a8d2b",
   "metadata": {},
   "source": [
    "# GROUP BY"
   ]
  },
  {
   "cell_type": "code",
   "execution_count": 1,
   "id": "386c3f0d-5904-4cee-8097-2614b00526df",
   "metadata": {
    "tags": []
   },
   "outputs": [],
   "source": [
    "%LOAD data/example.db"
   ]
  },
  {
   "cell_type": "markdown",
   "id": "a1134a67-0182-4c52-95a7-8bf811a6a4c5",
   "metadata": {},
   "source": [
    "Tot nu toe hebben we uitsluitend query's gezien waarbij informatie werd verwacht met betrekking tot individuele rijen uit de tabellen. Het komt echter regelmatig voor dat we geïnteresseerd zijn in geaggregeerde informatie. Hiermee wordt bedoeld informatie die niet meer is gebaseerd op afzonderlijke rijen, maar op verzamelingen van rijen. Rijen die op een bepaalde manier bij elkaar horen.\n",
    "\n",
    " \n",
    "\n",
    "Stel bijvoorbeeld dat we een overzicht willen van het gemiddelde salaris (salary) van elke afdeling (department_id). Bij dit soort query's hebben we de GROUP BY component van het SELECT commando nodig. Voor het gemak hebben we de gemiddelde salarissen alvast afgerond."
   ]
  },
  {
   "cell_type": "code",
   "execution_count": 2,
   "id": "db597e0b-4d0b-432e-bb56-14a2b83c050e",
   "metadata": {
    "tags": []
   },
   "outputs": [
    {
     "data": {
      "text/html": [
       "<table>\n",
       "<tr>\n",
       "<th>ROUND(AVG(salary))</th>\n",
       "</tr>\n",
       "<tr>\n",
       "<td>7000.0</td>\n",
       "</tr>\n",
       "<tr>\n",
       "<td>4400.0</td>\n",
       "</tr>\n",
       "<tr>\n",
       "<td>9500.0</td>\n",
       "</tr>\n",
       "<tr>\n",
       "<td>3500.0</td>\n",
       "</tr>\n",
       "<tr>\n",
       "<td>6400.0</td>\n",
       "</tr>\n",
       "<tr>\n",
       "<td>10033.0</td>\n",
       "</tr>\n",
       "<tr>\n",
       "<td>19333.0</td>\n",
       "</tr>\n",
       "<tr>\n",
       "<td>10150.0</td>\n",
       "</tr>\n",
       "</table>"
      ],
      "text/plain": [
       "+--------------------+\n",
       "| ROUND(AVG(salary)) |\n",
       "+--------------------+\n",
       "| 7000.0             |\n",
       "+--------------------+\n",
       "| 4400.0             |\n",
       "+--------------------+\n",
       "| 9500.0             |\n",
       "+--------------------+\n",
       "| 3500.0             |\n",
       "+--------------------+\n",
       "| 6400.0             |\n",
       "+--------------------+\n",
       "| 10033.0            |\n",
       "+--------------------+\n",
       "| 19333.0            |\n",
       "+--------------------+\n",
       "| 10150.0            |\n",
       "+--------------------+"
      ]
     },
     "execution_count": 2,
     "metadata": {},
     "output_type": "execute_result"
    }
   ],
   "source": [
    "SELECT ROUND(AVG(salary))\n",
    "FROM employees\n",
    "GROUP BY department_id;"
   ]
  },
  {
   "cell_type": "markdown",
   "id": "0d4d713f-39c5-4fd6-b229-0d52c11dcbac",
   "metadata": {},
   "source": [
    "Nu zegt zo'n overzicht met enkel gemiddelde salarissen niet zo veel. Je ziet niet meteen waar die gemiddelde salarissen op slaan. Daarom zetten we er een kolom bij die aangeeft welke afdeling (department_id) bij welk gemiddelde salaris hoort."
   ]
  },
  {
   "cell_type": "code",
   "execution_count": 3,
   "id": "f1f58697-a5a2-4484-b75e-dbe201f65a71",
   "metadata": {
    "tags": []
   },
   "outputs": [
    {
     "data": {
      "text/html": [
       "<table>\n",
       "<tr>\n",
       "<th>department_id</th>\n",
       "<th>ROUND(AVG(salary))</th>\n",
       "</tr>\n",
       "<tr>\n",
       "<td></td>\n",
       "<td>7000.0</td>\n",
       "</tr>\n",
       "<tr>\n",
       "<td>10</td>\n",
       "<td>4400.0</td>\n",
       "</tr>\n",
       "<tr>\n",
       "<td>20</td>\n",
       "<td>9500.0</td>\n",
       "</tr>\n",
       "<tr>\n",
       "<td>50</td>\n",
       "<td>3500.0</td>\n",
       "</tr>\n",
       "<tr>\n",
       "<td>60</td>\n",
       "<td>6400.0</td>\n",
       "</tr>\n",
       "<tr>\n",
       "<td>80</td>\n",
       "<td>10033.0</td>\n",
       "</tr>\n",
       "<tr>\n",
       "<td>90</td>\n",
       "<td>19333.0</td>\n",
       "</tr>\n",
       "<tr>\n",
       "<td>110</td>\n",
       "<td>10150.0</td>\n",
       "</tr>\n",
       "</table>"
      ],
      "text/plain": [
       "+---------------+--------------------+\n",
       "| department_id | ROUND(AVG(salary)) |\n",
       "+---------------+--------------------+\n",
       "|               | 7000.0             |\n",
       "+---------------+--------------------+\n",
       "| 10            | 4400.0             |\n",
       "+---------------+--------------------+\n",
       "| 20            | 9500.0             |\n",
       "+---------------+--------------------+\n",
       "| 50            | 3500.0             |\n",
       "+---------------+--------------------+\n",
       "| 60            | 6400.0             |\n",
       "+---------------+--------------------+\n",
       "| 80            | 10033.0            |\n",
       "+---------------+--------------------+\n",
       "| 90            | 19333.0            |\n",
       "+---------------+--------------------+\n",
       "| 110           | 10150.0            |\n",
       "+---------------+--------------------+"
      ]
     },
     "execution_count": 3,
     "metadata": {},
     "output_type": "execute_result"
    }
   ],
   "source": [
    "SELECT department_id, ROUND(AVG(salary))\n",
    "FROM employees\n",
    "GROUP BY department_id;"
   ]
  },
  {
   "cell_type": "markdown",
   "id": "dadb5117-b793-4acf-9f0d-b6297703e25c",
   "metadata": {},
   "source": [
    "De rijen worden eerst gegroepeerd op department_id en daarna wordt de AVG functie (gemiddelde) toegepast op elke groep."
   ]
  },
  {
   "cell_type": "markdown",
   "id": "10225cd0-f7ec-4c30-b75b-aba368412f38",
   "metadata": {},
   "source": [
    "Of stel dat je het maximum salaris wil weten van elke afdeling. Eerst een overzicht zonder de afdelingsid's."
   ]
  },
  {
   "cell_type": "code",
   "execution_count": 4,
   "id": "359d338a-1ca9-4a00-a661-758d6864f909",
   "metadata": {
    "tags": []
   },
   "outputs": [
    {
     "data": {
      "text/html": [
       "<table>\n",
       "<tr>\n",
       "<th>MAX(salary)</th>\n",
       "</tr>\n",
       "<tr>\n",
       "<td>7000</td>\n",
       "</tr>\n",
       "<tr>\n",
       "<td>4400</td>\n",
       "</tr>\n",
       "<tr>\n",
       "<td>13000</td>\n",
       "</tr>\n",
       "<tr>\n",
       "<td>5800</td>\n",
       "</tr>\n",
       "<tr>\n",
       "<td>9000</td>\n",
       "</tr>\n",
       "<tr>\n",
       "<td>11000</td>\n",
       "</tr>\n",
       "<tr>\n",
       "<td>24000</td>\n",
       "</tr>\n",
       "<tr>\n",
       "<td>12000</td>\n",
       "</tr>\n",
       "</table>"
      ],
      "text/plain": [
       "+-------------+\n",
       "| MAX(salary) |\n",
       "+-------------+\n",
       "| 7000        |\n",
       "+-------------+\n",
       "| 4400        |\n",
       "+-------------+\n",
       "| 13000       |\n",
       "+-------------+\n",
       "| 5800        |\n",
       "+-------------+\n",
       "| 9000        |\n",
       "+-------------+\n",
       "| 11000       |\n",
       "+-------------+\n",
       "| 24000       |\n",
       "+-------------+\n",
       "| 12000       |\n",
       "+-------------+"
      ]
     },
     "execution_count": 4,
     "metadata": {},
     "output_type": "execute_result"
    }
   ],
   "source": [
    "SELECT MAX(salary)\n",
    "FROM employees\n",
    "GROUP BY department_id;"
   ]
  },
  {
   "cell_type": "markdown",
   "id": "e1574755-cea1-4158-bac9-ab9be75d9f5d",
   "metadata": {},
   "source": [
    "Om te laten zien welk maximum salaris bij welke afdeling hoort, voeg je het department_id toe op de SELECT regel."
   ]
  },
  {
   "cell_type": "code",
   "execution_count": 5,
   "id": "8067a28b-e3a4-42ee-b311-00b5561a382a",
   "metadata": {
    "tags": []
   },
   "outputs": [
    {
     "data": {
      "text/html": [
       "<table>\n",
       "<tr>\n",
       "<th>department_id</th>\n",
       "<th>MAX(salary)</th>\n",
       "</tr>\n",
       "<tr>\n",
       "<td></td>\n",
       "<td>7000</td>\n",
       "</tr>\n",
       "<tr>\n",
       "<td>10</td>\n",
       "<td>4400</td>\n",
       "</tr>\n",
       "<tr>\n",
       "<td>20</td>\n",
       "<td>13000</td>\n",
       "</tr>\n",
       "<tr>\n",
       "<td>50</td>\n",
       "<td>5800</td>\n",
       "</tr>\n",
       "<tr>\n",
       "<td>60</td>\n",
       "<td>9000</td>\n",
       "</tr>\n",
       "<tr>\n",
       "<td>80</td>\n",
       "<td>11000</td>\n",
       "</tr>\n",
       "<tr>\n",
       "<td>90</td>\n",
       "<td>24000</td>\n",
       "</tr>\n",
       "<tr>\n",
       "<td>110</td>\n",
       "<td>12000</td>\n",
       "</tr>\n",
       "</table>"
      ],
      "text/plain": [
       "+---------------+-------------+\n",
       "| department_id | MAX(salary) |\n",
       "+---------------+-------------+\n",
       "|               | 7000        |\n",
       "+---------------+-------------+\n",
       "| 10            | 4400        |\n",
       "+---------------+-------------+\n",
       "| 20            | 13000       |\n",
       "+---------------+-------------+\n",
       "| 50            | 5800        |\n",
       "+---------------+-------------+\n",
       "| 60            | 9000        |\n",
       "+---------------+-------------+\n",
       "| 80            | 11000       |\n",
       "+---------------+-------------+\n",
       "| 90            | 24000       |\n",
       "+---------------+-------------+\n",
       "| 110           | 12000       |\n",
       "+---------------+-------------+"
      ]
     },
     "execution_count": 5,
     "metadata": {},
     "output_type": "execute_result"
    }
   ],
   "source": [
    "SELECT department_id, MAX(salary)\n",
    "FROM employees\n",
    "GROUP BY department_id;"
   ]
  },
  {
   "cell_type": "markdown",
   "id": "17d847aa-33b3-4d3a-8ec0-611cfa1b396c",
   "metadata": {},
   "source": [
    "Als je een groepsfunctie gebruikt op de SELECT regel voorafgegaan door een kolomnaam, dan moet die kolomnaam genoemd worden op de GROUP BY regel.\n",
    "Dus als er staat SELECT department_id, MAX (salary) op de SELECT regel, dan moet op de GROUP BY regel staan GROUP BY department_id."
   ]
  },
  {
   "cell_type": "markdown",
   "id": "cf9cb265-9244-4969-8f2c-a0eeb14e4fd5",
   "metadata": {},
   "source": [
    "De syntaxis is altijd in deze volgorde:\n",
    "\n",
    "```SQL\n",
    "SELECT kolomnaam, groepsfunctie\n",
    "FROM tabel\n",
    "WHERE\n",
    "GROUP BY kolomnaam\n",
    "HAVING\n",
    "ORDER BY\n",
    "```"
   ]
  },
  {
   "cell_type": "markdown",
   "id": "7a8bc926-89fb-4af6-a491-d1803999dd73",
   "metadata": {},
   "source": [
    "Voorbeeld: Tel het aantal per job_id. Maar IT_PROG mag niet voorkomen in het overzicht en alleen de job_id's die meer dan één keer voorkomen mogen worden getoond."
   ]
  },
  {
   "cell_type": "code",
   "execution_count": 6,
   "id": "0b668611-8b07-4e62-bde5-3a838bc45d8a",
   "metadata": {
    "tags": []
   },
   "outputs": [
    {
     "data": {
      "text/html": [
       "<table>\n",
       "<tr>\n",
       "<th>job_id</th>\n",
       "<th>COUNT(job_id)</th>\n",
       "</tr>\n",
       "<tr>\n",
       "<td>AD_VP</td>\n",
       "<td>2</td>\n",
       "</tr>\n",
       "<tr>\n",
       "<td>SA_REP</td>\n",
       "<td>3</td>\n",
       "</tr>\n",
       "<tr>\n",
       "<td>ST_CLERK</td>\n",
       "<td>4</td>\n",
       "</tr>\n",
       "</table>"
      ],
      "text/plain": [
       "+----------+---------------+\n",
       "| job_id   | COUNT(job_id) |\n",
       "+----------+---------------+\n",
       "| AD_VP    | 2             |\n",
       "+----------+---------------+\n",
       "| SA_REP   | 3             |\n",
       "+----------+---------------+\n",
       "| ST_CLERK | 4             |\n",
       "+----------+---------------+"
      ]
     },
     "execution_count": 6,
     "metadata": {},
     "output_type": "execute_result"
    }
   ],
   "source": [
    "SELECT job_id, COUNT(job_id)\n",
    "FROM employees\n",
    "WHERE job_id <> 'IT_PROG'\n",
    "GROUP BY job_id\n",
    "HAVING COUNT(*) > 1\n",
    "ORDER BY COUNT(job_id);"
   ]
  },
  {
   "cell_type": "markdown",
   "id": "4444dad5-06d8-45fa-a72b-dae0e287d088",
   "metadata": {},
   "source": [
    "Je mag een alias (AS) gebruiken op de GROUP BY of de ORDER BY regel."
   ]
  },
  {
   "cell_type": "code",
   "execution_count": 7,
   "id": "19a9134d-f18f-464d-8983-6049612cca32",
   "metadata": {
    "tags": []
   },
   "outputs": [
    {
     "data": {
      "text/html": [
       "<table>\n",
       "<tr>\n",
       "<th>functie</th>\n",
       "<th>aantal</th>\n",
       "</tr>\n",
       "<tr>\n",
       "<td>ST_CLERK</td>\n",
       "<td>4</td>\n",
       "</tr>\n",
       "<tr>\n",
       "<td>SA_REP</td>\n",
       "<td>3</td>\n",
       "</tr>\n",
       "<tr>\n",
       "<td>AD_VP</td>\n",
       "<td>2</td>\n",
       "</tr>\n",
       "</table>"
      ],
      "text/plain": [
       "+----------+--------+\n",
       "| functie  | aantal |\n",
       "+----------+--------+\n",
       "| ST_CLERK | 4      |\n",
       "+----------+--------+\n",
       "| SA_REP   | 3      |\n",
       "+----------+--------+\n",
       "| AD_VP    | 2      |\n",
       "+----------+--------+"
      ]
     },
     "execution_count": 7,
     "metadata": {},
     "output_type": "execute_result"
    }
   ],
   "source": [
    "SELECT job_id AS functie, COUNT(job_id) AS aantal\n",
    "FROM employees\n",
    "WHERE job_id <> 'IT_PROG'\n",
    "GROUP BY functie\n",
    "HAVING COUNT(*) > 1\n",
    "ORDER BY aantal DESC;"
   ]
  },
  {
   "cell_type": "markdown",
   "id": "c67cca93-6ad2-41bc-8ccd-a07dd5d6e3cb",
   "metadata": {},
   "source": [
    "## NULL waarden"
   ]
  },
  {
   "cell_type": "markdown",
   "id": "7ed2bfb9-b9d5-47d0-a9ff-7a909ae3be4d",
   "metadata": {},
   "source": [
    "Groepsfuncties negeren NULL waarden. Vergelijk maar eens de volgende twee query's waarbij belangrijk is om te weten dat er één werknemer is zonder een department_id (Grant). En let dan op het verschil in de bovenste rij."
   ]
  },
  {
   "cell_type": "code",
   "execution_count": 8,
   "id": "3048f2e4-1ba0-4e2d-961d-2c5c77f2e186",
   "metadata": {
    "tags": []
   },
   "outputs": [
    {
     "data": {
      "text/html": [
       "<table>\n",
       "<tr>\n",
       "<th>department_id</th>\n",
       "<th>COUNT(department_id)</th>\n",
       "</tr>\n",
       "<tr>\n",
       "<td></td>\n",
       "<td>0</td>\n",
       "</tr>\n",
       "<tr>\n",
       "<td>10</td>\n",
       "<td>1</td>\n",
       "</tr>\n",
       "<tr>\n",
       "<td>20</td>\n",
       "<td>2</td>\n",
       "</tr>\n",
       "<tr>\n",
       "<td>50</td>\n",
       "<td>5</td>\n",
       "</tr>\n",
       "<tr>\n",
       "<td>60</td>\n",
       "<td>3</td>\n",
       "</tr>\n",
       "<tr>\n",
       "<td>80</td>\n",
       "<td>3</td>\n",
       "</tr>\n",
       "<tr>\n",
       "<td>90</td>\n",
       "<td>3</td>\n",
       "</tr>\n",
       "<tr>\n",
       "<td>110</td>\n",
       "<td>2</td>\n",
       "</tr>\n",
       "</table>"
      ],
      "text/plain": [
       "+---------------+----------------------+\n",
       "| department_id | COUNT(department_id) |\n",
       "+---------------+----------------------+\n",
       "|               | 0                    |\n",
       "+---------------+----------------------+\n",
       "| 10            | 1                    |\n",
       "+---------------+----------------------+\n",
       "| 20            | 2                    |\n",
       "+---------------+----------------------+\n",
       "| 50            | 5                    |\n",
       "+---------------+----------------------+\n",
       "| 60            | 3                    |\n",
       "+---------------+----------------------+\n",
       "| 80            | 3                    |\n",
       "+---------------+----------------------+\n",
       "| 90            | 3                    |\n",
       "+---------------+----------------------+\n",
       "| 110           | 2                    |\n",
       "+---------------+----------------------+"
      ]
     },
     "execution_count": 8,
     "metadata": {},
     "output_type": "execute_result"
    }
   ],
   "source": [
    "SELECT department_id, COUNT(department_id)\n",
    "FROM employees\n",
    "GROUP BY department_id;"
   ]
  },
  {
   "cell_type": "code",
   "execution_count": 9,
   "id": "22550fcf-d2a6-4839-97ba-d964fbbefa4d",
   "metadata": {
    "tags": []
   },
   "outputs": [
    {
     "data": {
      "text/html": [
       "<table>\n",
       "<tr>\n",
       "<th>department_id</th>\n",
       "<th>COUNT(*)</th>\n",
       "</tr>\n",
       "<tr>\n",
       "<td></td>\n",
       "<td>1</td>\n",
       "</tr>\n",
       "<tr>\n",
       "<td>10</td>\n",
       "<td>1</td>\n",
       "</tr>\n",
       "<tr>\n",
       "<td>20</td>\n",
       "<td>2</td>\n",
       "</tr>\n",
       "<tr>\n",
       "<td>50</td>\n",
       "<td>5</td>\n",
       "</tr>\n",
       "<tr>\n",
       "<td>60</td>\n",
       "<td>3</td>\n",
       "</tr>\n",
       "<tr>\n",
       "<td>80</td>\n",
       "<td>3</td>\n",
       "</tr>\n",
       "<tr>\n",
       "<td>90</td>\n",
       "<td>3</td>\n",
       "</tr>\n",
       "<tr>\n",
       "<td>110</td>\n",
       "<td>2</td>\n",
       "</tr>\n",
       "</table>"
      ],
      "text/plain": [
       "+---------------+----------+\n",
       "| department_id | COUNT(*) |\n",
       "+---------------+----------+\n",
       "|               | 1        |\n",
       "+---------------+----------+\n",
       "| 10            | 1        |\n",
       "+---------------+----------+\n",
       "| 20            | 2        |\n",
       "+---------------+----------+\n",
       "| 50            | 5        |\n",
       "+---------------+----------+\n",
       "| 60            | 3        |\n",
       "+---------------+----------+\n",
       "| 80            | 3        |\n",
       "+---------------+----------+\n",
       "| 90            | 3        |\n",
       "+---------------+----------+\n",
       "| 110           | 2        |\n",
       "+---------------+----------+"
      ]
     },
     "execution_count": 9,
     "metadata": {},
     "output_type": "execute_result"
    }
   ],
   "source": [
    "SELECT department_id, COUNT(*)\n",
    "FROM employees\n",
    "GROUP BY department_id;"
   ]
  },
  {
   "cell_type": "markdown",
   "id": "4a7a7056-a0d8-41e2-a6a5-b18b661e1376",
   "metadata": {},
   "source": [
    "## WHERE"
   ]
  },
  {
   "cell_type": "markdown",
   "id": "5c7bf4ff-2596-4c6f-a5ed-bd6bb9f910e9",
   "metadata": {},
   "source": [
    "Het is mogelijk een WHERE te gebruiken in combinatie met GROUP BY.\n",
    " \n",
    "Stel dat je een overzicht wil maken met de hoogste salarissen per afdeling. Dat kan met de volgende query."
   ]
  },
  {
   "cell_type": "code",
   "execution_count": 10,
   "id": "f4de2609-87bb-4903-9512-938dbce2ca30",
   "metadata": {
    "tags": []
   },
   "outputs": [
    {
     "data": {
      "text/html": [
       "<table>\n",
       "<tr>\n",
       "<th>department_id</th>\n",
       "<th>MAX(salary)</th>\n",
       "</tr>\n",
       "<tr>\n",
       "<td></td>\n",
       "<td>7000</td>\n",
       "</tr>\n",
       "<tr>\n",
       "<td>10</td>\n",
       "<td>4400</td>\n",
       "</tr>\n",
       "<tr>\n",
       "<td>20</td>\n",
       "<td>13000</td>\n",
       "</tr>\n",
       "<tr>\n",
       "<td>50</td>\n",
       "<td>5800</td>\n",
       "</tr>\n",
       "<tr>\n",
       "<td>60</td>\n",
       "<td>9000</td>\n",
       "</tr>\n",
       "<tr>\n",
       "<td>80</td>\n",
       "<td>11000</td>\n",
       "</tr>\n",
       "<tr>\n",
       "<td>90</td>\n",
       "<td>24000</td>\n",
       "</tr>\n",
       "<tr>\n",
       "<td>110</td>\n",
       "<td>12000</td>\n",
       "</tr>\n",
       "</table>"
      ],
      "text/plain": [
       "+---------------+-------------+\n",
       "| department_id | MAX(salary) |\n",
       "+---------------+-------------+\n",
       "|               | 7000        |\n",
       "+---------------+-------------+\n",
       "| 10            | 4400        |\n",
       "+---------------+-------------+\n",
       "| 20            | 13000       |\n",
       "+---------------+-------------+\n",
       "| 50            | 5800        |\n",
       "+---------------+-------------+\n",
       "| 60            | 9000        |\n",
       "+---------------+-------------+\n",
       "| 80            | 11000       |\n",
       "+---------------+-------------+\n",
       "| 90            | 24000       |\n",
       "+---------------+-------------+\n",
       "| 110           | 12000       |\n",
       "+---------------+-------------+"
      ]
     },
     "execution_count": 10,
     "metadata": {},
     "output_type": "execute_result"
    }
   ],
   "source": [
    "SELECT department_id, MAX(salary)\n",
    "FROM employees\n",
    "GROUP BY department_id;"
   ]
  },
  {
   "cell_type": "markdown",
   "id": "7bfb73e6-35dd-412b-81df-2dae91af1551",
   "metadata": {},
   "source": [
    "In de WHERE kun je voorwaarden stellen. Stel bijvoorbeeld dat het salaris van de hoogste baas niet mee mag tellen voor het overzicht. King werkt op afdeling 90. Van die afdeling zal nu het hoogste salaris worden aangepast."
   ]
  },
  {
   "cell_type": "code",
   "execution_count": 11,
   "id": "fbaf4c23-09e6-490f-872a-f5fc0a3cf3df",
   "metadata": {
    "tags": []
   },
   "outputs": [
    {
     "data": {
      "text/html": [
       "<table>\n",
       "<tr>\n",
       "<th>department_id</th>\n",
       "<th>MAX(salary)</th>\n",
       "</tr>\n",
       "<tr>\n",
       "<td></td>\n",
       "<td>7000</td>\n",
       "</tr>\n",
       "<tr>\n",
       "<td>10</td>\n",
       "<td>4400</td>\n",
       "</tr>\n",
       "<tr>\n",
       "<td>20</td>\n",
       "<td>13000</td>\n",
       "</tr>\n",
       "<tr>\n",
       "<td>50</td>\n",
       "<td>5800</td>\n",
       "</tr>\n",
       "<tr>\n",
       "<td>60</td>\n",
       "<td>9000</td>\n",
       "</tr>\n",
       "<tr>\n",
       "<td>80</td>\n",
       "<td>11000</td>\n",
       "</tr>\n",
       "<tr>\n",
       "<td>90</td>\n",
       "<td>17000</td>\n",
       "</tr>\n",
       "<tr>\n",
       "<td>110</td>\n",
       "<td>12000</td>\n",
       "</tr>\n",
       "</table>"
      ],
      "text/plain": [
       "+---------------+-------------+\n",
       "| department_id | MAX(salary) |\n",
       "+---------------+-------------+\n",
       "|               | 7000        |\n",
       "+---------------+-------------+\n",
       "| 10            | 4400        |\n",
       "+---------------+-------------+\n",
       "| 20            | 13000       |\n",
       "+---------------+-------------+\n",
       "| 50            | 5800        |\n",
       "+---------------+-------------+\n",
       "| 60            | 9000        |\n",
       "+---------------+-------------+\n",
       "| 80            | 11000       |\n",
       "+---------------+-------------+\n",
       "| 90            | 17000       |\n",
       "+---------------+-------------+\n",
       "| 110           | 12000       |\n",
       "+---------------+-------------+"
      ]
     },
     "execution_count": 11,
     "metadata": {},
     "output_type": "execute_result"
    }
   ],
   "source": [
    "SELECT department_id, MAX(salary)\n",
    "FROM employees\n",
    "WHERE last_name != 'King'\n",
    "GROUP BY department_id;"
   ]
  },
  {
   "cell_type": "markdown",
   "id": "eb2db6bc-2f43-443e-a430-5e302f3498c0",
   "metadata": {},
   "source": [
    "## ORDER BY"
   ]
  },
  {
   "cell_type": "markdown",
   "id": "c8d7c7cf-6100-4e0b-b08e-bbda8468ca33",
   "metadata": {},
   "source": [
    "Sorteren bij groepsfuncties kan op verschillende manieren. Het kan met het noemen van de groepsfunctie die op de eerste regel staat (MAX(salary)), met behulp van de alias van de kolom (maximum_salaris) of door het nummer van de volgorde van de kolom te noemen, in dit geval 2."
   ]
  },
  {
   "cell_type": "code",
   "execution_count": 12,
   "id": "5e408fb6-36c6-4e10-8478-efde17af2bf0",
   "metadata": {
    "tags": []
   },
   "outputs": [
    {
     "data": {
      "text/html": [
       "<table>\n",
       "<tr>\n",
       "<th>afdeling</th>\n",
       "<th>maximum_salaris</th>\n",
       "</tr>\n",
       "<tr>\n",
       "<td>10</td>\n",
       "<td>4400</td>\n",
       "</tr>\n",
       "<tr>\n",
       "<td>50</td>\n",
       "<td>5800</td>\n",
       "</tr>\n",
       "<tr>\n",
       "<td></td>\n",
       "<td>7000</td>\n",
       "</tr>\n",
       "<tr>\n",
       "<td>60</td>\n",
       "<td>9000</td>\n",
       "</tr>\n",
       "<tr>\n",
       "<td>80</td>\n",
       "<td>11000</td>\n",
       "</tr>\n",
       "<tr>\n",
       "<td>110</td>\n",
       "<td>12000</td>\n",
       "</tr>\n",
       "<tr>\n",
       "<td>20</td>\n",
       "<td>13000</td>\n",
       "</tr>\n",
       "<tr>\n",
       "<td>90</td>\n",
       "<td>24000</td>\n",
       "</tr>\n",
       "</table>"
      ],
      "text/plain": [
       "+----------+-----------------+\n",
       "| afdeling | maximum_salaris |\n",
       "+----------+-----------------+\n",
       "| 10       | 4400            |\n",
       "+----------+-----------------+\n",
       "| 50       | 5800            |\n",
       "+----------+-----------------+\n",
       "|          | 7000            |\n",
       "+----------+-----------------+\n",
       "| 60       | 9000            |\n",
       "+----------+-----------------+\n",
       "| 80       | 11000           |\n",
       "+----------+-----------------+\n",
       "| 110      | 12000           |\n",
       "+----------+-----------------+\n",
       "| 20       | 13000           |\n",
       "+----------+-----------------+\n",
       "| 90       | 24000           |\n",
       "+----------+-----------------+"
      ]
     },
     "execution_count": 12,
     "metadata": {},
     "output_type": "execute_result"
    }
   ],
   "source": [
    "SELECT department_id AS afdeling, MAX(salary)AS maximum_salaris\n",
    "FROM employees\n",
    "GROUP BY department_id\n",
    "ORDER BY MAX(salary);"
   ]
  },
  {
   "cell_type": "code",
   "execution_count": 13,
   "id": "43041679-677e-4e72-93db-fe2704d5b5d4",
   "metadata": {
    "tags": []
   },
   "outputs": [
    {
     "data": {
      "text/html": [
       "<table>\n",
       "<tr>\n",
       "<th>afdeling</th>\n",
       "<th>maximum_salaris</th>\n",
       "</tr>\n",
       "<tr>\n",
       "<td>10</td>\n",
       "<td>4400</td>\n",
       "</tr>\n",
       "<tr>\n",
       "<td>50</td>\n",
       "<td>5800</td>\n",
       "</tr>\n",
       "<tr>\n",
       "<td></td>\n",
       "<td>7000</td>\n",
       "</tr>\n",
       "<tr>\n",
       "<td>60</td>\n",
       "<td>9000</td>\n",
       "</tr>\n",
       "<tr>\n",
       "<td>80</td>\n",
       "<td>11000</td>\n",
       "</tr>\n",
       "<tr>\n",
       "<td>110</td>\n",
       "<td>12000</td>\n",
       "</tr>\n",
       "<tr>\n",
       "<td>20</td>\n",
       "<td>13000</td>\n",
       "</tr>\n",
       "<tr>\n",
       "<td>90</td>\n",
       "<td>24000</td>\n",
       "</tr>\n",
       "</table>"
      ],
      "text/plain": [
       "+----------+-----------------+\n",
       "| afdeling | maximum_salaris |\n",
       "+----------+-----------------+\n",
       "| 10       | 4400            |\n",
       "+----------+-----------------+\n",
       "| 50       | 5800            |\n",
       "+----------+-----------------+\n",
       "|          | 7000            |\n",
       "+----------+-----------------+\n",
       "| 60       | 9000            |\n",
       "+----------+-----------------+\n",
       "| 80       | 11000           |\n",
       "+----------+-----------------+\n",
       "| 110      | 12000           |\n",
       "+----------+-----------------+\n",
       "| 20       | 13000           |\n",
       "+----------+-----------------+\n",
       "| 90       | 24000           |\n",
       "+----------+-----------------+"
      ]
     },
     "execution_count": 13,
     "metadata": {},
     "output_type": "execute_result"
    }
   ],
   "source": [
    "SELECT department_id AS afdeling, MAX(salary) AS maximum_salaris\n",
    "FROM employees\n",
    "GROUP BY department_id\n",
    "ORDER BY maximum_salaris;"
   ]
  },
  {
   "cell_type": "code",
   "execution_count": 14,
   "id": "ce2d4fc1-adca-40ba-89a7-b9a1854cc0be",
   "metadata": {
    "tags": []
   },
   "outputs": [
    {
     "data": {
      "text/html": [
       "<table>\n",
       "<tr>\n",
       "<th>afdeling</th>\n",
       "<th>maximum_salaris</th>\n",
       "</tr>\n",
       "<tr>\n",
       "<td>10</td>\n",
       "<td>4400</td>\n",
       "</tr>\n",
       "<tr>\n",
       "<td>50</td>\n",
       "<td>5800</td>\n",
       "</tr>\n",
       "<tr>\n",
       "<td></td>\n",
       "<td>7000</td>\n",
       "</tr>\n",
       "<tr>\n",
       "<td>60</td>\n",
       "<td>9000</td>\n",
       "</tr>\n",
       "<tr>\n",
       "<td>80</td>\n",
       "<td>11000</td>\n",
       "</tr>\n",
       "<tr>\n",
       "<td>110</td>\n",
       "<td>12000</td>\n",
       "</tr>\n",
       "<tr>\n",
       "<td>20</td>\n",
       "<td>13000</td>\n",
       "</tr>\n",
       "<tr>\n",
       "<td>90</td>\n",
       "<td>24000</td>\n",
       "</tr>\n",
       "</table>"
      ],
      "text/plain": [
       "+----------+-----------------+\n",
       "| afdeling | maximum_salaris |\n",
       "+----------+-----------------+\n",
       "| 10       | 4400            |\n",
       "+----------+-----------------+\n",
       "| 50       | 5800            |\n",
       "+----------+-----------------+\n",
       "|          | 7000            |\n",
       "+----------+-----------------+\n",
       "| 60       | 9000            |\n",
       "+----------+-----------------+\n",
       "| 80       | 11000           |\n",
       "+----------+-----------------+\n",
       "| 110      | 12000           |\n",
       "+----------+-----------------+\n",
       "| 20       | 13000           |\n",
       "+----------+-----------------+\n",
       "| 90       | 24000           |\n",
       "+----------+-----------------+"
      ]
     },
     "execution_count": 14,
     "metadata": {},
     "output_type": "execute_result"
    }
   ],
   "source": [
    "SELECT department_id AS afdeling, MAX(salary) AS maximum_salaris\n",
    "FROM employees\n",
    "GROUP BY department_id\n",
    "ORDER BY 2;"
   ]
  },
  {
   "cell_type": "markdown",
   "id": "ae1a4488-c38c-4f27-9626-52eae83abd8e",
   "metadata": {},
   "source": [
    "## HAVING\n",
    "\n",
    "Stel dat je het maximum salaris wil zien van elke afdeling, maar enkel van de afdelingen met meer dan één werknemer. Dat kun je niet bereiken met een WHERE maar je moet daar een HAVING voor gebruiken.\n",
    "\n",
    "Eerst maken we de query zonder HAVING."
   ]
  },
  {
   "cell_type": "code",
   "execution_count": 15,
   "id": "22d1cf65-942c-40d2-8531-c5be0e7641f9",
   "metadata": {
    "tags": []
   },
   "outputs": [
    {
     "data": {
      "text/html": [
       "<table>\n",
       "<tr>\n",
       "<th>department_id</th>\n",
       "<th>MAX(salary)</th>\n",
       "</tr>\n",
       "<tr>\n",
       "<td></td>\n",
       "<td>7000</td>\n",
       "</tr>\n",
       "<tr>\n",
       "<td>10</td>\n",
       "<td>4400</td>\n",
       "</tr>\n",
       "<tr>\n",
       "<td>20</td>\n",
       "<td>13000</td>\n",
       "</tr>\n",
       "<tr>\n",
       "<td>50</td>\n",
       "<td>5800</td>\n",
       "</tr>\n",
       "<tr>\n",
       "<td>60</td>\n",
       "<td>9000</td>\n",
       "</tr>\n",
       "<tr>\n",
       "<td>80</td>\n",
       "<td>11000</td>\n",
       "</tr>\n",
       "<tr>\n",
       "<td>90</td>\n",
       "<td>24000</td>\n",
       "</tr>\n",
       "<tr>\n",
       "<td>110</td>\n",
       "<td>12000</td>\n",
       "</tr>\n",
       "</table>"
      ],
      "text/plain": [
       "+---------------+-------------+\n",
       "| department_id | MAX(salary) |\n",
       "+---------------+-------------+\n",
       "|               | 7000        |\n",
       "+---------------+-------------+\n",
       "| 10            | 4400        |\n",
       "+---------------+-------------+\n",
       "| 20            | 13000       |\n",
       "+---------------+-------------+\n",
       "| 50            | 5800        |\n",
       "+---------------+-------------+\n",
       "| 60            | 9000        |\n",
       "+---------------+-------------+\n",
       "| 80            | 11000       |\n",
       "+---------------+-------------+\n",
       "| 90            | 24000       |\n",
       "+---------------+-------------+\n",
       "| 110           | 12000       |\n",
       "+---------------+-------------+"
      ]
     },
     "execution_count": 15,
     "metadata": {},
     "output_type": "execute_result"
    }
   ],
   "source": [
    "SELECT department_id, MAX(salary)\n",
    "FROM employees\n",
    "GROUP BY department_id;"
   ]
  },
  {
   "cell_type": "markdown",
   "id": "497e5dce-2c47-476f-a3ba-0e257dbdc1e9",
   "metadata": {},
   "source": [
    "En dan de query met HAVING zodat je het verschil ziet."
   ]
  },
  {
   "cell_type": "code",
   "execution_count": 16,
   "id": "9fef7cde-54f9-4f30-a747-620584fdbe45",
   "metadata": {
    "tags": []
   },
   "outputs": [
    {
     "data": {
      "text/html": [
       "<table>\n",
       "<tr>\n",
       "<th>department_id</th>\n",
       "<th>MAX(salary)</th>\n",
       "</tr>\n",
       "<tr>\n",
       "<td>20</td>\n",
       "<td>13000</td>\n",
       "</tr>\n",
       "<tr>\n",
       "<td>50</td>\n",
       "<td>5800</td>\n",
       "</tr>\n",
       "<tr>\n",
       "<td>60</td>\n",
       "<td>9000</td>\n",
       "</tr>\n",
       "<tr>\n",
       "<td>80</td>\n",
       "<td>11000</td>\n",
       "</tr>\n",
       "<tr>\n",
       "<td>90</td>\n",
       "<td>24000</td>\n",
       "</tr>\n",
       "<tr>\n",
       "<td>110</td>\n",
       "<td>12000</td>\n",
       "</tr>\n",
       "</table>"
      ],
      "text/plain": [
       "+---------------+-------------+\n",
       "| department_id | MAX(salary) |\n",
       "+---------------+-------------+\n",
       "| 20            | 13000       |\n",
       "+---------------+-------------+\n",
       "| 50            | 5800        |\n",
       "+---------------+-------------+\n",
       "| 60            | 9000        |\n",
       "+---------------+-------------+\n",
       "| 80            | 11000       |\n",
       "+---------------+-------------+\n",
       "| 90            | 24000       |\n",
       "+---------------+-------------+\n",
       "| 110           | 12000       |\n",
       "+---------------+-------------+"
      ]
     },
     "execution_count": 16,
     "metadata": {},
     "output_type": "execute_result"
    }
   ],
   "source": [
    "SELECT department_id, MAX(salary)\n",
    "FROM employees\n",
    "GROUP BY department_id\n",
    "HAVING COUNT(*) > 1;"
   ]
  },
  {
   "cell_type": "markdown",
   "id": "053dd200-fdeb-43f3-b0f0-ae3c104ac679",
   "metadata": {},
   "source": [
    "We maken een alias 'afdeling' voor department_id en een alias 'max_salaris' voor MAX(salary). We sorteren op het maximum salaris (kolom 2 op de bovenste regel) van hoog naar laag (DESC)."
   ]
  },
  {
   "cell_type": "code",
   "execution_count": 17,
   "id": "53385035-cf7a-4524-9f66-3435850b479d",
   "metadata": {
    "tags": []
   },
   "outputs": [
    {
     "data": {
      "text/html": [
       "<table>\n",
       "<tr>\n",
       "<th>afdeling</th>\n",
       "<th>max_salaris</th>\n",
       "</tr>\n",
       "<tr>\n",
       "<td>90</td>\n",
       "<td>24000</td>\n",
       "</tr>\n",
       "<tr>\n",
       "<td>20</td>\n",
       "<td>13000</td>\n",
       "</tr>\n",
       "<tr>\n",
       "<td>110</td>\n",
       "<td>12000</td>\n",
       "</tr>\n",
       "<tr>\n",
       "<td>80</td>\n",
       "<td>11000</td>\n",
       "</tr>\n",
       "<tr>\n",
       "<td>60</td>\n",
       "<td>9000</td>\n",
       "</tr>\n",
       "<tr>\n",
       "<td>50</td>\n",
       "<td>5800</td>\n",
       "</tr>\n",
       "</table>"
      ],
      "text/plain": [
       "+----------+-------------+\n",
       "| afdeling | max_salaris |\n",
       "+----------+-------------+\n",
       "| 90       | 24000       |\n",
       "+----------+-------------+\n",
       "| 20       | 13000       |\n",
       "+----------+-------------+\n",
       "| 110      | 12000       |\n",
       "+----------+-------------+\n",
       "| 80       | 11000       |\n",
       "+----------+-------------+\n",
       "| 60       | 9000        |\n",
       "+----------+-------------+\n",
       "| 50       | 5800        |\n",
       "+----------+-------------+"
      ]
     },
     "execution_count": 17,
     "metadata": {},
     "output_type": "execute_result"
    }
   ],
   "source": [
    "SELECT department_id AS afdeling, MAX(salary) AS max_salaris\n",
    "FROM employees\n",
    "GROUP BY department_id\n",
    "HAVING COUNT(*) > 1\n",
    "ORDER BY 2 DESC;"
   ]
  },
  {
   "cell_type": "markdown",
   "id": "08ae120c-bc97-4e29-8c13-8dcdaaa9f7bd",
   "metadata": {},
   "source": [
    "En we voegen nog een WHERE toe om de query compleet te maken. De afdeling met als department_id 90 mag niet meetellen. Op de regel met ORDER BY mag je ook het alias (max_salaris) gebruiken dat op de SELECT regel staat."
   ]
  },
  {
   "cell_type": "code",
   "execution_count": 18,
   "id": "663b7828-e4be-4cbc-b123-03bd611a0c3c",
   "metadata": {
    "tags": []
   },
   "outputs": [
    {
     "data": {
      "text/html": [
       "<table>\n",
       "<tr>\n",
       "<th>afdeling</th>\n",
       "<th>max_salaris</th>\n",
       "</tr>\n",
       "<tr>\n",
       "<td>20</td>\n",
       "<td>13000</td>\n",
       "</tr>\n",
       "<tr>\n",
       "<td>110</td>\n",
       "<td>12000</td>\n",
       "</tr>\n",
       "<tr>\n",
       "<td>80</td>\n",
       "<td>11000</td>\n",
       "</tr>\n",
       "<tr>\n",
       "<td>60</td>\n",
       "<td>9000</td>\n",
       "</tr>\n",
       "<tr>\n",
       "<td>50</td>\n",
       "<td>5800</td>\n",
       "</tr>\n",
       "</table>"
      ],
      "text/plain": [
       "+----------+-------------+\n",
       "| afdeling | max_salaris |\n",
       "+----------+-------------+\n",
       "| 20       | 13000       |\n",
       "+----------+-------------+\n",
       "| 110      | 12000       |\n",
       "+----------+-------------+\n",
       "| 80       | 11000       |\n",
       "+----------+-------------+\n",
       "| 60       | 9000        |\n",
       "+----------+-------------+\n",
       "| 50       | 5800        |\n",
       "+----------+-------------+"
      ]
     },
     "execution_count": 18,
     "metadata": {},
     "output_type": "execute_result"
    }
   ],
   "source": [
    "SELECT department_id AS afdeling, MAX(salary) AS max_salaris\n",
    "FROM employees\n",
    "WHERE department_id != 90\n",
    "GROUP BY afdeling\n",
    "HAVING COUNT(*) > 1\n",
    "ORDER BY 2 DESC;"
   ]
  },
  {
   "cell_type": "markdown",
   "id": "4da36e6d-3c56-42b4-b483-a2478f9e8375",
   "metadata": {},
   "source": [
    "Voor het ongelijk teken != mag je ook <> gebruiken."
   ]
  }
 ],
 "metadata": {
  "kernelspec": {
   "display_name": "xsqlite",
   "language": "sqlite",
   "name": "xsqlite"
  },
  "language_info": {
   "codemirror_mode": "sql",
   "file_extension": "",
   "mimetype": "",
   "name": "sql",
   "version": "3.33.0"
  }
 },
 "nbformat": 4,
 "nbformat_minor": 5
}
