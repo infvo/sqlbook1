{
 "cells": [
  {
   "cell_type": "markdown",
   "id": "ab6a0f86-ec69-4238-853c-665273f6abf0",
   "metadata": {},
   "source": [
    "# BETWEEN...AND"
   ]
  },
  {
   "cell_type": "code",
   "execution_count": 1,
   "id": "dc7aff71-e67e-4e55-ab34-a29614c1e52b",
   "metadata": {
    "tags": []
   },
   "outputs": [],
   "source": [
    "%LOAD data/example.db"
   ]
  },
  {
   "cell_type": "markdown",
   "id": "5c8ce147-fe64-454b-a92b-884b7792df6a",
   "metadata": {},
   "source": [
    "Met `BETWEEN ... AND` kun je een query maken met een beperking tussen twee randen. De randen doen mee met de selectie. De onderste rand moet als eerste genoemd worden, want anders krijg je een leeg resultaat terug. De randen doen mee, zoals je in onderstaand voorbeeld kunt zien."
   ]
  },
  {
   "cell_type": "code",
   "execution_count": 2,
   "id": "c7652776-d3e7-41f9-8c17-07b6a9c562dc",
   "metadata": {
    "tags": []
   },
   "outputs": [
    {
     "data": {
      "text/html": [
       "<table>\n",
       "<tr>\n",
       "<th>last_name</th>\n",
       "<th>salary</th>\n",
       "</tr>\n",
       "<tr>\n",
       "<td>Hunold</td>\n",
       "<td>9000</td>\n",
       "</tr>\n",
       "<tr>\n",
       "<td>Zlotkey</td>\n",
       "<td>10500</td>\n",
       "</tr>\n",
       "<tr>\n",
       "<td>Abel</td>\n",
       "<td>11000</td>\n",
       "</tr>\n",
       "</table>"
      ],
      "text/plain": [
       "+-----------+--------+\n",
       "| last_name | salary |\n",
       "+-----------+--------+\n",
       "| Hunold    | 9000   |\n",
       "+-----------+--------+\n",
       "| Zlotkey   | 10500  |\n",
       "+-----------+--------+\n",
       "| Abel      | 11000  |\n",
       "+-----------+--------+"
      ]
     },
     "execution_count": 2,
     "metadata": {},
     "output_type": "execute_result"
    }
   ],
   "source": [
    "SELECT last_name, salary\n",
    "FROM employees\n",
    "WHERE salary BETWEEN 9000 AND 11000;"
   ]
  },
  {
   "cell_type": "markdown",
   "id": "9fb011b9-23c6-48b7-af84-8aa54f7982cc",
   "metadata": {},
   "source": [
    "Deze query kun je ook zo maken."
   ]
  },
  {
   "cell_type": "code",
   "execution_count": 3,
   "id": "ddee86ae-a134-47a5-ad3d-bc7ee9f9a29a",
   "metadata": {
    "tags": []
   },
   "outputs": [
    {
     "data": {
      "text/html": [
       "<table>\n",
       "<tr>\n",
       "<th>last_name</th>\n",
       "<th>salary</th>\n",
       "</tr>\n",
       "<tr>\n",
       "<td>Hunold</td>\n",
       "<td>9000</td>\n",
       "</tr>\n",
       "<tr>\n",
       "<td>Zlotkey</td>\n",
       "<td>10500</td>\n",
       "</tr>\n",
       "<tr>\n",
       "<td>Abel</td>\n",
       "<td>11000</td>\n",
       "</tr>\n",
       "</table>"
      ],
      "text/plain": [
       "+-----------+--------+\n",
       "| last_name | salary |\n",
       "+-----------+--------+\n",
       "| Hunold    | 9000   |\n",
       "+-----------+--------+\n",
       "| Zlotkey   | 10500  |\n",
       "+-----------+--------+\n",
       "| Abel      | 11000  |\n",
       "+-----------+--------+"
      ]
     },
     "execution_count": 3,
     "metadata": {},
     "output_type": "execute_result"
    }
   ],
   "source": [
    "SELECT last_name, salary\n",
    "FROM employees\n",
    "WHERE salary >= 9000 AND salary <= 11000;"
   ]
  },
  {
   "cell_type": "markdown",
   "id": "a73dc463-1f9c-4e7c-bbc4-41ace9af0dab",
   "metadata": {},
   "source": [
    "Ook voor datums kun je `BETWEEN ... AND` gebruiken. Wie is er in dienst gekomen tussen 1 januari 1994 en 31 december 1997?"
   ]
  },
  {
   "cell_type": "code",
   "execution_count": 4,
   "id": "2e40112d-94af-43ba-89a3-edf404188ed6",
   "metadata": {
    "tags": []
   },
   "outputs": [
    {
     "data": {
      "text/html": [
       "<table>\n",
       "<tr>\n",
       "<th>last_name</th>\n",
       "<th>hire_date</th>\n",
       "</tr>\n",
       "<tr>\n",
       "<td>Rajs</td>\n",
       "<td>1995-10-17</td>\n",
       "</tr>\n",
       "<tr>\n",
       "<td>Davies</td>\n",
       "<td>1997-01-29</td>\n",
       "</tr>\n",
       "<tr>\n",
       "<td>Abel</td>\n",
       "<td>1996-05-11</td>\n",
       "</tr>\n",
       "<tr>\n",
       "<td>Hartstein</td>\n",
       "<td>1996-02-17</td>\n",
       "</tr>\n",
       "<tr>\n",
       "<td>Fay</td>\n",
       "<td>1997-08-17</td>\n",
       "</tr>\n",
       "<tr>\n",
       "<td>Higgins</td>\n",
       "<td>1994-06-07</td>\n",
       "</tr>\n",
       "<tr>\n",
       "<td>Gietz</td>\n",
       "<td>1994-06-07</td>\n",
       "</tr>\n",
       "</table>"
      ],
      "text/plain": [
       "+-----------+------------+\n",
       "| last_name | hire_date  |\n",
       "+-----------+------------+\n",
       "| Rajs      | 1995-10-17 |\n",
       "+-----------+------------+\n",
       "| Davies    | 1997-01-29 |\n",
       "+-----------+------------+\n",
       "| Abel      | 1996-05-11 |\n",
       "+-----------+------------+\n",
       "| Hartstein | 1996-02-17 |\n",
       "+-----------+------------+\n",
       "| Fay       | 1997-08-17 |\n",
       "+-----------+------------+\n",
       "| Higgins   | 1994-06-07 |\n",
       "+-----------+------------+\n",
       "| Gietz     | 1994-06-07 |\n",
       "+-----------+------------+"
      ]
     },
     "execution_count": 4,
     "metadata": {},
     "output_type": "execute_result"
    }
   ],
   "source": [
    "SELECT last_name, hire_date\n",
    "FROM employees\n",
    "WHERE hire_date BETWEEN '1994-01-01' AND '1997-12-31';"
   ]
  }
 ],
 "metadata": {
  "kernelspec": {
   "display_name": "xsqlite",
   "language": "sqlite",
   "name": "xsqlite"
  },
  "language_info": {
   "codemirror_mode": "sql",
   "file_extension": "",
   "mimetype": "",
   "name": "sql",
   "version": "3.33.0"
  }
 },
 "nbformat": 4,
 "nbformat_minor": 5
}
