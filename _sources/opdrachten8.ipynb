{
 "cells": [
  {
   "cell_type": "markdown",
   "id": "48554425-85ea-4272-811f-ef65b5f8f66a",
   "metadata": {},
   "source": [
    "# Opdrachten sectie 8"
   ]
  },
  {
   "cell_type": "code",
   "execution_count": null,
   "id": "d66cc0d1-9ae0-4685-80cc-42ae6f653d20",
   "metadata": {},
   "outputs": [],
   "source": [
    "%LOAD data/example.db"
   ]
  },
  {
   "cell_type": "markdown",
   "id": "f609e9fe-e4d5-4698-a6c8-03ae3d382215",
   "metadata": {},
   "source": [
    ":::{exercise}\n",
    "Query 1: Maak onderstaand overzicht na. Er is niet gesorteerd, maar let op de kolomnamen. Er is een telling gemaakt van de job_id's van de tabel employees.\n",
    "\n",
    " \n",
    "\n",
    "![](figs/clip0260.png)\n",
    ":::"
   ]
  },
  {
   "cell_type": "code",
   "execution_count": null,
   "id": "f6cb5a4b-a221-4b32-9069-7500c3a29afe",
   "metadata": {},
   "outputs": [],
   "source": [
    "SELECT 1;"
   ]
  },
  {
   "cell_type": "markdown",
   "id": "82b2ae41-fc7e-4080-97ce-8fb7f936ee40",
   "metadata": {},
   "source": [
    ":::{exercise}\n",
    "Query 2: Breid de query uit zodat je het volgende overzicht krijgt. Er is gesorteerd op aantal van hoog naar laag op de kolom met de aantallen en daarna alfabetisch op functie. Enkel de rijen met een aantal groter dan 1 moeten getoond worden.\n",
    "\n",
    " \n",
    "\n",
    "![](figs/clip0261.png)\n",
    ":::"
   ]
  },
  {
   "cell_type": "code",
   "execution_count": null,
   "id": "a30411bc-8184-4b00-800a-a649fea40a13",
   "metadata": {},
   "outputs": [],
   "source": [
    "SELECT 1;"
   ]
  },
  {
   "cell_type": "markdown",
   "id": "53c67631-fb0c-4a8f-8fc6-298174a84270",
   "metadata": {},
   "source": [
    ":::{exercise}\n",
    "Query 3: Maak onderstaand overzicht na. Let op de kolomnamen. De informatie komt uit de tabel locations. Er is niet gesorteerd.\n",
    "\n",
    "![](figs/clip0262.png)\n",
    "\n",
    ":::"
   ]
  },
  {
   "cell_type": "code",
   "execution_count": null,
   "id": "f90cf730-1275-40b6-a3c5-f1af73049a77",
   "metadata": {},
   "outputs": [],
   "source": [
    "SELECT 1;"
   ]
  },
  {
   "cell_type": "markdown",
   "id": "eb3933f2-b210-4350-8f3f-e73c44e39aee",
   "metadata": {},
   "source": [
    ":::{exercise}\n",
    "Query 4: Maak onderstaand overzicht na. Het is een overzicht van de department_id's met de aantallen. De informatie komt uit de tabel employees.\n",
    "\n",
    "![](figs/clip0263.png)\n",
    "\n",
    ":::"
   ]
  },
  {
   "cell_type": "code",
   "execution_count": null,
   "id": "ead1aa45-3f83-4205-87f9-e86d2c05fffb",
   "metadata": {},
   "outputs": [],
   "source": [
    "SELECT 1;"
   ]
  },
  {
   "cell_type": "markdown",
   "id": "b361a708-84d7-4881-957a-7731d56dcd9c",
   "metadata": {},
   "source": [
    ":::{exercise}\n",
    "Query 5: Pas de query van opdracht 4 aan zodat je onderstaand overzicht krijgt. Enkel de afdelingen met een aantal van meer dan twee moeten worden geselecteerd. Er is gesorteerd op aantal van hoog naar laag en daarna op afdeling.\n",
    "\n",
    "![](figs/clip0264.png)\n",
    "\n",
    ":::"
   ]
  },
  {
   "cell_type": "code",
   "execution_count": null,
   "id": "a96852dc-6c4b-4dd9-a2c8-4c3d00dc1fd7",
   "metadata": {},
   "outputs": [],
   "source": [
    "SELECT 1;"
   ]
  },
  {
   "cell_type": "markdown",
   "id": "15976d30-3144-40c1-95b8-26e91405b015",
   "metadata": {},
   "source": [
    ":::{exercise}\n",
    "Query 6: We passen de query nog verder aan. De afdelingen waar 'King' of 'Hunold' werken, mogen niet meetellen. Die afdelingen weet je niet  en je mag die niet \"met de hand\" opzoeken in de lijst, maar je kunt die nummers opvragen in een subquery. Hieronder zie je dat de afdelingen 60 en 90 niet meer worden getoond, maar je mag die informatie dus niet zomaar gebruiken, die moet je met een subquery opzoeken.\n",
    "\n",
    "![](figs/clip0265.png)\n",
    "\n",
    ":::"
   ]
  },
  {
   "cell_type": "code",
   "execution_count": null,
   "id": "a61af23e-4a67-401c-a8ca-764e15b40754",
   "metadata": {},
   "outputs": [],
   "source": [
    "SELECT 1;"
   ]
  },
  {
   "cell_type": "markdown",
   "id": "4324fffa-f46d-42ac-aa39-aeb8eebc562a",
   "metadata": {},
   "source": [
    ":::{exercise}\n",
    "Query 7: Maak onderstaand overzicht na. Het zijn de department_id's met de totale salarissen die daar bij horen. De informatie komt uit de tabel employees.\n",
    "\n",
    " \n",
    "\n",
    "![](figs/clip0266.png)\n",
    "\n",
    ":::"
   ]
  },
  {
   "cell_type": "code",
   "execution_count": null,
   "id": "8dfda737-0725-4695-ba17-91c2e640916c",
   "metadata": {},
   "outputs": [],
   "source": [
    "SELECT 1;"
   ]
  },
  {
   "cell_type": "markdown",
   "id": "ea65aebb-6517-4837-a1d9-bdfddfe2202a",
   "metadata": {},
   "source": [
    ":::{exercise}\n",
    "Query 8: Pas de query van opdracht 7 aan. De afdeling die NULL is mag niet meer meetellen. Enkel de afdelingen met meer dan 20.000 totaal moeten in beeld komen en er is gesorteerd op totaal_salaris van hoog naar laag.\n",
    "\n",
    "![](figs/clip0267.png)\n",
    "\n",
    ":::"
   ]
  },
  {
   "cell_type": "code",
   "execution_count": null,
   "id": "a99595df-93e7-4c27-81bb-a838bffc2f54",
   "metadata": {},
   "outputs": [],
   "source": [
    "SELECT 1;"
   ]
  },
  {
   "cell_type": "markdown",
   "id": "afbbb22d-bb93-4a5b-81ee-627e70baeb2c",
   "metadata": {},
   "source": [
    ":::{exercise}\n",
    "Query 9: Tenslotte gaan we de query van de opdrachten 7 en 8 nog een beetje aanpassen. Bij totaal_salaris moet er een dollarteken voor het bedrag komen, het bedrag is afgerond op nul decimalen en er staat een komma met een is-gelijk teken achter het bedrag.\n",
    "\n",
    "![](figs/clip0268.png)\n",
    "\n",
    ":::"
   ]
  },
  {
   "cell_type": "code",
   "execution_count": null,
   "id": "27bc4b13-baff-4689-8a5c-8990f64c93e6",
   "metadata": {},
   "outputs": [],
   "source": [
    "SELECT 1;"
   ]
  },
  {
   "cell_type": "markdown",
   "id": "7d758c99-e0d1-4b18-be64-8b37ea7e2245",
   "metadata": {},
   "source": [
    ":::{exercise}\n",
    "Query 10: Toon het gemiddeld aantal maanden dat er gewerkt is per afdeling. De informatie komt uit de tabel job_history. Er is gesorteerd van hoog naar laag op de tweede kolom. Je neemt het verschil tussen de datums start_date en end_date en daar moet het gemiddelde van worden getoond per department_id.\n",
    "\n",
    "![](figs/clip0269.png)\n",
    "\n",
    ":::"
   ]
  },
  {
   "cell_type": "code",
   "execution_count": null,
   "id": "fe4ecc28-9d81-4299-820f-0cc7f2e6abef",
   "metadata": {},
   "outputs": [],
   "source": [
    "SELECT 1;"
   ]
  }
 ],
 "metadata": {
  "kernelspec": {
   "display_name": "xsqlite",
   "language": "sqlite",
   "name": "xsqlite"
  },
  "language_info": {
   "codemirror_mode": "sql",
   "file_extension": "",
   "mimetype": "",
   "name": "sql",
   "version": "3.33.0"
  }
 },
 "nbformat": 4,
 "nbformat_minor": 5
}
