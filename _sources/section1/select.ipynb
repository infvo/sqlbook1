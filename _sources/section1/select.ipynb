{
 "cells": [
  {
   "cell_type": "markdown",
   "id": "7bbbe501-0863-4b1f-ae42-0c89a5171a3c",
   "metadata": {},
   "source": [
    "(select)=\n",
    "# SELECT"
   ]
  },
  {
   "cell_type": "code",
   "execution_count": 1,
   "id": "5411937b-fb9e-4515-b57f-c54852f12b13",
   "metadata": {
    "tags": []
   },
   "outputs": [],
   "source": [
    "%LOAD ../data/employees.db"
   ]
  },
  {
   "cell_type": "markdown",
   "id": "7332e308-5a31-41ea-ac98-8dfea9e62bd8",
   "metadata": {},
   "source": [
    "Met `SELECT` kun je data selecteren van een database. Met `FROM` geef je aan uit welke tabel de informatie gehaald moet worden. En met `WHERE` kun je voorwaarden stellen aan de selectie.\n",
    "\n",
    "Om alle rijen en kolommen van een tabel op te halen, gebruik je de volgende query."
   ]
  },
  {
   "cell_type": "markdown",
   "id": "4269def3-fccb-47e8-8d25-a58921c134b5",
   "metadata": {
    "tags": []
   },
   "source": [
    "```sql\n",
    "SELECT * \n",
    "FROM tabelnaam;\n",
    "```"
   ]
  },
  {
   "cell_type": "code",
   "execution_count": 2,
   "id": "71d60439-7e2e-4e35-a3ae-a5750e764af0",
   "metadata": {
    "tags": []
   },
   "outputs": [
    {
     "data": {
      "text/html": [
       "<table>\n",
       "<tr>\n",
       "<th>region_id</th>\n",
       "<th>region_name</th>\n",
       "</tr>\n",
       "<tr>\n",
       "<td>1.0</td>\n",
       "<td>Europe</td>\n",
       "</tr>\n",
       "<tr>\n",
       "<td>2.0</td>\n",
       "<td>Americas</td>\n",
       "</tr>\n",
       "<tr>\n",
       "<td>3.0</td>\n",
       "<td>Asia</td>\n",
       "</tr>\n",
       "<tr>\n",
       "<td>4.0</td>\n",
       "<td>Middle East and Africa</td>\n",
       "</tr>\n",
       "</table>"
      ],
      "text/plain": [
       "+-----------+------------------------+\n",
       "| region_id | region_name            |\n",
       "+-----------+------------------------+\n",
       "| 1.0       | Europe                 |\n",
       "+-----------+------------------------+\n",
       "| 2.0       | Americas               |\n",
       "+-----------+------------------------+\n",
       "| 3.0       | Asia                   |\n",
       "+-----------+------------------------+\n",
       "| 4.0       | Middle East and Africa |\n",
       "+-----------+------------------------+"
      ]
     },
     "execution_count": 2,
     "metadata": {},
     "output_type": "execute_result"
    }
   ],
   "source": [
    "SELECT *\n",
    "FROM regions;"
   ]
  },
  {
   "cell_type": "markdown",
   "id": "68223fa7-597a-4d78-a79d-4f2b07fccbac",
   "metadata": {},
   "source": [
    "Je kunt ook een beperkt aantal kolommen ophalen. Dat doe je als volgt."
   ]
  },
  {
   "cell_type": "markdown",
   "id": "bdf0a99f-12c1-4886-8598-ddac6ae9b033",
   "metadata": {},
   "source": [
    "```sql\n",
    "SELECT kolom1, kolom2, ...\n",
    "FROM tabelnaam;\n",
    "```\n",
    "\n",
    "Bijvoorbeeld:"
   ]
  },
  {
   "cell_type": "code",
   "execution_count": 4,
   "id": "65d9e321-b82e-4e15-9fa0-eae52571ff44",
   "metadata": {
    "tags": []
   },
   "outputs": [
    {
     "data": {
      "text/html": [
       "<table>\n",
       "<tr>\n",
       "<th>first_name</th>\n",
       "<th>last_name</th>\n",
       "<th>job_id</th>\n",
       "</tr>\n",
       "<tr>\n",
       "<td>Steven</td>\n",
       "<td>King</td>\n",
       "<td>AD_PRES</td>\n",
       "</tr>\n",
       "<tr>\n",
       "<td>Neena</td>\n",
       "<td>Kochhar</td>\n",
       "<td>AD_VP</td>\n",
       "</tr>\n",
       "<tr>\n",
       "<td>Lex</td>\n",
       "<td>De Haan</td>\n",
       "<td>AD_VP</td>\n",
       "</tr>\n",
       "<tr>\n",
       "<td>Alexander</td>\n",
       "<td>Hunold</td>\n",
       "<td>IT_PROG</td>\n",
       "</tr>\n",
       "<tr>\n",
       "<td>Bruce</td>\n",
       "<td>Ernst</td>\n",
       "<td>IT_PROG</td>\n",
       "</tr>\n",
       "<tr>\n",
       "<td>Diana</td>\n",
       "<td>Lorentz</td>\n",
       "<td>IT_PROG</td>\n",
       "</tr>\n",
       "<tr>\n",
       "<td>Kevin</td>\n",
       "<td>Mourgos</td>\n",
       "<td>ST_MAN</td>\n",
       "</tr>\n",
       "<tr>\n",
       "<td>Trenna</td>\n",
       "<td>Rajs</td>\n",
       "<td>ST_CLERK</td>\n",
       "</tr>\n",
       "<tr>\n",
       "<td>Curtis</td>\n",
       "<td>Davies</td>\n",
       "<td>ST_CLERK</td>\n",
       "</tr>\n",
       "<tr>\n",
       "<td>Randall</td>\n",
       "<td>Matos</td>\n",
       "<td>ST_CLERK</td>\n",
       "</tr>\n",
       "<tr>\n",
       "<td>Peter</td>\n",
       "<td>Vargas</td>\n",
       "<td>ST_CLERK</td>\n",
       "</tr>\n",
       "<tr>\n",
       "<td>Eleni</td>\n",
       "<td>Zlotkey</td>\n",
       "<td>SA_MAN</td>\n",
       "</tr>\n",
       "<tr>\n",
       "<td>Ellen</td>\n",
       "<td>Abel</td>\n",
       "<td>SA_REP</td>\n",
       "</tr>\n",
       "<tr>\n",
       "<td>Jonathon</td>\n",
       "<td>Taylor</td>\n",
       "<td>SA_REP</td>\n",
       "</tr>\n",
       "<tr>\n",
       "<td>Kimberely</td>\n",
       "<td>Grant</td>\n",
       "<td>SA_REP</td>\n",
       "</tr>\n",
       "<tr>\n",
       "<td>Jennifer</td>\n",
       "<td>Whalen</td>\n",
       "<td>AD_ASST</td>\n",
       "</tr>\n",
       "<tr>\n",
       "<td>Michael</td>\n",
       "<td>Hartstein</td>\n",
       "<td>MK_MAN</td>\n",
       "</tr>\n",
       "<tr>\n",
       "<td>Pat</td>\n",
       "<td>Fay</td>\n",
       "<td>MK_REP</td>\n",
       "</tr>\n",
       "<tr>\n",
       "<td>Shelley</td>\n",
       "<td>Higgins</td>\n",
       "<td>AC_MGR</td>\n",
       "</tr>\n",
       "<tr>\n",
       "<td>William</td>\n",
       "<td>Gietz</td>\n",
       "<td>AC_ACCOUNT</td>\n",
       "</tr>\n",
       "</table>"
      ],
      "text/plain": [
       "+------------+-----------+------------+\n",
       "| first_name | last_name | job_id     |\n",
       "+------------+-----------+------------+\n",
       "| Steven     | King      | AD_PRES    |\n",
       "+------------+-----------+------------+\n",
       "| Neena      | Kochhar   | AD_VP      |\n",
       "+------------+-----------+------------+\n",
       "| Lex        | De Haan   | AD_VP      |\n",
       "+------------+-----------+------------+\n",
       "| Alexander  | Hunold    | IT_PROG    |\n",
       "+------------+-----------+------------+\n",
       "| Bruce      | Ernst     | IT_PROG    |\n",
       "+------------+-----------+------------+\n",
       "| Diana      | Lorentz   | IT_PROG    |\n",
       "+------------+-----------+------------+\n",
       "| Kevin      | Mourgos   | ST_MAN     |\n",
       "+------------+-----------+------------+\n",
       "| Trenna     | Rajs      | ST_CLERK   |\n",
       "+------------+-----------+------------+\n",
       "| Curtis     | Davies    | ST_CLERK   |\n",
       "+------------+-----------+------------+\n",
       "| Randall    | Matos     | ST_CLERK   |\n",
       "+------------+-----------+------------+\n",
       "| Peter      | Vargas    | ST_CLERK   |\n",
       "+------------+-----------+------------+\n",
       "| Eleni      | Zlotkey   | SA_MAN     |\n",
       "+------------+-----------+------------+\n",
       "| Ellen      | Abel      | SA_REP     |\n",
       "+------------+-----------+------------+\n",
       "| Jonathon   | Taylor    | SA_REP     |\n",
       "+------------+-----------+------------+\n",
       "| Kimberely  | Grant     | SA_REP     |\n",
       "+------------+-----------+------------+\n",
       "| Jennifer   | Whalen    | AD_ASST    |\n",
       "+------------+-----------+------------+\n",
       "| Michael    | Hartstein | MK_MAN     |\n",
       "+------------+-----------+------------+\n",
       "| Pat        | Fay       | MK_REP     |\n",
       "+------------+-----------+------------+\n",
       "| Shelley    | Higgins   | AC_MGR     |\n",
       "+------------+-----------+------------+\n",
       "| William    | Gietz     | AC_ACCOUNT |\n",
       "+------------+-----------+------------+"
      ]
     },
     "execution_count": 4,
     "metadata": {},
     "output_type": "execute_result"
    }
   ],
   "source": [
    "SELECT first_name, last_name, job_id\n",
    "FROM employees;"
   ]
  },
  {
   "cell_type": "markdown",
   "id": "77fa3e0f-6929-47fb-99a3-13ccc754fd8c",
   "metadata": {},
   "source": [
    "De voorwaarde waaraan voldaan moet worden, stel je met `WHERE`."
   ]
  },
  {
   "cell_type": "markdown",
   "id": "696489f8-7ad7-4b69-b95f-950b018ea347",
   "metadata": {},
   "source": [
    "```sql\n",
    "SELECT kolom1, kolom2, ...\n",
    "FROM tabelnaam\n",
    "WHERE ...;\n",
    "```"
   ]
  },
  {
   "cell_type": "code",
   "execution_count": 5,
   "id": "f2a42101-b2d4-4f2d-a678-c90c45569ce2",
   "metadata": {
    "tags": []
   },
   "outputs": [
    {
     "data": {
      "text/html": [
       "<table>\n",
       "<tr>\n",
       "<th>first_name</th>\n",
       "<th>last_name</th>\n",
       "<th>job_id</th>\n",
       "</tr>\n",
       "<tr>\n",
       "<td>Ellen</td>\n",
       "<td>Abel</td>\n",
       "<td>SA_REP</td>\n",
       "</tr>\n",
       "<tr>\n",
       "<td>Jonathon</td>\n",
       "<td>Taylor</td>\n",
       "<td>SA_REP</td>\n",
       "</tr>\n",
       "<tr>\n",
       "<td>Kimberely</td>\n",
       "<td>Grant</td>\n",
       "<td>SA_REP</td>\n",
       "</tr>\n",
       "</table>"
      ],
      "text/plain": [
       "+------------+-----------+--------+\n",
       "| first_name | last_name | job_id |\n",
       "+------------+-----------+--------+\n",
       "| Ellen      | Abel      | SA_REP |\n",
       "+------------+-----------+--------+\n",
       "| Jonathon   | Taylor    | SA_REP |\n",
       "+------------+-----------+--------+\n",
       "| Kimberely  | Grant     | SA_REP |\n",
       "+------------+-----------+--------+"
      ]
     },
     "execution_count": 5,
     "metadata": {},
     "output_type": "execute_result"
    }
   ],
   "source": [
    "SELECT first_name, last_name, job_id\n",
    "FROM employees\n",
    "WHERE job_id = 'SA_REP';"
   ]
  }
 ],
 "metadata": {
  "kernelspec": {
   "display_name": "xsqlite",
   "language": "sqlite",
   "name": "xsqlite"
  },
  "language_info": {
   "codemirror_mode": "sql",
   "file_extension": "",
   "mimetype": "",
   "name": "sql",
   "version": "3.33.0"
  }
 },
 "nbformat": 4,
 "nbformat_minor": 5
}
