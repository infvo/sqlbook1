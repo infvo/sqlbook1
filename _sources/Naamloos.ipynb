{
 "cells": [
  {
   "cell_type": "code",
   "execution_count": null,
   "id": "087f3fa0-d9d6-4ddf-9914-d0adb6d1f1a9",
   "metadata": {},
   "outputs": [],
   "source": [
    "# Opdrachten 1"
   ]
  }
 ],
 "metadata": {
  "kernelspec": {
   "display_name": "xsqlite",
   "language": "sqlite",
   "name": "xsqlite"
  },
  "language_info": {
   "codemirror_mode": "sql",
   "file_extension": "",
   "mimetype": "",
   "name": "sql",
   "version": "3.33.0"
  }
 },
 "nbformat": 4,
 "nbformat_minor": 5
}
