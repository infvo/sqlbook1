{
 "cells": [
  {
   "cell_type": "markdown",
   "id": "f377e87a-1222-4376-8b9c-78fe501a29e3",
   "metadata": {},
   "source": [
    "# Subquery"
   ]
  },
  {
   "cell_type": "code",
   "execution_count": 2,
   "id": "a8f3c649-2952-4e28-97a2-3befcd94e4ab",
   "metadata": {
    "tags": []
   },
   "outputs": [],
   "source": [
    "%LOAD ../data/employees.db"
   ]
  },
  {
   "cell_type": "markdown",
   "id": "8350b2b8-2a84-4f05-96eb-218b6fa3fc5a",
   "metadata": {},
   "source": [
    "Met een subquery kun je eerst informatie opvragen die je nog niet weet. Op basis van die informatie kun je vervolgens een nieuwe query maken. Stel bijvoorbeeld dat je een overzicht wil maken van alle werknemers die in dienst zijn gekomen na Peter Vargas. Dan zul je eerst moeten weten wanneer Peter Vargas in dienst is gekomen!\n",
    "\n",
    "\n",
    "Eerst maar eens een heel foute manier!"
   ]
  },
  {
   "cell_type": "code",
   "execution_count": 2,
   "id": "ad8b1af9-41e7-4654-a336-6871ca1e4319",
   "metadata": {
    "tags": []
   },
   "outputs": [
    {
     "data": {
      "text/html": [
       "<table>\n",
       "<tr>\n",
       "<th>first_name</th>\n",
       "<th>last_name</th>\n",
       "<th>hire_date</th>\n",
       "</tr>\n",
       "<tr>\n",
       "<td>Diana</td>\n",
       "<td>Lorentz</td>\n",
       "<td>1999-02-07</td>\n",
       "</tr>\n",
       "<tr>\n",
       "<td>Kevin</td>\n",
       "<td>Mourgos</td>\n",
       "<td>1999-11-16</td>\n",
       "</tr>\n",
       "<tr>\n",
       "<td>Eleni</td>\n",
       "<td>Zlotkey</td>\n",
       "<td>2000-01-29</td>\n",
       "</tr>\n",
       "<tr>\n",
       "<td>Kimberely</td>\n",
       "<td>Grant</td>\n",
       "<td>1999-05-24</td>\n",
       "</tr>\n",
       "</table>"
      ],
      "text/plain": [
       "+------------+-----------+------------+\n",
       "| first_name | last_name | hire_date  |\n",
       "+------------+-----------+------------+\n",
       "| Diana      | Lorentz   | 1999-02-07 |\n",
       "+------------+-----------+------------+\n",
       "| Kevin      | Mourgos   | 1999-11-16 |\n",
       "+------------+-----------+------------+\n",
       "| Eleni      | Zlotkey   | 2000-01-29 |\n",
       "+------------+-----------+------------+\n",
       "| Kimberely  | Grant     | 1999-05-24 |\n",
       "+------------+-----------+------------+"
      ]
     },
     "execution_count": 2,
     "metadata": {},
     "output_type": "execute_result"
    }
   ],
   "source": [
    "SELECT first_name, last_name, hire_date\n",
    "FROM employees\n",
    "WHERE hire_date > '1998-07-09';"
   ]
  },
  {
   "cell_type": "markdown",
   "id": "ebaf3d61-39cd-43cb-b531-178bff439e42",
   "metadata": {},
   "source": [
    "Deze manier is erg verkeerd omdat je niet kunt weten dat de hire_date van Peter Vargas 1998-07-09 is. Dat heb je waarschijnlijk opgezocht in de papieren versie of in PHPMyAdmin in de tabel employees. En dat mag dus niet!"
   ]
  },
  {
   "cell_type": "markdown",
   "id": "86d971f8-e884-42a1-b6ce-9fbe1d9d094e",
   "metadata": {},
   "source": [
    "Je moet eerst de hire_date van Peter Vargas ophalen met een query."
   ]
  },
  {
   "cell_type": "code",
   "execution_count": 3,
   "id": "b42ef04c-08a4-42bc-a37e-cb5c237d4ece",
   "metadata": {
    "tags": []
   },
   "outputs": [
    {
     "data": {
      "text/html": [
       "<table>\n",
       "<tr>\n",
       "<th>hire_date</th>\n",
       "</tr>\n",
       "<tr>\n",
       "<td>1998-07-09</td>\n",
       "</tr>\n",
       "</table>"
      ],
      "text/plain": [
       "+------------+\n",
       "| hire_date  |\n",
       "+------------+\n",
       "| 1998-07-09 |\n",
       "+------------+"
      ]
     },
     "execution_count": 3,
     "metadata": {},
     "output_type": "execute_result"
    }
   ],
   "source": [
    "SELECT hire_date\n",
    "FROM employees\n",
    "WHERE last_name = 'Vargas';"
   ]
  },
  {
   "cell_type": "markdown",
   "id": "bd7b1b0e-08bf-4a0b-8f81-ccc1458b7aae",
   "metadata": {},
   "source": [
    "Dan neem je die query en die zet je tussen haakjes. Dit gedeelte noemen we de subquery of ook wel de inner query.\n",
    "\n",
    "```SQL\n",
    "(SELECT hire_date\n",
    "FROM employees\n",
    "WHERE last_name = 'Vargas')\n",
    "```\n",
    "\n",
    "En dan zetten we daar een andere query voor. Dit gedeelte is de main query of ook wel de outer query genoemd."
   ]
  },
  {
   "cell_type": "code",
   "execution_count": 4,
   "id": "4c78118b-d1a3-4b8a-b109-35479dc2018b",
   "metadata": {
    "tags": []
   },
   "outputs": [
    {
     "data": {
      "text/html": [
       "<table>\n",
       "<tr>\n",
       "<th>first_name</th>\n",
       "<th>last_name</th>\n",
       "<th>hire_date</th>\n",
       "</tr>\n",
       "<tr>\n",
       "<td>Diana</td>\n",
       "<td>Lorentz</td>\n",
       "<td>1999-02-07</td>\n",
       "</tr>\n",
       "<tr>\n",
       "<td>Kevin</td>\n",
       "<td>Mourgos</td>\n",
       "<td>1999-11-16</td>\n",
       "</tr>\n",
       "<tr>\n",
       "<td>Eleni</td>\n",
       "<td>Zlotkey</td>\n",
       "<td>2000-01-29</td>\n",
       "</tr>\n",
       "<tr>\n",
       "<td>Kimberely</td>\n",
       "<td>Grant</td>\n",
       "<td>1999-05-24</td>\n",
       "</tr>\n",
       "</table>"
      ],
      "text/plain": [
       "+------------+-----------+------------+\n",
       "| first_name | last_name | hire_date  |\n",
       "+------------+-----------+------------+\n",
       "| Diana      | Lorentz   | 1999-02-07 |\n",
       "+------------+-----------+------------+\n",
       "| Kevin      | Mourgos   | 1999-11-16 |\n",
       "+------------+-----------+------------+\n",
       "| Eleni      | Zlotkey   | 2000-01-29 |\n",
       "+------------+-----------+------------+\n",
       "| Kimberely  | Grant     | 1999-05-24 |\n",
       "+------------+-----------+------------+"
      ]
     },
     "execution_count": 4,
     "metadata": {},
     "output_type": "execute_result"
    }
   ],
   "source": [
    "SELECT first_name, last_name, hire_date\n",
    "FROM employees\n",
    "WHERE hire_date >\n",
    "    (SELECT hire_date\n",
    "     FROM employees\n",
    "     WHERE last_name = 'Vargas');"
   ]
  },
  {
   "cell_type": "markdown",
   "id": "b6ad4932-2ece-41bc-8115-2f4f24f73dff",
   "metadata": {},
   "source": [
    "Een ander voorbeeld: Wie werkt er op dezelfde afdeling als `Lex De Haan`?\n",
    "\n",
    "Eerst vraag je het `department_id` op van `De Haan`."
   ]
  },
  {
   "cell_type": "code",
   "execution_count": 5,
   "id": "d977b82a-c703-40a9-b605-2aad137072c2",
   "metadata": {
    "tags": []
   },
   "outputs": [
    {
     "data": {
      "text/html": [
       "<table>\n",
       "<tr>\n",
       "<th>department_id</th>\n",
       "</tr>\n",
       "<tr>\n",
       "<td>90</td>\n",
       "</tr>\n",
       "</table>"
      ],
      "text/plain": [
       "+---------------+\n",
       "| department_id |\n",
       "+---------------+\n",
       "| 90            |\n",
       "+---------------+"
      ]
     },
     "execution_count": 5,
     "metadata": {},
     "output_type": "execute_result"
    }
   ],
   "source": [
    "SELECT department_id\n",
    "FROM employees\n",
    "WHERE last_name = 'De Haan'; "
   ]
  },
  {
   "cell_type": "markdown",
   "id": "7b312374-f538-434a-8211-a1192a1dfbc0",
   "metadata": {},
   "source": [
    "Neem die query en zet die tussen haakjes."
   ]
  },
  {
   "cell_type": "markdown",
   "id": "be716f06-3018-462f-a338-0d0e8d24c92b",
   "metadata": {},
   "source": [
    "```SQL \n",
    "(SELECT department_id\n",
    " FROM employees\n",
    " WHERE last_name = 'De Haan')\n",
    " ```"
   ]
  },
  {
   "cell_type": "markdown",
   "id": "1a5af26a-db62-45d4-b45b-84ee2226ed27",
   "metadata": {},
   "source": [
    "En dan zetten we daar een andere query voor."
   ]
  },
  {
   "cell_type": "code",
   "execution_count": 6,
   "id": "75b563da-b081-41bf-9d33-9d63a886f47d",
   "metadata": {
    "tags": []
   },
   "outputs": [
    {
     "data": {
      "text/html": [
       "<table>\n",
       "<tr>\n",
       "<th>last_name</th>\n",
       "</tr>\n",
       "<tr>\n",
       "<td>King</td>\n",
       "</tr>\n",
       "<tr>\n",
       "<td>Kochhar</td>\n",
       "</tr>\n",
       "<tr>\n",
       "<td>De Haan</td>\n",
       "</tr>\n",
       "</table>"
      ],
      "text/plain": [
       "+-----------+\n",
       "| last_name |\n",
       "+-----------+\n",
       "| King      |\n",
       "+-----------+\n",
       "| Kochhar   |\n",
       "+-----------+\n",
       "| De Haan   |\n",
       "+-----------+"
      ]
     },
     "execution_count": 6,
     "metadata": {},
     "output_type": "execute_result"
    }
   ],
   "source": [
    "SELECT last_name\n",
    "FROM employees\n",
    "WHERE department_id =\n",
    "    (SELECT department_id\n",
    "     FROM employees\n",
    "     WHERE last_name = 'De Haan');"
   ]
  },
  {
   "cell_type": "markdown",
   "id": "2c289843-62d0-4917-b730-a8c5fa9e852e",
   "metadata": {},
   "source": [
    "Wil je daar De Haan zelf niet bij? Dan zet je in de WHERE met != erbij dat de achternaam niet gelijk mag zijn aan De Haan."
   ]
  },
  {
   "cell_type": "code",
   "execution_count": 7,
   "id": "d852f908-fd7b-471b-9ad1-d10a7bd28df4",
   "metadata": {
    "tags": []
   },
   "outputs": [
    {
     "data": {
      "text/html": [
       "<table>\n",
       "<tr>\n",
       "<th>last_name</th>\n",
       "</tr>\n",
       "<tr>\n",
       "<td>King</td>\n",
       "</tr>\n",
       "<tr>\n",
       "<td>Kochhar</td>\n",
       "</tr>\n",
       "</table>"
      ],
      "text/plain": [
       "+-----------+\n",
       "| last_name |\n",
       "+-----------+\n",
       "| King      |\n",
       "+-----------+\n",
       "| Kochhar   |\n",
       "+-----------+"
      ]
     },
     "execution_count": 7,
     "metadata": {},
     "output_type": "execute_result"
    }
   ],
   "source": [
    "SELECT last_name\n",
    "FROM employees\n",
    "WHERE last_name != 'De Haan' AND department_id =\n",
    "    (SELECT department_id\n",
    "     FROM employees\n",
    "     WHERE last_name = 'De Haan');"
   ]
  },
  {
   "cell_type": "markdown",
   "id": "3234ec9e-2973-4b8e-9a04-b5daa14cbcc0",
   "metadata": {},
   "source": [
    "Er zijn twee soorten subquery's:\n",
    "\n",
    "* single-row subquery's\n",
    "* multiple-row subquery's"
   ]
  },
  {
   "cell_type": "markdown",
   "id": "fbe253e0-9b44-4f7e-b25b-0570e4523481",
   "metadata": {},
   "source": [
    "## Single-row\n",
    "\n",
    "* Single-row subquery's geven maar één rij terug.\n",
    "* Ze gebruiken single-row vergelijkingsoperatoren:\n",
    "    * `=  >  >=  <=  <> !=`\n",
    "* De subquery komt tussen haakjes.\n",
    "* Voor de bovenste en de onderste query kun je verschillende tabellen gebruiken.\n",
    "* Je mag maar één keer ORDER BY gebruiken en dat moet de laatste regel zijn van de bovenste query (main SELECT statement). Die komt dus helemaal onderaan."
   ]
  },
  {
   "cell_type": "markdown",
   "id": "dc1a6eda-45db-4bb7-8d4e-2688409effee",
   "metadata": {},
   "source": [
    "Wie werkt er allemaal op de afdeling Marketing? Dat zijn de personen met hetzelfde department_id, het department_id van de afdeling Marketing.\n",
    "\n",
    "Eerst haal je dus het department_id op van de afdeling Marketing. Dat staat in de tabel departments."
   ]
  },
  {
   "cell_type": "code",
   "execution_count": 8,
   "id": "d0bc3409-ee9b-4250-9e77-3877c9467def",
   "metadata": {
    "tags": []
   },
   "outputs": [
    {
     "data": {
      "text/html": [
       "<table>\n",
       "<tr>\n",
       "<th>department_id</th>\n",
       "</tr>\n",
       "<tr>\n",
       "<td>20</td>\n",
       "</tr>\n",
       "</table>"
      ],
      "text/plain": [
       "+---------------+\n",
       "| department_id |\n",
       "+---------------+\n",
       "| 20            |\n",
       "+---------------+"
      ]
     },
     "execution_count": 8,
     "metadata": {},
     "output_type": "execute_result"
    }
   ],
   "source": [
    "SELECT department_id\n",
    "FROM departments\n",
    "WHERE department_name = 'Marketing';"
   ]
  },
  {
   "cell_type": "markdown",
   "id": "ec34d393-34ac-4656-bcb5-ffbd38e0b16f",
   "metadata": {},
   "source": [
    "Zet die query tussen haakjes en zet er een andere query voor. Voor de duidelijkheid laten we de subquery inspringen."
   ]
  },
  {
   "cell_type": "code",
   "execution_count": 9,
   "id": "97422463-6e10-4239-93fb-4fb3607e3835",
   "metadata": {
    "tags": []
   },
   "outputs": [
    {
     "data": {
      "text/html": [
       "<table>\n",
       "<tr>\n",
       "<th>last_name</th>\n",
       "<th>job_id</th>\n",
       "<th>department_id</th>\n",
       "</tr>\n",
       "<tr>\n",
       "<td>Hartstein</td>\n",
       "<td>MK_MAN</td>\n",
       "<td>20</td>\n",
       "</tr>\n",
       "<tr>\n",
       "<td>Fay</td>\n",
       "<td>MK_REP</td>\n",
       "<td>20</td>\n",
       "</tr>\n",
       "</table>"
      ],
      "text/plain": [
       "+-----------+--------+---------------+\n",
       "| last_name | job_id | department_id |\n",
       "+-----------+--------+---------------+\n",
       "| Hartstein | MK_MAN | 20            |\n",
       "+-----------+--------+---------------+\n",
       "| Fay       | MK_REP | 20            |\n",
       "+-----------+--------+---------------+"
      ]
     },
     "execution_count": 9,
     "metadata": {},
     "output_type": "execute_result"
    }
   ],
   "source": [
    "SELECT last_name, job_id, department_id\n",
    "FROM employees\n",
    "WHERE department_id =\n",
    " (SELECT department_id\n",
    "  FROM departments\n",
    "  WHERE department_name = 'Marketing')\n",
    "ORDER BY job_id;"
   ]
  },
  {
   "cell_type": "markdown",
   "id": "b27ce8b3-59cf-43cb-8e49-bf640d71aa0e",
   "metadata": {},
   "source": [
    "Je kunt meerdere subquery's gebruiken."
   ]
  },
  {
   "cell_type": "code",
   "execution_count": 10,
   "id": "d66338f0-a874-4d62-bdbe-2fb54c1b7c52",
   "metadata": {
    "tags": []
   },
   "outputs": [
    {
     "data": {
      "text/html": [
       "<table>\n",
       "<tr>\n",
       "<th>last_name</th>\n",
       "<th>job_id</th>\n",
       "<th>salary</th>\n",
       "<th>department_id</th>\n",
       "</tr>\n",
       "<tr>\n",
       "<td>Rajs</td>\n",
       "<td>ST_CLERK</td>\n",
       "<td>3500</td>\n",
       "<td>50</td>\n",
       "</tr>\n",
       "<tr>\n",
       "<td>Davies</td>\n",
       "<td>ST_CLERK</td>\n",
       "<td>3100</td>\n",
       "<td>50</td>\n",
       "</tr>\n",
       "<tr>\n",
       "<td>Matos</td>\n",
       "<td>ST_CLERK</td>\n",
       "<td>2600</td>\n",
       "<td>50</td>\n",
       "</tr>\n",
       "<tr>\n",
       "<td>Vargas</td>\n",
       "<td>ST_CLERK</td>\n",
       "<td>2500</td>\n",
       "<td>50</td>\n",
       "</tr>\n",
       "</table>"
      ],
      "text/plain": [
       "+-----------+----------+--------+---------------+\n",
       "| last_name | job_id   | salary | department_id |\n",
       "+-----------+----------+--------+---------------+\n",
       "| Rajs      | ST_CLERK | 3500   | 50            |\n",
       "+-----------+----------+--------+---------------+\n",
       "| Davies    | ST_CLERK | 3100   | 50            |\n",
       "+-----------+----------+--------+---------------+\n",
       "| Matos     | ST_CLERK | 2600   | 50            |\n",
       "+-----------+----------+--------+---------------+\n",
       "| Vargas    | ST_CLERK | 2500   | 50            |\n",
       "+-----------+----------+--------+---------------+"
      ]
     },
     "execution_count": 10,
     "metadata": {},
     "output_type": "execute_result"
    }
   ],
   "source": [
    "SELECT last_name, job_id, salary, department_id\n",
    "FROM employees\n",
    "WHERE job_id =\n",
    " (SELECT job_id\n",
    "  FROM employees\n",
    "  WHERE employee_id = 141)\n",
    "AND department_id =\n",
    " (SELECT department_id\n",
    "  FROM departments\n",
    "  WHERE location_id = 1500);"
   ]
  },
  {
   "cell_type": "markdown",
   "id": "047d6d18-f5d4-4b17-856c-d72e368c7a72",
   "metadata": {},
   "source": [
    "## Multiple-row\n",
    "\n",
    "* Multiple-row subquery's kunnen meer dan één resultaat opleveren. Dan kun je de single-row operators (zoals bijvoorbeeld het = teken) niet gebruiken.\n",
    "* Ze gebruiken multiple-row vergelijkingsoperatoren:\n",
    "    * `IN  ANY  ALL`\n",
    "* De NOT operators kan bij alle drie gebruikt worden.\n",
    "\n",
    "**Naar IN zullen we kijken maar ANY en ALL laten we buiten beschouwing in deze cursus.**\n",
    "\n",
    "Met de IN operator in de outer query kun je alle rijen selecteren die voorkomen in een *lijstje van waarden* dat gemaakt is met de inner query.\n",
    "\n",
    "Stel dat we alle namen van werknemers willen die in hetzelfde jaar zijn aangenomen als werknemers van afdeling 90. Eerst moeten we een subquery (inner query) maken om een lijstje op te halen met de jaren waarin werknemers van afdeling 90 zijn aangenomen."
   ]
  },
  {
   "cell_type": "code",
   "execution_count": 13,
   "id": "8060dfec-5bf9-4ad3-bfdb-de287221c4b5",
   "metadata": {
    "tags": []
   },
   "outputs": [
    {
     "data": {
      "text/html": [
       "<table>\n",
       "<tr>\n",
       "<th>strftime('%Y', hire_date)</th>\n",
       "</tr>\n",
       "<tr>\n",
       "<td>1987</td>\n",
       "</tr>\n",
       "<tr>\n",
       "<td>1989</td>\n",
       "</tr>\n",
       "<tr>\n",
       "<td>1993</td>\n",
       "</tr>\n",
       "</table>"
      ],
      "text/plain": [
       "+---------------------------+\n",
       "| strftime('%Y', hire_date) |\n",
       "+---------------------------+\n",
       "| 1987                      |\n",
       "+---------------------------+\n",
       "| 1989                      |\n",
       "+---------------------------+\n",
       "| 1993                      |\n",
       "+---------------------------+"
      ]
     },
     "execution_count": 13,
     "metadata": {},
     "output_type": "execute_result"
    }
   ],
   "source": [
    "SELECT strftime('%Y', hire_date)\n",
    "FROM employees\n",
    "WHERE department_id = 90;"
   ]
  },
  {
   "cell_type": "markdown",
   "id": "4e546a55-5602-4064-8c47-0fa0e4ab94b7",
   "metadata": {},
   "source": [
    "Die subquery zetten we tussen haakjes en daar zetten we de outer query boven."
   ]
  },
  {
   "cell_type": "code",
   "execution_count": 16,
   "id": "b0863e31-8571-4424-bde3-cc2483ad96fb",
   "metadata": {
    "tags": []
   },
   "outputs": [
    {
     "data": {
      "text/html": [
       "<table>\n",
       "<tr>\n",
       "<th>last_name</th>\n",
       "<th>year</th>\n",
       "</tr>\n",
       "<tr>\n",
       "<td>King</td>\n",
       "<td>1987</td>\n",
       "</tr>\n",
       "<tr>\n",
       "<td>Kochhar</td>\n",
       "<td>1989</td>\n",
       "</tr>\n",
       "<tr>\n",
       "<td>De Haan</td>\n",
       "<td>1993</td>\n",
       "</tr>\n",
       "<tr>\n",
       "<td>Whalen</td>\n",
       "<td>1987</td>\n",
       "</tr>\n",
       "</table>"
      ],
      "text/plain": [
       "+-----------+------+\n",
       "| last_name | year |\n",
       "+-----------+------+\n",
       "| King      | 1987 |\n",
       "+-----------+------+\n",
       "| Kochhar   | 1989 |\n",
       "+-----------+------+\n",
       "| De Haan   | 1993 |\n",
       "+-----------+------+\n",
       "| Whalen    | 1987 |\n",
       "+-----------+------+"
      ]
     },
     "execution_count": 16,
     "metadata": {},
     "output_type": "execute_result"
    }
   ],
   "source": [
    "SELECT last_name, strftime('%Y', hire_date) as year\n",
    "FROM employees\n",
    "WHERE year IN\n",
    " (SELECT strftime('%Y', hire_date)\n",
    "  FROM employees\n",
    "  WHERE department_id = 90);"
   ]
  },
  {
   "cell_type": "markdown",
   "id": "00784f73-26a1-4e39-acc8-cb7ecc09251a",
   "metadata": {},
   "source": [
    "Multiple-row subquery's zijn altijd veiliger dan single-row subquery's. Vergelijk deze twee query's met elkaar."
   ]
  },
  {
   "cell_type": "code",
   "execution_count": 17,
   "id": "79b406f5-3e46-4660-a3f3-ee73139b8033",
   "metadata": {
    "tags": []
   },
   "outputs": [
    {
     "data": {
      "text/html": [
       "<table>\n",
       "<tr>\n",
       "<th>first_name</th>\n",
       "<th>last_name</th>\n",
       "<th>job_id</th>\n",
       "</tr>\n",
       "<tr>\n",
       "<td>Alexander</td>\n",
       "<td>Hunold</td>\n",
       "<td>IT_PROG</td>\n",
       "</tr>\n",
       "<tr>\n",
       "<td>Bruce</td>\n",
       "<td>Ernst</td>\n",
       "<td>IT_PROG</td>\n",
       "</tr>\n",
       "<tr>\n",
       "<td>Diana</td>\n",
       "<td>Lorentz</td>\n",
       "<td>IT_PROG</td>\n",
       "</tr>\n",
       "</table>"
      ],
      "text/plain": [
       "+------------+-----------+---------+\n",
       "| first_name | last_name | job_id  |\n",
       "+------------+-----------+---------+\n",
       "| Alexander  | Hunold    | IT_PROG |\n",
       "+------------+-----------+---------+\n",
       "| Bruce      | Ernst     | IT_PROG |\n",
       "+------------+-----------+---------+\n",
       "| Diana      | Lorentz   | IT_PROG |\n",
       "+------------+-----------+---------+"
      ]
     },
     "execution_count": 17,
     "metadata": {},
     "output_type": "execute_result"
    }
   ],
   "source": [
    "SELECT first_name, last_name, job_id\n",
    "FROM employees\n",
    "WHERE job_id IN\n",
    " (SELECT JOB_ID\n",
    "  FROM employees\n",
    "  WHERE last_name= 'Ernst' );"
   ]
  },
  {
   "cell_type": "code",
   "execution_count": 18,
   "id": "c4b46b56-978f-488a-94a1-642621691d86",
   "metadata": {
    "tags": []
   },
   "outputs": [
    {
     "data": {
      "text/html": [
       "<table>\n",
       "<tr>\n",
       "<th>first_name</th>\n",
       "<th>last_name</th>\n",
       "<th>job_id</th>\n",
       "</tr>\n",
       "<tr>\n",
       "<td>Alexander</td>\n",
       "<td>Hunold</td>\n",
       "<td>IT_PROG</td>\n",
       "</tr>\n",
       "<tr>\n",
       "<td>Bruce</td>\n",
       "<td>Ernst</td>\n",
       "<td>IT_PROG</td>\n",
       "</tr>\n",
       "<tr>\n",
       "<td>Diana</td>\n",
       "<td>Lorentz</td>\n",
       "<td>IT_PROG</td>\n",
       "</tr>\n",
       "</table>"
      ],
      "text/plain": [
       "+------------+-----------+---------+\n",
       "| first_name | last_name | job_id  |\n",
       "+------------+-----------+---------+\n",
       "| Alexander  | Hunold    | IT_PROG |\n",
       "+------------+-----------+---------+\n",
       "| Bruce      | Ernst     | IT_PROG |\n",
       "+------------+-----------+---------+\n",
       "| Diana      | Lorentz   | IT_PROG |\n",
       "+------------+-----------+---------+"
      ]
     },
     "execution_count": 18,
     "metadata": {},
     "output_type": "execute_result"
    }
   ],
   "source": [
    "SELECT first_name, last_name, job_id\n",
    "FROM employees\n",
    "WHERE job_id =\n",
    " (SELECT JOB_ID\n",
    "  FROM employees\n",
    "  WHERE last_name = 'Ernst' );"
   ]
  },
  {
   "cell_type": "markdown",
   "id": "859fbdc6-e451-4462-987e-9a3d6c6b552e",
   "metadata": {},
   "source": [
    "Ze hebben beide hetzelfde resultaat."
   ]
  },
  {
   "cell_type": "markdown",
   "id": "dc7bf210-e3de-40af-8edd-995496995f40",
   "metadata": {},
   "source": [
    ":::{tip}\n",
    "Waar je = zou gebruiken, werkt IN dus ook altijd. Als je twijfelt: gebruik IN in plaats van =.\n",
    ":::"
   ]
  },
  {
   "cell_type": "markdown",
   "id": "9bbc64ae-619f-472a-a662-7d61d46870b6",
   "metadata": {},
   "source": [
    "## Exists"
   ]
  },
  {
   "cell_type": "markdown",
   "id": "483267d5-ce8f-4339-a0d2-d01a33d7c7ef",
   "metadata": {},
   "source": [
    "EXISTS en NOT EXISTS kunnen worden gebruikt voor subquery's."
   ]
  },
  {
   "cell_type": "markdown",
   "id": "7c78fdb4-ff88-4d7b-b58f-df78f7ba4901",
   "metadata": {},
   "source": [
    "Stel dat je wil onderzoeken welke department_id's in de tabel departments staan en ook bestaan (exist) in de tabel employees."
   ]
  },
  {
   "cell_type": "code",
   "execution_count": 19,
   "id": "1beff0cf-62fd-42c2-bbad-ba369dbb0c1c",
   "metadata": {
    "tags": []
   },
   "outputs": [
    {
     "data": {
      "text/html": [
       "<table>\n",
       "<tr>\n",
       "<th>department_id</th>\n",
       "</tr>\n",
       "<tr>\n",
       "<td>10</td>\n",
       "</tr>\n",
       "<tr>\n",
       "<td>20</td>\n",
       "</tr>\n",
       "<tr>\n",
       "<td>50</td>\n",
       "</tr>\n",
       "<tr>\n",
       "<td>60</td>\n",
       "</tr>\n",
       "<tr>\n",
       "<td>80</td>\n",
       "</tr>\n",
       "<tr>\n",
       "<td>90</td>\n",
       "</tr>\n",
       "<tr>\n",
       "<td>110</td>\n",
       "</tr>\n",
       "</table>"
      ],
      "text/plain": [
       "+---------------+\n",
       "| department_id |\n",
       "+---------------+\n",
       "| 10            |\n",
       "+---------------+\n",
       "| 20            |\n",
       "+---------------+\n",
       "| 50            |\n",
       "+---------------+\n",
       "| 60            |\n",
       "+---------------+\n",
       "| 80            |\n",
       "+---------------+\n",
       "| 90            |\n",
       "+---------------+\n",
       "| 110           |\n",
       "+---------------+"
      ]
     },
     "execution_count": 19,
     "metadata": {},
     "output_type": "execute_result"
    }
   ],
   "source": [
    "SELECT department_id\n",
    "FROM departments\n",
    "WHERE EXISTS\n",
    "   (SELECT * FROM employees\n",
    "    WHERE departments.department_id = employees.department_id)\n",
    "ORDER BY department_id;"
   ]
  },
  {
   "cell_type": "markdown",
   "id": "68581c8f-cc58-4af0-9dbf-0eb5cbef97b8",
   "metadata": {},
   "source": [
    "Of juist het tegenovergestelde. Welk department_id komt wel voor in departments maar bestaat niet (not exists) niet in employees?"
   ]
  },
  {
   "cell_type": "code",
   "execution_count": 20,
   "id": "c6fb74c2-6460-4957-9616-a9c877f17f35",
   "metadata": {
    "tags": []
   },
   "outputs": [
    {
     "data": {
      "text/html": [
       "<table>\n",
       "<tr>\n",
       "<th>department_id</th>\n",
       "</tr>\n",
       "<tr>\n",
       "<td>190</td>\n",
       "</tr>\n",
       "</table>"
      ],
      "text/plain": [
       "+---------------+\n",
       "| department_id |\n",
       "+---------------+\n",
       "| 190           |\n",
       "+---------------+"
      ]
     },
     "execution_count": 20,
     "metadata": {},
     "output_type": "execute_result"
    }
   ],
   "source": [
    "SELECT department_id\n",
    "FROM departments\n",
    "WHERE NOT EXISTS\n",
    "   (SELECT * FROM employees\n",
    "    WHERE departments.department_id = employees.department_id)\n",
    "ORDER BY department_id;"
   ]
  },
  {
   "cell_type": "markdown",
   "id": "6122cdf3-5a39-47e1-8940-1adec04eda2c",
   "metadata": {},
   "source": [
    "Welke werknemers zijn geen manager?\n",
    "\n",
    "Dat kun je onderzoeken met een SELF JOIN en een SUBQUERY. Bij een SELF JOIN gebruik je dezelfde tabel twee maal met verschillende aliassen. In dit voorbeeld wordt de tabel employees één keer gebruikt als emp en één keer als mgr."
   ]
  },
  {
   "cell_type": "code",
   "execution_count": 21,
   "id": "b00ee80e-04fb-472b-9804-87c29f120c77",
   "metadata": {
    "tags": []
   },
   "outputs": [
    {
     "data": {
      "text/html": [
       "<table>\n",
       "<tr>\n",
       "<th>not_a_manager</th>\n",
       "</tr>\n",
       "<tr>\n",
       "<td>Ernst</td>\n",
       "</tr>\n",
       "<tr>\n",
       "<td>Lorentz</td>\n",
       "</tr>\n",
       "<tr>\n",
       "<td>Rajs</td>\n",
       "</tr>\n",
       "<tr>\n",
       "<td>Davies</td>\n",
       "</tr>\n",
       "<tr>\n",
       "<td>Matos</td>\n",
       "</tr>\n",
       "<tr>\n",
       "<td>Vargas</td>\n",
       "</tr>\n",
       "<tr>\n",
       "<td>Abel</td>\n",
       "</tr>\n",
       "<tr>\n",
       "<td>Taylor</td>\n",
       "</tr>\n",
       "<tr>\n",
       "<td>Grant</td>\n",
       "</tr>\n",
       "<tr>\n",
       "<td>Whalen</td>\n",
       "</tr>\n",
       "<tr>\n",
       "<td>Fay</td>\n",
       "</tr>\n",
       "<tr>\n",
       "<td>Gietz</td>\n",
       "</tr>\n",
       "</table>"
      ],
      "text/plain": [
       "+---------------+\n",
       "| not_a_manager |\n",
       "+---------------+\n",
       "| Ernst         |\n",
       "+---------------+\n",
       "| Lorentz       |\n",
       "+---------------+\n",
       "| Rajs          |\n",
       "+---------------+\n",
       "| Davies        |\n",
       "+---------------+\n",
       "| Matos         |\n",
       "+---------------+\n",
       "| Vargas        |\n",
       "+---------------+\n",
       "| Abel          |\n",
       "+---------------+\n",
       "| Taylor        |\n",
       "+---------------+\n",
       "| Grant         |\n",
       "+---------------+\n",
       "| Whalen        |\n",
       "+---------------+\n",
       "| Fay           |\n",
       "+---------------+\n",
       "| Gietz         |\n",
       "+---------------+"
      ]
     },
     "execution_count": 21,
     "metadata": {},
     "output_type": "execute_result"
    }
   ],
   "source": [
    "SELECT last_name AS not_a_manager\n",
    "FROM employees e\n",
    "WHERE NOT EXISTS\n",
    " (SELECT *\n",
    "  FROM employees m\n",
    "  WHERE m.manager_id = e.employee_id);"
   ]
  },
  {
   "cell_type": "markdown",
   "id": "14452fe7-bc20-4369-87fd-4521e051e1cf",
   "metadata": {},
   "source": [
    "## Null\n",
    "\n",
    "Het kan zijn dat bij een single-row subquery de subquery als resultaat NULL oplevert. Zo heeft Grant bijvoorbeeld geen department_id."
   ]
  },
  {
   "cell_type": "code",
   "execution_count": 22,
   "id": "ce7d5efc-e397-4cca-acf0-28c88a8ccaa7",
   "metadata": {
    "tags": []
   },
   "outputs": [
    {
     "data": {
      "text/html": [
       "<table>\n",
       "<tr>\n",
       "<th>department_id</th>\n",
       "</tr>\n",
       "<tr>\n",
       "<td></td>\n",
       "</tr>\n",
       "</table>"
      ],
      "text/plain": [
       "+---------------+\n",
       "| department_id |\n",
       "+---------------+\n",
       "\n",
       "+---------------+"
      ]
     },
     "execution_count": 22,
     "metadata": {},
     "output_type": "execute_result"
    }
   ],
   "source": [
    "SELECT department_id\n",
    "FROM employees\n",
    "WHERE last_name = 'Grant';"
   ]
  },
  {
   "cell_type": "markdown",
   "id": "4a9cbc74-a2a4-4b5d-bf31-82526d34c955",
   "metadata": {},
   "source": [
    "En we stellen de vraag wie er op dezelfde afdeling werken als Grant."
   ]
  },
  {
   "cell_type": "code",
   "execution_count": 23,
   "id": "1596b5e0-c1f0-48e4-8a15-3377f2eae1af",
   "metadata": {
    "tags": []
   },
   "outputs": [
    {
     "data": {
      "text/html": [
       "<table>\n",
       "<tr>\n",
       "<th>last_name</th>\n",
       "</tr>\n",
       "</table>"
      ],
      "text/plain": [
       "+-----------+\n",
       "| last_name |\n",
       "+-----------+"
      ]
     },
     "execution_count": 23,
     "metadata": {},
     "output_type": "execute_result"
    }
   ],
   "source": [
    "SELECT last_name\n",
    "FROM employees\n",
    "WHERE department_id =\n",
    "    (SELECT department_id\n",
    "    FROM employees\n",
    "    WHERE last_name = 'Grant');"
   ]
  },
  {
   "cell_type": "markdown",
   "id": "32f4ba31-b67d-4357-a957-9d5db9d0129a",
   "metadata": {},
   "source": [
    "Dan krijg je een leeg resultaat terug: geen enkele rij dus."
   ]
  },
  {
   "cell_type": "markdown",
   "id": "f6cce455-5744-464f-9d04-59825ae32617",
   "metadata": {},
   "source": [
    ":::{admonition} leeg resultaat in MySQL\n",
    "\n",
    "MySQL geef in dit geval de melding:\n",
    "\n",
    "![](figs/clip0190.png)\n",
    ":::"
   ]
  },
  {
   "cell_type": "markdown",
   "id": "ca031a0d-c5ab-43d8-87c8-eb1583df240f",
   "metadata": {},
   "source": [
    "Een vergelijking met NULL levert altijd FALSE op. En als een conditie FALSE is, worden de rijen uitgesloten van het query resultaat.\n",
    "\n",
    "Als bij een multiple-row query één van de waarden van de subquery NULL is, dan worden enkel de waarden die niet NULL zijn gebruikt."
   ]
  },
  {
   "cell_type": "markdown",
   "id": "6b90fe7e-6a32-4b28-9e4b-b4e65de5678a",
   "metadata": {},
   "source": [
    "Welke werknemers zijn er allemaal manager? Dat zijn de manager_id's die voorkomen in de lijst van employee_id's.\n",
    "\n",
    "Eerst halen we alle manager_id's op. Daar zit één NULL waarde bij. King is de grootste baas en hij heeft geen manager."
   ]
  },
  {
   "cell_type": "code",
   "execution_count": 24,
   "id": "0478f2e4-9d1f-41ab-891f-9af3bdf48eaf",
   "metadata": {
    "tags": []
   },
   "outputs": [
    {
     "data": {
      "text/html": [
       "<table>\n",
       "<tr>\n",
       "<th>manager_id</th>\n",
       "</tr>\n",
       "<tr>\n",
       "<td></td>\n",
       "</tr>\n",
       "<tr>\n",
       "<td>100</td>\n",
       "</tr>\n",
       "<tr>\n",
       "<td>102</td>\n",
       "</tr>\n",
       "<tr>\n",
       "<td>103</td>\n",
       "</tr>\n",
       "<tr>\n",
       "<td>124</td>\n",
       "</tr>\n",
       "<tr>\n",
       "<td>149</td>\n",
       "</tr>\n",
       "<tr>\n",
       "<td>101</td>\n",
       "</tr>\n",
       "<tr>\n",
       "<td>201</td>\n",
       "</tr>\n",
       "<tr>\n",
       "<td>205</td>\n",
       "</tr>\n",
       "</table>"
      ],
      "text/plain": [
       "+------------+\n",
       "| manager_id |\n",
       "+------------+\n",
       "\n",
       "+------------+\n",
       "| 100        |\n",
       "+------------+\n",
       "| 102        |\n",
       "+------------+\n",
       "| 103        |\n",
       "+------------+\n",
       "| 124        |\n",
       "+------------+\n",
       "| 149        |\n",
       "+------------+\n",
       "| 101        |\n",
       "+------------+\n",
       "| 201        |\n",
       "+------------+\n",
       "| 205        |\n",
       "+------------+"
      ]
     },
     "execution_count": 24,
     "metadata": {},
     "output_type": "execute_result"
    }
   ],
   "source": [
    "SELECT DISTINCT manager_id\n",
    "FROM employees;"
   ]
  },
  {
   "cell_type": "markdown",
   "id": "13805f4b-d469-42a6-88fe-827a1cba83cb",
   "metadata": {},
   "source": [
    "Die subquery (inner query) zetten we tussen haakjes en daar zetten we de outer query boven."
   ]
  },
  {
   "cell_type": "code",
   "execution_count": 25,
   "id": "eb488e53-036c-40db-831b-4e8f9af91aab",
   "metadata": {
    "tags": []
   },
   "outputs": [
    {
     "data": {
      "text/html": [
       "<table>\n",
       "<tr>\n",
       "<th>last_name</th>\n",
       "<th>employee_id</th>\n",
       "</tr>\n",
       "<tr>\n",
       "<td>King</td>\n",
       "<td>100</td>\n",
       "</tr>\n",
       "<tr>\n",
       "<td>Kochhar</td>\n",
       "<td>101</td>\n",
       "</tr>\n",
       "<tr>\n",
       "<td>De Haan</td>\n",
       "<td>102</td>\n",
       "</tr>\n",
       "<tr>\n",
       "<td>Hunold</td>\n",
       "<td>103</td>\n",
       "</tr>\n",
       "<tr>\n",
       "<td>Mourgos</td>\n",
       "<td>124</td>\n",
       "</tr>\n",
       "<tr>\n",
       "<td>Zlotkey</td>\n",
       "<td>149</td>\n",
       "</tr>\n",
       "<tr>\n",
       "<td>Hartstein</td>\n",
       "<td>201</td>\n",
       "</tr>\n",
       "<tr>\n",
       "<td>Higgins</td>\n",
       "<td>205</td>\n",
       "</tr>\n",
       "</table>"
      ],
      "text/plain": [
       "+-----------+-------------+\n",
       "| last_name | employee_id |\n",
       "+-----------+-------------+\n",
       "| King      | 100         |\n",
       "+-----------+-------------+\n",
       "| Kochhar   | 101         |\n",
       "+-----------+-------------+\n",
       "| De Haan   | 102         |\n",
       "+-----------+-------------+\n",
       "| Hunold    | 103         |\n",
       "+-----------+-------------+\n",
       "| Mourgos   | 124         |\n",
       "+-----------+-------------+\n",
       "| Zlotkey   | 149         |\n",
       "+-----------+-------------+\n",
       "| Hartstein | 201         |\n",
       "+-----------+-------------+\n",
       "| Higgins   | 205         |\n",
       "+-----------+-------------+"
      ]
     },
     "execution_count": 25,
     "metadata": {},
     "output_type": "execute_result"
    }
   ],
   "source": [
    "SELECT last_name, employee_id\n",
    "FROM employees\n",
    "WHERE employee_id IN\n",
    " (SELECT DISTINCT manager_id\n",
    "  FROM employees);"
   ]
  },
  {
   "cell_type": "markdown",
   "id": "6d1f60cf-4f8a-4d78-afd2-ec8ad13fa581",
   "metadata": {},
   "source": [
    "Het is altijd oppassen met NULLS in de subquery bij het gebruik van IN of NOT IN. Als je niet zeker weet of een NULL voor gaat komen in de subquery en er misschien een verkeerd resultaat uit volgt, kun je beter die NULL uitsluiten met een WHERE."
   ]
  },
  {
   "cell_type": "code",
   "execution_count": 26,
   "id": "606470df-8166-4424-a2bd-b445bf18a3a3",
   "metadata": {
    "tags": []
   },
   "outputs": [
    {
     "data": {
      "text/html": [
       "<table>\n",
       "<tr>\n",
       "<th>last_name</th>\n",
       "<th>employee_id</th>\n",
       "</tr>\n",
       "<tr>\n",
       "<td>King</td>\n",
       "<td>100</td>\n",
       "</tr>\n",
       "<tr>\n",
       "<td>Kochhar</td>\n",
       "<td>101</td>\n",
       "</tr>\n",
       "<tr>\n",
       "<td>De Haan</td>\n",
       "<td>102</td>\n",
       "</tr>\n",
       "<tr>\n",
       "<td>Hunold</td>\n",
       "<td>103</td>\n",
       "</tr>\n",
       "<tr>\n",
       "<td>Mourgos</td>\n",
       "<td>124</td>\n",
       "</tr>\n",
       "<tr>\n",
       "<td>Zlotkey</td>\n",
       "<td>149</td>\n",
       "</tr>\n",
       "<tr>\n",
       "<td>Hartstein</td>\n",
       "<td>201</td>\n",
       "</tr>\n",
       "<tr>\n",
       "<td>Higgins</td>\n",
       "<td>205</td>\n",
       "</tr>\n",
       "</table>"
      ],
      "text/plain": [
       "+-----------+-------------+\n",
       "| last_name | employee_id |\n",
       "+-----------+-------------+\n",
       "| King      | 100         |\n",
       "+-----------+-------------+\n",
       "| Kochhar   | 101         |\n",
       "+-----------+-------------+\n",
       "| De Haan   | 102         |\n",
       "+-----------+-------------+\n",
       "| Hunold    | 103         |\n",
       "+-----------+-------------+\n",
       "| Mourgos   | 124         |\n",
       "+-----------+-------------+\n",
       "| Zlotkey   | 149         |\n",
       "+-----------+-------------+\n",
       "| Hartstein | 201         |\n",
       "+-----------+-------------+\n",
       "| Higgins   | 205         |\n",
       "+-----------+-------------+"
      ]
     },
     "execution_count": 26,
     "metadata": {},
     "output_type": "execute_result"
    }
   ],
   "source": [
    "SELECT last_name, employee_id\n",
    "FROM employees\n",
    "WHERE employee_id IN\n",
    " (SELECT DISTINCT manager_id\n",
    "  FROM employees\n",
    "  WHERE manager_id IS NOT NULL);"
   ]
  },
  {
   "cell_type": "markdown",
   "id": "b7f8b23d-b734-426d-aa3d-93221c9cb188",
   "metadata": {},
   "source": [
    "## Groepsfuncties\n",
    "\n",
    "Het is mogelijk groepsfuncties te gebruiken in subquery's, zoals MIN, MAX, SUM en AVG.\n",
    "\n",
    "Wie verdient er minder dan het gemiddelde salaris?\n",
    "\n",
    "Eerst maak je de query voor het gemiddelde salaris met de groepsfunctie AVG."
   ]
  },
  {
   "cell_type": "code",
   "execution_count": null,
   "id": "caff8253-2a4a-4b9f-b64b-a1b4b991a65c",
   "metadata": {},
   "outputs": [],
   "source": [
    "SELECT AVG(salary)\n",
    "FROM employees;"
   ]
  },
  {
   "cell_type": "markdown",
   "id": "7fa80f1c-856d-4e6a-9083-af561c9f4afd",
   "metadata": {},
   "source": [
    "Dat zet je tussen haakjes en daar zet je een andere query voor."
   ]
  },
  {
   "cell_type": "code",
   "execution_count": null,
   "id": "f9315ea3-60c9-47b8-8966-d489e87d0807",
   "metadata": {},
   "outputs": [],
   "source": [
    "SELECT last_name, salary\n",
    "FROM employees\n",
    "WHERE salary <\n",
    " (SELECT AVG(salary)\n",
    "  FROM employees);"
   ]
  }
 ],
 "metadata": {
  "kernelspec": {
   "display_name": "xsqlite",
   "language": "sqlite",
   "name": "xsqlite"
  },
  "language_info": {
   "codemirror_mode": "sql",
   "file_extension": "",
   "mimetype": "",
   "name": "sql",
   "version": "3.33.0"
  }
 },
 "nbformat": 4,
 "nbformat_minor": 5
}
