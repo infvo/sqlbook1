{
 "cells": [
  {
   "cell_type": "markdown",
   "id": "eea993ce-86fd-4008-abb6-910805ce7ab1",
   "metadata": {},
   "source": [
    "# DESCRIBE"
   ]
  },
  {
   "cell_type": "code",
   "execution_count": 2,
   "id": "96b04608-ab5e-4633-9cbe-cd3fcf38d987",
   "metadata": {
    "tags": []
   },
   "outputs": [],
   "source": [
    "%LOAD ../data/employees.db"
   ]
  },
  {
   "cell_type": "markdown",
   "id": "bace1e6c-0656-4936-8bff-c0f187178c1d",
   "metadata": {},
   "source": [
    "Het kan belangrijk zijn dat je de precieze structuur van een tabel weet. Bijvoorbeeld als je nieuwe rijen wil invoegen in de tabel. Je moet dan weten van welk type data elke kolom is en of een kolom leeg mag worden gelaten of niet. Je kunt de informatie opvragen met het commando `DESCRIBE` of kortweg `DESC`. In onderstaand voorbeeld vragen we de structuur op van de tabel departments.\n",
    "\n",
    "\n",
    "```SQL\n",
    "DESC departments;\n",
    "```\n",
    "\n",
    "![](figs/clip0005.png)\n",
    "\n",
    "\n",
    "In de kolom `Null` kun je zien dat het veld `department_id` niet mag worden leeggelaten als er nieuwe rijen worden toegevoegd. Dat veld dient namelijk als *primary key*. Dat kun je zien bij `Key`."
   ]
  },
  {
   "cell_type": "markdown",
   "id": "c8b84d4d-a68c-4de0-a704-4a9e33653eee",
   "metadata": {},
   "source": [
    "## Tabel-structuur in SQLite\n",
    "\n",
    "SQLite heeft geen `DESCRIBE` opdracht, maar je kunt de structuur van een tabel achterhalen uit de tabel `sqlite_schema`.\n",
    "Deze tabel beschrijft niet alleen de tabellen van de huidige database, maar ook de eventuele *views* op deze tabellen.\n"
   ]
  },
  {
   "cell_type": "code",
   "execution_count": 6,
   "id": "bfb566d6-b49e-477d-bc99-76f0ae598e15",
   "metadata": {
    "tags": []
   },
   "outputs": [
    {
     "data": {
      "text/html": [
       "<table>\n",
       "<tr>\n",
       "<th>sql</th>\n",
       "</tr>\n",
       "<tr>\n",
       "<td>CREATE TABLE `departments` (\n",
       "  `department_id` smallint(6) NOT NULL DEFAULT '0',\n",
       "  `department_name` varchar(30) DEFAULT NULL,\n",
       "  `manager_id` int(11) DEFAULT NULL,\n",
       "  `location_id` smallint(6) DEFAULT NULL,\n",
       "  PRIMARY KEY (`department_id`)\n",
       "  \n",
       ")</td>\n",
       "</tr>\n",
       "</table>"
      ],
      "text/plain": [
       "+-----------------------------------------------------+\n",
       "| sql                                                 |\n",
       "+-----------------------------------------------------+\n",
       "| CREATE TABLE `departments` (                        |\n",
       "| `department_id` smallint(6) NOT NULL DEFAULT '0',   |\n",
       "| `department_name` varchar(30) DEFAULT NULL,         |\n",
       "| `manager_id` int(11) DEFAULT NULL,                  |\n",
       "| `location_id` smallint(6) DEFAULT NULL,             |\n",
       "| PRIMARY KEY (`department_id`)                       |\n",
       "|                                                     |\n",
       "| )                                                   |\n",
       "+-----------------------------------------------------+"
      ]
     },
     "execution_count": 6,
     "metadata": {},
     "output_type": "execute_result"
    }
   ],
   "source": [
    "SELECT sql \n",
    "FROM sqlite_schema\n",
    "WHERE type = 'table' and name = 'departments';"
   ]
  },
  {
   "cell_type": "markdown",
   "id": "a70cde9c-590f-4e83-a6c1-b1076a21e2bd",
   "metadata": {},
   "source": [
    "Het resultaat van deze query is de opdracht waarmee de tabel gemaakt is. Ook in dit geval zie je dat `department_id` de *primary key* is van de tabel."
   ]
  },
  {
   "cell_type": "markdown",
   "id": "e8dcc063-a724-4e7d-888a-086778661db3",
   "metadata": {},
   "source": [
    "## Schema\n",
    "\n",
    "Het *schema* van een database beschrijft de structuur van alle tabellen, inclusief de manier waarop de tabellen naar elkaar verwijzen. Vaak wordt dit schema in grafische vorm gegeven.\n",
    "\n",
    "Hieronder zie je het schema van de `employees` database, getekend met MySQL Workbench."
   ]
  },
  {
   "cell_type": "markdown",
   "id": "47084935-5eb5-4554-9efb-0862231b74a0",
   "metadata": {},
   "source": [
    "FIGUUR - schema"
   ]
  }
 ],
 "metadata": {
  "kernelspec": {
   "display_name": "xsqlite",
   "language": "sqlite",
   "name": "xsqlite"
  },
  "language_info": {
   "codemirror_mode": "sql",
   "file_extension": "",
   "mimetype": "",
   "name": "sql",
   "version": "3.33.0"
  }
 },
 "nbformat": 4,
 "nbformat_minor": 5
}
