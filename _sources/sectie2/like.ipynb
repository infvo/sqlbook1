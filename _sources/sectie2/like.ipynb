{
 "cells": [
  {
   "cell_type": "markdown",
   "id": "1ad6cfdf-8429-4a70-901c-caf93936ebca",
   "metadata": {},
   "source": [
    "# LIKE"
   ]
  },
  {
   "cell_type": "code",
   "execution_count": 1,
   "id": "66d5a04c-30ac-4bb4-ac6f-74f49c9de732",
   "metadata": {
    "tags": []
   },
   "outputs": [],
   "source": [
    "%LOAD ../data/employees.db"
   ]
  },
  {
   "cell_type": "markdown",
   "id": "09a4450e-9317-47cb-be2e-53220296495b",
   "metadata": {},
   "source": [
    "`LIKE` maakt gebruikt van jokers. Er zijn twee soorten jokers. Met het procent teken (`%`) kun je zoeken naar patronen in 0 of meer karakters. Het underscore teken (`_`) kun je gebruiken als een joker voor één karakter. Als je `LIKE` gebruikt, moet je dus altijd minstens één van de twee jokers inzetten maar je kunt ze combineren!"
   ]
  },
  {
   "cell_type": "markdown",
   "id": "c99df36d-0636-4f20-aac3-4133a0191c33",
   "metadata": {},
   "source": [
    "Toon alle werknemers waarvan de achternaam met een 'H' begint."
   ]
  },
  {
   "cell_type": "code",
   "execution_count": 2,
   "id": "4b70719a-85aa-44ab-9a4b-09fe094f8884",
   "metadata": {
    "tags": []
   },
   "outputs": [
    {
     "data": {
      "text/html": [
       "<table>\n",
       "<tr>\n",
       "<th>last_name</th>\n",
       "</tr>\n",
       "<tr>\n",
       "<td>Hunold</td>\n",
       "</tr>\n",
       "<tr>\n",
       "<td>Hartstein</td>\n",
       "</tr>\n",
       "<tr>\n",
       "<td>Higgins</td>\n",
       "</tr>\n",
       "</table>"
      ],
      "text/plain": [
       "+-----------+\n",
       "| last_name |\n",
       "+-----------+\n",
       "| Hunold    |\n",
       "+-----------+\n",
       "| Hartstein |\n",
       "+-----------+\n",
       "| Higgins   |\n",
       "+-----------+"
      ]
     },
     "execution_count": 2,
     "metadata": {},
     "output_type": "execute_result"
    }
   ],
   "source": [
    "SELECT last_name\n",
    "FROM employees\n",
    "WHERE last_name LIKE 'H%';"
   ]
  },
  {
   "cell_type": "markdown",
   "id": "1e77e4f1-2fea-4b80-ae50-490e12f3e967",
   "metadata": {},
   "source": [
    "Toon alle werknemers die de letter 'a' in de achternaam hebben. Merk op dat dit ook de eerste letter kan zijn, hoewel dat dan de hoofdletter 'A'  is."
   ]
  },
  {
   "cell_type": "code",
   "execution_count": 3,
   "id": "0b92e47f-ad5b-46c7-a516-3f9f90b94fc5",
   "metadata": {
    "tags": []
   },
   "outputs": [
    {
     "data": {
      "text/html": [
       "<table>\n",
       "<tr>\n",
       "<th>last_name</th>\n",
       "</tr>\n",
       "<tr>\n",
       "<td>Kochhar</td>\n",
       "</tr>\n",
       "<tr>\n",
       "<td>De Haan</td>\n",
       "</tr>\n",
       "<tr>\n",
       "<td>Rajs</td>\n",
       "</tr>\n",
       "<tr>\n",
       "<td>Davies</td>\n",
       "</tr>\n",
       "<tr>\n",
       "<td>Matos</td>\n",
       "</tr>\n",
       "<tr>\n",
       "<td>Vargas</td>\n",
       "</tr>\n",
       "<tr>\n",
       "<td>Abel</td>\n",
       "</tr>\n",
       "<tr>\n",
       "<td>Taylor</td>\n",
       "</tr>\n",
       "<tr>\n",
       "<td>Grant</td>\n",
       "</tr>\n",
       "<tr>\n",
       "<td>Whalen</td>\n",
       "</tr>\n",
       "<tr>\n",
       "<td>Hartstein</td>\n",
       "</tr>\n",
       "<tr>\n",
       "<td>Fay</td>\n",
       "</tr>\n",
       "</table>"
      ],
      "text/plain": [
       "+-----------+\n",
       "| last_name |\n",
       "+-----------+\n",
       "| Kochhar   |\n",
       "+-----------+\n",
       "| De Haan   |\n",
       "+-----------+\n",
       "| Rajs      |\n",
       "+-----------+\n",
       "| Davies    |\n",
       "+-----------+\n",
       "| Matos     |\n",
       "+-----------+\n",
       "| Vargas    |\n",
       "+-----------+\n",
       "| Abel      |\n",
       "+-----------+\n",
       "| Taylor    |\n",
       "+-----------+\n",
       "| Grant     |\n",
       "+-----------+\n",
       "| Whalen    |\n",
       "+-----------+\n",
       "| Hartstein |\n",
       "+-----------+\n",
       "| Fay       |\n",
       "+-----------+"
      ]
     },
     "execution_count": 3,
     "metadata": {},
     "output_type": "execute_result"
    }
   ],
   "source": [
    "SELECT last_name\n",
    "FROM employees\n",
    "WHERE last_name LIKE '%a%';"
   ]
  },
  {
   "cell_type": "markdown",
   "id": "d3bd60cd-e4a4-4ac5-ad04-96b71c275364",
   "metadata": {},
   "source": [
    "Toon alle werknemers waarvan de tweede letter van de achternaam een 'o' is. Voor het eerste karakter gebruik je dus de underscore, dan zoek je naar de letter 'o' en met het procentteken kijk je in de rest van de naam."
   ]
  },
  {
   "cell_type": "code",
   "execution_count": 4,
   "id": "3f62a0db-ea8a-4b94-b156-5b77071b4bb2",
   "metadata": {
    "tags": []
   },
   "outputs": [
    {
     "data": {
      "text/html": [
       "<table>\n",
       "<tr>\n",
       "<th>last_name</th>\n",
       "</tr>\n",
       "<tr>\n",
       "<td>Kochhar</td>\n",
       "</tr>\n",
       "<tr>\n",
       "<td>Lorentz</td>\n",
       "</tr>\n",
       "<tr>\n",
       "<td>Mourgos</td>\n",
       "</tr>\n",
       "</table>"
      ],
      "text/plain": [
       "+-----------+\n",
       "| last_name |\n",
       "+-----------+\n",
       "| Kochhar   |\n",
       "+-----------+\n",
       "| Lorentz   |\n",
       "+-----------+\n",
       "| Mourgos   |\n",
       "+-----------+"
      ]
     },
     "execution_count": 4,
     "metadata": {},
     "output_type": "execute_result"
    }
   ],
   "source": [
    "SELECT last_name\n",
    "FROM employees\n",
    "WHERE last_name LIKE '_o%';"
   ]
  },
  {
   "cell_type": "markdown",
   "id": "d7fa747e-e2d5-43e9-bfd5-2e9f3de746e3",
   "metadata": {},
   "source": [
    "**Escape teken.** Als je zoekt naar een underscore of het procentteken en je wil niet deze twee tekens inzetten als joker maar echt zoeken naar die tekens, dan moet je een backslash (`\\`) zetten vóór de underscore of het procentteken. We zeggen dan dat je de backslash moet gebruiken als een *escape* teken."
   ]
  },
  {
   "cell_type": "markdown",
   "id": "39a91de1-3d80-459f-b62e-bb24c58f73d3",
   "metadata": {},
   "source": [
    "Toon alle werknemers met een job_id waarvan het job_id een underscore bevat gevolgd door een 'R'."
   ]
  },
  {
   "cell_type": "code",
   "execution_count": 5,
   "id": "2705076c-0443-412f-ad01-7bd2dc8cb700",
   "metadata": {
    "tags": []
   },
   "outputs": [
    {
     "data": {
      "text/html": [
       "<table>\n",
       "<tr>\n",
       "<th>last_name</th>\n",
       "<th>job_id</th>\n",
       "</tr>\n",
       "</table>"
      ],
      "text/plain": [
       "+-----------+--------+\n",
       "| last_name | job_id |\n",
       "+-----------+--------+"
      ]
     },
     "execution_count": 5,
     "metadata": {},
     "output_type": "execute_result"
    }
   ],
   "source": [
    "SELECT last_name, job_id\n",
    "FROM employees\n",
    "WHERE job_id LIKE '%\\_R%';"
   ]
  },
  {
   "cell_type": "markdown",
   "id": "0c432de9-77f7-4b9d-8438-c71dba7f920e",
   "metadata": {},
   "source": [
    "Als je de backslash weglaat in de query krijg je onderstaand resultaat. Dat zijn alle job_id's met een 'R' in de job_id."
   ]
  },
  {
   "cell_type": "code",
   "execution_count": 6,
   "id": "f4288d12-a2ce-4159-98f2-44e4fabcfcdc",
   "metadata": {
    "tags": []
   },
   "outputs": [
    {
     "data": {
      "text/html": [
       "<table>\n",
       "<tr>\n",
       "<th>last_name</th>\n",
       "<th>job_id</th>\n",
       "</tr>\n",
       "<tr>\n",
       "<td>King</td>\n",
       "<td>AD_PRES</td>\n",
       "</tr>\n",
       "<tr>\n",
       "<td>Hunold</td>\n",
       "<td>IT_PROG</td>\n",
       "</tr>\n",
       "<tr>\n",
       "<td>Ernst</td>\n",
       "<td>IT_PROG</td>\n",
       "</tr>\n",
       "<tr>\n",
       "<td>Lorentz</td>\n",
       "<td>IT_PROG</td>\n",
       "</tr>\n",
       "<tr>\n",
       "<td>Rajs</td>\n",
       "<td>ST_CLERK</td>\n",
       "</tr>\n",
       "<tr>\n",
       "<td>Davies</td>\n",
       "<td>ST_CLERK</td>\n",
       "</tr>\n",
       "<tr>\n",
       "<td>Matos</td>\n",
       "<td>ST_CLERK</td>\n",
       "</tr>\n",
       "<tr>\n",
       "<td>Vargas</td>\n",
       "<td>ST_CLERK</td>\n",
       "</tr>\n",
       "<tr>\n",
       "<td>Abel</td>\n",
       "<td>SA_REP</td>\n",
       "</tr>\n",
       "<tr>\n",
       "<td>Taylor</td>\n",
       "<td>SA_REP</td>\n",
       "</tr>\n",
       "<tr>\n",
       "<td>Grant</td>\n",
       "<td>SA_REP</td>\n",
       "</tr>\n",
       "<tr>\n",
       "<td>Fay</td>\n",
       "<td>MK_REP</td>\n",
       "</tr>\n",
       "<tr>\n",
       "<td>Higgins</td>\n",
       "<td>AC_MGR</td>\n",
       "</tr>\n",
       "</table>"
      ],
      "text/plain": [
       "+-----------+----------+\n",
       "| last_name | job_id   |\n",
       "+-----------+----------+\n",
       "| King      | AD_PRES  |\n",
       "+-----------+----------+\n",
       "| Hunold    | IT_PROG  |\n",
       "+-----------+----------+\n",
       "| Ernst     | IT_PROG  |\n",
       "+-----------+----------+\n",
       "| Lorentz   | IT_PROG  |\n",
       "+-----------+----------+\n",
       "| Rajs      | ST_CLERK |\n",
       "+-----------+----------+\n",
       "| Davies    | ST_CLERK |\n",
       "+-----------+----------+\n",
       "| Matos     | ST_CLERK |\n",
       "+-----------+----------+\n",
       "| Vargas    | ST_CLERK |\n",
       "+-----------+----------+\n",
       "| Abel      | SA_REP   |\n",
       "+-----------+----------+\n",
       "| Taylor    | SA_REP   |\n",
       "+-----------+----------+\n",
       "| Grant     | SA_REP   |\n",
       "+-----------+----------+\n",
       "| Fay       | MK_REP   |\n",
       "+-----------+----------+\n",
       "| Higgins   | AC_MGR   |\n",
       "+-----------+----------+"
      ]
     },
     "execution_count": 6,
     "metadata": {},
     "output_type": "execute_result"
    }
   ],
   "source": [
    "SELECT last_name, job_id\n",
    "FROM employees\n",
    "WHERE job_id LIKE '%_R%';"
   ]
  },
  {
   "cell_type": "markdown",
   "id": "0fd43a94-d99d-4c55-86c0-6c66bb52ac7e",
   "metadata": {},
   "source": [
    "Ook voor datums kun je LIKE gebruiken. Wie is er in dienst gekomen in 1996?"
   ]
  },
  {
   "cell_type": "code",
   "execution_count": 7,
   "id": "7b739707-fc78-42d7-9123-0539b31d0384",
   "metadata": {
    "tags": []
   },
   "outputs": [
    {
     "data": {
      "text/html": [
       "<table>\n",
       "<tr>\n",
       "<th>last_name</th>\n",
       "<th>hire_date</th>\n",
       "</tr>\n",
       "<tr>\n",
       "<td>Abel</td>\n",
       "<td>1996-05-11</td>\n",
       "</tr>\n",
       "<tr>\n",
       "<td>Hartstein</td>\n",
       "<td>1996-02-17</td>\n",
       "</tr>\n",
       "</table>"
      ],
      "text/plain": [
       "+-----------+------------+\n",
       "| last_name | hire_date  |\n",
       "+-----------+------------+\n",
       "| Abel      | 1996-05-11 |\n",
       "+-----------+------------+\n",
       "| Hartstein | 1996-02-17 |\n",
       "+-----------+------------+"
      ]
     },
     "execution_count": 7,
     "metadata": {},
     "output_type": "execute_result"
    }
   ],
   "source": [
    "SELECT last_name, hire_date\n",
    "FROM employees\n",
    "WHERE hire_date LIKE '1996%';"
   ]
  }
 ],
 "metadata": {
  "kernelspec": {
   "display_name": "xsqlite",
   "language": "sqlite",
   "name": "xsqlite"
  },
  "language_info": {
   "codemirror_mode": "sql",
   "file_extension": "",
   "mimetype": "",
   "name": "sql",
   "version": "3.33.0"
  }
 },
 "nbformat": 4,
 "nbformat_minor": 5
}
