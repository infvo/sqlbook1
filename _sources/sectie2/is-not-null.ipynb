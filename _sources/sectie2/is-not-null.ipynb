{
 "cells": [
  {
   "cell_type": "markdown",
   "id": "4768d696-aa75-4f70-9a26-c1b8250e8f0e",
   "metadata": {},
   "source": [
    "# IS NOT NULL"
   ]
  },
  {
   "cell_type": "code",
   "execution_count": 2,
   "id": "6934b301-f6dc-4fe2-955f-fb2e196e16b1",
   "metadata": {
    "tags": []
   },
   "outputs": [],
   "source": [
    "%LOAD ../data/employees.db"
   ]
  },
  {
   "cell_type": "markdown",
   "id": "ed14d3d6-b7b3-4381-b51c-3129f7bd9b93",
   "metadata": {},
   "source": [
    "Het tegenovergestelde van `IS NULL` is `IS NOT NULL`. Met `IS NOT NULL` toon je dus alle rijen die wel een waarde hebben in een bepaalde kolom."
   ]
  },
  {
   "cell_type": "markdown",
   "id": "a912b364-bf23-4cf0-a049-82eea32489c5",
   "metadata": {},
   "source": [
    "Welke werknemers hebben er allemaal commissie? Dat zijn de werknemers met een commission_pct."
   ]
  },
  {
   "cell_type": "code",
   "execution_count": 3,
   "id": "a226a86e-2267-4dbb-893c-fa070905ea81",
   "metadata": {
    "tags": []
   },
   "outputs": [
    {
     "data": {
      "text/html": [
       "<table>\n",
       "<tr>\n",
       "<th>last_name</th>\n",
       "<th>commission_pct</th>\n",
       "</tr>\n",
       "<tr>\n",
       "<td>Zlotkey</td>\n",
       "<td>0.2</td>\n",
       "</tr>\n",
       "<tr>\n",
       "<td>Abel</td>\n",
       "<td>0.3</td>\n",
       "</tr>\n",
       "<tr>\n",
       "<td>Taylor</td>\n",
       "<td>0.2</td>\n",
       "</tr>\n",
       "<tr>\n",
       "<td>Grant</td>\n",
       "<td>0.15</td>\n",
       "</tr>\n",
       "</table>"
      ],
      "text/plain": [
       "+-----------+----------------+\n",
       "| last_name | commission_pct |\n",
       "+-----------+----------------+\n",
       "| Zlotkey   | 0.2            |\n",
       "+-----------+----------------+\n",
       "| Abel      | 0.3            |\n",
       "+-----------+----------------+\n",
       "| Taylor    | 0.2            |\n",
       "+-----------+----------------+\n",
       "| Grant     | 0.15           |\n",
       "+-----------+----------------+"
      ]
     },
     "execution_count": 3,
     "metadata": {},
     "output_type": "execute_result"
    }
   ],
   "source": [
    "SELECT last_name, commission_pct\n",
    "FROM employees\n",
    "WHERE commission_pct IS NOT NULL;"
   ]
  }
 ],
 "metadata": {
  "kernelspec": {
   "display_name": "xsqlite",
   "language": "sqlite",
   "name": "xsqlite"
  },
  "language_info": {
   "codemirror_mode": "sql",
   "file_extension": "",
   "mimetype": "",
   "name": "sql",
   "version": "3.33.0"
  }
 },
 "nbformat": 4,
 "nbformat_minor": 5
}
