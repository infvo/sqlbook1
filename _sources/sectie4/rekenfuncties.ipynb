{
 "cells": [
  {
   "cell_type": "markdown",
   "id": "76f8bf41-f755-4db3-b039-b00d973c3525",
   "metadata": {},
   "source": [
    "# Rekenfuncties"
   ]
  },
  {
   "cell_type": "code",
   "execution_count": 1,
   "id": "419b0191-fa64-4f1d-ac5a-bc591d82fa06",
   "metadata": {
    "tags": []
   },
   "outputs": [],
   "source": [
    "%LOAD ../data/employees.db"
   ]
  },
  {
   "cell_type": "markdown",
   "id": "4ee34c71-468f-4215-b70c-11ecd5b00a0e",
   "metadata": {},
   "source": [
    "Met `ROUND`, `CEILING` en `FLOOR` kun je getallen manipuleren.\n",
    "\n",
    "Een uitgebreid overzicht van rekenfuncties is te vinden bij de SQL cursus van W3 Schools bij SQL Server Numeric Functions\n",
    "\n",
    "https://www.w3schools.com/sql/sql_ref_mysql.asp"
   ]
  },
  {
   "cell_type": "markdown",
   "id": "60996ee5-83f1-4197-bb2c-c0565b4a8160",
   "metadata": {},
   "source": [
    "## Dual\n",
    "\n",
    "`DUAL` is een centrale dummy tabel met één rij waar je gebruik van kunt maken om functies te testen.\n",
    "\n",
    "Reken bijvoorbeeld uit hoeveel 3 x 4 is."
   ]
  },
  {
   "cell_type": "markdown",
   "id": "257a1077-bced-4260-9220-66e105ea2304",
   "metadata": {
    "tags": []
   },
   "source": [
    "```SQL\n",
    "SELECT 3 * 4 uitkomst\n",
    "FROM dual;\n",
    "```"
   ]
  },
  {
   "cell_type": "markdown",
   "id": "2a8f7193-8519-4cae-902a-7961668ac2ad",
   "metadata": {},
   "source": [
    "Zonder de FROM dual werkt het ook."
   ]
  },
  {
   "cell_type": "code",
   "execution_count": 3,
   "id": "41711bf1-f216-43a4-9b92-510aea379de3",
   "metadata": {
    "tags": []
   },
   "outputs": [
    {
     "data": {
      "text/html": [
       "<table>\n",
       "<tr>\n",
       "<th>uitkomst</th>\n",
       "</tr>\n",
       "<tr>\n",
       "<td>12</td>\n",
       "</tr>\n",
       "</table>"
      ],
      "text/plain": [
       "+----------+\n",
       "| uitkomst |\n",
       "+----------+\n",
       "| 12       |\n",
       "+----------+"
      ]
     },
     "execution_count": 3,
     "metadata": {},
     "output_type": "execute_result"
    }
   ],
   "source": [
    "SELECT 3 * 4 uitkomst;"
   ]
  },
  {
   "cell_type": "markdown",
   "id": "9e8d8b6d-2b21-4123-9ddf-d143d5105a26",
   "metadata": {},
   "source": [
    "## Round\n",
    "\n",
    "Met ROUND kun je getallen afronden op een bepaald aantal decimalen. Als het aantal decimalen niet wordt opgegeven, wordt er afgerond op 0 decimalen."
   ]
  },
  {
   "cell_type": "code",
   "execution_count": 4,
   "id": "39253905-08fa-4f77-be23-41d2286e480b",
   "metadata": {
    "tags": []
   },
   "outputs": [
    {
     "data": {
      "text/html": [
       "<table>\n",
       "<tr>\n",
       "<th>ROUND(45.926)</th>\n",
       "</tr>\n",
       "<tr>\n",
       "<td>46.0</td>\n",
       "</tr>\n",
       "</table>"
      ],
      "text/plain": [
       "+---------------+\n",
       "| ROUND(45.926) |\n",
       "+---------------+\n",
       "| 46.0          |\n",
       "+---------------+"
      ]
     },
     "execution_count": 4,
     "metadata": {},
     "output_type": "execute_result"
    }
   ],
   "source": [
    "SELECT ROUND(45.926);"
   ]
  },
  {
   "cell_type": "code",
   "execution_count": 5,
   "id": "9c2434b9-a299-48f1-89b0-81648dc84122",
   "metadata": {
    "tags": []
   },
   "outputs": [
    {
     "data": {
      "text/html": [
       "<table>\n",
       "<tr>\n",
       "<th>ROUND(45.926, 2)</th>\n",
       "</tr>\n",
       "<tr>\n",
       "<td>45.93</td>\n",
       "</tr>\n",
       "</table>"
      ],
      "text/plain": [
       "+------------------+\n",
       "| ROUND(45.926, 2) |\n",
       "+------------------+\n",
       "| 45.93            |\n",
       "+------------------+"
      ]
     },
     "execution_count": 5,
     "metadata": {},
     "output_type": "execute_result"
    }
   ],
   "source": [
    "SELECT ROUND(45.926, 2);"
   ]
  },
  {
   "cell_type": "markdown",
   "id": "2c404036-6d9a-4ae1-9d7a-72098739b2af",
   "metadata": {},
   "source": [
    "ROUND kun je ook gebruiken voor het afronden van datums. Je krijgt dan YYYYMMDD terug."
   ]
  },
  {
   "cell_type": "code",
   "execution_count": 6,
   "id": "0a25f889-0909-4abf-9c67-56868ee5838b",
   "metadata": {
    "tags": []
   },
   "outputs": [
    {
     "data": {
      "text/html": [
       "<table>\n",
       "<tr>\n",
       "<th>last_name</th>\n",
       "<th>ROUND(hire_date)</th>\n",
       "</tr>\n",
       "<tr>\n",
       "<td>King</td>\n",
       "<td>1987.0</td>\n",
       "</tr>\n",
       "<tr>\n",
       "<td>Kochhar</td>\n",
       "<td>1989.0</td>\n",
       "</tr>\n",
       "<tr>\n",
       "<td>De Haan</td>\n",
       "<td>1993.0</td>\n",
       "</tr>\n",
       "<tr>\n",
       "<td>Hunold</td>\n",
       "<td>1990.0</td>\n",
       "</tr>\n",
       "<tr>\n",
       "<td>Ernst</td>\n",
       "<td>1991.0</td>\n",
       "</tr>\n",
       "<tr>\n",
       "<td>Lorentz</td>\n",
       "<td>1999.0</td>\n",
       "</tr>\n",
       "<tr>\n",
       "<td>Mourgos</td>\n",
       "<td>1999.0</td>\n",
       "</tr>\n",
       "<tr>\n",
       "<td>Rajs</td>\n",
       "<td>1995.0</td>\n",
       "</tr>\n",
       "<tr>\n",
       "<td>Davies</td>\n",
       "<td>1997.0</td>\n",
       "</tr>\n",
       "<tr>\n",
       "<td>Matos</td>\n",
       "<td>1998.0</td>\n",
       "</tr>\n",
       "<tr>\n",
       "<td>Vargas</td>\n",
       "<td>1998.0</td>\n",
       "</tr>\n",
       "<tr>\n",
       "<td>Zlotkey</td>\n",
       "<td>2000.0</td>\n",
       "</tr>\n",
       "<tr>\n",
       "<td>Abel</td>\n",
       "<td>1996.0</td>\n",
       "</tr>\n",
       "<tr>\n",
       "<td>Taylor</td>\n",
       "<td>1998.0</td>\n",
       "</tr>\n",
       "<tr>\n",
       "<td>Grant</td>\n",
       "<td>1999.0</td>\n",
       "</tr>\n",
       "<tr>\n",
       "<td>Whalen</td>\n",
       "<td>1987.0</td>\n",
       "</tr>\n",
       "<tr>\n",
       "<td>Hartstein</td>\n",
       "<td>1996.0</td>\n",
       "</tr>\n",
       "<tr>\n",
       "<td>Fay</td>\n",
       "<td>1997.0</td>\n",
       "</tr>\n",
       "<tr>\n",
       "<td>Higgins</td>\n",
       "<td>1994.0</td>\n",
       "</tr>\n",
       "<tr>\n",
       "<td>Gietz</td>\n",
       "<td>1994.0</td>\n",
       "</tr>\n",
       "</table>"
      ],
      "text/plain": [
       "+-----------+------------------+\n",
       "| last_name | ROUND(hire_date) |\n",
       "+-----------+------------------+\n",
       "| King      | 1987.0           |\n",
       "+-----------+------------------+\n",
       "| Kochhar   | 1989.0           |\n",
       "+-----------+------------------+\n",
       "| De Haan   | 1993.0           |\n",
       "+-----------+------------------+\n",
       "| Hunold    | 1990.0           |\n",
       "+-----------+------------------+\n",
       "| Ernst     | 1991.0           |\n",
       "+-----------+------------------+\n",
       "| Lorentz   | 1999.0           |\n",
       "+-----------+------------------+\n",
       "| Mourgos   | 1999.0           |\n",
       "+-----------+------------------+\n",
       "| Rajs      | 1995.0           |\n",
       "+-----------+------------------+\n",
       "| Davies    | 1997.0           |\n",
       "+-----------+------------------+\n",
       "| Matos     | 1998.0           |\n",
       "+-----------+------------------+\n",
       "| Vargas    | 1998.0           |\n",
       "+-----------+------------------+\n",
       "| Zlotkey   | 2000.0           |\n",
       "+-----------+------------------+\n",
       "| Abel      | 1996.0           |\n",
       "+-----------+------------------+\n",
       "| Taylor    | 1998.0           |\n",
       "+-----------+------------------+\n",
       "| Grant     | 1999.0           |\n",
       "+-----------+------------------+\n",
       "| Whalen    | 1987.0           |\n",
       "+-----------+------------------+\n",
       "| Hartstein | 1996.0           |\n",
       "+-----------+------------------+\n",
       "| Fay       | 1997.0           |\n",
       "+-----------+------------------+\n",
       "| Higgins   | 1994.0           |\n",
       "+-----------+------------------+\n",
       "| Gietz     | 1994.0           |\n",
       "+-----------+------------------+"
      ]
     },
     "execution_count": 6,
     "metadata": {},
     "output_type": "execute_result"
    }
   ],
   "source": [
    "SELECT last_name, ROUND(hire_date)\n",
    "FROM employees;"
   ]
  },
  {
   "cell_type": "markdown",
   "id": "b0281811-0214-47e9-aa39-1047ed4692fa",
   "metadata": {},
   "source": [
    "## Ceiling\n",
    "\n",
    "Met `CEILING` kun je afronden naar boven op een heel getal."
   ]
  },
  {
   "cell_type": "code",
   "execution_count": 9,
   "id": "7d298a76-a492-4ea9-89ff-ff6ae42c9322",
   "metadata": {
    "tags": []
   },
   "outputs": [
    {
     "data": {
      "text/html": [
       "<table>\n",
       "<tr>\n",
       "<th>CEILING(45.236)</th>\n",
       "</tr>\n",
       "<tr>\n",
       "<td>46.0</td>\n",
       "</tr>\n",
       "</table>"
      ],
      "text/plain": [
       "+-----------------+\n",
       "| CEILING(45.236) |\n",
       "+-----------------+\n",
       "| 46.0            |\n",
       "+-----------------+"
      ]
     },
     "execution_count": 9,
     "metadata": {},
     "output_type": "execute_result"
    }
   ],
   "source": [
    "SELECT CEILING(45.236);"
   ]
  },
  {
   "cell_type": "markdown",
   "id": "c5efce93-1b9a-4234-a351-b2805c3c49b2",
   "metadata": {},
   "source": [
    "## Floor\n",
    "\n",
    "Met `FLOOR` rond je af naar beneden op een heel getal."
   ]
  },
  {
   "cell_type": "code",
   "execution_count": 10,
   "id": "4dadfaa5-9532-4272-ac44-b4dc1f2fe605",
   "metadata": {
    "tags": []
   },
   "outputs": [
    {
     "data": {
      "text/html": [
       "<table>\n",
       "<tr>\n",
       "<th>FLOOR(45.926)</th>\n",
       "</tr>\n",
       "<tr>\n",
       "<td>45.0</td>\n",
       "</tr>\n",
       "</table>"
      ],
      "text/plain": [
       "+---------------+\n",
       "| FLOOR(45.926) |\n",
       "+---------------+\n",
       "| 45.0          |\n",
       "+---------------+"
      ]
     },
     "execution_count": 10,
     "metadata": {},
     "output_type": "execute_result"
    }
   ],
   "source": [
    "SELECT FLOOR(45.926);"
   ]
  },
  {
   "cell_type": "markdown",
   "id": "d398328c-2fb5-464e-9dc5-46bd82639e91",
   "metadata": {},
   "source": []
  }
 ],
 "metadata": {
  "kernelspec": {
   "display_name": "xsqlite",
   "language": "sqlite",
   "name": "xsqlite"
  },
  "language_info": {
   "codemirror_mode": "sql",
   "file_extension": "",
   "mimetype": "",
   "name": "sql",
   "version": "3.33.0"
  }
 },
 "nbformat": 4,
 "nbformat_minor": 5
}
