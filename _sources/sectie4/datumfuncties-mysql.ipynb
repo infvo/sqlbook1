{
 "cells": [
  {
   "cell_type": "markdown",
   "id": "1df89f1f-c61b-489a-9016-70484b96cfa8",
   "metadata": {},
   "source": [
    "(mysql-datumtijd)=\n",
    "# Datumfuncties in MySQL"
   ]
  },
  {
   "cell_type": "markdown",
   "id": "8223e869-0b97-44a7-925e-d4180a74f79d",
   "metadata": {},
   "source": [
    "## SQL datum- en tijdfuncties\n",
    "\n",
    "Het rekenen met datums en tijden in SQL is vrij complex, met aparte \"INTERVAL\" waarden.\n",
    "Er zijn ontzettend veel mogelijkheden met datumfuncties. Een overzicht vind je hier:\n",
    "\n",
    "https://dev.mysql.com/doc/refman/5.5/en/date-and-time-functions.html\n",
    "\n",
    "Hieronder geven we de MySQL voorbeelden."
   ]
  },
  {
   "cell_type": "markdown",
   "id": "4bd9c8a6-2a8f-4c6d-be60-0e2d27308c08",
   "metadata": {},
   "source": [
    "## Sysdate\n",
    "\n",
    "Met `SYSDATE()` haal je de systeemdatum op, de datum van vandaag. Hetzelfde bereik je min of meer met `NOW()`, `LOCALTIME` of `LOCALTIMESTAMP`. Er zijn subtiele verschillen."
   ]
  },
  {
   "cell_type": "markdown",
   "id": "40c0462b-5d4d-4bd7-bc74-565d23380b7e",
   "metadata": {},
   "source": [
    " \n",
    "```SQL\n",
    "SELECT SYSDATE(), NOW(), LOCALTIME, LOCALTIMESTAMP;\n",
    "```\n",
    "\n",
    "![](figs/clip0104.png)"
   ]
  },
  {
   "cell_type": "markdown",
   "id": "2330a8c0-986f-444a-8111-efdf69778213",
   "metadata": {},
   "source": [
    "## Day\n",
    "\n",
    "Met `DAY()` haal je het nummer van de dag op van een datum.\n",
    "\n",
    "```SQL\n",
    "SELECT last_name, hire_date, DAY(hire_date)\n",
    "FROM employees\n",
    "WHERE last_name = 'King';\n",
    "```\n",
    "\n",
    "![](figs/clip0095.png)\n",
    "\n",
    "Als je de naam van de dag wil, dan gebruik je `DAYNAME()`.\n",
    "\n",
    "```SQL\n",
    "SELECT last_name, hire_date, DAYNAME(hire_date)\n",
    "FROM employees\n",
    "WHERE last_name = 'King';\n",
    "```\n",
    "\n",
    "![](figs/clip0099.png)"
   ]
  },
  {
   "cell_type": "markdown",
   "id": "4cb5ba67-4cd0-47f8-bee1-a0a6a636e194",
   "metadata": {},
   "source": [
    "## Month\n",
    "\n",
    "Met `MONTH()` haal je het nummer van de maand op van een datum.\n",
    "\n",
    "```SQL\n",
    "SELECT last_name, hire_date, MONTH(hire_date)\n",
    "FROM employees\n",
    "WHERE last_name = 'King';\n",
    "```\n",
    "\n",
    "![](figs/clip0096.png)\n",
    "\n",
    "Als je de naam van de maand wil, dan gebruik je MONTHNAME.\n",
    "\n",
    "```SQL\n",
    "SELECT last_name, hire_date, MONTHNAME(hire_date)\n",
    "FROM employees\n",
    "WHERE last_name = 'King';\n",
    "```\n",
    "\n",
    "![](figs/clip0098.png)\n"
   ]
  },
  {
   "cell_type": "markdown",
   "id": "aa99d2f4-57ab-4ea9-8f88-784abee919bd",
   "metadata": {},
   "source": [
    "## Year\n",
    "\n",
    "Met `YEAR()` haal je het jaar op van een datum.\n",
    "\n",
    "```SQL\n",
    "SELECT last_name, hire_date, YEAR(hire_date)\n",
    "FROM employees\n",
    "WHERE last_name = 'King';\n",
    "```\n",
    "\n",
    "![](figs/clip0097.png)\n",
    "\n",
    "Op deze manier kun je datums van elkaar aftrekken. Bij jaren wordt dan de uitkomst naar beneden afgerond.\n",
    "\n",
    "```SQL\n",
    "SELECT last_name, YEAR(hire_date), YEAR(NOW()), YEAR(NOW())-YEAR(hire_date) AS dienstjaren\n",
    "FROM employees\n",
    "WHERE last_name = 'King';\n",
    "```\n",
    " \n",
    "\n",
    "![](figs/clip0105.png)"
   ]
  },
  {
   "cell_type": "markdown",
   "id": "fd790636-ea45-431c-9f6f-4e174cac9fde",
   "metadata": {},
   "source": [
    "## Date_add\n",
    "\n",
    "Met `DATE_ADD` kun je dagen, maanden of jaren toevoegen aan een datum. Met `INTERVAL` geef je aan wat en hoeveel je wil toevoegen. In onderstaande voorbeelden wordt achtereenvolgens 6 dagen, 6 maanden en 6 jaar toegevoegd aan de hire_date.\n",
    "\n",
    "```SQL\n",
    "SELECT last_name, hire_date, DATE_ADD(hire_date, INTERVAL 6 DAY)\n",
    "FROM employees\n",
    "WHERE last_name = 'King';\n",
    "```\n",
    "\n",
    "![](figs/clip0101.png)\n",
    "\n",
    "```SQL\n",
    "SELECT last_name, hire_date, DATE_ADD(hire_date, INTERVAL 6 MONTH)\n",
    "FROM employees\n",
    "WHERE last_name = 'King';\n",
    "```\n",
    "\n",
    "![](figs/clip0100.png)\n",
    "\n",
    "```SQL\n",
    "SELECT last_name, hire_date, DATE_ADD(hire_date, INTERVAL 6 YEAR)\n",
    "FROM employees\n",
    "WHERE last_name = 'King';\n",
    "```\n",
    "\n",
    "![](figs/clip0102.png)"
   ]
  },
  {
   "cell_type": "markdown",
   "id": "1c82fa1a-cf91-4828-b2b3-7ad8483eadcf",
   "metadata": {},
   "source": [
    "## Timestampdiff\n",
    "\n",
    "Met `TIMESTAMPDIFF()` kun je het verschil tussen twee datums uitrekenen, bijvoorbeeld in jaren of maanden.\n",
    "\n",
    "```SQL\n",
    "SELECT last_name, hire_date, TIMESTAMPDIFF(YEAR, hire_date, SYSDATE())\n",
    "FROM employees\n",
    "WHERE last_name = 'King';\n",
    "``` \n",
    "\n",
    "![](figs/clip0106.png)\n",
    "\n",
    "```SQL\n",
    "SELECT last_name, hire_date, TIMESTAMPDIFF(MONTH, hire_date, SYSDATE())\n",
    "FROM employees\n",
    "WHERE last_name = 'King';\n",
    "```\n",
    "\n",
    "![](figs/clip0107.png)"
   ]
  },
  {
   "cell_type": "markdown",
   "id": "86f16b0e-fc74-42cb-bf70-48fbb3de6275",
   "metadata": {},
   "source": [
    "## Date_format\n",
    "\n",
    "Datumvelden kun je op allerlei mogelijke manieren vormgeven met `DATE_FORMAT()`. Een overzicht van alle mogelijkheden vind je hier:\n",
    "\n",
    "https://dev.mysql.com/doc/refman/5.5/en/date-and-time-functions.html#function_date-format\n",
    "\n",
    "```SQL\n",
    "SELECT last_name, hire_date, DATE_FORMAT(hire_date, '%d %M %Y')\n",
    "FROM employees\n",
    "WHERE last_name = 'King';\n",
    "```\n",
    "\n",
    "![](figs/clip0103.png)\n",
    "\n",
    "Als je de uitvoer in het Nederlands wil, dan kun je met een `SET` de local time name op Nederlands zetten. In dit voorbeeld zie je dan *juni* in het Nederlands in plaats van *June* in het Engels. Let op dat er op het eind van de `SET` een puntkomma staat! Het zijn dus eigenljk twee commando's achter elkaar. Je kunt de SET regel ook los invoeren en dan werkt de instelling zolang je in dezelfde sessie bent. Als je de beheerder zou zijn van de database, dan kun je deze SET vastleggen zodat je altijd de uitvoer in het Nederlands hebt.\n",
    "\n",
    "```SQL\n",
    "SET lc_time_names = 'nl_NL';\n",
    "\n",
    "SELECT last_name, hire_date, DATE_FORMAT(hire_date, '%d %M %Y')\n",
    "FROM employees\n",
    "WHERE last_name = 'King';\n",
    "```\n",
    "\n",
    "![](figs/clip0109.png)"
   ]
  }
 ],
 "metadata": {
  "kernelspec": {
   "display_name": "xsqlite",
   "language": "sqlite",
   "name": "xsqlite"
  },
  "language_info": {
   "codemirror_mode": "sql",
   "file_extension": "",
   "mimetype": "",
   "name": "sql",
   "version": "3.33.0"
  }
 },
 "nbformat": 4,
 "nbformat_minor": 5
}
