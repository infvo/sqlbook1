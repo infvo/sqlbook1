{
 "cells": [
  {
   "cell_type": "markdown",
   "id": "1df89f1f-c61b-489a-9016-70484b96cfa8",
   "metadata": {},
   "source": [
    "(sqlite-datumtijd)=\n",
    "# Datumfuncties in SQLite"
   ]
  },
  {
   "cell_type": "code",
   "execution_count": 2,
   "id": "553e036d-2145-453a-b18f-8b02b2d7f9bc",
   "metadata": {
    "tags": []
   },
   "outputs": [],
   "source": [
    "%LOAD ../data/employees.db"
   ]
  },
  {
   "cell_type": "markdown",
   "id": "81e8ed53-5b80-4432-856c-6c25bc4b9f02",
   "metadata": {},
   "source": [
    "De datum- en tijdfuncties in SQLite wijken nogal af van die in (My)SQL.\n",
    "Een uitgebreide beschrijving van de SQLite functies vind je hier:\n",
    "\n",
    "* https://www.sqlite.org/lang_datefunc.html\n",
    "* https://www.sqlitetutorial.net/sqlite-date-functions/sqlite-date-function/\n",
    "\n",
    "We geven hieronder een aantal voorbeelden van veelvoorkomende gevallen."
   ]
  },
  {
   "cell_type": "markdown",
   "id": "09daf428-890e-4d8a-8c57-9fe0c3631b77",
   "metadata": {},
   "source": [
    "## Datum en tijd als TEXT"
   ]
  },
  {
   "cell_type": "markdown",
   "id": "f812c826-da7e-4dc0-a7ab-adba29b6bb62",
   "metadata": {},
   "source": [
    "De basisfuncties voor datum en tijd in TEXT-formaat (ISO-8601) zijn:\n",
    "\n",
    "* DATE - geeft de datum (als TEXT)\n",
    "* TIME - geeft de tijd, zonder datum (als TEXT)\n",
    "* DATETIME - geeft de combinatie van datum en tijd (als TEXT)\n",
    "\n",
    "Met deze functies kun je via \"modifiers\" ook rekenen met tijd, bijvoorbeeld 30 dagen verder, 2 maanden eerder, enzovoorts."
   ]
  },
  {
   "cell_type": "code",
   "execution_count": 7,
   "id": "b5b1cc66-b066-4cac-becf-3670614470be",
   "metadata": {
    "tags": []
   },
   "outputs": [
    {
     "data": {
      "text/html": [
       "<table>\n",
       "<tr>\n",
       "<th>DATE('now')</th>\n",
       "</tr>\n",
       "<tr>\n",
       "<td>2023-07-05</td>\n",
       "</tr>\n",
       "</table>"
      ],
      "text/plain": [
       "+-------------+\n",
       "| DATE('now') |\n",
       "+-------------+\n",
       "| 2023-07-05  |\n",
       "+-------------+"
      ]
     },
     "execution_count": 7,
     "metadata": {},
     "output_type": "execute_result"
    }
   ],
   "source": [
    "SELECT DATE('now');"
   ]
  },
  {
   "cell_type": "code",
   "execution_count": 26,
   "id": "ad5d8f65-fe44-46f9-8da8-b5549546ebde",
   "metadata": {
    "tags": []
   },
   "outputs": [
    {
     "data": {
      "text/html": [
       "<table>\n",
       "<tr>\n",
       "<th>DATE ('now', 'start of year')</th>\n",
       "</tr>\n",
       "<tr>\n",
       "<td>2023-01-01</td>\n",
       "</tr>\n",
       "</table>"
      ],
      "text/plain": [
       "+-------------------------------+\n",
       "| DATE ('now', 'start of year') |\n",
       "+-------------------------------+\n",
       "| 2023-01-01                    |\n",
       "+-------------------------------+"
      ]
     },
     "execution_count": 26,
     "metadata": {},
     "output_type": "execute_result"
    }
   ],
   "source": [
    "SELECT DATE ('now', 'start of year');"
   ]
  },
  {
   "cell_type": "code",
   "execution_count": 11,
   "id": "ae458734-0b0c-44ed-af24-9927356cfac7",
   "metadata": {
    "tags": []
   },
   "outputs": [
    {
     "data": {
      "text/html": [
       "<table>\n",
       "<tr>\n",
       "<th>TIME ('now')</th>\n",
       "</tr>\n",
       "<tr>\n",
       "<td>07:46:02</td>\n",
       "</tr>\n",
       "</table>"
      ],
      "text/plain": [
       "+--------------+\n",
       "| TIME ('now') |\n",
       "+--------------+\n",
       "| 07:46:02     |\n",
       "+--------------+"
      ]
     },
     "execution_count": 11,
     "metadata": {},
     "output_type": "execute_result"
    }
   ],
   "source": [
    "SELECT TIME ('now');"
   ]
  },
  {
   "cell_type": "code",
   "execution_count": 24,
   "id": "3b463012-1a81-4e9b-8996-34551a87e7a4",
   "metadata": {
    "tags": []
   },
   "outputs": [
    {
     "data": {
      "text/html": [
       "<table>\n",
       "<tr>\n",
       "<th>DATETIME('now', \"+10 days\")</th>\n",
       "</tr>\n",
       "<tr>\n",
       "<td>2023-07-28 17:22:49</td>\n",
       "</tr>\n",
       "</table>"
      ],
      "text/plain": [
       "+-----------------------------+\n",
       "| DATETIME('now', \"+10 days\") |\n",
       "+-----------------------------+\n",
       "| 2023-07-28 17:22:49         |\n",
       "+-----------------------------+"
      ]
     },
     "execution_count": 24,
     "metadata": {},
     "output_type": "execute_result"
    }
   ],
   "source": [
    "SELECT DATETIME('now', \"+10 days\")"
   ]
  },
  {
   "cell_type": "markdown",
   "id": "9fa95a94-3a2a-4e07-84c2-c675f7bb5532",
   "metadata": {},
   "source": [
    "## Datum en tijd als getal\n",
    "\n",
    "De volgende functies geven de datum/tijd als getal: daarmee kun je eenvoudig rekenen, als het om dagen of seconden gaat:\n",
    "\n",
    "* JULIANDAY - geeft de datum/tijd als getal (aantal dagen sinds 12:00 uur op 24 november 4714 B.C.)\n",
    "    * zie: https://nl.wikipedia.org/wiki/Juliaanse_dag\n",
    "* UNIXEPOCH - geeft de datum/tijd als getal (Unix timestamp: seconden sinds 1 jan 1970)"
   ]
  },
  {
   "cell_type": "code",
   "execution_count": 25,
   "id": "015a04e2-2456-4a85-b0ec-c9b1968897c9",
   "metadata": {
    "tags": []
   },
   "outputs": [
    {
     "data": {
      "text/html": [
       "<table>\n",
       "<tr>\n",
       "<th>JULIANDAY('now', \"-1 month\")</th>\n",
       "</tr>\n",
       "<tr>\n",
       "<td>2460114.22443712</td>\n",
       "</tr>\n",
       "</table>"
      ],
      "text/plain": [
       "+------------------------------+\n",
       "| JULIANDAY('now', \"-1 month\") |\n",
       "+------------------------------+\n",
       "| 2460114.22443712             |\n",
       "+------------------------------+"
      ]
     },
     "execution_count": 25,
     "metadata": {},
     "output_type": "execute_result"
    }
   ],
   "source": [
    "SELECT JULIANDAY('now', \"-1 month\");"
   ]
  },
  {
   "cell_type": "code",
   "execution_count": 27,
   "id": "0c03df3d-a02c-4c25-831a-fbd606261d35",
   "metadata": {
    "tags": []
   },
   "outputs": [
    {
     "data": {
      "text/html": [
       "<table>\n",
       "<tr>\n",
       "<th>UNIXEPOCH('now')</th>\n",
       "</tr>\n",
       "<tr>\n",
       "<td>1689701484</td>\n",
       "</tr>\n",
       "</table>"
      ],
      "text/plain": [
       "+------------------+\n",
       "| UNIXEPOCH('now') |\n",
       "+------------------+\n",
       "| 1689701484       |\n",
       "+------------------+"
      ]
     },
     "execution_count": 27,
     "metadata": {},
     "output_type": "execute_result"
    }
   ],
   "source": [
    "SELECT UNIXEPOCH('now');"
   ]
  },
  {
   "cell_type": "markdown",
   "id": "4dc13f9f-734a-4896-a3f2-b976f9cb5947",
   "metadata": {},
   "source": [
    "Deze getallen kun je omzetten in (ISO) TEXT-formaat met de eerder genoemde DATE/TIME/DATETIME functies:"
   ]
  },
  {
   "cell_type": "code",
   "execution_count": 19,
   "id": "6c420307-9d64-4d18-bd14-f2628b22968d",
   "metadata": {
    "tags": []
   },
   "outputs": [
    {
     "data": {
      "text/html": [
       "<table>\n",
       "<tr>\n",
       "<th>DATETIME(UNIXEPOCH('now'), 'unixepoch')</th>\n",
       "</tr>\n",
       "<tr>\n",
       "<td>2023-07-18 16:57:58</td>\n",
       "</tr>\n",
       "</table>"
      ],
      "text/plain": [
       "+-----------------------------------------+\n",
       "| DATETIME(UNIXEPOCH('now'), 'unixepoch') |\n",
       "+-----------------------------------------+\n",
       "| 2023-07-18 16:57:58                     |\n",
       "+-----------------------------------------+"
      ]
     },
     "execution_count": 19,
     "metadata": {},
     "output_type": "execute_result"
    }
   ],
   "source": [
    "SELECT DATETIME(UNIXEPOCH('now'), 'unixepoch');"
   ]
  },
  {
   "cell_type": "markdown",
   "id": "ccec888f-d765-469f-acb2-802bc3384983",
   "metadata": {},
   "source": [
    "Idem, voor Juliaanse tijd (getal):"
   ]
  },
  {
   "cell_type": "code",
   "execution_count": 20,
   "id": "ec9232eb-f305-4e5f-8dd9-e4c6805a44ad",
   "metadata": {
    "tags": []
   },
   "outputs": [
    {
     "data": {
      "text/html": [
       "<table>\n",
       "<tr>\n",
       "<th>DATETIME(JULIANDAY('now'))</th>\n",
       "</tr>\n",
       "<tr>\n",
       "<td>2023-07-18 16:58:00</td>\n",
       "</tr>\n",
       "</table>"
      ],
      "text/plain": [
       "+----------------------------+\n",
       "| DATETIME(JULIANDAY('now')) |\n",
       "+----------------------------+\n",
       "| 2023-07-18 16:58:00        |\n",
       "+----------------------------+"
      ]
     },
     "execution_count": 20,
     "metadata": {},
     "output_type": "execute_result"
    }
   ],
   "source": [
    "SELECT DATETIME(JULIANDAY('now'));"
   ]
  },
  {
   "cell_type": "markdown",
   "id": "b94a2eb0-90e8-4ec0-9d43-9ef51d1ab796",
   "metadata": {},
   "source": [
    "## strftime\n",
    "\n",
    "Met de functie `strftime(format, datetime)` kun je het TEXT-formaat van de datum/tijd aanpassen, bijvoorbeeld om een onderdeel te selecteren (zoals \"dag\", \"maand\", \"jaar\")."
   ]
  },
  {
   "cell_type": "markdown",
   "id": "3b8b6f06-8b8c-40f5-a0b8-f239d8ead73b",
   "metadata": {},
   "source": [
    "**Dag. **Met het format `%d` krijg je het nummer van de dag in de maand van een datum:"
   ]
  },
  {
   "cell_type": "code",
   "execution_count": 6,
   "id": "0872ef43-bdd6-4bea-9820-c041edfe9648",
   "metadata": {
    "tags": []
   },
   "outputs": [
    {
     "data": {
      "text/html": [
       "<table>\n",
       "<tr>\n",
       "<th>last_name</th>\n",
       "<th>hire_date</th>\n",
       "<th>day</th>\n",
       "</tr>\n",
       "<tr>\n",
       "<td>King</td>\n",
       "<td>1987-06-17</td>\n",
       "<td>17</td>\n",
       "</tr>\n",
       "</table>"
      ],
      "text/plain": [
       "+-----------+------------+-----+\n",
       "| last_name | hire_date  | day |\n",
       "+-----------+------------+-----+\n",
       "| King      | 1987-06-17 | 17  |\n",
       "+-----------+------------+-----+"
      ]
     },
     "execution_count": 6,
     "metadata": {},
     "output_type": "execute_result"
    }
   ],
   "source": [
    "SELECT last_name, hire_date, strftime('%d', hire_date) as day\n",
    "FROM employees\n",
    "WHERE last_name = 'King';"
   ]
  },
  {
   "cell_type": "markdown",
   "id": "f4977b68-1142-425b-9313-c61196dd45fe",
   "metadata": {},
   "source": [
    "**Weekdag.** Als je de dag in de week wilt (met zondag = 0), gebruik je `%w`:"
   ]
  },
  {
   "cell_type": "code",
   "execution_count": 22,
   "id": "61b59516-9eae-4ca5-ba3b-07bdb8d8d71d",
   "metadata": {
    "tags": []
   },
   "outputs": [
    {
     "data": {
      "text/html": [
       "<table>\n",
       "<tr>\n",
       "<th>last_name</th>\n",
       "<th>hire_date</th>\n",
       "<th>day_in_week</th>\n",
       "</tr>\n",
       "<tr>\n",
       "<td>King</td>\n",
       "<td>1987-06-17</td>\n",
       "<td>3</td>\n",
       "</tr>\n",
       "</table>"
      ],
      "text/plain": [
       "+-----------+------------+-------------+\n",
       "| last_name | hire_date  | day_in_week |\n",
       "+-----------+------------+-------------+\n",
       "| King      | 1987-06-17 | 3           |\n",
       "+-----------+------------+-------------+"
      ]
     },
     "execution_count": 22,
     "metadata": {},
     "output_type": "execute_result"
    }
   ],
   "source": [
    "SELECT last_name, hire_date, strftime('%w', hire_date) as day_in_week\n",
    "FROM employees\n",
    "WHERE last_name = 'King';"
   ]
  },
  {
   "cell_type": "markdown",
   "id": "85c72ff2-b9b0-481d-8832-4675addd20d0",
   "metadata": {},
   "source": [
    "**Maand.** Met het format `%m` haal je het nummer van de maand op van een datum."
   ]
  },
  {
   "cell_type": "code",
   "execution_count": 10,
   "id": "b88e97a6-93c5-40e5-b3a1-97dbbbf66fff",
   "metadata": {
    "tags": []
   },
   "outputs": [
    {
     "data": {
      "text/html": [
       "<table>\n",
       "<tr>\n",
       "<th>last_name</th>\n",
       "<th>hire_date</th>\n",
       "<th>month</th>\n",
       "</tr>\n",
       "<tr>\n",
       "<td>King</td>\n",
       "<td>1987-06-17</td>\n",
       "<td>06</td>\n",
       "</tr>\n",
       "</table>"
      ],
      "text/plain": [
       "+-----------+------------+-------+\n",
       "| last_name | hire_date  | month |\n",
       "+-----------+------------+-------+\n",
       "| King      | 1987-06-17 | 06    |\n",
       "+-----------+------------+-------+"
      ]
     },
     "execution_count": 10,
     "metadata": {},
     "output_type": "execute_result"
    }
   ],
   "source": [
    "SELECT last_name, hire_date, strftime('%m', hire_date) as month\n",
    "FROM employees\n",
    "WHERE last_name = 'King';"
   ]
  },
  {
   "cell_type": "markdown",
   "id": "b95245f0-a3ee-46a7-b2ce-f9b805079a55",
   "metadata": {},
   "source": [
    "**Jaar.** Met het format `%Y` YEAR haal je het jaar op van een datum."
   ]
  },
  {
   "cell_type": "code",
   "execution_count": 13,
   "id": "f97ceb5c-fd3c-4abb-832e-0c39fef89e48",
   "metadata": {
    "tags": []
   },
   "outputs": [
    {
     "data": {
      "text/html": [
       "<table>\n",
       "<tr>\n",
       "<th>last_name</th>\n",
       "<th>hire_date</th>\n",
       "<th>year</th>\n",
       "</tr>\n",
       "<tr>\n",
       "<td>King</td>\n",
       "<td>1987-06-17</td>\n",
       "<td>1987</td>\n",
       "</tr>\n",
       "</table>"
      ],
      "text/plain": [
       "+-----------+------------+------+\n",
       "| last_name | hire_date  | year |\n",
       "+-----------+------------+------+\n",
       "| King      | 1987-06-17 | 1987 |\n",
       "+-----------+------------+------+"
      ]
     },
     "execution_count": 13,
     "metadata": {},
     "output_type": "execute_result"
    }
   ],
   "source": [
    "SELECT last_name, hire_date, strftime('%Y', hire_date) as year\n",
    "FROM employees\n",
    "WHERE last_name = 'King';"
   ]
  },
  {
   "cell_type": "markdown",
   "id": "3adb64fb-1778-40e7-8c39-c61e829eaa7a",
   "metadata": {},
   "source": [
    "**Opmerking.** SQLite heeft geen mogelijkheid om maanden of weekdagen te benoemen. Als dat nodig is, kun je de getallen via een `CASE` constructie omzetten in de gewenste namen."
   ]
  }
 ],
 "metadata": {
  "kernelspec": {
   "display_name": "xsqlite",
   "language": "sqlite",
   "name": "xsqlite"
  },
  "language_info": {
   "codemirror_mode": "sql",
   "file_extension": "",
   "mimetype": "",
   "name": "sql",
   "version": "3.33.0"
  }
 },
 "nbformat": 4,
 "nbformat_minor": 5
}
