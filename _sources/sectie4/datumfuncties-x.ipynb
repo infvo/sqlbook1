{
 "cells": [
  {
   "cell_type": "markdown",
   "id": "1df89f1f-c61b-489a-9016-70484b96cfa8",
   "metadata": {},
   "source": [
    "# Datumfuncties"
   ]
  },
  {
   "cell_type": "code",
   "execution_count": 2,
   "id": "553e036d-2145-453a-b18f-8b02b2d7f9bc",
   "metadata": {
    "tags": []
   },
   "outputs": [],
   "source": [
    "%LOAD ../data/employees.db"
   ]
  },
  {
   "cell_type": "markdown",
   "id": "5c73367a-aa4c-4011-aee8-cc47e35e0e8d",
   "metadata": {},
   "source": [
    "## Datum en tijd in SQLite"
   ]
  },
  {
   "cell_type": "markdown",
   "id": "c8457c2a-7bcb-43c2-a481-f724451900e5",
   "metadata": {},
   "source": [
    "De datum- en tijdfuncties in SQLite wijken nogal af van die in (My)SQL.\n",
    "Een uitgebreide beschrijving vind je bijvoorbeeld hier:\n",
    "\n",
    "* https://www.sqlite.org/lang_datefunc.html\n",
    "* https://www.sqlitetutorial.net/sqlite-date-functions/sqlite-date-function/\n",
    "\n",
    "We geven hieronder een aantal voorbeelden van veelvoorkomende gevallen.\n",
    "\n",
    "De basisfuncties voor datum en tijd in TEXT-formaat (ISO-8601) zijn:\n",
    "\n",
    "* DATE - geeft de datum (als TEXT)\n",
    "* TIME - geeft de tijd, zonder datum (als TEXT)\n",
    "* DATETIME - geeft de combinatie van datum en tijd (als TEXT)\n",
    "\n",
    "Met deze functies kun je via \"modifiers\" ook rekenen met tijd, bijvoorbeeld 30 dagen verder, 2 maanden eerder, enzovoorts."
   ]
  },
  {
   "cell_type": "markdown",
   "id": "9fa95a94-3a2a-4e07-84c2-c675f7bb5532",
   "metadata": {},
   "source": [
    "### Datum en tijd als getal\n",
    "\n",
    "De volgende functies geven de datum/tijd als getal: daarmee kun je eenvoudig rekenen, als het om dagen of seconden gaat:\n",
    "\n",
    "* JULIANDAY - geeft de datum/tijd als getal (aantal dagen sinds 12:00 uur op 24 november 4714 B.C.)\n",
    "    * zie: https://nl.wikipedia.org/wiki/Juliaanse_dag\n",
    "* UNIXEPOCH - geeft de datum/tijd als getal (Unix timestamp: seconden sinds 1 jan 1970)\n",
    "\n",
    "Deze getallen kun je omzetten in (ISO) TEXT-formaat met de eerder genoemde DATE/TIME/DATETIME functies. "
   ]
  },
  {
   "cell_type": "code",
   "execution_count": 7,
   "id": "b5b1cc66-b066-4cac-becf-3670614470be",
   "metadata": {
    "tags": []
   },
   "outputs": [
    {
     "data": {
      "text/html": [
       "<table>\n",
       "<tr>\n",
       "<th>DATE('now')</th>\n",
       "</tr>\n",
       "<tr>\n",
       "<td>2023-07-05</td>\n",
       "</tr>\n",
       "</table>"
      ],
      "text/plain": [
       "+-------------+\n",
       "| DATE('now') |\n",
       "+-------------+\n",
       "| 2023-07-05  |\n",
       "+-------------+"
      ]
     },
     "execution_count": 7,
     "metadata": {},
     "output_type": "execute_result"
    }
   ],
   "source": [
    "SELECT DATE('now');"
   ]
  },
  {
   "cell_type": "code",
   "execution_count": 26,
   "id": "ad5d8f65-fe44-46f9-8da8-b5549546ebde",
   "metadata": {
    "tags": []
   },
   "outputs": [
    {
     "data": {
      "text/html": [
       "<table>\n",
       "<tr>\n",
       "<th>DATE ('now', 'start of year')</th>\n",
       "</tr>\n",
       "<tr>\n",
       "<td>2023-01-01</td>\n",
       "</tr>\n",
       "</table>"
      ],
      "text/plain": [
       "+-------------------------------+\n",
       "| DATE ('now', 'start of year') |\n",
       "+-------------------------------+\n",
       "| 2023-01-01                    |\n",
       "+-------------------------------+"
      ]
     },
     "execution_count": 26,
     "metadata": {},
     "output_type": "execute_result"
    }
   ],
   "source": [
    "SELECT DATE ('now', 'start of year');"
   ]
  },
  {
   "cell_type": "code",
   "execution_count": 11,
   "id": "ae458734-0b0c-44ed-af24-9927356cfac7",
   "metadata": {
    "tags": []
   },
   "outputs": [
    {
     "data": {
      "text/html": [
       "<table>\n",
       "<tr>\n",
       "<th>TIME ('now')</th>\n",
       "</tr>\n",
       "<tr>\n",
       "<td>07:46:02</td>\n",
       "</tr>\n",
       "</table>"
      ],
      "text/plain": [
       "+--------------+\n",
       "| TIME ('now') |\n",
       "+--------------+\n",
       "| 07:46:02     |\n",
       "+--------------+"
      ]
     },
     "execution_count": 11,
     "metadata": {},
     "output_type": "execute_result"
    }
   ],
   "source": [
    "SELECT TIME ('now');"
   ]
  },
  {
   "cell_type": "code",
   "execution_count": 24,
   "id": "3b463012-1a81-4e9b-8996-34551a87e7a4",
   "metadata": {
    "tags": []
   },
   "outputs": [
    {
     "data": {
      "text/html": [
       "<table>\n",
       "<tr>\n",
       "<th>DATETIME('now', \"+10 days\")</th>\n",
       "</tr>\n",
       "<tr>\n",
       "<td>2023-07-28 17:22:49</td>\n",
       "</tr>\n",
       "</table>"
      ],
      "text/plain": [
       "+-----------------------------+\n",
       "| DATETIME('now', \"+10 days\") |\n",
       "+-----------------------------+\n",
       "| 2023-07-28 17:22:49         |\n",
       "+-----------------------------+"
      ]
     },
     "execution_count": 24,
     "metadata": {},
     "output_type": "execute_result"
    }
   ],
   "source": [
    "SELECT DATETIME('now', \"+10 days\")"
   ]
  },
  {
   "cell_type": "code",
   "execution_count": 25,
   "id": "015a04e2-2456-4a85-b0ec-c9b1968897c9",
   "metadata": {
    "tags": []
   },
   "outputs": [
    {
     "data": {
      "text/html": [
       "<table>\n",
       "<tr>\n",
       "<th>JULIANDAY('now', \"-1 month\")</th>\n",
       "</tr>\n",
       "<tr>\n",
       "<td>2460114.22443712</td>\n",
       "</tr>\n",
       "</table>"
      ],
      "text/plain": [
       "+------------------------------+\n",
       "| JULIANDAY('now', \"-1 month\") |\n",
       "+------------------------------+\n",
       "| 2460114.22443712             |\n",
       "+------------------------------+"
      ]
     },
     "execution_count": 25,
     "metadata": {},
     "output_type": "execute_result"
    }
   ],
   "source": [
    "SELECT JULIANDAY('now', \"-1 month\");"
   ]
  },
  {
   "cell_type": "code",
   "execution_count": 27,
   "id": "0c03df3d-a02c-4c25-831a-fbd606261d35",
   "metadata": {
    "tags": []
   },
   "outputs": [
    {
     "data": {
      "text/html": [
       "<table>\n",
       "<tr>\n",
       "<th>UNIXEPOCH('now')</th>\n",
       "</tr>\n",
       "<tr>\n",
       "<td>1689701484</td>\n",
       "</tr>\n",
       "</table>"
      ],
      "text/plain": [
       "+------------------+\n",
       "| UNIXEPOCH('now') |\n",
       "+------------------+\n",
       "| 1689701484       |\n",
       "+------------------+"
      ]
     },
     "execution_count": 27,
     "metadata": {},
     "output_type": "execute_result"
    }
   ],
   "source": [
    "SELECT UNIXEPOCH('now');"
   ]
  },
  {
   "cell_type": "markdown",
   "id": "44c948bd-6ab0-446f-aa81-a5f12db79623",
   "metadata": {},
   "source": [
    "Omzetten van unix tijd (getal) naar ISO TEXT waarde:"
   ]
  },
  {
   "cell_type": "code",
   "execution_count": 19,
   "id": "6c420307-9d64-4d18-bd14-f2628b22968d",
   "metadata": {
    "tags": []
   },
   "outputs": [
    {
     "data": {
      "text/html": [
       "<table>\n",
       "<tr>\n",
       "<th>DATETIME(UNIXEPOCH('now'), 'unixepoch')</th>\n",
       "</tr>\n",
       "<tr>\n",
       "<td>2023-07-18 16:57:58</td>\n",
       "</tr>\n",
       "</table>"
      ],
      "text/plain": [
       "+-----------------------------------------+\n",
       "| DATETIME(UNIXEPOCH('now'), 'unixepoch') |\n",
       "+-----------------------------------------+\n",
       "| 2023-07-18 16:57:58                     |\n",
       "+-----------------------------------------+"
      ]
     },
     "execution_count": 19,
     "metadata": {},
     "output_type": "execute_result"
    }
   ],
   "source": [
    "SELECT DATETIME(UNIXEPOCH('now'), 'unixepoch');"
   ]
  },
  {
   "cell_type": "markdown",
   "id": "ccec888f-d765-469f-acb2-802bc3384983",
   "metadata": {},
   "source": [
    "Idem, voor Juliaanse tijd (getal):"
   ]
  },
  {
   "cell_type": "code",
   "execution_count": 20,
   "id": "ec9232eb-f305-4e5f-8dd9-e4c6805a44ad",
   "metadata": {
    "tags": []
   },
   "outputs": [
    {
     "data": {
      "text/html": [
       "<table>\n",
       "<tr>\n",
       "<th>DATETIME(JULIANDAY('now'))</th>\n",
       "</tr>\n",
       "<tr>\n",
       "<td>2023-07-18 16:58:00</td>\n",
       "</tr>\n",
       "</table>"
      ],
      "text/plain": [
       "+----------------------------+\n",
       "| DATETIME(JULIANDAY('now')) |\n",
       "+----------------------------+\n",
       "| 2023-07-18 16:58:00        |\n",
       "+----------------------------+"
      ]
     },
     "execution_count": 20,
     "metadata": {},
     "output_type": "execute_result"
    }
   ],
   "source": [
    "SELECT DATETIME(JULIANDAY('now'));"
   ]
  },
  {
   "cell_type": "markdown",
   "id": "b94a2eb0-90e8-4ec0-9d43-9ef51d1ab796",
   "metadata": {},
   "source": [
    "### strftime\n",
    "\n",
    "Met de functie `strftime(format, datetime)` kun je het TEXT-formaat van de datum/tijd aanpassen, bijvoorbeeld om een onderdeel te selecteren (zoals \"dag\", \"maand\", \"jaar\")."
   ]
  },
  {
   "cell_type": "markdown",
   "id": "3b8b6f06-8b8c-40f5-a0b8-f239d8ead73b",
   "metadata": {},
   "source": [
    "**Dag. **Met het format `%d` krijg je het nummer van de dag in de maand van een datum:"
   ]
  },
  {
   "cell_type": "code",
   "execution_count": 6,
   "id": "0872ef43-bdd6-4bea-9820-c041edfe9648",
   "metadata": {
    "tags": []
   },
   "outputs": [
    {
     "data": {
      "text/html": [
       "<table>\n",
       "<tr>\n",
       "<th>last_name</th>\n",
       "<th>hire_date</th>\n",
       "<th>day</th>\n",
       "</tr>\n",
       "<tr>\n",
       "<td>King</td>\n",
       "<td>1987-06-17</td>\n",
       "<td>17</td>\n",
       "</tr>\n",
       "</table>"
      ],
      "text/plain": [
       "+-----------+------------+-----+\n",
       "| last_name | hire_date  | day |\n",
       "+-----------+------------+-----+\n",
       "| King      | 1987-06-17 | 17  |\n",
       "+-----------+------------+-----+"
      ]
     },
     "execution_count": 6,
     "metadata": {},
     "output_type": "execute_result"
    }
   ],
   "source": [
    "SELECT last_name, hire_date, strftime('%d', hire_date) as day\n",
    "FROM employees\n",
    "WHERE last_name = 'King';"
   ]
  },
  {
   "cell_type": "markdown",
   "id": "f4977b68-1142-425b-9313-c61196dd45fe",
   "metadata": {},
   "source": [
    "**Weekdag.** Als je de dag in de week wilt (met zondag = 0), gebruik je `%w`:"
   ]
  },
  {
   "cell_type": "code",
   "execution_count": 22,
   "id": "61b59516-9eae-4ca5-ba3b-07bdb8d8d71d",
   "metadata": {
    "tags": []
   },
   "outputs": [
    {
     "data": {
      "text/html": [
       "<table>\n",
       "<tr>\n",
       "<th>last_name</th>\n",
       "<th>hire_date</th>\n",
       "<th>day_in_week</th>\n",
       "</tr>\n",
       "<tr>\n",
       "<td>King</td>\n",
       "<td>1987-06-17</td>\n",
       "<td>3</td>\n",
       "</tr>\n",
       "</table>"
      ],
      "text/plain": [
       "+-----------+------------+-------------+\n",
       "| last_name | hire_date  | day_in_week |\n",
       "+-----------+------------+-------------+\n",
       "| King      | 1987-06-17 | 3           |\n",
       "+-----------+------------+-------------+"
      ]
     },
     "execution_count": 22,
     "metadata": {},
     "output_type": "execute_result"
    }
   ],
   "source": [
    "SELECT last_name, hire_date, strftime('%w', hire_date) as day_in_week\n",
    "FROM employees\n",
    "WHERE last_name = 'King';"
   ]
  },
  {
   "cell_type": "markdown",
   "id": "85c72ff2-b9b0-481d-8832-4675addd20d0",
   "metadata": {},
   "source": [
    "**Maand.** Met het format `%m` haal je het nummer van de maand op van een datum."
   ]
  },
  {
   "cell_type": "code",
   "execution_count": 10,
   "id": "b88e97a6-93c5-40e5-b3a1-97dbbbf66fff",
   "metadata": {
    "tags": []
   },
   "outputs": [
    {
     "data": {
      "text/html": [
       "<table>\n",
       "<tr>\n",
       "<th>last_name</th>\n",
       "<th>hire_date</th>\n",
       "<th>month</th>\n",
       "</tr>\n",
       "<tr>\n",
       "<td>King</td>\n",
       "<td>1987-06-17</td>\n",
       "<td>06</td>\n",
       "</tr>\n",
       "</table>"
      ],
      "text/plain": [
       "+-----------+------------+-------+\n",
       "| last_name | hire_date  | month |\n",
       "+-----------+------------+-------+\n",
       "| King      | 1987-06-17 | 06    |\n",
       "+-----------+------------+-------+"
      ]
     },
     "execution_count": 10,
     "metadata": {},
     "output_type": "execute_result"
    }
   ],
   "source": [
    "SELECT last_name, hire_date, strftime('%m', hire_date) as month\n",
    "FROM employees\n",
    "WHERE last_name = 'King';"
   ]
  },
  {
   "cell_type": "markdown",
   "id": "b95245f0-a3ee-46a7-b2ce-f9b805079a55",
   "metadata": {},
   "source": [
    "**Jaar.** Met het format `%Y` YEAR haal je het jaar op van een datum."
   ]
  },
  {
   "cell_type": "code",
   "execution_count": 13,
   "id": "f97ceb5c-fd3c-4abb-832e-0c39fef89e48",
   "metadata": {
    "tags": []
   },
   "outputs": [
    {
     "data": {
      "text/html": [
       "<table>\n",
       "<tr>\n",
       "<th>last_name</th>\n",
       "<th>hire_date</th>\n",
       "<th>year</th>\n",
       "</tr>\n",
       "<tr>\n",
       "<td>King</td>\n",
       "<td>1987-06-17</td>\n",
       "<td>1987</td>\n",
       "</tr>\n",
       "</table>"
      ],
      "text/plain": [
       "+-----------+------------+------+\n",
       "| last_name | hire_date  | year |\n",
       "+-----------+------------+------+\n",
       "| King      | 1987-06-17 | 1987 |\n",
       "+-----------+------------+------+"
      ]
     },
     "execution_count": 13,
     "metadata": {},
     "output_type": "execute_result"
    }
   ],
   "source": [
    "SELECT last_name, hire_date, strftime('%Y', hire_date) as year\n",
    "FROM employees\n",
    "WHERE last_name = 'King';"
   ]
  },
  {
   "cell_type": "markdown",
   "id": "3adb64fb-1778-40e7-8c39-c61e829eaa7a",
   "metadata": {},
   "source": [
    "**Opmerking.** SQLite heeft geen mogelijkheid om maanden of weekdagen te benoemen. Als dat nodig is, kun je de getallen via een `CASE` constructie omzetten in de gewenste namen."
   ]
  },
  {
   "cell_type": "markdown",
   "id": "8223e869-0b97-44a7-925e-d4180a74f79d",
   "metadata": {},
   "source": [
    "## SQL datum- en tijdfuncties\n",
    "\n",
    "Het rekenen met datums en tijden in SQL is vrij complex, met aparte \"INTERVAL\" waarden.\n",
    "Er zijn ontzettend veel mogelijkheden met datumfuncties. Een overzicht vind je hier:\n",
    "\n",
    "https://dev.mysql.com/doc/refman/5.5/en/date-and-time-functions.html\n",
    "\n",
    "Hieronder geven we de MySQL voorbeelden."
   ]
  },
  {
   "cell_type": "markdown",
   "id": "4bd9c8a6-2a8f-4c6d-be60-0e2d27308c08",
   "metadata": {},
   "source": [
    "### Sysdate\n",
    "\n",
    "Met `SYSDATE()` haal je de systeemdatum op, de datum van vandaag. Hetzelfde bereik je min of meer met `NOW()`, `LOCALTIME` of `LOCALTIMESTAMP`. Er zijn subtiele verschillen."
   ]
  },
  {
   "cell_type": "markdown",
   "id": "40c0462b-5d4d-4bd7-bc74-565d23380b7e",
   "metadata": {},
   "source": [
    " \n",
    "```SQL\n",
    "SELECT SYSDATE(), NOW(), LOCALTIME, LOCALTIMESTAMP;\n",
    "```\n",
    "\n",
    "![](figs/clip0104.png)"
   ]
  },
  {
   "cell_type": "markdown",
   "id": "2330a8c0-986f-444a-8111-efdf69778213",
   "metadata": {},
   "source": [
    "### Day\n",
    "\n",
    "Met `DAY()` haal je het nummer van de dag op van een datum.\n",
    "\n",
    "```SQL\n",
    "SELECT last_name, hire_date, DAY(hire_date)\n",
    "FROM employees\n",
    "WHERE last_name = 'King';\n",
    "```\n",
    "\n",
    "![](figs/clip0095.png)\n",
    "\n",
    "Als je de naam van de dag wil, dan gebruik je `DAYNAME()`.\n",
    "\n",
    "```SQL\n",
    "SELECT last_name, hire_date, DAYNAME(hire_date)\n",
    "FROM employees\n",
    "WHERE last_name = 'King';\n",
    "```\n",
    "\n",
    "![](figs/clip0099.png)"
   ]
  },
  {
   "cell_type": "markdown",
   "id": "4cb5ba67-4cd0-47f8-bee1-a0a6a636e194",
   "metadata": {},
   "source": [
    "### Month\n",
    "\n",
    "Met `MONTH()` haal je het nummer van de maand op van een datum.\n",
    "\n",
    "```SQL\n",
    "SELECT last_name, hire_date, MONTH(hire_date)\n",
    "FROM employees\n",
    "WHERE last_name = 'King';\n",
    "```\n",
    "\n",
    "![](figs/clip0096.png)\n",
    "\n",
    "Als je de naam van de maand wil, dan gebruik je MONTHNAME.\n",
    "\n",
    "```SQL\n",
    "SELECT last_name, hire_date, MONTHNAME(hire_date)\n",
    "FROM employees\n",
    "WHERE last_name = 'King';\n",
    "```\n",
    "\n",
    "![](figs/clip0098.png)\n"
   ]
  },
  {
   "cell_type": "markdown",
   "id": "aa99d2f4-57ab-4ea9-8f88-784abee919bd",
   "metadata": {},
   "source": [
    "### Year\n",
    "\n",
    "Met `YEAR()` haal je het jaar op van een datum.\n",
    "\n",
    "```SQL\n",
    "SELECT last_name, hire_date, YEAR(hire_date)\n",
    "FROM employees\n",
    "WHERE last_name = 'King';\n",
    "```\n",
    "\n",
    "![](figs/clip0097.png)\n",
    "\n",
    "Op deze manier kun je datums van elkaar aftrekken. Bij jaren wordt dan de uitkomst naar beneden afgerond.\n",
    "\n",
    "```SQL\n",
    "SELECT last_name, YEAR(hire_date), YEAR(NOW()), YEAR(NOW())-YEAR(hire_date) AS dienstjaren\n",
    "FROM employees\n",
    "WHERE last_name = 'King';\n",
    "```\n",
    " \n",
    "\n",
    "![](figs/clip0105.png)"
   ]
  },
  {
   "cell_type": "markdown",
   "id": "fd790636-ea45-431c-9f6f-4e174cac9fde",
   "metadata": {},
   "source": [
    "### Date_add\n",
    "\n",
    "Met `DATE_ADD` kun je dagen, maanden of jaren toevoegen aan een datum. Met `INTERVAL` geef je aan wat en hoeveel je wil toevoegen. In onderstaande voorbeelden wordt achtereenvolgens 6 dagen, 6 maanden en 6 jaar toegevoegd aan de hire_date.\n",
    "\n",
    "```SQL\n",
    "SELECT last_name, hire_date, DATE_ADD(hire_date, INTERVAL 6 DAY)\n",
    "FROM employees\n",
    "WHERE last_name = 'King';\n",
    "```\n",
    "\n",
    "![](figs/clip0101.png)\n",
    "\n",
    "```SQL\n",
    "SELECT last_name, hire_date, DATE_ADD(hire_date, INTERVAL 6 MONTH)\n",
    "FROM employees\n",
    "WHERE last_name = 'King';\n",
    "```\n",
    "\n",
    "![](figs/clip0100.png)\n",
    "\n",
    "```SQL\n",
    "SELECT last_name, hire_date, DATE_ADD(hire_date, INTERVAL 6 YEAR)\n",
    "FROM employees\n",
    "WHERE last_name = 'King';\n",
    "```\n",
    "\n",
    "![](figs/clip0102.png)"
   ]
  },
  {
   "cell_type": "markdown",
   "id": "1c82fa1a-cf91-4828-b2b3-7ad8483eadcf",
   "metadata": {},
   "source": [
    "### Timestampdiff\n",
    "\n",
    "Met `TIMESTAMPDIFF()` kun je het verschil tussen twee datums uitrekenen, bijvoorbeeld in jaren of maanden.\n",
    "\n",
    "```SQL\n",
    "SELECT last_name, hire_date, TIMESTAMPDIFF(YEAR, hire_date, SYSDATE())\n",
    "FROM employees\n",
    "WHERE last_name = 'King';\n",
    "``` \n",
    "\n",
    "![](figs/clip0106.png)\n",
    "\n",
    "```SQL\n",
    "SELECT last_name, hire_date, TIMESTAMPDIFF(MONTH, hire_date, SYSDATE())\n",
    "FROM employees\n",
    "WHERE last_name = 'King';\n",
    "```\n",
    "\n",
    "![](figs/clip0107.png)"
   ]
  },
  {
   "cell_type": "markdown",
   "id": "86f16b0e-fc74-42cb-bf70-48fbb3de6275",
   "metadata": {},
   "source": [
    "### Date_format\n",
    "\n",
    "Datumvelden kun je op allerlei mogelijke manieren vormgeven met `DATE_FORMAT()`. Een overzicht van alle mogelijkheden vind je hier:\n",
    "\n",
    "https://dev.mysql.com/doc/refman/5.5/en/date-and-time-functions.html#function_date-format\n",
    "\n",
    "```SQL\n",
    "SELECT last_name, hire_date, DATE_FORMAT(hire_date, '%d %M %Y')\n",
    "FROM employees\n",
    "WHERE last_name = 'King';\n",
    "```\n",
    "\n",
    "![](figs/clip0103.png)\n",
    "\n",
    "Als je de uitvoer in het Nederlands wil, dan kun je met een `SET` de local time name op Nederlands zetten. In dit voorbeeld zie je dan *juni* in het Nederlands in plaats van *June* in het Engels. Let op dat er op het eind van de `SET` een puntkomma staat! Het zijn dus eigenljk twee commando's achter elkaar. Je kunt de SET regel ook los invoeren en dan werkt de instelling zolang je in dezelfde sessie bent. Als je de beheerder zou zijn van de database, dan kun je deze SET vastleggen zodat je altijd de uitvoer in het Nederlands hebt.\n",
    "\n",
    "```SQL\n",
    "SET lc_time_names = 'nl_NL';\n",
    "\n",
    "SELECT last_name, hire_date, DATE_FORMAT(hire_date, '%d %M %Y')\n",
    "FROM employees\n",
    "WHERE last_name = 'King';\n",
    "```\n",
    "\n",
    "![](figs/clip0109.png)"
   ]
  },
  {
   "cell_type": "markdown",
   "id": "306c4532-ccba-4c33-94ed-e39c904d1728",
   "metadata": {},
   "source": [
    "```SQL\n",
    "SELECT SYSDATE(), NOW(), LOCALTIME, LOCALTIMESTAMP;\n",
    "```"
   ]
  },
  {
   "cell_type": "code",
   "execution_count": 7,
   "id": "7ee04aa2-82c4-4c24-be45-04793b2e483c",
   "metadata": {
    "tags": []
   },
   "outputs": [
    {
     "data": {
      "text/html": [
       "<table>\n",
       "<tr>\n",
       "<th>DATE('now')</th>\n",
       "</tr>\n",
       "<tr>\n",
       "<td>2023-07-05</td>\n",
       "</tr>\n",
       "</table>"
      ],
      "text/plain": [
       "+-------------+\n",
       "| DATE('now') |\n",
       "+-------------+\n",
       "| 2023-07-05  |\n",
       "+-------------+"
      ]
     },
     "execution_count": 7,
     "metadata": {},
     "output_type": "execute_result"
    }
   ],
   "source": [
    "SELECT DATE('now');"
   ]
  },
  {
   "cell_type": "code",
   "execution_count": 11,
   "id": "7c57c830-b1d7-46a5-8548-8c2d370a55af",
   "metadata": {
    "tags": []
   },
   "outputs": [
    {
     "data": {
      "text/html": [
       "<table>\n",
       "<tr>\n",
       "<th>TIME ('now')</th>\n",
       "</tr>\n",
       "<tr>\n",
       "<td>07:46:02</td>\n",
       "</tr>\n",
       "</table>"
      ],
      "text/plain": [
       "+--------------+\n",
       "| TIME ('now') |\n",
       "+--------------+\n",
       "| 07:46:02     |\n",
       "+--------------+"
      ]
     },
     "execution_count": 11,
     "metadata": {},
     "output_type": "execute_result"
    }
   ],
   "source": [
    "SELECT TIME ('now');"
   ]
  },
  {
   "cell_type": "code",
   "execution_count": 12,
   "id": "87cb7f43-b3c8-4f32-ad1f-e66e988205c4",
   "metadata": {
    "tags": []
   },
   "outputs": [
    {
     "data": {
      "text/html": [
       "<table>\n",
       "<tr>\n",
       "<th>DATETIME('now')</th>\n",
       "</tr>\n",
       "<tr>\n",
       "<td>2023-07-05 07:48:16</td>\n",
       "</tr>\n",
       "</table>"
      ],
      "text/plain": [
       "+---------------------+\n",
       "| DATETIME('now')     |\n",
       "+---------------------+\n",
       "| 2023-07-05 07:48:16 |\n",
       "+---------------------+"
      ]
     },
     "execution_count": 12,
     "metadata": {},
     "output_type": "execute_result"
    }
   ],
   "source": [
    "SELECT DATETIME('now')"
   ]
  },
  {
   "cell_type": "code",
   "execution_count": 15,
   "id": "4acdfa25-9dc6-4f08-98fb-5d91aa38c856",
   "metadata": {
    "tags": []
   },
   "outputs": [
    {
     "data": {
      "text/html": [
       "<table>\n",
       "<tr>\n",
       "<th>JULIANDAY('now')</th>\n",
       "</tr>\n",
       "<tr>\n",
       "<td>2460144.13183356</td>\n",
       "</tr>\n",
       "</table>"
      ],
      "text/plain": [
       "+------------------+\n",
       "| JULIANDAY('now') |\n",
       "+------------------+\n",
       "| 2460144.13183356 |\n",
       "+------------------+"
      ]
     },
     "execution_count": 15,
     "metadata": {},
     "output_type": "execute_result"
    }
   ],
   "source": [
    "SELECT JULIANDAY('now');"
   ]
  },
  {
   "cell_type": "code",
   "execution_count": 16,
   "id": "2313477b-9155-4368-ac5b-a405c0f941d2",
   "metadata": {
    "tags": []
   },
   "outputs": [
    {
     "data": {
      "text/html": [
       "<table>\n",
       "<tr>\n",
       "<th>UNIXEPOCH('now')</th>\n",
       "</tr>\n",
       "<tr>\n",
       "<td>1689699357</td>\n",
       "</tr>\n",
       "</table>"
      ],
      "text/plain": [
       "+------------------+\n",
       "| UNIXEPOCH('now') |\n",
       "+------------------+\n",
       "| 1689699357       |\n",
       "+------------------+"
      ]
     },
     "execution_count": 16,
     "metadata": {},
     "output_type": "execute_result"
    }
   ],
   "source": [
    "SELECT UNIXEPOCH('now');"
   ]
  },
  {
   "cell_type": "code",
   "execution_count": 19,
   "id": "0c12f41d-71cc-4a0f-b479-0e8007d8df9f",
   "metadata": {
    "tags": []
   },
   "outputs": [
    {
     "data": {
      "text/html": [
       "<table>\n",
       "<tr>\n",
       "<th>DATETIME(UNIXEPOCH('now'), 'unixepoch')</th>\n",
       "</tr>\n",
       "<tr>\n",
       "<td>2023-07-18 16:57:58</td>\n",
       "</tr>\n",
       "</table>"
      ],
      "text/plain": [
       "+-----------------------------------------+\n",
       "| DATETIME(UNIXEPOCH('now'), 'unixepoch') |\n",
       "+-----------------------------------------+\n",
       "| 2023-07-18 16:57:58                     |\n",
       "+-----------------------------------------+"
      ]
     },
     "execution_count": 19,
     "metadata": {},
     "output_type": "execute_result"
    }
   ],
   "source": [
    "SELECT DATETIME(UNIXEPOCH('now'), 'unixepoch');"
   ]
  },
  {
   "cell_type": "code",
   "execution_count": 20,
   "id": "5b2654c7-4823-494f-8667-973f40635f5d",
   "metadata": {
    "tags": []
   },
   "outputs": [
    {
     "data": {
      "text/html": [
       "<table>\n",
       "<tr>\n",
       "<th>DATETIME(JULIANDAY('now'))</th>\n",
       "</tr>\n",
       "<tr>\n",
       "<td>2023-07-18 16:58:00</td>\n",
       "</tr>\n",
       "</table>"
      ],
      "text/plain": [
       "+----------------------------+\n",
       "| DATETIME(JULIANDAY('now')) |\n",
       "+----------------------------+\n",
       "| 2023-07-18 16:58:00        |\n",
       "+----------------------------+"
      ]
     },
     "execution_count": 20,
     "metadata": {},
     "output_type": "execute_result"
    }
   ],
   "source": [
    "SELECT DATETIME(JULIANDAY('now'));"
   ]
  },
  {
   "cell_type": "markdown",
   "id": "4d77b5c8-a9b5-46eb-a425-b3c65c529d62",
   "metadata": {},
   "source": [
    "## Day\n",
    "\n",
    "Met het format `%d` krijg je het nummer van de dag van een datum:"
   ]
  },
  {
   "cell_type": "code",
   "execution_count": 6,
   "id": "4fb52daa-2de2-4fdc-a612-b692692775dc",
   "metadata": {
    "tags": []
   },
   "outputs": [
    {
     "data": {
      "text/html": [
       "<table>\n",
       "<tr>\n",
       "<th>last_name</th>\n",
       "<th>hire_date</th>\n",
       "<th>day</th>\n",
       "</tr>\n",
       "<tr>\n",
       "<td>King</td>\n",
       "<td>1987-06-17</td>\n",
       "<td>17</td>\n",
       "</tr>\n",
       "</table>"
      ],
      "text/plain": [
       "+-----------+------------+-----+\n",
       "| last_name | hire_date  | day |\n",
       "+-----------+------------+-----+\n",
       "| King      | 1987-06-17 | 17  |\n",
       "+-----------+------------+-----+"
      ]
     },
     "execution_count": 6,
     "metadata": {},
     "output_type": "execute_result"
    }
   ],
   "source": [
    "SELECT last_name, hire_date, strftime('%d', hire_date) as day\n",
    "FROM employees\n",
    "WHERE last_name = 'King';"
   ]
  },
  {
   "cell_type": "markdown",
   "id": "0b4bf5f8-2c8c-448a-a80d-36324de4c404",
   "metadata": {},
   "source": [
    "Als je de dag in de week wilt (met zondag = 0), gebruik je `%w`: naam van de dag wil, dan gebruik je DAYNAME."
   ]
  },
  {
   "cell_type": "code",
   "execution_count": 7,
   "id": "04607ea5-aa8f-47bb-8a25-2cb97c67bae6",
   "metadata": {
    "tags": []
   },
   "outputs": [
    {
     "data": {
      "text/html": [
       "<table>\n",
       "<tr>\n",
       "<th>last_name</th>\n",
       "<th>hire_date</th>\n",
       "<th>weekday</th>\n",
       "</tr>\n",
       "<tr>\n",
       "<td>King</td>\n",
       "<td>1987-06-17</td>\n",
       "<td>3</td>\n",
       "</tr>\n",
       "</table>"
      ],
      "text/plain": [
       "+-----------+------------+---------+\n",
       "| last_name | hire_date  | weekday |\n",
       "+-----------+------------+---------+\n",
       "| King      | 1987-06-17 | 3       |\n",
       "+-----------+------------+---------+"
      ]
     },
     "execution_count": 7,
     "metadata": {},
     "output_type": "execute_result"
    }
   ],
   "source": [
    "SELECT last_name, hire_date, strftime('%w', hire_date) as weekday\n",
    "FROM employees\n",
    "WHERE last_name = 'King';"
   ]
  },
  {
   "cell_type": "markdown",
   "id": "eb18486a-a34e-47ca-ad14-d7b1f3da9a3a",
   "metadata": {},
   "source": [
    "## Month\n",
    "\n",
    "Met het format `%m` haal je het nummer van de maand op van een datum."
   ]
  },
  {
   "cell_type": "code",
   "execution_count": 10,
   "id": "dc1c1a2a-0e0d-44e7-b54d-a26fab7e4c85",
   "metadata": {
    "tags": []
   },
   "outputs": [
    {
     "data": {
      "text/html": [
       "<table>\n",
       "<tr>\n",
       "<th>last_name</th>\n",
       "<th>hire_date</th>\n",
       "<th>month</th>\n",
       "</tr>\n",
       "<tr>\n",
       "<td>King</td>\n",
       "<td>1987-06-17</td>\n",
       "<td>06</td>\n",
       "</tr>\n",
       "</table>"
      ],
      "text/plain": [
       "+-----------+------------+-------+\n",
       "| last_name | hire_date  | month |\n",
       "+-----------+------------+-------+\n",
       "| King      | 1987-06-17 | 06    |\n",
       "+-----------+------------+-------+"
      ]
     },
     "execution_count": 10,
     "metadata": {},
     "output_type": "execute_result"
    }
   ],
   "source": [
    "SELECT last_name, hire_date, strftime('%m', hire_date) as month\n",
    "FROM employees\n",
    "WHERE last_name = 'King';"
   ]
  },
  {
   "cell_type": "markdown",
   "id": "006da4ca-5ed8-414b-85d5-7d8c84e7baa2",
   "metadata": {},
   "source": [
    "Als je de naam van de maand wil, dan gebruik je MONTHNAME."
   ]
  },
  {
   "cell_type": "code",
   "execution_count": 16,
   "id": "bc578bca-f23e-41c0-9dfe-583f7b2c870a",
   "metadata": {
    "tags": []
   },
   "outputs": [
    {
     "ename": "Error",
     "evalue": "no such function: MONTHNAME",
     "output_type": "error",
     "traceback": [
      "Error: no such function: MONTHNAME"
     ]
    }
   ],
   "source": [
    "SELECT last_name, hire_date, MONTHNAME(hire_date)\n",
    "FROM employees\n",
    "WHERE last_name = 'King';"
   ]
  },
  {
   "cell_type": "markdown",
   "id": "eb6261c8-6fef-4eb9-b216-70275db34c47",
   "metadata": {},
   "source": [
    "## Year\n",
    "\n",
    "Met het format `%Y` YEAR haal je het jaar op van een datum."
   ]
  },
  {
   "cell_type": "code",
   "execution_count": 13,
   "id": "79e72453-b6b4-467c-8b43-697739c05dd8",
   "metadata": {
    "tags": []
   },
   "outputs": [
    {
     "data": {
      "text/html": [
       "<table>\n",
       "<tr>\n",
       "<th>last_name</th>\n",
       "<th>hire_date</th>\n",
       "<th>year</th>\n",
       "</tr>\n",
       "<tr>\n",
       "<td>King</td>\n",
       "<td>1987-06-17</td>\n",
       "<td>1987</td>\n",
       "</tr>\n",
       "</table>"
      ],
      "text/plain": [
       "+-----------+------------+------+\n",
       "| last_name | hire_date  | year |\n",
       "+-----------+------------+------+\n",
       "| King      | 1987-06-17 | 1987 |\n",
       "+-----------+------------+------+"
      ]
     },
     "execution_count": 13,
     "metadata": {},
     "output_type": "execute_result"
    }
   ],
   "source": [
    "SELECT last_name, hire_date, strftime('%Y', hire_date) as year\n",
    "FROM employees\n",
    "WHERE last_name = 'King';"
   ]
  },
  {
   "cell_type": "markdown",
   "id": "91f9a96d-5d46-4e1b-954a-f21317f4e570",
   "metadata": {},
   "source": [
    "Op deze manier kun je datums van elkaar aftrekken. Bij jaren wordt dan de uitkomst naar beneden afgerond."
   ]
  },
  {
   "cell_type": "code",
   "execution_count": 18,
   "id": "afb76306-bf97-4598-bedd-d476c37ebf4d",
   "metadata": {
    "tags": []
   },
   "outputs": [
    {
     "ename": "Error",
     "evalue": "no such function: YEAR",
     "output_type": "error",
     "traceback": [
      "Error: no such function: YEAR"
     ]
    }
   ],
   "source": [
    "SELECT last_name, YEAR(hire_date), YEAR(NOW()), YEAR(NOW())-YEAR(hire_date) AS dienstjaren\n",
    "FROM employees\n",
    "WHERE last_name = 'King';"
   ]
  },
  {
   "cell_type": "markdown",
   "id": "1c25a806-6d5a-4e4a-bb51-2ec8b2d39316",
   "metadata": {},
   "source": [
    "## Date_add\n",
    "\n",
    "Met DATE_ADD kun je dagen, maanden of jaren toevoegen aan een datum. Met INTERVAL geef je aan wat en hoeveel je wil toevoegen. In onderstaande voorbeelden wordt achtereenvolgens 6 dagen, 6 maanden en 6 jaar toegevoegd aan de hire_date."
   ]
  },
  {
   "cell_type": "code",
   "execution_count": 19,
   "id": "e0b1b997-5a48-41e1-99f0-bd2117be62f3",
   "metadata": {
    "tags": []
   },
   "outputs": [
    {
     "ename": "Error",
     "evalue": "near \"6\": syntax error",
     "output_type": "error",
     "traceback": [
      "Error: near \"6\": syntax error"
     ]
    }
   ],
   "source": [
    "SELECT last_name, hire_date, DATE_ADD(hire_date, INTERVAL 6 DAY)\n",
    "FROM employees\n",
    "WHERE last_name = 'King';"
   ]
  },
  {
   "cell_type": "code",
   "execution_count": 20,
   "id": "798efd04-f3fe-4899-ba2e-e07fa5f61bdf",
   "metadata": {
    "tags": []
   },
   "outputs": [
    {
     "ename": "Error",
     "evalue": "near \"6\": syntax error",
     "output_type": "error",
     "traceback": [
      "Error: near \"6\": syntax error"
     ]
    }
   ],
   "source": [
    "SELECT last_name, hire_date, DATE_ADD(hire_date, INTERVAL 6 MONTH)\n",
    "FROM employees\n",
    "WHERE last_name = 'King';"
   ]
  },
  {
   "cell_type": "code",
   "execution_count": 21,
   "id": "e2b97bec-0b3b-4449-bc49-ef01e077d7a6",
   "metadata": {
    "tags": []
   },
   "outputs": [
    {
     "ename": "Error",
     "evalue": "near \"6\": syntax error",
     "output_type": "error",
     "traceback": [
      "Error: near \"6\": syntax error"
     ]
    }
   ],
   "source": [
    "SELECT last_name, hire_date, DATE_ADD(hire_date, INTERVAL 6 YEAR)\n",
    "FROM employees\n",
    "WHERE last_name = 'King';"
   ]
  },
  {
   "cell_type": "markdown",
   "id": "80a0a0a0-4687-44d1-a241-d8a103af82e9",
   "metadata": {},
   "source": [
    "## Timestampdiff\n",
    "\n",
    "Met TIMESTAMPDIFF kun je het verschil tussen twee datums uitrekenen, bijvoorbeeld in jaren of maanden."
   ]
  },
  {
   "cell_type": "code",
   "execution_count": 22,
   "id": "8ddb0d6e-1901-496c-8678-094e3159c485",
   "metadata": {
    "tags": []
   },
   "outputs": [
    {
     "ename": "Error",
     "evalue": "no such column: YEAR",
     "output_type": "error",
     "traceback": [
      "Error: no such column: YEAR"
     ]
    }
   ],
   "source": [
    "SELECT last_name, hire_date, TIMESTAMPDIFF(YEAR, hire_date, SYSDATE())\n",
    "FROM employees\n",
    "WHERE last_name = 'King';"
   ]
  },
  {
   "cell_type": "code",
   "execution_count": 23,
   "id": "02babb95-c290-4fc6-897e-46577c54f656",
   "metadata": {
    "tags": []
   },
   "outputs": [
    {
     "ename": "Error",
     "evalue": "no such column: MONTH",
     "output_type": "error",
     "traceback": [
      "Error: no such column: MONTH"
     ]
    }
   ],
   "source": [
    "SELECT last_name, hire_date, TIMESTAMPDIFF(MONTH, hire_date, SYSDATE())\n",
    "FROM employees\n",
    "WHERE last_name = 'King';"
   ]
  },
  {
   "cell_type": "markdown",
   "id": "adcc1821-98d9-4cdb-a080-89d04b80b331",
   "metadata": {},
   "source": [
    "## Date_format\n",
    "\n",
    "Datumvelden kun je op allerlei mogelijke manieren vormgeven met DATE_FORMAT. Een overzicht van alle mogelijkheden vind je hier:\n",
    "\n",
    "https://dev.mysql.com/doc/refman/5.5/en/date-and-time-functions.html#function_date-format"
   ]
  },
  {
   "cell_type": "code",
   "execution_count": 24,
   "id": "95930d7a-af77-4517-b3ac-e76352574c6e",
   "metadata": {
    "tags": []
   },
   "outputs": [
    {
     "ename": "Error",
     "evalue": "no such function: DATE_FORMAT",
     "output_type": "error",
     "traceback": [
      "Error: no such function: DATE_FORMAT"
     ]
    }
   ],
   "source": [
    "SELECT last_name, hire_date, DATE_FORMAT(hire_date, '%d %M %Y')\n",
    "FROM employees\n",
    "WHERE last_name = 'King';"
   ]
  },
  {
   "cell_type": "markdown",
   "id": "9beeefc5-87b0-437e-9a69-fd1966d9fd04",
   "metadata": {},
   "source": [
    "Als je de uitvoer in het Nederlands wil, dan kun je met een SET de local time name op Nederlands zetten. In dit voorbeeld zie je dan juni in het Nederlands in plaats van June in het Engels. Let op dat er op het eind van de SET een puntkomma staat! Het zijn dus eigenljk twee commando's achter elkaar. Je kunt de SET regel ook los invoeren en dan werkt de instelling zolang je in dezelfde sessie bent. Als je de beheerder zou zijn van de database, dan kun je deze SET vastleggen zodat je altijd de uitvoer in het Nederlands hebt."
   ]
  },
  {
   "cell_type": "code",
   "execution_count": 25,
   "id": "3feacf8b-2264-411d-baca-c59aa04fdbb3",
   "metadata": {
    "tags": []
   },
   "outputs": [
    {
     "ename": "Error",
     "evalue": "near \"SET\": syntax error",
     "output_type": "error",
     "traceback": [
      "Error: near \"SET\": syntax error"
     ]
    }
   ],
   "source": [
    "SET lc_time_names = 'nl_NL';\n",
    "\n",
    "SELECT last_name, hire_date, DATE_FORMAT(hire_date, '%d %M %Y')\n",
    "FROM employees\n",
    "WHERE last_name = 'King';"
   ]
  },
  {
   "cell_type": "code",
   "execution_count": 29,
   "id": "c061d901-5acd-4f83-aab5-ceafa6e7eef2",
   "metadata": {
    "tags": []
   },
   "outputs": [
    {
     "ename": "Error",
     "evalue": "near \"'30'\": syntax error",
     "output_type": "error",
     "traceback": [
      "Error: near \"'30'\": syntax error"
     ]
    }
   ],
   "source": [
    "SELECT DATE_ADD(DATE('now'), INTERVAL '30' DAY'); "
   ]
  },
  {
   "cell_type": "code",
   "execution_count": 28,
   "id": "b6cc9c42-921a-4f69-9901-4986aa54e7a1",
   "metadata": {
    "tags": []
   },
   "outputs": [
    {
     "data": {
      "text/html": [
       "<table>\n",
       "<tr>\n",
       "<th>DATE('now', '+30 day')</th>\n",
       "</tr>\n",
       "<tr>\n",
       "<td>2023-08-04</td>\n",
       "</tr>\n",
       "</table>"
      ],
      "text/plain": [
       "+------------------------+\n",
       "| DATE('now', '+30 day') |\n",
       "+------------------------+\n",
       "| 2023-08-04             |\n",
       "+------------------------+"
      ]
     },
     "execution_count": 28,
     "metadata": {},
     "output_type": "execute_result"
    }
   ],
   "source": [
    "SELECT DATE('now', '+30 day');"
   ]
  }
 ],
 "metadata": {
  "kernelspec": {
   "display_name": "xsqlite",
   "language": "sqlite",
   "name": "xsqlite"
  },
  "language_info": {
   "codemirror_mode": "sql",
   "file_extension": "",
   "mimetype": "",
   "name": "sql",
   "version": "3.33.0"
  }
 },
 "nbformat": 4,
 "nbformat_minor": 5
}
