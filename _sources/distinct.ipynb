{
 "cells": [
  {
   "cell_type": "markdown",
   "id": "5c589376-2116-4e83-922c-94bda4b3f979",
   "metadata": {},
   "source": [
    "# DISTINCT"
   ]
  },
  {
   "cell_type": "code",
   "execution_count": 1,
   "id": "6f31c7b4-5dc2-4e13-ad4f-7911d037f592",
   "metadata": {
    "tags": []
   },
   "outputs": [],
   "source": [
    "%LOAD data/example.db"
   ]
  },
  {
   "cell_type": "markdown",
   "id": "da80c735-ec2e-475e-9daf-4db0e1479486",
   "metadata": {},
   "source": [
    "Stel dat je alle department_id's wil zien van de tabel employees."
   ]
  },
  {
   "cell_type": "code",
   "execution_count": 2,
   "id": "0bd4fc42-8117-4720-8b4f-06cf48ca9a7c",
   "metadata": {
    "tags": []
   },
   "outputs": [
    {
     "data": {
      "text/html": [
       "<table>\n",
       "<tr>\n",
       "<th>department_id</th>\n",
       "</tr>\n",
       "<tr>\n",
       "<td>90</td>\n",
       "</tr>\n",
       "<tr>\n",
       "<td>90</td>\n",
       "</tr>\n",
       "<tr>\n",
       "<td>90</td>\n",
       "</tr>\n",
       "<tr>\n",
       "<td>60</td>\n",
       "</tr>\n",
       "<tr>\n",
       "<td>60</td>\n",
       "</tr>\n",
       "<tr>\n",
       "<td>60</td>\n",
       "</tr>\n",
       "<tr>\n",
       "<td>50</td>\n",
       "</tr>\n",
       "<tr>\n",
       "<td>50</td>\n",
       "</tr>\n",
       "<tr>\n",
       "<td>50</td>\n",
       "</tr>\n",
       "<tr>\n",
       "<td>50</td>\n",
       "</tr>\n",
       "<tr>\n",
       "<td>50</td>\n",
       "</tr>\n",
       "<tr>\n",
       "<td>80</td>\n",
       "</tr>\n",
       "<tr>\n",
       "<td>80</td>\n",
       "</tr>\n",
       "<tr>\n",
       "<td>80</td>\n",
       "</tr>\n",
       "<tr>\n",
       "<td></td>\n",
       "</tr>\n",
       "<tr>\n",
       "<td>10</td>\n",
       "</tr>\n",
       "<tr>\n",
       "<td>20</td>\n",
       "</tr>\n",
       "<tr>\n",
       "<td>20</td>\n",
       "</tr>\n",
       "<tr>\n",
       "<td>110</td>\n",
       "</tr>\n",
       "<tr>\n",
       "<td>110</td>\n",
       "</tr>\n",
       "</table>"
      ],
      "text/plain": [
       "+---------------+\n",
       "| department_id |\n",
       "+---------------+\n",
       "| 90            |\n",
       "+---------------+\n",
       "| 90            |\n",
       "+---------------+\n",
       "| 90            |\n",
       "+---------------+\n",
       "| 60            |\n",
       "+---------------+\n",
       "| 60            |\n",
       "+---------------+\n",
       "| 60            |\n",
       "+---------------+\n",
       "| 50            |\n",
       "+---------------+\n",
       "| 50            |\n",
       "+---------------+\n",
       "| 50            |\n",
       "+---------------+\n",
       "| 50            |\n",
       "+---------------+\n",
       "| 50            |\n",
       "+---------------+\n",
       "| 80            |\n",
       "+---------------+\n",
       "| 80            |\n",
       "+---------------+\n",
       "| 80            |\n",
       "+---------------+\n",
       "\n",
       "+---------------+\n",
       "| 10            |\n",
       "+---------------+\n",
       "| 20            |\n",
       "+---------------+\n",
       "| 20            |\n",
       "+---------------+\n",
       "| 110           |\n",
       "+---------------+\n",
       "| 110           |\n",
       "+---------------+"
      ]
     },
     "execution_count": 2,
     "metadata": {},
     "output_type": "execute_result"
    }
   ],
   "source": [
    "SELECT department_id\n",
    "FROM employees;"
   ]
  },
  {
   "cell_type": "markdown",
   "id": "a2c3d8aa-0adf-42ae-a391-ba3e3b4a9d57",
   "metadata": {},
   "source": [
    "Je ziet dat er dubbele waarden te zien zijn. Om te voorkomen dat er dubbele waarden worden getoond, kun je `DISTINCT` gebruiken. `DISTINCT `komt meteen na `SELECT`. Merk op dat `NULL` ook één keer wordt getoond met `DISTINCT` als er rijen met `NUL` zijn."
   ]
  },
  {
   "cell_type": "code",
   "execution_count": 4,
   "id": "63b61fd0-38a7-43ac-a445-aa10e397b138",
   "metadata": {
    "tags": []
   },
   "outputs": [
    {
     "data": {
      "text/html": [
       "<table>\n",
       "<tr>\n",
       "<th>department_id</th>\n",
       "</tr>\n",
       "<tr>\n",
       "<td></td>\n",
       "</tr>\n",
       "<tr>\n",
       "<td>10</td>\n",
       "</tr>\n",
       "<tr>\n",
       "<td>20</td>\n",
       "</tr>\n",
       "<tr>\n",
       "<td>50</td>\n",
       "</tr>\n",
       "<tr>\n",
       "<td>60</td>\n",
       "</tr>\n",
       "<tr>\n",
       "<td>80</td>\n",
       "</tr>\n",
       "<tr>\n",
       "<td>90</td>\n",
       "</tr>\n",
       "<tr>\n",
       "<td>110</td>\n",
       "</tr>\n",
       "</table>"
      ],
      "text/plain": [
       "+---------------+\n",
       "| department_id |\n",
       "+---------------+\n",
       "\n",
       "+---------------+\n",
       "| 10            |\n",
       "+---------------+\n",
       "| 20            |\n",
       "+---------------+\n",
       "| 50            |\n",
       "+---------------+\n",
       "| 60            |\n",
       "+---------------+\n",
       "| 80            |\n",
       "+---------------+\n",
       "| 90            |\n",
       "+---------------+\n",
       "| 110           |\n",
       "+---------------+"
      ]
     },
     "execution_count": 4,
     "metadata": {},
     "output_type": "execute_result"
    }
   ],
   "source": [
    "SELECT DISTINCT department_id\n",
    "FROM employees\n",
    "ORDER BY department_id;"
   ]
  },
  {
   "cell_type": "markdown",
   "id": "ad54d026-3be4-4fa0-aafb-5111c2a3acd9",
   "metadata": {},
   "source": []
  }
 ],
 "metadata": {
  "kernelspec": {
   "display_name": "xsqlite",
   "language": "sqlite",
   "name": "xsqlite"
  },
  "language_info": {
   "codemirror_mode": "sql",
   "file_extension": "",
   "mimetype": "",
   "name": "sql",
   "version": "3.33.0"
  }
 },
 "nbformat": 4,
 "nbformat_minor": 5
}
