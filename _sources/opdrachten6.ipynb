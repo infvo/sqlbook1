{
 "cells": [
  {
   "cell_type": "markdown",
   "id": "6a7c0851-a3f2-4674-96b5-75479bf6f706",
   "metadata": {},
   "source": [
    "# Opdrachten 6"
   ]
  },
  {
   "cell_type": "markdown",
   "id": "342e9eb8-93a5-4afa-a8e3-1c0b1a3d4b67",
   "metadata": {},
   "source": [
    ":::{exercise}\n",
    "\n",
    "Maak onderstaand overzicht op vier verschillende manieren. Je levert dus vier verschillende query's in.\n",
    "\n",
    "1. Met een NATURAL JOIN.\n",
    "2. Met een JOIN USING.\n",
    "3. Met een JOIN ON.\n",
    "4. Met een EQUI JOIN.\n",
    "\n",
    "![](figs/clip0244.png)\n",
    " \n",
    ":::"
   ]
  },
  {
   "cell_type": "markdown",
   "id": "4d7365bf-4e98-432a-9662-45daff2b8b86",
   "metadata": {},
   "source": [
    ":::{exercise} \n",
    "\n",
    "Maak een overzicht van de department_names met de managers van die departments zoals hieronder. Contracting heeft geen manager maar die department_name moet er dus ook bij staan. Gebruik aliassen van één letter.\n",
    "\n",
    " \n",
    "\n",
    "![](figs/clip0313.png)\n",
    "\n",
    " \n",
    ":::"
   ]
  },
  {
   "cell_type": "markdown",
   "id": "439bfbe2-cc49-4b3c-b9de-346f7b3a7477",
   "metadata": {},
   "source": [
    ":::{exercise} \n",
    "\n",
    "Maak onderstaand overzicht na. Het is een overzicht van employees met een job_history. Gebruik e als alias voor employees en h als alias voor job_history.\n",
    "\n",
    "![](figs/clip0312.png)\n",
    "\n",
    "::: "
   ]
  },
  {
   "cell_type": "markdown",
   "id": "3ad76303-a2fc-4b92-8eab-6328951ca786",
   "metadata": {},
   "source": [
    ":::{exercise} \n",
    "\n",
    "Maak onderstaande query na. De gegevens komen uit de tabellen employees en job_history. Er is gesorteerd op last_name en daarna op employee_id in omgekeerde volgorde. Er zijn twee employee_id's die niet voorkomen in de tabel employees maar wel in job_history.\n",
    "\n",
    " \n",
    "\n",
    "![](figs/clip0246.png)\n",
    "\n",
    ":::"
   ]
  },
  {
   "cell_type": "markdown",
   "id": "38650277-c615-482c-b95b-d0dbeda71c58",
   "metadata": {},
   "source": [
    ":::{exercise}\n",
    "\n",
    "Maak een overzicht van de employees die werken op de department_name Shipping met hun job_title. Shipping staat in departments. De job_titles staan in jobs en de last_name haal je uit employees. Gebruik aliassen van één letter, bijvoorbeeld e (employees), d (departments) en j (jobs). Let op de sortering.\n",
    "\n",
    "![](figs/clip0255.png)\n",
    " \n",
    ":::"
   ]
  },
  {
   "cell_type": "markdown",
   "id": "2a0b2088-5859-4db8-9914-62e8e0a63d57",
   "metadata": {},
   "source": [
    ":::{exercise} \n",
    "\n",
    "Maak onderstaand overzicht na. De informatie komt uit de tabellen countries en regions.  Gebruik in dit geval USING.\n",
    "\n",
    "![](figs/clip0245.png)\n",
    " \n",
    ":::"
   ]
  },
  {
   "cell_type": "markdown",
   "id": "85195331-6202-46f8-84da-d790b21a5d05",
   "metadata": {},
   "source": [
    ":::{exercise} \n",
    "\n",
    "Maak onderstaande tabel na. De gegevens komen uit employees, departments en jobs. Gebruik de aliassen e, d en j voor de tabellen. Er is gesorteerd op last_name. Let op dat Grant voorkomt in het overzicht!\n",
    "\n",
    "![](figs/clip0247.png)\n",
    "\n",
    ":::"
   ]
  },
  {
   "cell_type": "markdown",
   "id": "a0836ef1-0fd0-4f30-8db2-5157ca01b6dd",
   "metadata": {},
   "source": [
    ":::{exercise} \n",
    "\n",
    "Maak onderstaand overzicht na. Noem elke department_name en daarachter de first_name en last_name aan elkaar van de manager. De department zonder manager (Contracting) moet ook genoemd worden. Er is gesorteerd op department_name.\n",
    "\n",
    "![](figs/clip0258.png)\n",
    "\n",
    ":::"
   ]
  },
  {
   "cell_type": "markdown",
   "id": "2c65bdc3-ce3d-422c-8a10-a22cd06b976d",
   "metadata": {},
   "source": [
    ":::{exercise} \n",
    "\n",
    "Maak onderstaand overzicht na. De gegevens komen uit de tabellen employees en jobs. Er is gesorteerd op verschil van hoog naar laag en als dat gelijk is op last_name. Met het verschil bedoelen we max_salary - min_salary.\n",
    "\n",
    "![](figs/clip0254.png)\n",
    "\n",
    ":::"
   ]
  },
  {
   "cell_type": "markdown",
   "id": "361b5b80-67c3-41ab-916f-1a4800d1c5e0",
   "metadata": {},
   "source": [
    ":::{exercise}\n",
    "\n",
    "Maak onderstaand overzicht. De informatie komt uit vijf verschillende tabellen, namelijk employees, departments, locations, countries en regions. Je moet dus alle vijf tabellen aan elkaar knopen. Er is achtereenvolgens gesorteerd op region_name, country_name, city en last_name. Ook Grant moet voorkomen in het overzicht en er mag geen NULL komen staan bij haar department_name, city, country_name en region_name.\n",
    "\n",
    "![](figs/clip0259.png)\n",
    "\n",
    ":::"
   ]
  }
 ],
 "metadata": {
  "kernelspec": {
   "display_name": "xsqlite",
   "language": "sqlite",
   "name": "xsqlite"
  },
  "language_info": {
   "codemirror_mode": "sql",
   "file_extension": "",
   "mimetype": "",
   "name": "sql",
   "version": "3.33.0"
  }
 },
 "nbformat": 4,
 "nbformat_minor": 5
}
