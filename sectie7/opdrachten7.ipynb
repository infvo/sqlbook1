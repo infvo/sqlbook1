{
 "cells": [
  {
   "cell_type": "markdown",
   "id": "fd5e6612-46be-4135-a837-98adb1a37288",
   "metadata": {},
   "source": [
    "# Opdrachten sectie 7"
   ]
  },
  {
   "cell_type": "code",
   "execution_count": null,
   "id": "a93f0d86-9e34-41d4-8da5-3c09e80d0adc",
   "metadata": {},
   "outputs": [],
   "source": [
    "%LOAD ../data/employees.db"
   ]
  },
  {
   "cell_type": "markdown",
   "id": "f065635e-49b9-42cb-aadb-f7b5b5d6c8ea",
   "metadata": {},
   "source": [
    ":::{exercise}\n",
    "Query 1: Wie heeft er dezelfde manager (hetzelfde manager_id) als de werknemer Davies?\n",
    "\n",
    "![](figs/clip0298.png)\n",
    "\n",
    ":::"
   ]
  },
  {
   "cell_type": "code",
   "execution_count": null,
   "id": "a48cce81-fbb0-4ef0-9acd-81ea3d1bc70f",
   "metadata": {},
   "outputs": [],
   "source": [
    "SELECT 1;"
   ]
  },
  {
   "cell_type": "markdown",
   "id": "8627fb9e-67c6-4fcc-830b-1851d5eee748",
   "metadata": {},
   "source": [
    ":::{exercise}\n",
    "Query 2: Maak nu dezelfde query als bij 1 maar zorg dat Davies er zelf niet bij staat en sorteer op last_name.\n",
    "\n",
    "![](figs/clip0299.png)\n",
    "\n",
    ":::"
   ]
  },
  {
   "cell_type": "code",
   "execution_count": null,
   "id": "7100efdf-dbe1-4705-96fa-4bbeb6f4d73c",
   "metadata": {},
   "outputs": [],
   "source": [
    "SELECT 1;"
   ]
  },
  {
   "cell_type": "markdown",
   "id": "7a1df630-e63c-443e-a507-33d52ff6d9a4",
   "metadata": {},
   "source": [
    ":::{exercise}\n",
    "Query 3: Wie hebben er allemaal dezelfde job_title als Matos? Zorg dat Matos er zelf niet bij staat.\n",
    "\n",
    "![](figs/clip0300.png)\n",
    "\n",
    ":::"
   ]
  },
  {
   "cell_type": "code",
   "execution_count": null,
   "id": "e0c7cd9b-6323-462a-b6cc-7a33766dab0c",
   "metadata": {},
   "outputs": [],
   "source": [
    "SELECT 1;"
   ]
  },
  {
   "cell_type": "markdown",
   "id": "31c4089f-24bd-4b5f-8421-d5123b0e37fc",
   "metadata": {},
   "source": [
    ":::{exercise}\n",
    "Query 4: Wie verdient er minder dan Taylor? Let op de sortering.\n",
    "\n",
    "![](figs/clip0301.png)\n",
    "\n",
    ":::"
   ]
  },
  {
   "cell_type": "code",
   "execution_count": null,
   "id": "aaae7e3d-d390-482d-ac15-a92dd9f968f2",
   "metadata": {},
   "outputs": [],
   "source": [
    "SELECT 1;"
   ]
  },
  {
   "cell_type": "markdown",
   "id": "94861c52-0444-4e9b-ba47-31fc35becc0e",
   "metadata": {},
   "source": [
    ":::{exercise}\n",
    "Query 5: Wie werken er allemaal op afdeling 50 maar hebben niet hetzelfde job_id als Mourgos? Let op de sortering.\n",
    "\n",
    "![](figs/clip0302.png)\n",
    " \n",
    ":::"
   ]
  },
  {
   "cell_type": "code",
   "execution_count": null,
   "id": "2e71e50a-93c1-4ad1-947f-74332d03cad7",
   "metadata": {},
   "outputs": [],
   "source": [
    "SELECT 1;"
   ]
  },
  {
   "cell_type": "markdown",
   "id": "7f228a43-bc4c-4ceb-bfd8-b3dcbaf382fd",
   "metadata": {},
   "source": [
    ":::{exercise}\n",
    "Query 6: Toon alle werknemers die minder verdienen dan het gemiddelde salaris. Sorteer op salaris en daarna op achternaam.\n",
    "\n",
    "![](figs/clip0317.png)\n",
    " \n",
    ":::"
   ]
  },
  {
   "cell_type": "code",
   "execution_count": null,
   "id": "d12739aa-5a9e-4fd9-90cd-7ecf3e61edf3",
   "metadata": {},
   "outputs": [],
   "source": [
    "SELECT 1;"
   ]
  },
  {
   "cell_type": "markdown",
   "id": "c3da14bb-2be8-435f-a56b-749320d831c3",
   "metadata": {},
   "source": [
    ":::{exercise}\n",
    "Query 7: Wie zijn er allemaal géén manager? Dat zijn de werknemers die niet voorkomen met hun employee_id in de kolom manager_id. Maar let op bij King, want die heeft bijvoorbeeld géén manager_id want hij is de grootste baas. Je moet de rijen waarvan het manager_id NULL is uitsluiten, anders krijg je een leeg resultaat. Zie de uitleg bij Subquery - Null.\n",
    "\n",
    "![](figs/clip0304.png)\n",
    " \n",
    ":::"
   ]
  },
  {
   "cell_type": "code",
   "execution_count": null,
   "id": "e363ae8f-e520-4fd8-a15c-fabfba389460",
   "metadata": {},
   "outputs": [],
   "source": [
    "SELECT 1;"
   ]
  },
  {
   "cell_type": "markdown",
   "id": "99222a12-9b29-48bb-b96a-89c06ce38ec9",
   "metadata": {},
   "source": [
    ":::{exercise}\n",
    "Query 8: Welke regions komen niet voor in de tabel countries? Gebruik NOT EXISTS.\n",
    "\n",
    "![](figs/clip0306.png)\n",
    "\n",
    ":::"
   ]
  },
  {
   "cell_type": "code",
   "execution_count": null,
   "id": "4edd4951-8a2d-44fb-9c6c-05bc25dc9be1",
   "metadata": {},
   "outputs": [],
   "source": [
    "SELECT 1;"
   ]
  },
  {
   "cell_type": "markdown",
   "id": "57056ed0-3a49-41c3-aeec-c955f0e2529d",
   "metadata": {},
   "source": [
    ":::{exercise}\n",
    "Query 9: In welke landen hebben ze één of meerdere locaties? Gebruik WHERE EXISTS.\n",
    "\n",
    "![](figs/clip0307.png)\n",
    "\n",
    ":::"
   ]
  },
  {
   "cell_type": "code",
   "execution_count": null,
   "id": "050aa9d7-09c9-4a86-8a9c-fab249aeab96",
   "metadata": {},
   "outputs": [],
   "source": [
    "SELECT 1;"
   ]
  },
  {
   "cell_type": "markdown",
   "id": "5e5a5c32-9796-4522-bee8-7953ffec81a6",
   "metadata": {},
   "source": [
    ":::{exercise}\n",
    "Query 10: Welke employees staan wel in de tabel job_history maar komen niet voor in de tabel employees?\n",
    "\n",
    "![](figs/clip0308.png)\n",
    "\n",
    ":::"
   ]
  },
  {
   "cell_type": "code",
   "execution_count": null,
   "id": "b1b94941-89ff-4255-8f28-56abbfe81603",
   "metadata": {},
   "outputs": [],
   "source": [
    "SELECT 1;"
   ]
  }
 ],
 "metadata": {
  "kernelspec": {
   "display_name": "xsqlite",
   "language": "sqlite",
   "name": "xsqlite"
  },
  "language_info": {
   "codemirror_mode": "sql",
   "file_extension": "",
   "mimetype": "",
   "name": "sql",
   "version": "3.33.0"
  }
 },
 "nbformat": 4,
 "nbformat_minor": 5
}
