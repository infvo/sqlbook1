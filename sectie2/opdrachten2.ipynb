{
 "cells": [
  {
   "cell_type": "markdown",
   "id": "50caa0d6-f78a-4917-86ef-0963f9a314de",
   "metadata": {},
   "source": [
    "# Opdrachten 2"
   ]
  },
  {
   "cell_type": "markdown",
   "id": "ece4340e-5a3f-47c4-a6bc-0383d24b0cb9",
   "metadata": {},
   "source": [
    "%LOAD ../data/employees.db"
   ]
  },
  {
   "cell_type": "markdown",
   "id": "e5295e6b-3e01-4c94-b6b8-cfbcff80e8a6",
   "metadata": {},
   "source": [
    ":::{exercise}\n",
    "Query 1: Maak een query waarmee je de structuur van de tabel jobs als uitvoer krijgt.\n",
    "\n",
    "![](figs/clip0019.png)\n",
    "\n",
    ":::"
   ]
  },
  {
   "cell_type": "markdown",
   "id": "27197842-65f9-4597-afb3-7d68869c051b",
   "metadata": {},
   "source": [
    ":::{exercise}\n",
    "Query 2: Maak een overzicht met de volledige namen en de e-mailadressen eindigend op @COMPANY.COM van de tabel employees. Let op de kolomnamen.\n",
    "\n",
    "![](figs/clip0020.png)\n",
    "\n",
    ":::"
   ]
  },
  {
   "cell_type": "markdown",
   "id": "2f51fe85-7c96-409e-b1af-8665bfb13959",
   "metadata": {},
   "source": [
    ":::{exercise}\n",
    "Query 3: Toon enkel de kolom commission_pct van de tabel employees. Elk commission_pct mag maar één keer getoond worden maar de waarde NULL moet ook getoond worden.\n",
    "\n",
    "![](figs/clip0023.png)\n",
    "\n",
    ":::"
   ]
  },
  {
   "cell_type": "markdown",
   "id": "87c952ab-8ec5-4c83-a1c2-0dcb6ff0a00a",
   "metadata": {},
   "source": [
    ":::{exercise}\n",
    "Query 4: Toon de jaarsalarissen van de eerste drie rijen van de tabel employees zoals in onderstaand voorbeeld.\n",
    "\n",
    "![](figs/clip0024.png)\n",
    "\n",
    ":::"
   ]
  },
  {
   "cell_type": "markdown",
   "id": "e06a740a-d7f1-4a0a-8152-dc2ec48b2289",
   "metadata": {},
   "source": [
    ":::{exercise}\n",
    "Query 5: Maak een overzicht met de salarissen waarbij het dollarteken voor het salaris komt. Toon de eerste vijf rijen van de tabel employees. \n",
    "\n",
    "![](figs/clip0026.png)\n",
    "\n",
    ":::"
   ]
  },
  {
   "cell_type": "markdown",
   "id": "74647041-9b2d-428e-8b79-2d98fb6327ac",
   "metadata": {},
   "source": [
    ":::{exercise}\n",
    "Query 6: Welke department_id's zijn er in de tabel employees? Ze mogen maar één keer getoond worden.\n",
    "\n",
    "![](figs/clip0027.png)\n",
    "\n",
    ":::"
   ]
  },
  {
   "cell_type": "markdown",
   "id": "e438d930-d0f6-4beb-bd5c-bd59691c443d",
   "metadata": {},
   "source": [
    ":::{exercise}\n",
    "Query 7: Wie zijn er op 7 juni (ongeacht het jaar) in dienst gekomen? De informatie komt uit de tabel employees. \n",
    "\n",
    "![](figs/clip0062.png)\n",
    "\n",
    ":::"
   ]
  },
  {
   "cell_type": "markdown",
   "id": "d689c8ae-4a96-40b3-88aa-f4b43f119212",
   "metadata": {},
   "source": [
    ":::{exercise}\n",
    "Query 8:  Toon alle personeelsleden met een telefoonnummer dat begint met 011.44. De informatie komt uit de tabel employees. \n",
    "\n",
    "![](figs/clip0063.png)\n",
    "\n",
    ":::"
   ]
  },
  {
   "cell_type": "markdown",
   "id": "0ed44e67-f18c-4054-a1ea-079729c948dd",
   "metadata": {},
   "source": [
    ":::{exercise}\n",
    "Query 9: Welke afdeling van de tabel departments heeft er geen manager?\n",
    "\n",
    "![](figs/clip0064.png)\n",
    "\n",
    ":::"
   ]
  },
  {
   "cell_type": "markdown",
   "id": "6950e58f-3fb5-4e61-af98-b0baf58eadb3",
   "metadata": {},
   "source": [
    ":::{exercise}\n",
    "Query 10: Welke personen werken er op de afdeling Administration (AD)? De informatie komt uit de tabel employees.\n",
    "\n",
    "![](figs/clip0065.png)\n",
    "\n",
    ":::"
   ]
  },
  {
   "cell_type": "markdown",
   "id": "7d9c52de-d959-4d84-ad48-224af8d11c47",
   "metadata": {},
   "source": []
  }
 ],
 "metadata": {
  "kernelspec": {
   "display_name": "xsqlite",
   "language": "sqlite",
   "name": "xsqlite"
  },
  "language_info": {
   "codemirror_mode": "sql",
   "file_extension": "",
   "mimetype": "",
   "name": "sql",
   "version": "3.33.0"
  }
 },
 "nbformat": 4,
 "nbformat_minor": 5
}
