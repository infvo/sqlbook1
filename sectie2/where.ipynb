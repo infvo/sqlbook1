{
 "cells": [
  {
   "cell_type": "markdown",
   "id": "b823f7f6-d4b5-41ed-bbd9-d8db03c8b1de",
   "metadata": {},
   "source": [
    "# WHERE"
   ]
  },
  {
   "cell_type": "code",
   "execution_count": 1,
   "id": "a32defb4-eab0-4b17-8173-2caa1596a9e1",
   "metadata": {
    "tags": []
   },
   "outputs": [],
   "source": [
    "%LOAD ../data/employees.db"
   ]
  },
  {
   "cell_type": "markdown",
   "id": "93a40871-6256-4f7a-be27-ca43ffb89e96",
   "metadata": {},
   "source": [
    "Om een query te maken heb je minstens een `SELECT` en een `FROM` nodig. Met `WHERE` kun je het aantal rijen dat getoond moet worden beperken. De `WHERE` bevat een bepaalde voorwaarde waaraan voldaan moet worden.\n",
    "\n",
    "Met onderstaande query toon je alle employees."
   ]
  },
  {
   "cell_type": "code",
   "execution_count": 2,
   "id": "2fe16c40-50d6-440d-9e4a-1ba658ad09b5",
   "metadata": {
    "tags": []
   },
   "outputs": [
    {
     "data": {
      "text/html": [
       "<table>\n",
       "<tr>\n",
       "<th>employee_id</th>\n",
       "<th>first_name</th>\n",
       "<th>last_name</th>\n",
       "</tr>\n",
       "<tr>\n",
       "<td>100</td>\n",
       "<td>Steven</td>\n",
       "<td>King</td>\n",
       "</tr>\n",
       "<tr>\n",
       "<td>101</td>\n",
       "<td>Neena</td>\n",
       "<td>Kochhar</td>\n",
       "</tr>\n",
       "<tr>\n",
       "<td>102</td>\n",
       "<td>Lex</td>\n",
       "<td>De Haan</td>\n",
       "</tr>\n",
       "<tr>\n",
       "<td>103</td>\n",
       "<td>Alexander</td>\n",
       "<td>Hunold</td>\n",
       "</tr>\n",
       "<tr>\n",
       "<td>104</td>\n",
       "<td>Bruce</td>\n",
       "<td>Ernst</td>\n",
       "</tr>\n",
       "<tr>\n",
       "<td>107</td>\n",
       "<td>Diana</td>\n",
       "<td>Lorentz</td>\n",
       "</tr>\n",
       "<tr>\n",
       "<td>124</td>\n",
       "<td>Kevin</td>\n",
       "<td>Mourgos</td>\n",
       "</tr>\n",
       "<tr>\n",
       "<td>141</td>\n",
       "<td>Trenna</td>\n",
       "<td>Rajs</td>\n",
       "</tr>\n",
       "<tr>\n",
       "<td>142</td>\n",
       "<td>Curtis</td>\n",
       "<td>Davies</td>\n",
       "</tr>\n",
       "<tr>\n",
       "<td>143</td>\n",
       "<td>Randall</td>\n",
       "<td>Matos</td>\n",
       "</tr>\n",
       "<tr>\n",
       "<td>144</td>\n",
       "<td>Peter</td>\n",
       "<td>Vargas</td>\n",
       "</tr>\n",
       "<tr>\n",
       "<td>149</td>\n",
       "<td>Eleni</td>\n",
       "<td>Zlotkey</td>\n",
       "</tr>\n",
       "<tr>\n",
       "<td>174</td>\n",
       "<td>Ellen</td>\n",
       "<td>Abel</td>\n",
       "</tr>\n",
       "<tr>\n",
       "<td>176</td>\n",
       "<td>Jonathon</td>\n",
       "<td>Taylor</td>\n",
       "</tr>\n",
       "<tr>\n",
       "<td>178</td>\n",
       "<td>Kimberely</td>\n",
       "<td>Grant</td>\n",
       "</tr>\n",
       "<tr>\n",
       "<td>200</td>\n",
       "<td>Jennifer</td>\n",
       "<td>Whalen</td>\n",
       "</tr>\n",
       "<tr>\n",
       "<td>201</td>\n",
       "<td>Michael</td>\n",
       "<td>Hartstein</td>\n",
       "</tr>\n",
       "<tr>\n",
       "<td>202</td>\n",
       "<td>Pat</td>\n",
       "<td>Fay</td>\n",
       "</tr>\n",
       "<tr>\n",
       "<td>205</td>\n",
       "<td>Shelley</td>\n",
       "<td>Higgins</td>\n",
       "</tr>\n",
       "<tr>\n",
       "<td>206</td>\n",
       "<td>William</td>\n",
       "<td>Gietz</td>\n",
       "</tr>\n",
       "</table>"
      ],
      "text/plain": [
       "+-------------+------------+-----------+\n",
       "| employee_id | first_name | last_name |\n",
       "+-------------+------------+-----------+\n",
       "| 100         | Steven     | King      |\n",
       "+-------------+------------+-----------+\n",
       "| 101         | Neena      | Kochhar   |\n",
       "+-------------+------------+-----------+\n",
       "| 102         | Lex        | De Haan   |\n",
       "+-------------+------------+-----------+\n",
       "| 103         | Alexander  | Hunold    |\n",
       "+-------------+------------+-----------+\n",
       "| 104         | Bruce      | Ernst     |\n",
       "+-------------+------------+-----------+\n",
       "| 107         | Diana      | Lorentz   |\n",
       "+-------------+------------+-----------+\n",
       "| 124         | Kevin      | Mourgos   |\n",
       "+-------------+------------+-----------+\n",
       "| 141         | Trenna     | Rajs      |\n",
       "+-------------+------------+-----------+\n",
       "| 142         | Curtis     | Davies    |\n",
       "+-------------+------------+-----------+\n",
       "| 143         | Randall    | Matos     |\n",
       "+-------------+------------+-----------+\n",
       "| 144         | Peter      | Vargas    |\n",
       "+-------------+------------+-----------+\n",
       "| 149         | Eleni      | Zlotkey   |\n",
       "+-------------+------------+-----------+\n",
       "| 174         | Ellen      | Abel      |\n",
       "+-------------+------------+-----------+\n",
       "| 176         | Jonathon   | Taylor    |\n",
       "+-------------+------------+-----------+\n",
       "| 178         | Kimberely  | Grant     |\n",
       "+-------------+------------+-----------+\n",
       "| 200         | Jennifer   | Whalen    |\n",
       "+-------------+------------+-----------+\n",
       "| 201         | Michael    | Hartstein |\n",
       "+-------------+------------+-----------+\n",
       "| 202         | Pat        | Fay       |\n",
       "+-------------+------------+-----------+\n",
       "| 205         | Shelley    | Higgins   |\n",
       "+-------------+------------+-----------+\n",
       "| 206         | William    | Gietz     |\n",
       "+-------------+------------+-----------+"
      ]
     },
     "execution_count": 2,
     "metadata": {},
     "output_type": "execute_result"
    }
   ],
   "source": [
    "SELECT employee_id, first_name, last_name\n",
    "FROM employees;"
   ]
  },
  {
   "cell_type": "markdown",
   "id": "437f7c90-273f-4e3f-9087-64dce0c13683",
   "metadata": {},
   "source": [
    "Door een `WHERE` toe te voegen kun je het aantal rijen beperken. Stel dat je alleen gegevens wil tonen van het personeelslid King."
   ]
  },
  {
   "cell_type": "code",
   "execution_count": 3,
   "id": "8ee60c7d-b978-4adf-921d-087a2892dc5b",
   "metadata": {
    "tags": []
   },
   "outputs": [
    {
     "data": {
      "text/html": [
       "<table>\n",
       "<tr>\n",
       "<th>employee_id</th>\n",
       "<th>first_name</th>\n",
       "<th>last_name</th>\n",
       "</tr>\n",
       "<tr>\n",
       "<td>100</td>\n",
       "<td>Steven</td>\n",
       "<td>King</td>\n",
       "</tr>\n",
       "</table>"
      ],
      "text/plain": [
       "+-------------+------------+-----------+\n",
       "| employee_id | first_name | last_name |\n",
       "+-------------+------------+-----------+\n",
       "| 100         | Steven     | King      |\n",
       "+-------------+------------+-----------+"
      ]
     },
     "execution_count": 3,
     "metadata": {},
     "output_type": "execute_result"
    }
   ],
   "source": [
    "SELECT employee_id, first_name, last_name\n",
    "FROM employees\n",
    "WHERE last_name = 'King';"
   ]
  },
  {
   "cell_type": "markdown",
   "id": "2f913f22-7869-4480-b4ba-82c3166cf1c4",
   "metadata": {},
   "source": [
    "Als je zijn employee_id weet, kan het ook zo:"
   ]
  },
  {
   "cell_type": "code",
   "execution_count": 4,
   "id": "fb87c8ba-be0c-48f3-b37e-7ca5ae0b02ae",
   "metadata": {
    "tags": []
   },
   "outputs": [
    {
     "data": {
      "text/html": [
       "<table>\n",
       "<tr>\n",
       "<th>employee_id</th>\n",
       "<th>first_name</th>\n",
       "<th>last_name</th>\n",
       "</tr>\n",
       "<tr>\n",
       "<td>100</td>\n",
       "<td>Steven</td>\n",
       "<td>King</td>\n",
       "</tr>\n",
       "</table>"
      ],
      "text/plain": [
       "+-------------+------------+-----------+\n",
       "| employee_id | first_name | last_name |\n",
       "+-------------+------------+-----------+\n",
       "| 100         | Steven     | King      |\n",
       "+-------------+------------+-----------+"
      ]
     },
     "execution_count": 4,
     "metadata": {},
     "output_type": "execute_result"
    }
   ],
   "source": [
    "SELECT employee_id, first_name, last_name\n",
    "FROM employees\n",
    "WHERE employee_id = 100;"
   ]
  },
  {
   "cell_type": "markdown",
   "id": "4475f7ed-d1e0-4042-8594-ed73d0635e24",
   "metadata": {},
   "source": [
    "Merk op dat je bij zijn achternaam (tekst) wel enkele aanhalingstekens gebruikt en bij zijn employee_id (nummer) niet. Ook bij datums gebruik je enkele aanhalingstekens."
   ]
  },
  {
   "cell_type": "markdown",
   "id": "35e3c061-681c-42fb-beae-a5d0b88a5984",
   "metadata": {},
   "source": [
    "De volgende rekenkundige operatoren kun je gebruiken in de WHERE:\n",
    "\n",
    "* `=` gelijk aan\n",
    "* `>` groter dan\n",
    "* `>=`  groter dan of gelijk aan\n",
    "* `<` kleiner dan\n",
    "* `<=` kleiner dan of gelijk aan\n",
    "* `<>` of `!=` ongelijk aan"
   ]
  },
  {
   "cell_type": "code",
   "execution_count": 5,
   "id": "1437ac5f-88bc-41bb-81e7-8570598161d4",
   "metadata": {
    "tags": []
   },
   "outputs": [
    {
     "data": {
      "text/html": [
       "<table>\n",
       "<tr>\n",
       "<th>employee_id</th>\n",
       "<th>last_name</th>\n",
       "<th>department_id</th>\n",
       "</tr>\n",
       "<tr>\n",
       "<td>100</td>\n",
       "<td>King</td>\n",
       "<td>90</td>\n",
       "</tr>\n",
       "<tr>\n",
       "<td>101</td>\n",
       "<td>Kochhar</td>\n",
       "<td>90</td>\n",
       "</tr>\n",
       "<tr>\n",
       "<td>102</td>\n",
       "<td>De Haan</td>\n",
       "<td>90</td>\n",
       "</tr>\n",
       "</table>"
      ],
      "text/plain": [
       "+-------------+-----------+---------------+\n",
       "| employee_id | last_name | department_id |\n",
       "+-------------+-----------+---------------+\n",
       "| 100         | King      | 90            |\n",
       "+-------------+-----------+---------------+\n",
       "| 101         | Kochhar   | 90            |\n",
       "+-------------+-----------+---------------+\n",
       "| 102         | De Haan   | 90            |\n",
       "+-------------+-----------+---------------+"
      ]
     },
     "execution_count": 5,
     "metadata": {},
     "output_type": "execute_result"
    }
   ],
   "source": [
    "SELECT employee_id, last_name, department_id\n",
    "FROM employees\n",
    "WHERE department_id = 90;"
   ]
  },
  {
   "cell_type": "markdown",
   "id": "fe514eb0-25e6-4edf-979e-d9fe3bbf948f",
   "metadata": {},
   "source": [
    "Wie verdient er 12000 of meer?"
   ]
  },
  {
   "cell_type": "code",
   "execution_count": 6,
   "id": "e029bce3-367d-44c9-93a2-fc2ece5f1089",
   "metadata": {
    "tags": []
   },
   "outputs": [
    {
     "data": {
      "text/html": [
       "<table>\n",
       "<tr>\n",
       "<th>last_name</th>\n",
       "<th>salary</th>\n",
       "</tr>\n",
       "<tr>\n",
       "<td>King</td>\n",
       "<td>24000</td>\n",
       "</tr>\n",
       "<tr>\n",
       "<td>Kochhar</td>\n",
       "<td>17000</td>\n",
       "</tr>\n",
       "<tr>\n",
       "<td>De Haan</td>\n",
       "<td>17000</td>\n",
       "</tr>\n",
       "<tr>\n",
       "<td>Hartstein</td>\n",
       "<td>13000</td>\n",
       "</tr>\n",
       "<tr>\n",
       "<td>Higgins</td>\n",
       "<td>12000</td>\n",
       "</tr>\n",
       "</table>"
      ],
      "text/plain": [
       "+-----------+--------+\n",
       "| last_name | salary |\n",
       "+-----------+--------+\n",
       "| King      | 24000  |\n",
       "+-----------+--------+\n",
       "| Kochhar   | 17000  |\n",
       "+-----------+--------+\n",
       "| De Haan   | 17000  |\n",
       "+-----------+--------+\n",
       "| Hartstein | 13000  |\n",
       "+-----------+--------+\n",
       "| Higgins   | 12000  |\n",
       "+-----------+--------+"
      ]
     },
     "execution_count": 6,
     "metadata": {},
     "output_type": "execute_result"
    }
   ],
   "source": [
    "SELECT last_name, salary\n",
    "FROM employees\n",
    "WHERE salary >= 12000;"
   ]
  },
  {
   "cell_type": "markdown",
   "id": "8a5e007c-57ad-49cc-a648-95adfde5f3df",
   "metadata": {},
   "source": [
    "Wie werkt er allemaal op de afdeling IT_PROG?"
   ]
  },
  {
   "cell_type": "code",
   "execution_count": 7,
   "id": "7d7eee34-0ee6-4713-b059-021f1ff5c28e",
   "metadata": {
    "tags": []
   },
   "outputs": [
    {
     "data": {
      "text/html": [
       "<table>\n",
       "<tr>\n",
       "<th>last_name</th>\n",
       "<th>job_id</th>\n",
       "</tr>\n",
       "<tr>\n",
       "<td>Hunold</td>\n",
       "<td>IT_PROG</td>\n",
       "</tr>\n",
       "<tr>\n",
       "<td>Ernst</td>\n",
       "<td>IT_PROG</td>\n",
       "</tr>\n",
       "<tr>\n",
       "<td>Lorentz</td>\n",
       "<td>IT_PROG</td>\n",
       "</tr>\n",
       "</table>"
      ],
      "text/plain": [
       "+-----------+---------+\n",
       "| last_name | job_id  |\n",
       "+-----------+---------+\n",
       "| Hunold    | IT_PROG |\n",
       "+-----------+---------+\n",
       "| Ernst     | IT_PROG |\n",
       "+-----------+---------+\n",
       "| Lorentz   | IT_PROG |\n",
       "+-----------+---------+"
      ]
     },
     "execution_count": 7,
     "metadata": {},
     "output_type": "execute_result"
    }
   ],
   "source": [
    "SELECT last_name, job_id\n",
    "FROM employees\n",
    "WHERE job_id = 'IT_PROG';"
   ]
  },
  {
   "cell_type": "markdown",
   "id": "559564e1-1188-42f0-9ae0-7f3eeebffec9",
   "metadata": {},
   "source": [
    "Wie is er in dienst gekomen vanaf 1 januari 1998?"
   ]
  },
  {
   "cell_type": "code",
   "execution_count": 8,
   "id": "3410401c-0030-4114-b1ad-7e37c03da433",
   "metadata": {
    "tags": []
   },
   "outputs": [
    {
     "data": {
      "text/html": [
       "<table>\n",
       "<tr>\n",
       "<th>last_name</th>\n",
       "<th>hire_date</th>\n",
       "</tr>\n",
       "<tr>\n",
       "<td>Lorentz</td>\n",
       "<td>1999-02-07</td>\n",
       "</tr>\n",
       "<tr>\n",
       "<td>Mourgos</td>\n",
       "<td>1999-11-16</td>\n",
       "</tr>\n",
       "<tr>\n",
       "<td>Matos</td>\n",
       "<td>1998-03-15</td>\n",
       "</tr>\n",
       "<tr>\n",
       "<td>Vargas</td>\n",
       "<td>1998-07-09</td>\n",
       "</tr>\n",
       "<tr>\n",
       "<td>Zlotkey</td>\n",
       "<td>2000-01-29</td>\n",
       "</tr>\n",
       "<tr>\n",
       "<td>Taylor</td>\n",
       "<td>1998-03-24</td>\n",
       "</tr>\n",
       "<tr>\n",
       "<td>Grant</td>\n",
       "<td>1999-05-24</td>\n",
       "</tr>\n",
       "</table>"
      ],
      "text/plain": [
       "+-----------+------------+\n",
       "| last_name | hire_date  |\n",
       "+-----------+------------+\n",
       "| Lorentz   | 1999-02-07 |\n",
       "+-----------+------------+\n",
       "| Mourgos   | 1999-11-16 |\n",
       "+-----------+------------+\n",
       "| Matos     | 1998-03-15 |\n",
       "+-----------+------------+\n",
       "| Vargas    | 1998-07-09 |\n",
       "+-----------+------------+\n",
       "| Zlotkey   | 2000-01-29 |\n",
       "+-----------+------------+\n",
       "| Taylor    | 1998-03-24 |\n",
       "+-----------+------------+\n",
       "| Grant     | 1999-05-24 |\n",
       "+-----------+------------+"
      ]
     },
     "execution_count": 8,
     "metadata": {},
     "output_type": "execute_result"
    }
   ],
   "source": [
    "SELECT last_name, hire_date\n",
    "FROM employees\n",
    "WHERE hire_date >= '1998-01-01';"
   ]
  },
  {
   "cell_type": "markdown",
   "id": "b0931037-3892-4fa3-8dc6-bb91e92a5ae6",
   "metadata": {},
   "source": [
    "Wie was er al in dienst vóór 1 januari 1998?"
   ]
  },
  {
   "cell_type": "code",
   "execution_count": 9,
   "id": "bf276a54-5e11-4919-8c10-4bb65a475443",
   "metadata": {
    "tags": []
   },
   "outputs": [
    {
     "data": {
      "text/html": [
       "<table>\n",
       "<tr>\n",
       "<th>last_name</th>\n",
       "<th>hire_date</th>\n",
       "</tr>\n",
       "<tr>\n",
       "<td>King</td>\n",
       "<td>1987-06-17</td>\n",
       "</tr>\n",
       "<tr>\n",
       "<td>Kochhar</td>\n",
       "<td>1989-09-21</td>\n",
       "</tr>\n",
       "<tr>\n",
       "<td>De Haan</td>\n",
       "<td>1993-01-13</td>\n",
       "</tr>\n",
       "<tr>\n",
       "<td>Hunold</td>\n",
       "<td>1990-01-03</td>\n",
       "</tr>\n",
       "<tr>\n",
       "<td>Ernst</td>\n",
       "<td>1991-05-21</td>\n",
       "</tr>\n",
       "<tr>\n",
       "<td>Rajs</td>\n",
       "<td>1995-10-17</td>\n",
       "</tr>\n",
       "<tr>\n",
       "<td>Davies</td>\n",
       "<td>1997-01-29</td>\n",
       "</tr>\n",
       "<tr>\n",
       "<td>Abel</td>\n",
       "<td>1996-05-11</td>\n",
       "</tr>\n",
       "<tr>\n",
       "<td>Whalen</td>\n",
       "<td>1987-09-17</td>\n",
       "</tr>\n",
       "<tr>\n",
       "<td>Hartstein</td>\n",
       "<td>1996-02-17</td>\n",
       "</tr>\n",
       "<tr>\n",
       "<td>Fay</td>\n",
       "<td>1997-08-17</td>\n",
       "</tr>\n",
       "<tr>\n",
       "<td>Higgins</td>\n",
       "<td>1994-06-07</td>\n",
       "</tr>\n",
       "<tr>\n",
       "<td>Gietz</td>\n",
       "<td>1994-06-07</td>\n",
       "</tr>\n",
       "</table>"
      ],
      "text/plain": [
       "+-----------+------------+\n",
       "| last_name | hire_date  |\n",
       "+-----------+------------+\n",
       "| King      | 1987-06-17 |\n",
       "+-----------+------------+\n",
       "| Kochhar   | 1989-09-21 |\n",
       "+-----------+------------+\n",
       "| De Haan   | 1993-01-13 |\n",
       "+-----------+------------+\n",
       "| Hunold    | 1990-01-03 |\n",
       "+-----------+------------+\n",
       "| Ernst     | 1991-05-21 |\n",
       "+-----------+------------+\n",
       "| Rajs      | 1995-10-17 |\n",
       "+-----------+------------+\n",
       "| Davies    | 1997-01-29 |\n",
       "+-----------+------------+\n",
       "| Abel      | 1996-05-11 |\n",
       "+-----------+------------+\n",
       "| Whalen    | 1987-09-17 |\n",
       "+-----------+------------+\n",
       "| Hartstein | 1996-02-17 |\n",
       "+-----------+------------+\n",
       "| Fay       | 1997-08-17 |\n",
       "+-----------+------------+\n",
       "| Higgins   | 1994-06-07 |\n",
       "+-----------+------------+\n",
       "| Gietz     | 1994-06-07 |\n",
       "+-----------+------------+"
      ]
     },
     "execution_count": 9,
     "metadata": {},
     "output_type": "execute_result"
    }
   ],
   "source": [
    "SELECT last_name, hire_date\n",
    "FROM employees\n",
    "WHERE hire_date <= '1998-01-01';"
   ]
  },
  {
   "cell_type": "markdown",
   "id": "13ba841b-0034-4f67-a96b-abcfab277a36",
   "metadata": {},
   "source": [
    "Toon alle werknemers behalve de hoogste baas. Dat is de werknemer met als job_title AD_PRES. Dus King mag er niet in het antwoord voor komen."
   ]
  },
  {
   "cell_type": "code",
   "execution_count": 10,
   "id": "c39ae50a-95cc-41d3-a069-e8749197c877",
   "metadata": {
    "tags": []
   },
   "outputs": [
    {
     "data": {
      "text/html": [
       "<table>\n",
       "<tr>\n",
       "<th>first_name</th>\n",
       "<th>last_name</th>\n",
       "<th>job_id</th>\n",
       "</tr>\n",
       "<tr>\n",
       "<td>Neena</td>\n",
       "<td>Kochhar</td>\n",
       "<td>AD_VP</td>\n",
       "</tr>\n",
       "<tr>\n",
       "<td>Lex</td>\n",
       "<td>De Haan</td>\n",
       "<td>AD_VP</td>\n",
       "</tr>\n",
       "<tr>\n",
       "<td>Alexander</td>\n",
       "<td>Hunold</td>\n",
       "<td>IT_PROG</td>\n",
       "</tr>\n",
       "<tr>\n",
       "<td>Bruce</td>\n",
       "<td>Ernst</td>\n",
       "<td>IT_PROG</td>\n",
       "</tr>\n",
       "<tr>\n",
       "<td>Diana</td>\n",
       "<td>Lorentz</td>\n",
       "<td>IT_PROG</td>\n",
       "</tr>\n",
       "<tr>\n",
       "<td>Kevin</td>\n",
       "<td>Mourgos</td>\n",
       "<td>ST_MAN</td>\n",
       "</tr>\n",
       "<tr>\n",
       "<td>Trenna</td>\n",
       "<td>Rajs</td>\n",
       "<td>ST_CLERK</td>\n",
       "</tr>\n",
       "<tr>\n",
       "<td>Curtis</td>\n",
       "<td>Davies</td>\n",
       "<td>ST_CLERK</td>\n",
       "</tr>\n",
       "<tr>\n",
       "<td>Randall</td>\n",
       "<td>Matos</td>\n",
       "<td>ST_CLERK</td>\n",
       "</tr>\n",
       "<tr>\n",
       "<td>Peter</td>\n",
       "<td>Vargas</td>\n",
       "<td>ST_CLERK</td>\n",
       "</tr>\n",
       "<tr>\n",
       "<td>Eleni</td>\n",
       "<td>Zlotkey</td>\n",
       "<td>SA_MAN</td>\n",
       "</tr>\n",
       "<tr>\n",
       "<td>Ellen</td>\n",
       "<td>Abel</td>\n",
       "<td>SA_REP</td>\n",
       "</tr>\n",
       "<tr>\n",
       "<td>Jonathon</td>\n",
       "<td>Taylor</td>\n",
       "<td>SA_REP</td>\n",
       "</tr>\n",
       "<tr>\n",
       "<td>Kimberely</td>\n",
       "<td>Grant</td>\n",
       "<td>SA_REP</td>\n",
       "</tr>\n",
       "<tr>\n",
       "<td>Jennifer</td>\n",
       "<td>Whalen</td>\n",
       "<td>AD_ASST</td>\n",
       "</tr>\n",
       "<tr>\n",
       "<td>Michael</td>\n",
       "<td>Hartstein</td>\n",
       "<td>MK_MAN</td>\n",
       "</tr>\n",
       "<tr>\n",
       "<td>Pat</td>\n",
       "<td>Fay</td>\n",
       "<td>MK_REP</td>\n",
       "</tr>\n",
       "<tr>\n",
       "<td>Shelley</td>\n",
       "<td>Higgins</td>\n",
       "<td>AC_MGR</td>\n",
       "</tr>\n",
       "<tr>\n",
       "<td>William</td>\n",
       "<td>Gietz</td>\n",
       "<td>AC_ACCOUNT</td>\n",
       "</tr>\n",
       "</table>"
      ],
      "text/plain": [
       "+------------+-----------+------------+\n",
       "| first_name | last_name | job_id     |\n",
       "+------------+-----------+------------+\n",
       "| Neena      | Kochhar   | AD_VP      |\n",
       "+------------+-----------+------------+\n",
       "| Lex        | De Haan   | AD_VP      |\n",
       "+------------+-----------+------------+\n",
       "| Alexander  | Hunold    | IT_PROG    |\n",
       "+------------+-----------+------------+\n",
       "| Bruce      | Ernst     | IT_PROG    |\n",
       "+------------+-----------+------------+\n",
       "| Diana      | Lorentz   | IT_PROG    |\n",
       "+------------+-----------+------------+\n",
       "| Kevin      | Mourgos   | ST_MAN     |\n",
       "+------------+-----------+------------+\n",
       "| Trenna     | Rajs      | ST_CLERK   |\n",
       "+------------+-----------+------------+\n",
       "| Curtis     | Davies    | ST_CLERK   |\n",
       "+------------+-----------+------------+\n",
       "| Randall    | Matos     | ST_CLERK   |\n",
       "+------------+-----------+------------+\n",
       "| Peter      | Vargas    | ST_CLERK   |\n",
       "+------------+-----------+------------+\n",
       "| Eleni      | Zlotkey   | SA_MAN     |\n",
       "+------------+-----------+------------+\n",
       "| Ellen      | Abel      | SA_REP     |\n",
       "+------------+-----------+------------+\n",
       "| Jonathon   | Taylor    | SA_REP     |\n",
       "+------------+-----------+------------+\n",
       "| Kimberely  | Grant     | SA_REP     |\n",
       "+------------+-----------+------------+\n",
       "| Jennifer   | Whalen    | AD_ASST    |\n",
       "+------------+-----------+------------+\n",
       "| Michael    | Hartstein | MK_MAN     |\n",
       "+------------+-----------+------------+\n",
       "| Pat        | Fay       | MK_REP     |\n",
       "+------------+-----------+------------+\n",
       "| Shelley    | Higgins   | AC_MGR     |\n",
       "+------------+-----------+------------+\n",
       "| William    | Gietz     | AC_ACCOUNT |\n",
       "+------------+-----------+------------+"
      ]
     },
     "execution_count": 10,
     "metadata": {},
     "output_type": "execute_result"
    }
   ],
   "source": [
    "SELECT first_name, last_name, job_id\n",
    "FROM employees\n",
    "WHERE job_id <> 'AD_PRES';"
   ]
  }
 ],
 "metadata": {
  "kernelspec": {
   "display_name": "xsqlite",
   "language": "sqlite",
   "name": "xsqlite"
  },
  "language_info": {
   "codemirror_mode": "sql",
   "file_extension": "",
   "mimetype": "",
   "name": "sql",
   "version": "3.33.0"
  }
 },
 "nbformat": 4,
 "nbformat_minor": 5
}
