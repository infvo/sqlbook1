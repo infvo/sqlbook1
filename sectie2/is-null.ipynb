{
 "cells": [
  {
   "cell_type": "markdown",
   "id": "4652d51f-ef1a-44d4-9592-7524e1822146",
   "metadata": {},
   "source": [
    "# IS NULL"
   ]
  },
  {
   "cell_type": "code",
   "execution_count": 1,
   "id": "a69cfef0-570b-46af-b160-e4dd41475e2b",
   "metadata": {
    "tags": []
   },
   "outputs": [],
   "source": [
    "%LOAD ../data/employees.db"
   ]
  },
  {
   "cell_type": "markdown",
   "id": "c49f9aab-a08b-405d-9322-27a1c249c4e3",
   "metadata": {},
   "source": [
    "Als een waarde `NULL` is, is de waarde onbeschikbaar, onbekend, niet toegekend of niet van toepassing. Welke werknemer heeft er geen manager?"
   ]
  },
  {
   "cell_type": "code",
   "execution_count": 2,
   "id": "60d65649-65ab-418e-a0c1-c885e443864a",
   "metadata": {
    "tags": []
   },
   "outputs": [
    {
     "data": {
      "text/html": [
       "<table>\n",
       "<tr>\n",
       "<th>last_name</th>\n",
       "<th>manager_id</th>\n",
       "</tr>\n",
       "<tr>\n",
       "<td>King</td>\n",
       "<td></td>\n",
       "</tr>\n",
       "</table>"
      ],
      "text/plain": [
       "+-----------+------------+\n",
       "| last_name | manager_id |\n",
       "+-----------+------------+\n",
       "| King      |            |\n",
       "+-----------+------------+"
      ]
     },
     "execution_count": 2,
     "metadata": {},
     "output_type": "execute_result"
    }
   ],
   "source": [
    "SELECT last_name, manager_id\n",
    "FROM  employees\n",
    "WHERE manager_id IS NULL;"
   ]
  },
  {
   "cell_type": "markdown",
   "id": "d666f42e-7e77-49a0-bc58-6cd4d58a10cb",
   "metadata": {},
   "source": [
    "Welke werknemer heeft er geen department_id?"
   ]
  },
  {
   "cell_type": "code",
   "execution_count": 3,
   "id": "a26faf4b-ff9c-4d15-b2b8-5dd95ecaed36",
   "metadata": {
    "tags": []
   },
   "outputs": [
    {
     "data": {
      "text/html": [
       "<table>\n",
       "<tr>\n",
       "<th>last_name</th>\n",
       "<th>department_id</th>\n",
       "</tr>\n",
       "<tr>\n",
       "<td>Grant</td>\n",
       "<td></td>\n",
       "</tr>\n",
       "</table>"
      ],
      "text/plain": [
       "+-----------+---------------+\n",
       "| last_name | department_id |\n",
       "+-----------+---------------+\n",
       "| Grant     |               |\n",
       "+-----------+---------------+"
      ]
     },
     "execution_count": 3,
     "metadata": {},
     "output_type": "execute_result"
    }
   ],
   "source": [
    "SELECT last_name, department_id\n",
    "FROM  employees\n",
    "WHERE department_id IS NULL;"
   ]
  }
 ],
 "metadata": {
  "kernelspec": {
   "display_name": "xsqlite",
   "language": "sqlite",
   "name": "xsqlite"
  },
  "language_info": {
   "codemirror_mode": "sql",
   "file_extension": "",
   "mimetype": "",
   "name": "sql",
   "version": "3.33.0"
  }
 },
 "nbformat": 4,
 "nbformat_minor": 5
}
