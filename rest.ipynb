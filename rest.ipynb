{
 "cells": [
  {
   "cell_type": "markdown",
   "id": "d617c609-f22c-46c6-ae74-d02b74228a83",
   "metadata": {
    "tags": []
   },
   "source": [
    "# Rest"
   ]
  },
  {
   "cell_type": "code",
   "execution_count": 3,
   "id": "e5b7f3d3-8951-4ab7-93fc-cad55846f9e5",
   "metadata": {
    "tags": []
   },
   "outputs": [],
   "source": [
    "%LOAD data/example.db"
   ]
  },
  {
   "cell_type": "code",
   "execution_count": 4,
   "id": "ae0ff8c5-da62-4e3a-9569-58f080de46e5",
   "metadata": {
    "tags": []
   },
   "outputs": [
    {
     "data": {
      "text/html": [
       "<table>\n",
       "<tr>\n",
       "<th>type</th>\n",
       "<th>name</th>\n",
       "<th>tbl_name</th>\n",
       "<th>rootpage</th>\n",
       "<th>sql</th>\n",
       "</tr>\n",
       "<tr>\n",
       "<td>table</td>\n",
       "<td>countries</td>\n",
       "<td>countries</td>\n",
       "<td>3</td>\n",
       "<td>CREATE TABLE `countries` (\n",
       "  `country_id` TEXT NOT NULL DEFAULT '',\n",
       "  `country_name` TEXT DEFAULT NULL,\n",
       "  `region_id` INT DEFAULT NULL\n",
       ")</td>\n",
       "</tr>\n",
       "<tr>\n",
       "<td>table</td>\n",
       "<td>departments</td>\n",
       "<td>departments</td>\n",
       "<td>4</td>\n",
       "<td>CREATE TABLE `departments` (\n",
       "  `department_id` INT NOT NULL DEFAULT '0',\n",
       "  `department_name` TEXT DEFAULT NULL,\n",
       "  `manager_id` INT DEFAULT NULL,\n",
       "  `location_id` INT DEFAULT NULL\n",
       ")</td>\n",
       "</tr>\n",
       "<tr>\n",
       "<td>table</td>\n",
       "<td>employees</td>\n",
       "<td>employees</td>\n",
       "<td>5</td>\n",
       "<td>CREATE TABLE `employees` (\n",
       "  `employee_id` INT NOT NULL DEFAULT '0',\n",
       "  `first_name` TEXT DEFAULT NULL,\n",
       "  `last_name` TEXT DEFAULT NULL,\n",
       "  `email` TEXT DEFAULT NULL,\n",
       "  `phone_number` TEXT DEFAULT NULL,\n",
       "  `hire_date` date DEFAULT NULL,\n",
       "  `job_id` TEXT DEFAULT NULL,\n",
       "  `salary` NUMERIC DEFAULT NULL,\n",
       "  `commission_pct` NUMERIC DEFAULT NULL,\n",
       "  `manager_id` INT DEFAULT NULL,\n",
       "  `department_id` INT DEFAULT NULL,\n",
       "  `bonus` TEXT DEFAULT NULL\n",
       ")</td>\n",
       "</tr>\n",
       "<tr>\n",
       "<td>table</td>\n",
       "<td>jobs</td>\n",
       "<td>jobs</td>\n",
       "<td>6</td>\n",
       "<td>CREATE TABLE `jobs` (\n",
       "  `job_id` TEXT NOT NULL DEFAULT '',\n",
       "  `job_title` TEXT DEFAULT NULL,\n",
       "  `min_salary` INT DEFAULT NULL,\n",
       "  `max_salary` INT DEFAULT NULL\n",
       ")</td>\n",
       "</tr>\n",
       "<tr>\n",
       "<td>table</td>\n",
       "<td>job_grades</td>\n",
       "<td>job_grades</td>\n",
       "<td>7</td>\n",
       "<td>CREATE TABLE `job_grades` (\n",
       "  `grade_level` TEXT DEFAULT NULL,\n",
       "  `lowest_sal` INT DEFAULT NULL,\n",
       "  `highest_sal` INT DEFAULT NULL\n",
       ")</td>\n",
       "</tr>\n",
       "<tr>\n",
       "<td>table</td>\n",
       "<td>job_history</td>\n",
       "<td>job_history</td>\n",
       "<td>8</td>\n",
       "<td>CREATE TABLE `job_history` (\n",
       "  `employee_id` INT NOT NULL DEFAULT '0',\n",
       "  `start_date` TEXT NOT NULL DEFAULT '0000-00-00',\n",
       "  `end_date` TEXT NOT NULL DEFAULT '0000-00-00',\n",
       "  `job_id` TEXT NOT NULL,\n",
       "  `department_id` INT NOT NULL\n",
       ")</td>\n",
       "</tr>\n",
       "<tr>\n",
       "<td>table</td>\n",
       "<td>locations</td>\n",
       "<td>locations</td>\n",
       "<td>9</td>\n",
       "<td>CREATE TABLE `locations` (\n",
       "  `location_id` INT NOT NULL DEFAULT '0',\n",
       "  `street_address` TEXT DEFAULT NULL,\n",
       "  `postal_code` TEXT DEFAULT NULL,\n",
       "  `city` TEXT DEFAULT NULL,\n",
       "  `state_province` TEXT DEFAULT NULL,\n",
       "  `country_id` TEXT DEFAULT NULL\n",
       ")</td>\n",
       "</tr>\n",
       "<tr>\n",
       "<td>table</td>\n",
       "<td>regions</td>\n",
       "<td>regions</td>\n",
       "<td>2</td>\n",
       "<td>CREATE TABLE `regions` (\n",
       "  `region_id` INT NOT NULL DEFAULT '0',\n",
       "  `region_name` TEXT DEFAULT NULL\n",
       ")</td>\n",
       "</tr>\n",
       "</table>"
      ],
      "text/plain": [
       "+-------+-------------+-------------+----------+----------------------------------------------------+\n",
       "| type  | name        | tbl_name    | rootpage | sql                                                |\n",
       "+-------+-------------+-------------+----------+----------------------------------------------------+\n",
       "| table | countries   | countries   | 3        | CREATE TABLE `countries` (                         |\n",
       "|       |             |             |          | `country_id` TEXT NOT NULL DEFAULT '',             |\n",
       "|       |             |             |          | `country_name` TEXT DEFAULT NULL,                  |\n",
       "|       |             |             |          | `region_id` INT DEFAULT NULL                       |\n",
       "|       |             |             |          | )                                                  |\n",
       "+-------+-------------+-------------+----------+----------------------------------------------------+\n",
       "| table | departments | departments | 4        | CREATE TABLE `departments` (                       |\n",
       "|       |             |             |          | `department_id` INT NOT NULL DEFAULT '0',          |\n",
       "|       |             |             |          | `department_name` TEXT DEFAULT NULL,               |\n",
       "|       |             |             |          | `manager_id` INT DEFAULT NULL,                     |\n",
       "|       |             |             |          | `location_id` INT DEFAULT NULL                     |\n",
       "|       |             |             |          | )                                                  |\n",
       "+-------+-------------+-------------+----------+----------------------------------------------------+\n",
       "| table | employees   | employees   | 5        | CREATE TABLE `employees` (                         |\n",
       "|       |             |             |          | `employee_id` INT NOT NULL DEFAULT '0',            |\n",
       "|       |             |             |          | `first_name` TEXT DEFAULT NULL,                    |\n",
       "|       |             |             |          | `last_name` TEXT DEFAULT NULL,                     |\n",
       "|       |             |             |          | `email` TEXT DEFAULT NULL,                         |\n",
       "|       |             |             |          | `phone_number` TEXT DEFAULT NULL,                  |\n",
       "|       |             |             |          | `hire_date` date DEFAULT NULL,                     |\n",
       "|       |             |             |          | `job_id` TEXT DEFAULT NULL,                        |\n",
       "|       |             |             |          | `salary` NUMERIC DEFAULT NULL,                     |\n",
       "|       |             |             |          | `commission_pct` NUMERIC DEFAULT NULL,             |\n",
       "|       |             |             |          | `manager_id` INT DEFAULT NULL,                     |\n",
       "|       |             |             |          | `department_id` INT DEFAULT NULL,                  |\n",
       "|       |             |             |          | `bonus` TEXT DEFAULT NULL                          |\n",
       "|       |             |             |          | )                                                  |\n",
       "+-------+-------------+-------------+----------+----------------------------------------------------+\n",
       "| table | jobs        | jobs        | 6        | CREATE TABLE `jobs` (                              |\n",
       "|       |             |             |          | `job_id` TEXT NOT NULL DEFAULT '',                 |\n",
       "|       |             |             |          | `job_title` TEXT DEFAULT NULL,                     |\n",
       "|       |             |             |          | `min_salary` INT DEFAULT NULL,                     |\n",
       "|       |             |             |          | `max_salary` INT DEFAULT NULL                      |\n",
       "|       |             |             |          | )                                                  |\n",
       "+-------+-------------+-------------+----------+----------------------------------------------------+\n",
       "| table | job_grades  | job_grades  | 7        | CREATE TABLE `job_grades` (                        |\n",
       "|       |             |             |          | `grade_level` TEXT DEFAULT NULL,                   |\n",
       "|       |             |             |          | `lowest_sal` INT DEFAULT NULL,                     |\n",
       "|       |             |             |          | `highest_sal` INT DEFAULT NULL                     |\n",
       "|       |             |             |          | )                                                  |\n",
       "+-------+-------------+-------------+----------+----------------------------------------------------+\n",
       "| table | job_history | job_history | 8        | CREATE TABLE `job_history` (                       |\n",
       "|       |             |             |          | `employee_id` INT NOT NULL DEFAULT '0',            |\n",
       "|       |             |             |          | `start_date` TEXT NOT NULL DEFAULT '0000-00-00',   |\n",
       "|       |             |             |          | `end_date` TEXT NOT NULL DEFAULT '0000-00-00',     |\n",
       "|       |             |             |          | `job_id` TEXT NOT NULL,                            |\n",
       "|       |             |             |          | `department_id` INT NOT NULL                       |\n",
       "|       |             |             |          | )                                                  |\n",
       "+-------+-------------+-------------+----------+----------------------------------------------------+\n",
       "| table | locations   | locations   | 9        | CREATE TABLE `locations` (                         |\n",
       "|       |             |             |          | `location_id` INT NOT NULL DEFAULT '0',            |\n",
       "|       |             |             |          | `street_address` TEXT DEFAULT NULL,                |\n",
       "|       |             |             |          | `postal_code` TEXT DEFAULT NULL,                   |\n",
       "|       |             |             |          | `city` TEXT DEFAULT NULL,                          |\n",
       "|       |             |             |          | `state_province` TEXT DEFAULT NULL,                |\n",
       "|       |             |             |          | `country_id` TEXT DEFAULT NULL                     |\n",
       "|       |             |             |          | )                                                  |\n",
       "+-------+-------------+-------------+----------+----------------------------------------------------+\n",
       "| table | regions     | regions     | 2        | CREATE TABLE `regions` (                           |\n",
       "|       |             |             |          | `region_id` INT NOT NULL DEFAULT '0',              |\n",
       "|       |             |             |          | `region_name` TEXT DEFAULT NULL                    |\n",
       "|       |             |             |          | )                                                  |\n",
       "+-------+-------------+-------------+----------+----------------------------------------------------+"
      ]
     },
     "execution_count": 4,
     "metadata": {},
     "output_type": "execute_result"
    }
   ],
   "source": [
    "SELECT *\n",
    "FROM sqlite_schema;"
   ]
  },
  {
   "cell_type": "code",
   "execution_count": 5,
   "id": "f578052a-b4c6-47b0-89fe-d011b0ce4501",
   "metadata": {
    "tags": []
   },
   "outputs": [
    {
     "data": {
      "text/html": [
       "<table>\n",
       "<tr>\n",
       "<th>sql</th>\n",
       "</tr>\n",
       "<tr>\n",
       "<td>CREATE TABLE `departments` (\n",
       "  `department_id` INT NOT NULL DEFAULT '0',\n",
       "  `department_name` TEXT DEFAULT NULL,\n",
       "  `manager_id` INT DEFAULT NULL,\n",
       "  `location_id` INT DEFAULT NULL\n",
       ")</td>\n",
       "</tr>\n",
       "</table>"
      ],
      "text/plain": [
       "+---------------------------------------------+\n",
       "| sql                                         |\n",
       "+---------------------------------------------+\n",
       "| CREATE TABLE `departments` (                |\n",
       "| `department_id` INT NOT NULL DEFAULT '0',   |\n",
       "| `department_name` TEXT DEFAULT NULL,        |\n",
       "| `manager_id` INT DEFAULT NULL,              |\n",
       "| `location_id` INT DEFAULT NULL              |\n",
       "| )                                           |\n",
       "+---------------------------------------------+"
      ]
     },
     "execution_count": 5,
     "metadata": {},
     "output_type": "execute_result"
    }
   ],
   "source": [
    "SELECT sql\n",
    "FROM sqlite_schema\n",
    "WHERE name = 'departments';"
   ]
  },
  {
   "cell_type": "markdown",
   "id": "b46ff42a-d621-471d-9500-24280f328089",
   "metadata": {},
   "source": [
    "Je ziet hier de namen en types van de kolommen.\n",
    "De kolom `department_id` heeft `INT` waarden en mag niet `NULL` (leeg) zijn.\n",
    "(De reden daarvoor is dat dit de primary key is. Maar dat hebben we in de definitie van de tabel nog niet opgegeven.)"
   ]
  },
  {
   "cell_type": "markdown",
   "id": "18af2a31-e32b-4836-a1f3-c10b6512cfd5",
   "metadata": {},
   "source": [
    "## Concat"
   ]
  },
  {
   "cell_type": "code",
   "execution_count": 6,
   "id": "6c23d5a7-5fef-4236-9d8e-ed5657b18f62",
   "metadata": {
    "tags": []
   },
   "outputs": [
    {
     "ename": "Error",
     "evalue": "no such function: concat",
     "output_type": "error",
     "traceback": [
      "Error: no such function: concat"
     ]
    }
   ],
   "source": [
    "SELECT concat('Hans', 'van', 'Dijk');"
   ]
  },
  {
   "cell_type": "code",
   "execution_count": 8,
   "id": "1c31e805-2e3c-44cb-8480-10e3453d7912",
   "metadata": {
    "tags": []
   },
   "outputs": [
    {
     "data": {
      "text/html": [
       "<table>\n",
       "<tr>\n",
       "<th>'Hans' || ' van ' || 'Dijk'</th>\n",
       "</tr>\n",
       "<tr>\n",
       "<td>Hans van Dijk</td>\n",
       "</tr>\n",
       "</table>"
      ],
      "text/plain": [
       "+-----------------------------+\n",
       "| 'Hans' || ' van ' || 'Dijk' |\n",
       "+-----------------------------+\n",
       "| Hans van Dijk               |\n",
       "+-----------------------------+"
      ]
     },
     "execution_count": 8,
     "metadata": {},
     "output_type": "execute_result"
    }
   ],
   "source": [
    "SELECT 'Hans' || ' van ' || 'Dijk';"
   ]
  },
  {
   "cell_type": "markdown",
   "id": "28168062-41fc-4ee7-af9a-beda88d2d696",
   "metadata": {},
   "source": []
  }
 ],
 "metadata": {
  "kernelspec": {
   "display_name": "xsqlite",
   "language": "sqlite",
   "name": "xsqlite"
  },
  "language_info": {
   "codemirror_mode": "sql",
   "file_extension": "",
   "mimetype": "",
   "name": "sql",
   "version": "3.33.0"
  }
 },
 "nbformat": 4,
 "nbformat_minor": 5
}
