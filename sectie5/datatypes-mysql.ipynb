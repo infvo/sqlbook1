{
 "cells": [
  {
   "cell_type": "markdown",
   "id": "8a58873e-cc10-4924-9e34-137795094be1",
   "metadata": {},
   "source": [
    "(mysql-datatypes)=\n",
    "# Data types in MySQL"
   ]
  },
  {
   "cell_type": "markdown",
   "id": "79381573-9bc2-4f67-bbcf-ce5f873b0d02",
   "metadata": {},
   "source": [
    ":::{admonition} MySQL voorbeelden\n",
    "Dit gedeelte gaat over data types in MySQL. \n",
    "Deze verschillen van de (eenvoudiger) data types in SQLite.\n",
    "De MySQL voorbeelden in dit hoofdstuk kun je niet allemaal uitvoeren in SQLite.\n",
    "Voor de volledigheid hebben we dit gedeelte uit het originele materiaal overgenomen.\n",
    ":::"
   ]
  },
  {
   "cell_type": "markdown",
   "id": "ba2d52a6-c66d-4f62-9f98-926ae41fc134",
   "metadata": {},
   "source": [
    "In het algemeen kun je zeggen dat er drie soorten kolomgegevens zijn:\n",
    "\n",
    "* getallen (numeriek)\n",
    "* tekst (alfanumeriek)\n",
    "* datums\n",
    "\n",
    "Datatypes kunnen verschillende namen hebben in verschillende databases maar in principe werkt het overal hetzelfde. Controleer altijd de documentatie voor de details van de datatypen want zelfs bij dezelfde namen kunnen de details verschillend zijn.\n",
    "\n",
    "Een overzicht van alle datatypes vind je hier:\n",
    "\n",
    "https://www.w3schools.com/sql/sql_datatypes.asp"
   ]
  },
  {
   "cell_type": "markdown",
   "id": "7464ab32-d5e4-4ceb-907f-a6a9718ca3ea",
   "metadata": {},
   "source": [
    "## Numeriek\n",
    "\n",
    "### INTEGER\n",
    "\n",
    "Het datatype INTEGER is een eindige verzameling van gehele getallen. Ze kunnen zowel positief als negatief zijn en 0 hoort er ook bij. Als afkorting voor INTEGER wordt INT gebruikt. Een aantal datatypen is gebaseerd op integers. Het is belangrijk het datatype zo efficiënt mogelijk te kiezen zodat de opslag in de database zo klein mogelijk blijft. Zo is het bijvoorbeeld niet nodig de lidnummers van een vereniging het datatype INT of zelfs MEDIUMINT te geven aangezien een vereniging niet snel zoveel leden zal hebben als het maximum aantal dat je hiermee kunt maken.\n",
    "\n",
    "### UNSIGNED\n",
    "\n",
    "Met UNSIGNED kun je bepalen dat het datatype met 0 moet beginnen. Met een TINYINT heb je bijvoorbeeld 256 mogelijkheden. Dat is één Byte van -128 tot en met 127. Het getal 0 moet je ook meerekenen, vandaar het maximum van 127. Als je bepaalt dat het datatype UNSIGNED is, begin je met 0 en dan heb je de mogelijkheden van 0 tot en met 255. Dat zijn ook weer in totaal 256 mogelijkheden (één Byte).\n",
    "\n",
    " \n",
    "| Type      | Bytes | Minimum     | Maximum    | Maximum Unsigned |\n",
    "| :---      | :---  | :---        | :---       | :---             |\n",
    "| TINYINT   | 1     | -128        | 127        | 255              |\n",
    "| SMALLINT  | 2     | -32768      | 32767      | 65535            |\n",
    "| MEDIUMINT | 3     | -8388608    | 8388607    | 16777215         |\n",
    "| INT       | 4     | -2147483648 | 2147483647 | 4294967295       |\n",
    "| BIGINT    | 8     | $-2^{63}$   | $2^{63} - 1$ | $2^{64} -1$    |\n",
    "\n",
    "\n",
    "FLOAT\n",
    "\n",
    "Een klein getal met een aantal decimalen.\n",
    "\n",
    " \n",
    "\n",
    "DOUBLE\n",
    "\n",
    "Een groot getal met een aantal decimalen.\n",
    "\n",
    "\n",
    "DECIMAL\n",
    "\n",
    "Een DOUBLE opgeslagen als een STRING.\n",
    "\n",
    " \n",
    "Bij een FLOAT, DOUBLE en DECIMAL kun je het maximum aantal cijfers vastleggen en ook het aantal cijfers achter de komma. Let op dat in de standaard notatie een punt wordt gebruikt waar wij een komma gebruiken."
   ]
  },
  {
   "cell_type": "markdown",
   "id": "71f118de-c24e-457f-93ca-38431f3e2a63",
   "metadata": {},
   "source": [
    "## Alfanumeriek\n",
    "\n",
    "De belangrijkste alfanumerieke datatypen zijn de volgende.\n",
    "\n",
    "### CHAR\n",
    "\n",
    "Wordt gebruikt voor een veld waar een STRING in komt met een vaste lengte, bijvoorbeeld een postcode. Je kunt er maximaal 255 letters, cijfers en speciale karakters in stoppen.\n",
    "\n",
    "### VARCHAR\n",
    "\n",
    "Wordt gebruikt voor een veld waar een STRING in komt met een variabele lengte, bijvoorbeeld een adres of e-mailadres. Je kunt er maximaal 255 letters, cijfers en speciale karakters in stoppen.\n",
    "\n",
    "### TINYTEXT\n",
    "\n",
    "Kan een STRING bevatten met een maximale lengte van 255 karakters.\n",
    "\n",
    "### TEXT\n",
    "\n",
    "Kan een STRING bevatten met een maximale lengte van 65,535 karakters.\n",
    "\n",
    "### ENUM\n",
    "\n",
    "Met ENUM kun je een keuzelijst maken."
   ]
  },
  {
   "cell_type": "markdown",
   "id": "825464f0-80ef-4dd4-85a3-c4931ae46140",
   "metadata": {},
   "source": [
    "## Datums\n",
    "\n",
    "### DATE\n",
    "\n",
    "Het datatype DATE wordt gebruikt voor de dag van de maand, de maand en het jaar."
   ]
  },
  {
   "cell_type": "markdown",
   "id": "41670a5b-0d6f-4441-b149-d54b0ebf3b13",
   "metadata": {},
   "source": [
    "```SQL\n",
    "SELECT last_name, hire_date\n",
    "FROM employees\n",
    "WHERE last_name = 'King';\n",
    "```"
   ]
  },
  {
   "cell_type": "markdown",
   "id": "c81abc71-3dbd-4b37-bc6e-d98fd7ec137b",
   "metadata": {},
   "source": [
    "![](figs/clip0110.png)"
   ]
  },
  {
   "cell_type": "markdown",
   "id": "d8446ca1-b779-4ea7-a64e-3b7ac77e493b",
   "metadata": {},
   "source": [
    "### DATETIME\n",
    "\n",
    "Het datatype DATETIME is een combinatie van datum en tijd van het formaat YYYY-MM-DD HH:MI:SS."
   ]
  },
  {
   "cell_type": "markdown",
   "id": "c389fbeb-605e-46c9-a606-553a736123a7",
   "metadata": {},
   "source": [
    "### TIMESTAMP\n",
    "\n",
    "Het TIMESTAMP datatype is een uitbreiding van het DATETIME type waarbij waarden in milliseconden kunnen worden opgeslagen en weergegeven. De invoer wordt opgeslagen als een 32-bit getal waarbij gestart is met 0 op 1 januari 1970."
   ]
  },
  {
   "cell_type": "markdown",
   "id": "fc05d06a-d30a-4e4e-98a6-00da6f002c9a",
   "metadata": {},
   "source": [
    "### YEAR\n",
    "\n",
    "Het datatype YEAR kun je opslaan als YY (twee cijfers)  of als YYYY (vier cijfers)."
   ]
  },
  {
   "cell_type": "markdown",
   "id": "bd97c64a-66a4-4cde-aaac-a286a302a8ed",
   "metadata": {},
   "source": [
    "## Conversie\n",
    "\n",
    "Soms vindt er impliciete conversie van een datatype plaats. Dat houdt in dat het systeem automatisch een datatype omzet. Bij de tabel employees is de kolom bonus bijvoorbeeld van het type VARCHAR (tekst).\n",
    "\n",
    "\n",
    "![](figs/clip0118.png)\n",
    "\n",
    "\n",
    "Stel dat je daar toch mee wil rekenen en er 100 bij op wil tellen. Dan wordt automatisch het veld bonus omgezet in een numeriek datatype."
   ]
  },
  {
   "cell_type": "markdown",
   "id": "47518198-22f0-4aac-8fc6-466ac8b8921d",
   "metadata": {
    "tags": []
   },
   "source": [
    "```SQL\n",
    "SELECT last_name, bonus, bonus + 100\n",
    "FROM employees\n",
    "WHERE bonus IS NOT NULL;\n",
    "```\n",
    "\n",
    "![](figs/clip0117.png)"
   ]
  },
  {
   "cell_type": "markdown",
   "id": "d311274e-aba7-436a-b075-3b6d78575bf9",
   "metadata": {},
   "source": [
    "Ook de functies MIN, MAX, AVG, en SUM werken."
   ]
  },
  {
   "cell_type": "markdown",
   "id": "325d674a-06b7-4362-aea2-1f0f074e569e",
   "metadata": {
    "tags": []
   },
   "source": [
    "```SQL\n",
    "SELECT MIN(bonus), MAX(bonus), AVG(bonus), SUM(bonus)\n",
    "FROM employees;\n",
    "```\n",
    "\n",
    "![](figs/clip0290.png)"
   ]
  },
  {
   "cell_type": "markdown",
   "id": "50853a9e-5104-4abf-9818-e901f8f2c284",
   "metadata": {},
   "source": [
    "Het is echter niet verstandig om het op impliciete datatype conversie te laten aankomen. Gebruik zo nodig conversiefuncties zoals CAST of CONVERT die hierna behandeld worden, zodat er expliciete conversie plaatsvindt. Het maakt SQL beter leesbaar en robuuster. Maar nog beter is om bij het maken van de database voor numerieke informatie het juiste type te kiezen (bijvoorbeeld INT of DECIMAL) en géén VARCHAR."
   ]
  },
  {
   "cell_type": "markdown",
   "id": "9c1650fb-1e29-45fd-8b25-35809fe0a8c0",
   "metadata": {},
   "source": [
    "Het gaat bijvoorbeeld fout als je CONCAT gebruikt in combinatie met AVG voor informatie van het type VARCHAR. De tweede kolom van onderstaande informatie is niet de uitvoer die je graag zou hebben. In de derde kolom is ROUND ervoor gezet en wordt het weer hersteld."
   ]
  },
  {
   "cell_type": "markdown",
   "id": "7b654cd1-caec-4b44-bf3b-907f4a9bf59f",
   "metadata": {
    "tags": []
   },
   "source": [
    "```SQL\n",
    "SELECT AVG(bonus), CONCAT(AVG(bonus), ' dollar'), CONCAT(ROUND(AVG(bonus)), ' dollar')\n",
    "FROM employees;\n",
    "```\n",
    "\n",
    "![](figs/clip0291.png)"
   ]
  },
  {
   "cell_type": "markdown",
   "id": "fcd6d38b-b680-4e13-8813-d941b821b3ee",
   "metadata": {},
   "source": [
    "## Cast\n",
    "\n",
    "Om datatypes om te zetten van het ene type naar het andere type kun je CAST gebruiken. De syntax is dan:\n",
    "\n",
    "```SQL\n",
    "CAST(expression AS data_type(length))\n",
    "```\n",
    "\n",
    "Waarbij length optioneel is en die hoef je dus niet per se toe te voegen.\n",
    "\n",
    "Zet een datum om naar tekst en toon enkel het jaartal (de eerste vier karakters):"
   ]
  },
  {
   "cell_type": "markdown",
   "id": "4eec761e-dd19-410d-bd5c-77cb54bc08ba",
   "metadata": {
    "tags": []
   },
   "source": [
    "```SQL\n",
    "SELECT last_name,hire_date, CAST(hire_date AS CHAR(4))\n",
    "FROM employees\n",
    "WHERE last_name = 'King';\n",
    "```\n",
    "\n",
    "![](figs/clip0111.png)\n"
   ]
  },
  {
   "cell_type": "markdown",
   "id": "d11e3381-2c41-4ab1-a256-a0fbd8798bfd",
   "metadata": {},
   "source": [
    "Zet een datum van het formaat DATE om naar het formaat DATETIME:"
   ]
  },
  {
   "cell_type": "markdown",
   "id": "d80b3690-ff93-482f-b513-45308e14a443",
   "metadata": {
    "tags": []
   },
   "source": [
    "```SQL\n",
    "SELECT last_name,hire_date, CAST(hire_date AS DATETIME)\n",
    "FROM employees\n",
    "WHERE last_name = 'King';\n",
    "```\n",
    "\n",
    "![](figs/clip0315.png)"
   ]
  },
  {
   "cell_type": "markdown",
   "id": "75552a86-d888-4c74-808e-09e125346fdd",
   "metadata": {},
   "source": [
    "Zet een VARCHAR om naar een INTEGER:"
   ]
  },
  {
   "cell_type": "markdown",
   "id": "4f6856e8-0b63-4187-9a42-550ddc8ca57a",
   "metadata": {
    "tags": []
   },
   "source": [
    "```SQL\n",
    "SELECT last_name, CAST(bonus AS INTEGER)\n",
    "FROM employees\n",
    "WHERE bonus IS NOT NULL;\n",
    "```\n",
    "\n",
    "![](figs/clip0311.png)"
   ]
  },
  {
   "cell_type": "markdown",
   "id": "0dcbe113-3e7f-49e0-91d1-0a182391544b",
   "metadata": {},
   "source": [
    "## Convert\n",
    "\n",
    "Met CONVERT kun je precies hetzelfde doen als met CAST: het datatype omzetten van het ene type naar het andere. De syntaxis is:\n",
    "\n",
    "```SQL\n",
    "CONVERT(value, type)\n",
    "```"
   ]
  },
  {
   "cell_type": "markdown",
   "id": "5bfa3285-0694-4949-9627-c1f57deb5638",
   "metadata": {
    "tags": []
   },
   "source": [
    "```SQL\n",
    "SELECT last_name,hire_date, CONVERT(hire_date, char)\n",
    "FROM employees\n",
    "WHERE last_name = 'King';\n",
    "```\n",
    "\n",
    "![](figs/clip0114.png)"
   ]
  },
  {
   "cell_type": "markdown",
   "id": "821cbab4-c9eb-430a-bdcc-a8c059c5ce95",
   "metadata": {
    "tags": []
   },
   "source": [
    "```SQL\n",
    "SELECT last_name,hire_date, CONVERT(hire_date, datetime)\n",
    "FROM employees\n",
    "WHERE last_name = 'King';\n",
    "```\n",
    "\n",
    "![](figs/clip0115.png)"
   ]
  }
 ],
 "metadata": {
  "kernelspec": {
   "display_name": "xsqlite",
   "language": "sqlite",
   "name": "xsqlite"
  },
  "language_info": {
   "codemirror_mode": "sql",
   "file_extension": "",
   "mimetype": "",
   "name": "sql",
   "version": "3.33.0"
  }
 },
 "nbformat": 4,
 "nbformat_minor": 5
}
