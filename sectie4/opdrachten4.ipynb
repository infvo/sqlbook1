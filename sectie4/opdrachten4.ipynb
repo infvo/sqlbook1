{
 "cells": [
  {
   "cell_type": "markdown",
   "id": "a25d7d6d-013d-423f-99a3-66810f8954ff",
   "metadata": {},
   "source": [
    "# Opdrachten sectie 4"
   ]
  },
  {
   "cell_type": "code",
   "execution_count": 1,
   "id": "e54ef036-b2c4-4d20-982a-a1855dc4161d",
   "metadata": {
    "tags": []
   },
   "outputs": [],
   "source": [
    "%LOAD ../data/employees.db"
   ]
  },
  {
   "cell_type": "markdown",
   "id": "2e3ccf12-b3f8-4c5e-945d-51202157d252",
   "metadata": {},
   "source": [
    ":::{exercise}\n",
    "Query 1: Maak een overzicht met de namen van de werknemers en hun nieuwe e-mailadressen zoals in onderstaand overzicht. Als er een spatie in de naam staat (zoals bij 'De Haan'), zal die spatie uit de naam moeten worden gehaald. Alles staat in kleine letters en het e-mailadres bestaat uit de eerste letter van de voornaam, gevolgd door een punt en daarna de achternaam met daaraan vastgeplakt de bedrijfsnaam. Er is gesorteerd op achternaam.\n",
    "\n",
    "![](figs/clip0220.png)\n",
    " \n",
    ":::"
   ]
  },
  {
   "cell_type": "markdown",
   "id": "3cccaa45-f6c2-4f69-bd83-216a4643fc1b",
   "metadata": {},
   "source": [
    ":::{exercise}\n",
    "Query 2: Vervang in de tabel jobs alle job_titles waarin 'Manager' voorkomt het woord 'Manager' door 'Director'.\n",
    "\n",
    "![](figs/clip0222.png)\n",
    "\n",
    ":::"
   ]
  },
  {
   "cell_type": "markdown",
   "id": "d9294944-218f-4257-84b0-ec32dfcbe52c",
   "metadata": {},
   "source": [
    ":::{exercise}\n",
    "Query 3: Om in te loggen maken de werknemers gebruik van een inlognaam die bestaat uit de eerste letter van de voornaam en de eerste letter van de achternaam, aan elkaar en in kleine letters. Maak een overzicht van de inlognamen en sorteer op de achternaam.\n",
    "\n",
    "![](figs/clip0223.png)\n",
    "\n",
    ":::"
   ]
  },
  {
   "cell_type": "markdown",
   "id": "7d2b4b1d-b647-4c97-87e5-3562e5eedd73",
   "metadata": {},
   "source": [
    ":::{exercise}\n",
    "Query 4: Maak een overzicht van de salarissen zoals in onderstaand overzicht. In de tweede kolom staat het maandsalaris afgerond op nul decimalen. Uitgaande van een 36 urige werkweek en vier weken in een maand staat dan in de derde kolom wat zo'n werknemer per uur verdient in twee decimalen. In de vierde kolom is dat naar beneden afgerond en in de vijfde kolom naar boven. Er is gesorteerd op achternaam.\n",
    "\n",
    "![](figs/clip0224.png)\n",
    "\n",
    ":::"
   ]
  },
  {
   "cell_type": "markdown",
   "id": "9e97599f-6bf1-497a-bc55-38546a3a9f54",
   "metadata": {},
   "source": [
    ":::{exercise}\n",
    "Query 5: Maak een overzicht zoals hieronder. De gegevens komen uit de tabel job_history. De datums zijn in het Nederlands (maanden met een kleine letter bijvoorbeeld) en er is geen voorloopnul gebruikt bij de dag (geen 01 januari maar 1 januari bijvoorbeeld). Er is gesorteerd op employee_id.\n",
    "\n",
    "![](figs/clip0225.png)\n",
    "\n",
    ":::"
   ]
  },
  {
   "cell_type": "markdown",
   "id": "582ad2b8-a998-46d5-a5fb-9b209dff1d19",
   "metadata": {},
   "source": [
    ":::{exercise}\n",
    "Query 6: De grote baas (King) wil een overzicht van welke werknemers binnenkort 35 jaar in dienst zijn. King wil zichzelf niet op de lijst en slechts de vijf eerste werknemers die in aanmerking komen worden getoond. Let op het formaat van de datum. Er is gesorteerd op de hire_date.\n",
    "\n",
    "![](figs/clip0226.png)\n",
    "\n",
    ":::"
   ]
  },
  {
   "cell_type": "markdown",
   "id": "846086a5-6694-40f7-846a-36cfcb0374a1",
   "metadata": {},
   "source": [
    ":::{exercise}\n",
    "Query 7: Maak een overzicht zoals hieronder. De informatie komt uit de tabel job_grades. De eerste kolom is het grootste verschil tussen highest_sal en lowest_sal, de tweede kolom is het kleinste verschil tussen highest_sal en lowest_sal en de derde kolom is het gemiddelde verschil tussen highest_sal en lowest_sal.\n",
    "\n",
    "![](figs/clip0227.png)\n",
    "\n",
    ":::"
   ]
  },
  {
   "cell_type": "markdown",
   "id": "d1824d7d-4b22-49e9-9091-05307db8ad5c",
   "metadata": {},
   "source": [
    ":::{exercise}\n",
    "Query 8: Maak onderstaand overzicht na. De informatie komt uit de tabel employees. Het gaat om het aantal rijen. De eerste kolom is het aantal inclusief de NULL en de tweede kolom is het aantal exclusief de NULL waarden bij manager_id.\n",
    "\n",
    "![](figs/clip0228.png)\n",
    "\n",
    ":::"
   ]
  },
  {
   "cell_type": "markdown",
   "id": "139c1050-3b7d-4527-a068-4741e08a11f2",
   "metadata": {},
   "source": [
    ":::{exercise}\n",
    "Query 9: Wat is de gemiddelde bonus van de werknemers als je 'Abel' niet meetelt? Het veld 'bonus' is het laatste veld van de tabel employees.\n",
    "\n",
    "![](figs/clip0309.png)\n",
    "\n",
    ":::"
   ]
  },
  {
   "cell_type": "markdown",
   "id": "097a5adf-eb25-4174-b793-065fb9ba3b68",
   "metadata": {},
   "source": [
    ":::{exercise}\n",
    "Query 10: De werknemers van de afdeling sales (de personen met 'SA_MAN' of 'SA_REP' als job_id) krijgen 1,25% opslag. Maak het overzicht zoals hieronder. Er is gesorteerd op achternaam.\n",
    "\n",
    " \n",
    "\n",
    "![](figs/clip0230.png)\n",
    "\n",
    ":::"
   ]
  },
  {
   "cell_type": "markdown",
   "id": "5b9d73f1-523a-4d3d-ae93-675351742913",
   "metadata": {},
   "source": []
  }
 ],
 "metadata": {
  "kernelspec": {
   "display_name": "xsqlite",
   "language": "sqlite",
   "name": "xsqlite"
  },
  "language_info": {
   "codemirror_mode": "sql",
   "file_extension": "",
   "mimetype": "",
   "name": "sql",
   "version": "3.33.0"
  }
 },
 "nbformat": 4,
 "nbformat_minor": 5
}
